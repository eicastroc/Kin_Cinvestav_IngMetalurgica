{
 "cells": [
  {
   "cell_type": "code",
   "execution_count": 4,
   "metadata": {},
   "outputs": [],
   "source": [
    "using Integrals"
   ]
  },
  {
   "cell_type": "markdown",
   "metadata": {},
   "source": [
    "# Cinética de Procesos (Sesión 01)"
   ]
  },
  {
   "cell_type": "markdown",
   "metadata": {},
   "source": [
    "<img src=\"figures/LogoCinvestav.png\" style=\"height:100px\" title=\"Cinvestav\">"
   ]
  },
  {
   "cell_type": "markdown",
   "metadata": {},
   "source": [
    "**CINVESTAV Unidad Saltillo**\n",
    "\n",
    "**Programa de Maestría en Ciencias en Ingeniería Metalúrgica**\n",
    "\n",
    "Dr. Edgar Ivan Castro Cedeño\n",
    "\n",
    "\n",
    "2025\n",
    "\n",
    "Contacto:\n",
    "[edgar.castro@cinvestav.mx](mailto:edgar.castro@cinvestav.mx)"
   ]
  },
  {
   "cell_type": "markdown",
   "metadata": {},
   "source": [
    "# Termodinámica y entalpía de reacción"
   ]
  },
  {
   "cell_type": "markdown",
   "metadata": {},
   "source": [
    "## Primera ley de la termodinámica"
   ]
  },
  {
   "cell_type": "markdown",
   "metadata": {},
   "source": [
    "$$\\Delta U = Q + W$$"
   ]
  },
  {
   "cell_type": "markdown",
   "metadata": {},
   "source": [
    "<details>\n",
    "<summary><b>Nomenclatura</b></summary>\n",
    "\n",
    "<div class=\"alert alert-info\">\n",
    "\n",
    "- **$\\Delta U$**: Cambio de energía interna, en $[\\mathrm{J}]$.\n",
    "\n",
    "- **$Q$**: Calor entrante (+) o saliente (-) del sistema, en $[\\mathrm{J}]$.\n",
    "\n",
    "- **$W$**: Trabajo aplicado (+) o extraído (-) del sistema, en $[\\mathrm{J}]$.\n",
    "\n",
    "</div>\n",
    "\n",
    "</details>"
   ]
  },
  {
   "cell_type": "markdown",
   "metadata": {},
   "source": [
    "Considerando que el único trabajo realizado sobre el sistema se relaciona con el cambio de volumen isobárico, se tiene:\n",
    "\n",
    "$$W_{P} = -P \\Delta V$$\n",
    "\n",
    "Bajo esta definición:\n",
    "\n",
    "- al ocurrir expansión ($\\Delta V$ > 0) se extrae trabajo del sistema.\n",
    "\n",
    "- al occurrir contracción ($\\Delta V < 0$) se aplica trabajo al sistema."
   ]
  },
  {
   "cell_type": "markdown",
   "metadata": {},
   "source": [
    "<details>\n",
    "<summary><b>Nomenclatura</b></summary>\n",
    "\n",
    "<div class=\"alert alert-info\">\n",
    "\n",
    "- **$W_P$**: Trabajo entrante o saliente del sistema, a presión constante, en $[\\mathrm{J}]$.\n",
    "\n",
    "- **$P$**: Presión, en $[\\mathrm{N.m^{-2}}]$.\n",
    "\n",
    "- **$\\Delta V$**: Cambio de volumen, en $[\\mathrm{m^3}]$.\n",
    "\n",
    "</div>\n",
    "\n",
    "</details>"
   ]
  },
  {
   "cell_type": "markdown",
   "metadata": {},
   "source": [
    "Sustituyendo la definición de trabajo en la ecuación de la Primera ley, se tiene:\n",
    "\n",
    "$$ \\Delta U = Q_P - P \\Delta V$$"
   ]
  },
  {
   "cell_type": "markdown",
   "metadata": {},
   "source": [
    "Reacomodando, la Primera ley se puede escribir de tal forma que permita conocer el balance de calor en el sistema a presión o a volumen constante:\n",
    "\n",
    "$$ Q_P = \\Delta U + P \\Delta V$$\n",
    "\n",
    "$$ Q_V = \\Delta U$$"
   ]
  },
  {
   "cell_type": "markdown",
   "metadata": {},
   "source": [
    "<details>\n",
    "<summary><b>Nomenclatura</b></summary>\n",
    "\n",
    "<div class=\"alert alert-info\">\n",
    "\n",
    "- **$Q_P$**: Calor entrante o saliente del sistema, a presión constante, en $[\\mathrm{J}]$.\n",
    "\n",
    "- **$Q_V$**: Calor entrante o saliente del sistema, a volumen constante, en $[\\mathrm{J}]$.\n",
    "\n",
    "- **$\\Delta U$**: Cambio de energía interna del sistema, en $[\\mathrm{J}]$.\n",
    "\n",
    "- **$P$**: Presión, en $[\\mathrm{N.m^{-2}}]$.\n",
    "\n",
    "- **$\\Delta V$**: Cambio de volumen, en $[\\mathrm{m^3}]$.\n",
    "\n",
    "</div>\n",
    "\n",
    "</details>"
   ]
  },
  {
   "cell_type": "markdown",
   "metadata": {},
   "source": [
    "## Entalpía"
   ]
  },
  {
   "cell_type": "markdown",
   "metadata": {},
   "source": [
    "La entalpía, $H$, es una función de estado que está definida por la siguiente ecuación:\n",
    "\n",
    "$$H \\equiv U + PV$$"
   ]
  },
  {
   "cell_type": "markdown",
   "metadata": {},
   "source": [
    "<details>\n",
    "<summary><b>Nomenclatura</b></summary>\n",
    "\n",
    "<div class=\"alert alert-info\">\n",
    "\n",
    "- **$H$**: Entalpía, en $[\\mathrm{J}]$.\n",
    "\n",
    "- **$U$**: Energía interna, en $[\\mathrm{J}]$.\n",
    "\n",
    "- **$P$**: Presión, en $[\\mathrm{N.m^{-2}}]$.\n",
    "\n",
    "- **$V$**: Volumen, en $[\\mathrm{m^3}]$.\n",
    "\n",
    "</div>\n",
    "\n",
    "</details>"
   ]
  },
  {
   "cell_type": "markdown",
   "metadata": {},
   "source": [
    "**Entalpía absoluta**:\n",
    "\n",
    "Es casi imposible determinar un valor absoluto de entalpía, $H$, ya que en su definición se incluye la energía interna $U$."
   ]
  },
  {
   "cell_type": "markdown",
   "metadata": {},
   "source": [
    "**Cambios de entalpía**:\n",
    "\n",
    "Lo que si es posible, es definir una referencia, de tal forma que se pueda calcular la diferencia relativa de entalpía con respecto a la referencia.\n",
    "\n",
    "- La entalpía del elemento $i$ en su estado más estable a $1$ $[\\mathrm{bar}]$ y $298.15$ $[\\mathrm{K}]$ se define como cero, $\\Delta H^{\\circ}_{i,298} \\equiv 0$.\n",
    "\n",
    "- Esta definición es para facilitar cálculos y tabulaciones, pero el valor real de $\\Delta H^{\\circ}_{i,298}$ no es cero."
   ]
  },
  {
   "cell_type": "markdown",
   "metadata": {},
   "source": [
    "Un cambio de entalpía se puede escribir como:\n",
    "\n",
    "$$ \\underbrace{\\Delta H}_{Q_P} = \\Delta U + P \\Delta V$$\n"
   ]
  },
  {
   "cell_type": "markdown",
   "metadata": {},
   "source": [
    "## Capacidad calorífica"
   ]
  },
  {
   "cell_type": "markdown",
   "metadata": {},
   "source": [
    "En un sistema isocórico (a volumen constante):\n",
    "\n",
    "$$C_V = \\left(\\frac{\\partial Q}{\\partial T}\\right)_V = \\left(\\frac{\\partial U}{\\partial T}\\right)_V$$"
   ]
  },
  {
   "cell_type": "markdown",
   "metadata": {},
   "source": [
    "En un sistema isobárico (a presión constante):\n",
    "\n",
    "$$\n",
    "C_P = \\left(\\frac{\\partial Q}{\\partial T}\\right)_P = \\left(\\frac{\\partial H}{\\partial T}\\right)_P\n",
    "$$"
   ]
  },
  {
   "cell_type": "markdown",
   "metadata": {},
   "source": [
    "<details>\n",
    "<summary><b>Nomenclatura</b></summary>\n",
    "\n",
    "<div class=\"alert alert-info\">\n",
    "\n",
    "- **$C_V$**: Capacidad calorífica a volumen constante, en $[\\mathrm{J.K^{-1}}]$.\n",
    "\n",
    "- **$C_P$**: Capacidad calorífica a presión constante, en $[\\mathrm{J.K^{-1}}]$.\n",
    "\n",
    "</div>\n",
    "\n",
    "</details>"
   ]
  },
  {
   "cell_type": "markdown",
   "metadata": {},
   "source": [
    "**Capacidad calorífica específica:**  capacidad calorífica por unidad de masa."
   ]
  },
  {
   "cell_type": "markdown",
   "metadata": {},
   "source": [
    "$$c_V = \\frac{C_V}{m}$$\n",
    "\n",
    "$$c_p= \\frac{C_P}{m}$$"
   ]
  },
  {
   "cell_type": "markdown",
   "metadata": {},
   "source": [
    "<details>\n",
    "<summary><b>Nomenclatura</b></summary>\n",
    "\n",
    "<div class=\"alert alert-info\">\n",
    "\n",
    "- **$c_V$**: Capacidad calorífica específica a volumen constante, en $[\\mathrm{J.kg^{-1}.K^{-1}}]$.\n",
    "\n",
    "- **$c_P$**: Capacidad calorífica específica a presión constante, en $[\\mathrm{J.kg^{-1}.K^{-1}}]$.\n",
    "\n",
    "- **$C_V$**: Capacidad calorífica a volumen constante, en $[\\mathrm{J.K^{-1}}]$.\n",
    "\n",
    "- **$C_P$**: Capacidad calorífica a presión constante, en $[\\mathrm{J.K^{-1}}]$.\n",
    "\n",
    "- **$m$**: Masa de sustancia, en $[\\mathrm{kg}]$.\n",
    "\n",
    "</div>\n",
    "\n",
    "</details>"
   ]
  },
  {
   "cell_type": "markdown",
   "metadata": {},
   "source": [
    "**Capacidad calorífica molar:** capacidad calorífica por mol de sustancia."
   ]
  },
  {
   "cell_type": "markdown",
   "metadata": {},
   "source": [
    "$$\\bar{C}_V = \\frac{C_V}{n}$$\n",
    "\n",
    "$$\\bar{C}_P = \\frac{C_P}{n}$$"
   ]
  },
  {
   "cell_type": "markdown",
   "metadata": {},
   "source": [
    "<details>\n",
    "<summary><b>Nomenclatura</b></summary>\n",
    "\n",
    "<div class=\"alert alert-info\">\n",
    "\n",
    "- **$\\bar{C}_V$**: Capacidad calorífica molar a volumen constante, en $[\\mathrm{J.mol^{-1}.K^{-1}}]$.\n",
    "\n",
    "- **$\\bar{C}_P$**: Capacidad calorífica molar a presión constante, en $[\\mathrm{J.mol^{-1}.K^{-1}}]$.\n",
    "\n",
    "- **$C_V$**: Capacidad calorífica a volumen constante, en $[\\mathrm{J.K^{-1}}]$.\n",
    "\n",
    "- **$C_P$**: Capacidad calorífica a presión constante, en $[\\mathrm{J.K^{-1}}]$.\n",
    "\n",
    "- **$n$**: cantidad de sustancia, en $[\\mathrm{mol}]$.\n",
    "\n",
    "</div>\n",
    "\n",
    "</details>"
   ]
  },
  {
   "cell_type": "markdown",
   "metadata": {},
   "source": [
    "## Entalpía de reacción"
   ]
  },
  {
   "cell_type": "markdown",
   "metadata": {},
   "source": [
    "Al ocurrir una reacción química, una cantidad de calor es generada o absorbida por el sistema.\n",
    "\n",
    "- El calor de reacción corresponde al intercambio de energía entre un sistema y sus alrededores como resultado de una reacción química.\n",
    "\n",
    "- Para una reacción a presión constante, el calor de reacción es igual al cambio de entalpía, $\\Delta_r H$ (entalpía de reacción).\n",
    "\n",
    "    - $\\Delta_r H > 0$: Reacción endotérmica (calor absorbido por el sistema).\n",
    "\n",
    "    - $\\Delta_r H < 0$: Reacción exotérmica (calor generado por el sistema y liberado a los alrededores)."
   ]
  },
  {
   "cell_type": "markdown",
   "metadata": {},
   "source": [
    "### Definición de entalpía de reacción:"
   ]
  },
  {
   "cell_type": "markdown",
   "metadata": {},
   "source": [
    "\n",
    "\n",
    "Considere la reacción:\n",
    "\n",
    "$$\n",
    "\\mathrm{\\underbrace{\\nu_1\\,A_1 + \\nu_2\\,A_2}_{reactivos} = \\underbrace{\\nu_3\\,A_3 + \\nu_4\\,A_4}_{productos}}\n",
    "$$\n"
   ]
  },
  {
   "cell_type": "markdown",
   "metadata": {},
   "source": [
    "<details>\n",
    "<summary><b>Nomenclatura</b></summary>\n",
    "\n",
    "<div class=\"alert alert-info\">\n",
    "\n",
    "- **$\\mathrm{A_i}$**: 1 mol de la especie química $\\mathrm{A}$.\n",
    "\n",
    "- **$\\mathrm{\\nu_i}$**: coeficiente estequiométrico para la especie $i$.\n",
    "\n",
    "</div>\n",
    "\n",
    "</details>"
   ]
  },
  {
   "cell_type": "markdown",
   "metadata": {},
   "source": [
    "$$\n",
    "\\Delta_r H = \\underbrace{\\left(\\nu_3 \\bar{H}_3 + \\nu_4 \\bar{H}_3\\right)}_{\\mathrm{productos}} - \\underbrace{\\left(\\nu_1 \\bar{H}_1 + \\nu_2 \\bar{H}_2\\right)}_{\\mathrm{reactivos}}\n",
    "$$"
   ]
  },
  {
   "cell_type": "markdown",
   "metadata": {},
   "source": [
    "<details>\n",
    "<summary><b>Nomenclatura</b></summary>\n",
    "\n",
    "<div class=\"alert alert-info\">\n",
    "\n",
    "- **$\\Delta_r H$**: Entalpía de reacción,  $[\\mathrm{J}]$.\n",
    "\n",
    "- **$\\bar{H}_i$**: Entalpía molar parcial del componente $i$,  $[\\mathrm{J.mol^{-1}}]$.\n",
    "\n",
    "- **$\\mathrm{\\nu_i}$**: coeficiente estequiométrico para la especie $i$.\n",
    "\n",
    "</div>\n",
    "\n",
    "</details>"
   ]
  },
  {
   "cell_type": "markdown",
   "metadata": {},
   "source": [
    "De forma general, una reacción química se puede expresar como:\n",
    "\n",
    "$$\\underbrace{\\nu_1 A_1 + \\nu_2 A_2 + \\cdots \\nu_k A_k}_{\\mathrm{reactivos}} = \\underbrace{\\nu_{k+1} A_{k+1} + \\cdots  \\nu_r A_r}_{\\mathrm{productos}}$$\n",
    "\n",
    "que se puede reescribir como:\n",
    "\n",
    "$$\\sum \\nu_i A_i = 0$$\n",
    "\n",
    "- $\\nu_i>0$ para productos\n",
    "- $\\nu_i<0$ para reactivos.\n",
    "\n",
    "Consecuentemente la entalpía de reacción se puede expresar como:\n",
    "\n",
    "$$ \\Delta_r H = \\sum v_i H_i$$\n",
    "\n"
   ]
  },
  {
   "cell_type": "markdown",
   "metadata": {},
   "source": [
    "<details>\n",
    "<summary><b>Nomenclatura</b></summary>\n",
    "\n",
    "<div class=\"alert alert-info\">\n",
    "\n",
    "- **$\\Delta_r H$**: Entalpía de reacción,  $[\\mathrm{J}]$.\n",
    "\n",
    "- **$\\bar{H}_i$**: Entalpía molar parcial del componente $i$,  $[\\mathrm{J.mol^{-1}}]$.\n",
    "\n",
    "- **$\\mathrm{\\nu_i}$**: coeficiente estequiométrico para la especie $i$. \n",
    "    - $\\nu_i>0$ para productos\n",
    "    - $\\nu_i<0$ para reactivos.\n",
    "</div>\n",
    "\n",
    "</details>"
   ]
  },
  {
   "cell_type": "markdown",
   "metadata": {},
   "source": [
    "<div class=\"alert alert-warning\">\n",
    "\n",
    "**Recordatorio:**\n",
    "\n",
    "La entalpía del elemento $i$ en su estado más estable a $1$ $[\\mathrm{bar}]$ y $298.15$ $[\\mathrm{K}]$ se define como cero, $\\Delta H^{\\circ}_{i,298} \\equiv 0$.\n",
    "\n",
    "</div>"
   ]
  },
  {
   "cell_type": "markdown",
   "metadata": {},
   "source": [
    "### Ejemplos de distintos nombres para calores de reacción:"
   ]
  },
  {
   "cell_type": "markdown",
   "metadata": {},
   "source": [
    "- Calor de formación:\n",
    "\n",
    "$$\\mathrm{2 Al + \\frac{3}{2} O \\xrightarrow[T=298.15\\,K]{} Al_2O_3}$$\n",
    "\n",
    "$$\\Delta_r H = \\bar{H}_{\\mathrm{Al_2O_3}} - 2 \\bar{H}_{\\mathrm{Al}} - \\frac{3}{2} \\bar{H}_{\\mathrm{O_2}}$$\n",
    "\n",
    "$$\\Delta_r H = (-1675692) - 2(0) - \\frac{3}{2} (0) = -1675692 \\, [\\mathrm{J.mol^{-1}}]$$"
   ]
  },
  {
   "cell_type": "markdown",
   "metadata": {},
   "source": [
    "- Calor de combustión:\n",
    "\n",
    "$$\\mathrm{C + O_2 \\xrightarrow[T=298.15\\,K]{} CO_2}$$\n",
    "\n",
    "$$\\Delta_r H = \\bar{H}_{\\mathrm{CO_2}} -  \\bar{H}_{\\mathrm{C}} - \\bar{H}_{\\mathrm{O_2}}$$\n",
    "\n",
    "$$\\Delta_r H = (-393522) - (0) - (0) = -393522 \\, [\\mathrm{J.mol^{-1}}]$$"
   ]
  },
  {
   "cell_type": "markdown",
   "metadata": {},
   "source": [
    "- Calor de descomposición:\n",
    "\n",
    "$$\\mathrm{2CO \\xrightarrow[T=298.15\\,K]{} C + CO_2}$$\n",
    "\n",
    "$$\\Delta_r H = \\bar{H}_{\\mathrm{C}} + \\bar{H}_{\\mathrm{CO_2}} -  2 \\bar{H}_{\\mathrm{CO}}$$\n",
    "\n",
    "$$\\Delta_r H = (0) + (-393522) - 2 (-110527) = -172468 \\, [\\mathrm{J.mol^{-1}}]$$"
   ]
  },
  {
   "cell_type": "markdown",
   "metadata": {},
   "source": [
    "- Calor de transformación:\n",
    "\n",
    "$$\\mathrm{Fe_{(\\alpha)} \\xrightarrow[T=1184\\,K]{} Fe_{(\\gamma)}}$$\n",
    "\n",
    "$$\\bar{L}_{(\\alpha \\rightarrow \\gamma)} = 1013 \\, [\\mathrm{J.mol^{-1}}]$$"
   ]
  },
  {
   "cell_type": "markdown",
   "metadata": {},
   "source": [
    "- Calor de fusión:\n",
    "\n",
    "$$\\mathrm{Mg \\xrightarrow[T=923\\,K]{} Mg_{(L)}}$$\n",
    "\n",
    "$$\\bar{L}_{(S \\rightarrow L)} = 8954 \\, [\\mathrm{J.mol^{-1}}]$$"
   ]
  },
  {
   "cell_type": "markdown",
   "metadata": {},
   "source": [
    "- Calor de vaporazación:\n",
    "\n",
    "$$\\mathrm{Mg_{(L)} \\xrightarrow[\\begin{array}{c} _{T=1366\\,K} \\\\ _{P=1\\,bar} \\end{array}]{} Mg_{(G)}}$$\n",
    "\n",
    "$$\\bar{L}_{(L \\rightarrow G)} = 127400 \\, [\\mathrm{J.mol^{-1}}]$$"
   ]
  },
  {
   "cell_type": "markdown",
   "metadata": {},
   "source": [
    "- Calor de disolución:\n",
    "\n",
    "$$\\mathrm{Si_{(L)} \\xrightarrow[Fe_{(L)}]{} \\left[Si\\right]}$$\n",
    "\n",
    "$$\\bar{L}_{(Si \\rightarrow [Si])} = -125140 \\, [\\mathrm{J.mol^{-1}}]$$"
   ]
  },
  {
   "cell_type": "markdown",
   "metadata": {},
   "source": [
    "## Relación entre entalpía y temperatura"
   ]
  },
  {
   "cell_type": "markdown",
   "metadata": {},
   "source": [
    "En un proceso isobárico, la derivada total de la entalpía molar se escribe:\n",
    "\n",
    "\n",
    "$$\n",
    "d\\bar{H} = \\frac{1}{n} \\left(\\frac{\\partial H}{\\partial T}\\right)_P dT = \\frac{1}{n} C_P dT\n",
    "$$"
   ]
  },
  {
   "cell_type": "markdown",
   "metadata": {},
   "source": [
    "Entonces, el cambio en la entalpía molar, $\\Delta \\bar{H}$, como resultado de un cambio de temperatura entre $T_1$ y $T_2$ es:\n",
    "\n",
    "$$\\Delta \\bar{H} = \\bar{H}(T_2,P) - \\bar{H}(T_1,P)$$\n",
    "\n",
    "$$ = \\frac{1}{n} \\int_{T_1}^{T_2} C_P dT = \\int_{T_1}^{T_2} \\bar{C}_P dT$$"
   ]
  },
  {
   "cell_type": "markdown",
   "metadata": {},
   "source": [
    "En el caso de materiales que tengan cambio de fase, para calcular $\\Delta \\bar{H}$ se debe considerar el calor latente asociado a cada una de las transformaciones."
   ]
  },
  {
   "cell_type": "markdown",
   "metadata": {},
   "source": [
    "<details>\n",
    "<summary><b>Nomenclatura</b></summary>\n",
    "\n",
    "<div class=\"alert alert-info\">\n",
    "\n",
    "- **$\\bar{H}$**: Entalpía molar, en $[\\mathrm{J.mol^{-1}}]$.\n",
    "\n",
    "- **$T$**: Temperatura, en $[\\mathrm{K}]$.\n",
    "\n",
    "- **$n$**: cantidad de substancia, en $[\\mathrm{mol}]$.\n",
    "\n",
    "- **$C_P$**: capacidad calorífica a presión constante, en $[\\mathrm{J.K^{-1}}]$.\n",
    "\n",
    "- **$\\bar{C}_P$**: Capacidad calorífica molar a presión constante, en $[\\mathrm{J.mol^{-1}.K^{-1}}]$.\n",
    "\n",
    "</div>\n",
    "\n",
    "</details>"
   ]
  },
  {
   "cell_type": "markdown",
   "metadata": {},
   "source": [
    "### Ejemplo: Calentamiento de un elemento o compuesto"
   ]
  },
  {
   "cell_type": "markdown",
   "metadata": {},
   "source": [
    "Problema adaptado de: [[Matsushita & Mukai, p.29](https://link.springer.com/book/10.1007/978-981-13-0405-7)]\n",
    "\n",
    "Calcule el cambio en la entalpía molar del manganeso, $\\Delta \\bar{H}_{Mn}$ entre $1373$ y $1573$ $[\\mathrm{K}]$.\n",
    "\n",
    "La capacidad calorífica molar a presión constante, el calor latente de transformación $\\mathrm{Mn_{(\\gamma)} \\rightarrow Mn_{(\\delta)}}$, y el calor latente de fusión $\\mathrm{Mn_{(\\delta)} \\rightarrow Mn_{(L)}}$ están dados por:"
   ]
  },
  {
   "cell_type": "markdown",
   "metadata": {},
   "source": [
    "$$\n",
    "\\begin{array}{lcl|c}\n",
    "\\bar{C}_P^{(\\gamma)}  [\\mathrm{J.mol^{-1}.K^{-1}}] & = & 25.23 + 14.90\\times10^{-3}T - 1.854\\times10^5 T^{-2} & \\left(1360 \\,- \\, 1410 [\\mathrm{K}]\\right)\\\\\n",
    "\\bar{C}_P^{(\\delta)}  [\\mathrm{J.mol^{-1}.K^{-1}}] & = & 46.44 & \\left(1410 \\,- \\, 1517 [\\mathrm{K}]\\right)\\\\\n",
    "\\bar{C}_P^{(L)}  [\\mathrm{J.mol^{-1}.K^{-1}}] & = & 46.02 & \\left(1517 \\,- \\, 2324 [\\mathrm{K}]\\right)\\\\\n",
    "\\bar{L}_{(\\gamma \\rightarrow \\delta)}  [\\mathrm{J.mol^{-1}}] & = & 1799 & \\left(1410 [\\mathrm{K}]\\right)\\\\\n",
    "\\bar{L}_{(\\delta \\rightarrow L)}  [\\mathrm{J.mol^{-1}}] & = & 14640 & \\left(1517 [\\mathrm{K}]\\right)\\\\\n",
    "\\end{array}\n",
    "$$"
   ]
  },
  {
   "cell_type": "markdown",
   "metadata": {},
   "source": [
    "El cambio de entalpía se escribe:\n",
    "\n",
    "$$\n",
    "\\Delta \\bar{H}_{Mn} = \\int_{1373}^{1410} \\bar{C}_P^{(\\gamma)} dT \n",
    "+ \\bar{L}_{(\\gamma \\rightarrow \\delta)}\n",
    "+ \\int_{1410}^{1517} \\bar{C}_P^{(\\delta)} dT\n",
    "+ \\bar{L}_{(\\delta \\rightarrow L)}\n",
    "+ \\int_{1517}^{1573} \\bar{C}_P^{(L)} dT\n",
    "$$\n",
    "\n",
    "$$\\Delta \\bar{H}_{Mn} = 25682 \\, [\\mathrm{J.mol^{-1}}]$$"
   ]
  },
  {
   "cell_type": "code",
   "execution_count": null,
   "metadata": {},
   "outputs": [],
   "source": [
    "# Definición de funciones\n",
    "CpGamma(T) = 25.23 + 14.9e-3*T - 1.854e5*T^(-2)\n",
    "CpDelta(T) = 46.44\n",
    "CpLiquid(T) = 46.02\n",
    "LGammaToDelta = 1799\n",
    "LDeltaToLiquid = 14640;"
   ]
  },
  {
   "cell_type": "code",
   "execution_count": 13,
   "metadata": {},
   "outputs": [
    {
     "name": "stdout",
     "output_type": "stream",
     "text": [
      "ΔH = 25682.3 [J.mol-1]\n"
     ]
    }
   ],
   "source": [
    "# cálculo del cambio de entalpía\n",
    "ΔH₁ = solve(IntegralProblem((T,p) -> CpGamma(T), (1373, 1410)), QuadGKJL()).u\n",
    "ΔH₂ = solve(IntegralProblem((T,p) -> CpDelta(T), (1410, 1517)), QuadGKJL()).u\n",
    "ΔH₃ = solve(IntegralProblem((T,p) -> CpLiquid(T), (1517, 1573)), QuadGKJL()).u\n",
    "\n",
    "ΔH = ΔH₁ + LGammaToDelta + ΔH₂ + LDeltaToLiquid + ΔH₃\n",
    "\n",
    "println(\"ΔH = $(round(ΔH, digits=2)) [J.mol-1]\")"
   ]
  },
  {
   "cell_type": "markdown",
   "metadata": {},
   "source": [
    "### Ejemplo: Calor de formación"
   ]
  },
  {
   "cell_type": "markdown",
   "metadata": {},
   "source": [
    "Problema adaptado de: [[Matsushita & Mukai, p.30](https://link.springer.com/book/10.1007/978-981-13-0405-7)]\n",
    "\n",
    "Calcule el calor de formación de la $\\mathrm{Al_2O_3}$ a $773$ $[\\mathrm{K}]$.\n",
    "\n",
    "$$\\mathrm{2 Al(s) + \\frac{3}{2} O_2 (g) = Al_2O_3 (s)}$$"
   ]
  },
  {
   "cell_type": "markdown",
   "metadata": {},
   "source": [
    "$$\n",
    "\\begin{array}{lcl|c}\n",
    "\\Delta H_{Al_2O_3}^{\\circ}  [\\mathrm{J.mol^{-1}}] & = & -1675300 & \\left(298.15 [\\mathrm{K}]\\right)\\\\\n",
    "\\Delta H_{Al}^{\\circ}  [\\mathrm{J.mol^{-1}}] & = & 0 & \\left(298.15 [\\mathrm{K}]\\right)\\\\\n",
    "\\Delta H_{O_2}^{\\circ}  [\\mathrm{J.mol^{-1}}] & = & 0 & \\left(298.15 [\\mathrm{K}]\\right)\\\\\n",
    "\\bar{C}_P^{(Al_2O_3)}  [\\mathrm{J.mol^{-1}.K^{-1}}] & = & 114.8 + 12.80\\times 10^{-3} T - 35.44 \\times 10^{5} T^{-2} & \\left(273 \\,- \\, 2000 [\\mathrm{K}]\\right)\\\\\n",
    "\\bar{C}_P^{(Al)}  [\\mathrm{J.mol^{-1}.K^{-1}}] & = & 20.67 + 12.38\\times 10^{-3} T & \\left(273 \\,- \\, 923 [\\mathrm{K}]\\right)\\\\\n",
    "\\bar{C}_P^{(O_2)}  [\\mathrm{J.mol^{-1}.K^{-1}}] & = & 29.96 + 4.184\\times 10^{-3} T - 1.67 \\times 10^{5} T^{-2} & \\left(273 \\,- \\, 2000 [\\mathrm{K}]\\right)\\\\\n",
    "\\end{array}\n",
    "$$"
   ]
  },
  {
   "cell_type": "markdown",
   "metadata": {},
   "source": [
    "$$\\Delta H_{298} = -1675300 \\, [\\mathrm{J.mol^{-1}}]$$\n",
    "\n",
    "$$\\Delta H_{773} = \\Delta H_{298} + \\int_{298}^{773} \\bar{C}_P^{(Al_2O_3)} dT - 2 \\int_{298}^{773} \\bar{C}_P^{(Al)} dT - \\frac{3}{2} \\int_{298}^{773} \\bar{C}_P^{(O_2)} dT $$"
   ]
  },
  {
   "cell_type": "code",
   "execution_count": null,
   "metadata": {},
   "outputs": [
    {
     "data": {
      "text/plain": [
       "-1675300"
      ]
     },
     "metadata": {},
     "output_type": "display_data"
    }
   ],
   "source": [
    "# definición de capacidad calorífica y entalpía de formación estándar (298.15 K)\n",
    "CpAl2O3(T) = 114.8 + 12.8e-3*T - 35.44e5 * T^(-2)\n",
    "CpAl(T) = 20.67 + 12.38e-3*T\n",
    "CpO2(T) = 29.96 + 4.184e-3*T - 1.67e5 * T^(-2)\n",
    "CpComb(T) = CpAl2O3(T) - 2 * CpAl(T) - 3/2 * CpO2(T)\n"
   ]
  },
  {
   "cell_type": "code",
   "execution_count": 53,
   "metadata": {},
   "outputs": [
    {
     "name": "stdout",
     "output_type": "stream",
     "text": [
      "ΔH(298.15): -1675.3 [kJ.mol-1]\n",
      "ΔH(773.15): -1673.18 [kJ.mol-1]\n"
     ]
    }
   ],
   "source": [
    "# calculo de la entalpía de formación a 773.15 K\n",
    "ΔH⁰ = -1675300 # [J.mol-1] @ 298.15 [K]\n",
    "ΔH₁ =  solve(IntegralProblem((T,p) -> CpComb(T), (298.15, 773.15)), QuadGKJL()).u\n",
    "ΔH = ΔH⁰ + ΔH₁\n",
    "\n",
    "println(\"ΔH(298.15): $(round(1e-3*ΔH⁰,digits=2)) [kJ.mol-1]\")\n",
    "println(\"ΔH(773.15): $(round(1e-3*ΔH,digits=2)) [kJ.mol-1]\")"
   ]
  },
  {
   "cell_type": "code",
   "execution_count": null,
   "metadata": {},
   "outputs": [],
   "source": []
  }
 ],
 "metadata": {
  "kernelspec": {
   "display_name": "Julia 1.10.6",
   "language": "julia",
   "name": "julia-1.10"
  },
  "language_info": {
   "file_extension": ".jl",
   "mimetype": "application/julia",
   "name": "julia",
   "version": "1.10.6"
  }
 },
 "nbformat": 4,
 "nbformat_minor": 2
}
