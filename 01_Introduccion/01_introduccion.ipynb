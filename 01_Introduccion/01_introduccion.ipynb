{
 "cells": [
  {
   "cell_type": "markdown",
   "metadata": {},
   "source": [
    "# Cinética de Procesos (Sesión 01)"
   ]
  },
  {
   "cell_type": "markdown",
   "metadata": {},
   "source": [
    "<img src=\"figures/LogoCinvestav.png\" style=\"height:100px\" title=\"Cinvestav\">"
   ]
  },
  {
   "cell_type": "markdown",
   "metadata": {},
   "source": [
    "**CINVESTAV Unidad Saltillo**\n",
    "\n",
    "**Programa de Maestría en Ciencias en Ingeniería Metalúrgica**\n",
    "\n",
    "Dr. Edgar Ivan Castro Cedeño\n",
    "\n",
    "\n",
    "2025\n",
    "\n",
    "Contacto:\n",
    "[edgar.castro@cinvestav.mx](mailto:edgar.castro@cinvestav.mx)"
   ]
  },
  {
   "cell_type": "markdown",
   "metadata": {},
   "source": [
    "# Introducción"
   ]
  },
  {
   "cell_type": "markdown",
   "metadata": {},
   "source": [
    "## ¿Qué es cinética?"
   ]
  },
  {
   "cell_type": "markdown",
   "metadata": {},
   "source": [
    "Es la **rama de la fisicoquímica** que se encarga de la **medición e intepretación de tasas de reacción**.\n"
   ]
  },
  {
   "cell_type": "markdown",
   "metadata": {},
   "source": [
    "## ¿Qué es un proceso?"
   ]
  },
  {
   "cell_type": "markdown",
   "metadata": {},
   "source": [
    "Es una **serie de etapas**, secuenciales o paralelas, para **obtener o producir un beneficio**."
   ]
  },
  {
   "cell_type": "markdown",
   "metadata": {},
   "source": [
    "### Tipos de procesos"
   ]
  },
  {
   "cell_type": "markdown",
   "metadata": {},
   "source": [
    "#### Químicos"
   ]
  },
  {
   "cell_type": "markdown",
   "metadata": {},
   "source": [
    "- Presencia de reacciones químicas.\n",
    "\n",
    "- Procesos físicos."
   ]
  },
  {
   "cell_type": "markdown",
   "metadata": {},
   "source": [
    "<details>\n",
    "<summary><b>Ejemplos</b></summary>\n",
    "\n",
    "<div class=\"alert alert-info\">\n",
    "\n",
    "- Tostación\n",
    "\n",
    "- Reducción directa\n",
    "\n",
    "- etc.\n",
    "\n",
    "</div>\n",
    "\n",
    "</details>"
   ]
  },
  {
   "cell_type": "markdown",
   "metadata": {},
   "source": [
    "#### Separación"
   ]
  },
  {
   "cell_type": "markdown",
   "metadata": {},
   "source": [
    "- Regularmente no hay reacciones químicas.\n",
    "\n",
    "- Solamente son procesos físicos."
   ]
  },
  {
   "cell_type": "markdown",
   "metadata": {},
   "source": [
    "<details>\n",
    "<summary><b>Ejemplos</b></summary>\n",
    "\n",
    "<div class=\"alert alert-info\">\n",
    "\n",
    "- Flotación\n",
    "\n",
    "- Separación magnética\n",
    "\n",
    "- etc.\n",
    "\n",
    "</div>\n",
    "\n",
    "</details>"
   ]
  },
  {
   "cell_type": "markdown",
   "metadata": {},
   "source": [
    "## ¿Qué es cinética de procesos?"
   ]
  },
  {
   "cell_type": "markdown",
   "metadata": {},
   "source": [
    "Es la aplicación de la cinética para el estudio de procesos de producción y beneficio.\n",
    "\n",
    "- Permite definir los valores de operación que permitan satisfacer de la mejor forma los requerimientos de un proceso.\n",
    "\n",
    "- Es esencial para la investigación y desarrollo de nuevos procesos.\n",
    "\n",
    "- Es parte de las bases para la modelación matemática de procesos."
   ]
  },
  {
   "cell_type": "markdown",
   "metadata": {},
   "source": [
    "## ¿En qué ayuda aprender cinética?"
   ]
  },
  {
   "cell_type": "markdown",
   "metadata": {},
   "source": [
    "1. Conocer la velocidad con la que se llevan a cabo las reacciones.\n",
    "\n",
    "2. Determinar el mecanismo de reacción que se ejecuta y la etapa controlante.\n",
    "\n",
    "3. Proponer formas de acelerar una reacción de interés.\n",
    "\n",
    "4. Si es necesario, proponer el uso de catalizadores.\n",
    "\n",
    "5. Diseñar el reactor donde se ejecutará la transformación deseada.\n",
    "\n",
    "6. Control del reactor."
   ]
  },
  {
   "cell_type": "markdown",
   "metadata": {},
   "source": []
  }
 ],
 "metadata": {
  "language_info": {
   "name": "python"
  }
 },
 "nbformat": 4,
 "nbformat_minor": 2
}
