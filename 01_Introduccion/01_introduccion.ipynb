{
 "cells": [
  {
   "cell_type": "markdown",
   "metadata": {},
   "source": [
    "# Cinética de Procesos (Sesión 01)"
   ]
  },
  {
   "cell_type": "markdown",
   "metadata": {},
   "source": [
    "<img src=\"figures/LogoCinvestav.png\" style=\"height:100px\" title=\"Cinvestav\">"
   ]
  },
  {
   "cell_type": "markdown",
   "metadata": {},
   "source": [
    "**CINVESTAV Unidad Saltillo**\n",
    "\n",
    "**Programa de Maestría en Ciencias en Ingeniería Metalúrgica**\n",
    "\n",
    "Dr. Edgar Ivan Castro Cedeño\n",
    "\n",
    "\n",
    "2025\n",
    "\n",
    "Contacto:\n",
    "[edgar.castro@cinvestav.mx](mailto:edgar.castro@cinvestav.mx)"
   ]
  },
  {
   "cell_type": "markdown",
   "metadata": {},
   "source": [
    "# 1. Introducción"
   ]
  },
  {
   "cell_type": "markdown",
   "metadata": {},
   "source": [
    "## 1.1 ¿Qué es cinética?"
   ]
  },
  {
   "cell_type": "markdown",
   "metadata": {},
   "source": [
    "Es la **rama de la fisicoquímica** que se encarga de la **medición e intepretación de tasas/velocidades de reacción**.\n"
   ]
  },
  {
   "cell_type": "markdown",
   "metadata": {},
   "source": [
    "## 1.2 ¿Qué es un proceso?"
   ]
  },
  {
   "cell_type": "markdown",
   "metadata": {},
   "source": [
    "Es una **serie de etapas**, secuenciales o paralelas, para **obtener o producir un beneficio**."
   ]
  },
  {
   "cell_type": "markdown",
   "metadata": {},
   "source": [
    "### 1.2.1 Tipos de procesos"
   ]
  },
  {
   "cell_type": "markdown",
   "metadata": {},
   "source": [
    "#### 1.2.1.1 Químicos"
   ]
  },
  {
   "cell_type": "markdown",
   "metadata": {},
   "source": [
    "- Presencia de reacciones químicas.\n",
    "\n",
    "- Procesos físicos."
   ]
  },
  {
   "cell_type": "markdown",
   "metadata": {},
   "source": [
    "<details>\n",
    "<summary><b>Ejemplos</b></summary>\n",
    "\n",
    "<div class=\"alert alert-info\">\n",
    "\n",
    "- Tostación\n",
    "\n",
    "- Reducción directa\n",
    "\n",
    "- etc.\n",
    "\n",
    "</div>\n",
    "\n",
    "</details>"
   ]
  },
  {
   "cell_type": "markdown",
   "metadata": {},
   "source": [
    "#### 1.2.1.2 Separación"
   ]
  },
  {
   "cell_type": "markdown",
   "metadata": {},
   "source": [
    "- Regularmente no hay reacciones químicas.\n",
    "\n",
    "- Solamente son procesos físicos."
   ]
  },
  {
   "cell_type": "markdown",
   "metadata": {},
   "source": [
    "<details>\n",
    "<summary><b>Ejemplos</b></summary>\n",
    "\n",
    "<div class=\"alert alert-info\">\n",
    "\n",
    "- Flotación\n",
    "\n",
    "- Separación magnética\n",
    "\n",
    "- etc.\n",
    "\n",
    "</div>\n",
    "\n",
    "</details>"
   ]
  },
  {
   "cell_type": "markdown",
   "metadata": {},
   "source": [
    "## 1.3 ¿Qué es cinética de procesos?"
   ]
  },
  {
   "cell_type": "markdown",
   "metadata": {},
   "source": [
    "Es la aplicación de la cinética para el estudio de procesos de producción y beneficio.\n",
    "\n",
    "- Permite definir los valores de operación que permitan satisfacer de la mejor forma los requerimientos de un proceso.\n",
    "\n",
    "- Es esencial para la investigación y desarrollo de nuevos procesos.\n",
    "\n",
    "- Es parte de las bases para la modelación matemática de procesos."
   ]
  },
  {
   "cell_type": "markdown",
   "metadata": {},
   "source": [
    "## 1.4 ¿En qué ayuda aprender cinética?"
   ]
  },
  {
   "cell_type": "markdown",
   "metadata": {},
   "source": [
    "### 1.4.1 Conocer la velocidad con la que se llevan a cabo las reacciones"
   ]
  },
  {
   "cell_type": "markdown",
   "metadata": {},
   "source": [
    "Considere la reacción prototipo:\n",
    "\n",
    "$$\\mathrm{aA + bB \\longrightarrow cC + dD}$$\n",
    "\n",
    "Se puede determinar la relación entre velocidad de reacción y parámetros de control, e.g. Temperatura, etc. \n",
    "\n",
    "Esto permite construir expresiones de la Ley de Velocidad de Reacción, $r_{\\mathrm{A}}$ adecuadas, por ejemplo:\n",
    "\n",
    "$$r_{\\mathrm{A}}=k_{\\mathrm{A}} \\cdot C_{\\mathrm{A}} C_{\\mathrm{B}}$$\n",
    "\n",
    "$$k_{\\mathrm{A}} = k_0 \\exp \\left(\\frac{-E_a}{RT} \\right)$$"
   ]
  },
  {
   "cell_type": "markdown",
   "metadata": {},
   "source": [
    "<center>\n",
    "\n",
    "<img src=\"figures/images/Coordenada_reaccion.png\" style=\"width:350px\" title=\"Potential energy surface\">\n",
    "\n",
    "***Figura 01. Esquema de una superficie de energía potencial y la barrera energética correspondiente para la reacción prototipo.***\n",
    "\n",
    "Tomado de: [Creative Commons](https://commons.wikimedia.org/wiki/Category:Reaction_coordinate_diagrams#/media/File:Coordenada_reaccion.png) \n",
    "\n",
    "</center>"
   ]
  },
  {
   "cell_type": "markdown",
   "metadata": {},
   "source": [
    "### 1.4.2 Determinar el mecanismo de reacción y la etapa controlante"
   ]
  },
  {
   "cell_type": "markdown",
   "metadata": {},
   "source": [
    "La reacción prototipo no siempre se lleva a cabo en una sola etapa:\n",
    "\n",
    "$$\\mathrm{aA + bB \\longrightarrow cC + dD}$$\n",
    "\n",
    "Es posible que la reacción involucre etapas o reacciones intermediarias:\n",
    "\n",
    "$$\\mathrm{aA + bB \\longrightarrow} cC + dD^{*}$$\n",
    "\n",
    "$$\\mathrm{dD^{*} \\longrightarrow dD}$$\n",
    "\n",
    "El mecanismo de reacción cambiará la expresión de velocidad de reacción, que puede ser más complejo, por ejemplo:\n",
    "\n",
    "\n",
    "$$r_{\\mathrm{A}}=\\frac{k_{\\mathrm{1}} \\cdot C_{\\mathrm{A}} C_{\\mathrm{B}}}{k_2 \\cdot C_{\\mathrm{B}}}$$"
   ]
  },
  {
   "cell_type": "markdown",
   "metadata": {},
   "source": [
    "### 1.4.3 Proponer formas de acelerar una reacción de interés"
   ]
  },
  {
   "cell_type": "markdown",
   "metadata": {},
   "source": [
    "Si se conoce la Ley de Velocidad de Reacción, $r_{\\mathrm{A}}$, la reacción se podría acelerar por los siguientes métodos:\n",
    "\n",
    "- Incremento de temperatura.\n",
    "- Variando la concentración de los reactivos.\n",
    "- Utilización de catalizadores."
   ]
  },
  {
   "cell_type": "markdown",
   "metadata": {},
   "source": [
    "### 1.4.4 Si es necesario, proponer el uso de catalizadores"
   ]
  },
  {
   "cell_type": "markdown",
   "metadata": {},
   "source": [
    "Un catalizador es una especie que tiene la finalidad de incrementar la velocidad de reacción:\n",
    "\n",
    "$$aA \\longrightarrow cC$$\n",
    "\n",
    "El catalizador modificaría el camino de reacción o el mecanismo de reacción, sin que la masa del mismo se modifique durante la reacción:\n",
    "\n",
    "\n",
    "$$aA + X \\longrightarrow aA-X$$\n",
    "\n",
    "$$aA-X \\longrightarrow cC-X$$\n",
    "\n",
    "$$cC-X \\longrightarrow cC + X$$\n",
    "\n",
    "**Nota: $X$ corresponde a los sitios activos en el catalizador**"
   ]
  },
  {
   "cell_type": "markdown",
   "metadata": {},
   "source": [
    "<center>\n",
    "\n",
    "<img src=\"figures/images/TransEffectEnergyDiagram.jpg\" style=\"width:400px\" title=\"Potential energy surface\">\n",
    "\n",
    "***Figura 02. Esquema del efecto de la utilización de catalizadores sobre la barrera energética*** \n",
    "\n",
    "Tomado de: [Creative Commons](https://upload.wikimedia.org/wikipedia/commons/a/a3/Trans_effect_energy_diagram.png) \n",
    "\n",
    "</center>"
   ]
  },
  {
   "cell_type": "markdown",
   "metadata": {},
   "source": [
    "### 1.4.5 Diseñar el reactor donde se ejecutará la transformación deseada"
   ]
  },
  {
   "cell_type": "markdown",
   "metadata": {},
   "source": [
    "Al conocer la ley de velocidad de reacción, $r_{\\mathrm{A}}$ y la constante cinética $k_{\\mathrm{A}}$, se pueden diseñar y dimesionar reactores a cualquier escala (piloto o industrial), usando ecuaciones de transporte de masa y energía.\n",
    "\n",
    "A manera de ejemplo, se muestra como a partir de una ecuación de conservación de especies químicas se pueden derivar las ecuaciones de diseño para algunos reactores comunes:\n",
    "\n",
    "$$\\underbrace{\\frac{dN_j}{dt}}_{\\mathrm{Acumulación}} = \\underbrace{F_{j_0}}_{\\mathrm{Entradas}} - \\underbrace{F_{j}}_{\\mathrm{Salidas}} + \\underbrace{\\int_{V} r_j dV}_{\\mathrm{Generación/Consumo}}$$"
   ]
  },
  {
   "cell_type": "markdown",
   "metadata": {},
   "source": [
    "<center>\n",
    "\n",
    "***Tabla 1. Ecuaciones de diseño para algunos reactores comunes*** \n",
    "\n",
    "| Reactor| Acrónimo | Ecuación de diseño | Esquema |\n",
    "|---------|---------|--------------------|:-------:|\n",
    "| Reactor discontinuo | BR      | $$\\frac{dN_j}{dt} =  \\int_{V} r_j dV$$ | <img src=\"figures/images/Fed_batch_reactor_FSTR.svg\" style=\"width:75px\" title=\"Batch Reactor\"> |\n",
    "| Reactor continuo agitado | CSTR    | $$F_{j_0} - F_{j} = -\\int_{V} r_j dV$$ | <img src=\"figures/images/Continuous_bach_reactor_CSTR.svg\" style=\"width:100px\" title=\"Continuous Stirred Tank Reactor\"> |\n",
    "| Reactor de flujo pistón | PFR    | $$\\frac{dF_{j}}{dV} = r_j$$ | <img src=\"figures/images/ReactorPlugFlow.svg\" style=\"width:200px\" title=\"Plug Flow Reactor\"> | \n",
    "| Reactor de lecho empacado | PBR    | $$\\frac{dF_{j}}{dW} = r^{\\prime}_j$$ | <img src=\"figures/images/ReactorPackedBed.svg\" style=\"width:200px\" title=\"Packed Bed Reactor\"> |\n",
    "\n",
    "</center>"
   ]
  },
  {
   "cell_type": "markdown",
   "metadata": {},
   "source": [
    "### 1.4.6 Control del reactor"
   ]
  },
  {
   "cell_type": "markdown",
   "metadata": {},
   "source": [
    "Considere la reacción prototipo:\n",
    "\n",
    "$$\\mathrm{aA + bB \\longrightarrow cC + dD}$$\n",
    "\n",
    "\n",
    "Conjuntando:\n",
    "\n",
    "- Conocimiento de la Ley de Velocidad de Reacción, $r_{\\mathrm{A}}$, la constante cinética, $k_{\\mathrm{A}}$, el calor de reacción, la conversión de la reacción, etc.\n",
    "\n",
    "- Conocimiento de ecuaciones de conservación de materia y energía + Métodos numéricos.\n",
    "\n",
    "Se pueden modificar los parámetros de control de un reactor, e.g., temperatura, flujo de alimentación, etc., de tal forma que se optimice la conversión en el reactor."
   ]
  }
 ],
 "metadata": {
  "kernelspec": {
   "display_name": "Python 3",
   "language": "python",
   "name": "python3"
  },
  "language_info": {
   "name": "python",
   "version": "3.10.12"
  }
 },
 "nbformat": 4,
 "nbformat_minor": 2
}
