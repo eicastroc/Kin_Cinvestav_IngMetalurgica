{
 "cells": [
  {
   "cell_type": "markdown",
   "metadata": {},
   "source": [
    "# Cinética de Procesos (Sesión 01)"
   ]
  },
  {
   "cell_type": "markdown",
   "metadata": {},
   "source": [
    "<img src=\"figures/LogoCinvestav.png\" style=\"height:100px\" title=\"Cinvestav\">"
   ]
  },
  {
   "cell_type": "markdown",
   "metadata": {},
   "source": [
    "**CINVESTAV Unidad Saltillo**\n",
    "\n",
    "**Programa de Maestría en Ciencias en Ingeniería Metalúrgica**\n",
    "\n",
    "Dr. Edgar Ivan Castro Cedeño\n",
    "\n",
    "Contacto:\n",
    "[edgar.castro@cinvestav.mx](mailto:edgar.castro@cinvestav.mx)"
   ]
  },
  {
   "cell_type": "markdown",
   "metadata": {},
   "source": [
    "# 1. Introducción"
   ]
  },
  {
   "cell_type": "markdown",
   "metadata": {},
   "source": [
    "## 1.1 ¿Qué es cinética?"
   ]
  },
  {
   "cell_type": "markdown",
   "metadata": {},
   "source": [
    "Es la **rama de la fisicoquímica** que se encarga de la **medición e intepretación de tasas/velocidades de reacción**.\n"
   ]
  },
  {
   "cell_type": "markdown",
   "metadata": {},
   "source": [
    "## 1.2 ¿Qué es un proceso?"
   ]
  },
  {
   "cell_type": "markdown",
   "metadata": {},
   "source": [
    "Es una **serie de etapas**, secuenciales o paralelas, para **obtener o producir un beneficio**."
   ]
  },
  {
   "cell_type": "markdown",
   "metadata": {},
   "source": [
    "### 1.2.1 Tipos de procesos"
   ]
  },
  {
   "cell_type": "markdown",
   "metadata": {},
   "source": [
    "#### 1.2.1.1 Químicos"
   ]
  },
  {
   "cell_type": "markdown",
   "metadata": {},
   "source": [
    "Conjunto de operaciones químicas y físicas, en los cuáles se obtiene un producto a partir de sustancias iniciales (reacciones químicas)."
   ]
  },
  {
   "cell_type": "markdown",
   "metadata": {},
   "source": [
    "##### Ejemplos:"
   ]
  },
  {
   "cell_type": "markdown",
   "metadata": {},
   "source": [
    "<details>\n",
    "<summary><b>Calcinación</b></summary>\n",
    "\n",
    "Proceso en el que se calienta un compuesto a temperaturas definidas, para llevar a cabo una descomposición térmica selectiva.\n",
    "\n",
    "<center>\n",
    "\n",
    "<img src=\"figures/images/viktorMacha_rotaryKiln.png\" style=\"height:500px\" title=\"Lime kiln\">\n",
    "\n",
    "<b>[Horno rotatorio para calcinación (Glenbrook, NZ) -- Viktor Mácha](https://www.viktormacha.com/galerie/new-zealand-steel-glenbrook-481/)</b>\n",
    "\n",
    "</center>\n",
    "\n",
    "</details>"
   ]
  },
  {
   "cell_type": "markdown",
   "metadata": {},
   "source": [
    "<details>\n",
    "<summary><b>Coquización</b></summary>\n",
    "\n",
    "Proceso en el que se calienta carbón en ausencia de oxígeno a temperaturas definidas, para llevar a cabo una volatilización selectiva.\n",
    "\n",
    "<center>\n",
    "\n",
    "<img src=\"figures/images/viktorMacha_cokingBattery.png\" style=\"height:500px\" title=\"Coquizado\">\n",
    "\n",
    "<b>[Batería de coquización (Dunkerque, FR) -- Viktor Mácha](https://www.viktormacha.com/galerie/arcelormittal-dunkerque-dunkerque-416/)</b>\n",
    "\n",
    "</center>\n",
    "\n",
    "</details>"
   ]
  },
  {
   "cell_type": "markdown",
   "metadata": {
    "vscode": {
     "languageId": "plaintext"
    }
   },
   "source": [
    "<details>\n",
    "<summary><b>Tostación</b></summary>\n",
    "\n",
    "Proceso que utiliza reacciones gas-sólido para purificar compuestos metálicos, por procesos de oxidación, cloración, sulfatación, etc.\n",
    "\n",
    "<center>\n",
    "\n",
    "<img src=\"figures/images/gold2stage-roasting-image-1.jpg\" style=\"height:300px\" title=\"Gold Roaster\">\n",
    "\n",
    "<b>[Reactor para tostación de sulfuros de Zn -- Metso Corporation](https://www.metso.com/portfolio/gold-two-stage-roasting/)</b>\n",
    "\n",
    "</center>\n",
    "\n",
    "</details>"
   ]
  },
  {
   "cell_type": "markdown",
   "metadata": {},
   "source": [
    "<details>\n",
    "<summary><b>Fundición</b></summary>\n",
    "\n",
    "Proceso utilizado para la obtención de metales fundidos a partir de la la reducción de minerales de óxidos metálicos. \n",
    "\n",
    "<center>\n",
    "\n",
    "<img src=\"figures/images/viktorMacha_blastFurnace.png\" style=\"height:500px\" title=\"Blast Furnace\">\n",
    "\n",
    "<b>[Alto Horno (Fos-sur-Mer, FR) -- Viktor Mácha](https://www.viktormacha.com/galerie/arcelormittal-mediterranee-fos-sur-mer-444/)</b>\n",
    "\n",
    "</center>\n",
    "\n",
    "\n",
    "\n",
    "<center>\n",
    "\n",
    "<img src=\"figures/images/viktorMacha_SAF.png\" style=\"height:500px\" title=\"Submerged Arc Furnace\">\n",
    "\n",
    "<b>[Horno de Arco Sumergido (Mpumalanga, ZA) -- Victor Mácha](https://www.viktormacha.com/galerie/ferroglobe-emalahleni-witbank-557/)</b>\n",
    "\n",
    "</center>\n",
    "\n",
    "\n",
    "</details>\n"
   ]
  },
  {
   "cell_type": "markdown",
   "metadata": {},
   "source": [
    "<details>\n",
    "<summary><b>Reducción directa</b></summary>\n",
    "\n",
    "Proceso utilizado para la obtención de metales mediante la reducción de minerales de óxidos metálicos, sin fundir el material.\n",
    "\n",
    "<center>\n",
    "\n",
    "<img src=\"figures/images/HYL.jpg\" style=\"height:450px\" title=\"HYL\">\n",
    "\n",
    "<b> [Reactor HYL (Abu Dhabi, AE) -- Tenova S.p.A.](https://tenova.com/technologies/energiron)</b>\n",
    "\n",
    "</center>\n",
    "\n",
    "\n",
    "<center>\n",
    "\n",
    "<img src=\"figures/images/viktorMacha_midrex.png\" style=\"height:500px\" title=\"MIDREX\">\n",
    "\n",
    "<b> [Reactor MIDREX (Hamburg, DE) -- Midrex Technologies](https://www.viktormacha.com/galerie/arcelormittal-hamburg-hamburg-66/)</b>\n",
    "\n",
    "</center>\n",
    "\n",
    "</details>\n"
   ]
  },
  {
   "cell_type": "markdown",
   "metadata": {
    "vscode": {
     "languageId": "plaintext"
    }
   },
   "source": [
    "<details>\n",
    "<summary><b>Afino de metales</b></summary>\n",
    "\n",
    "Procesos de eliminación de impurezas en un metal fundido.\n",
    "\n",
    "- Condiciones oxidantes, e.g. copelación, reacciones de oxidación selectivas mediante insuflado de gas (aire, oxígeno). \n",
    "\n",
    "<center>\n",
    "\n",
    "<img src=\"figures/images/lossy-page1-1920px-SMELTING_MACHINERY_AT_THE_INSPIRATION_CONSOLIDATED_COPPER_COMPANY_-_NARA_-_544049.tif.jpg\" style=\"width:400px\" title=\"Peirce-Smith\">\n",
    "\n",
    "<b> [Convertidor Peirce-Smith (Arizona, US) -- Wikimedia commons](https://es.wikipedia.org/wiki/Convertidor_Peirce-Smith#/media/Archivo:SMELTING_MACHINERY_AT_THE_INSPIRATION_CONSOLIDATED_COPPER_COMPANY_-_NARA_-_544049.tif)</b>\n",
    "\n",
    "\n",
    "<img src=\"figures/images/viktorMacha_BOF.png\" style=\"height=500px\" title=\"BOF\">\n",
    "\n",
    "<b> [BOF (Smederevo, RS) -- Victor Mácha](https://www.viktormacha.com/galerie/hesteel-serbia-smederevo-339/)</b>\n",
    "\n",
    "\n",
    "<img src=\"figures/images/viktorMacha_EAF.png\" style=\"height=500px\" title=\"EAF\">\n",
    "\n",
    "<b> [BOF (Charleroi, BE) -- Victor Mácha](https://www.viktormacha.com/galerie/industeel-charleroi-charleroi-378/)</b>\n",
    "\n",
    "\n",
    "</center>\n",
    "\n",
    "- Condiciones reductoras, e.g., desoxidación, desulfuración, incorporación de elementos aleantes.\n",
    "\n",
    "<center>\n",
    "\n",
    "<img src=\"figures/images/viktorMacha_LF.png\" style=\"height:500px\" title=\"Ladle Furnace\">\n",
    "\n",
    "<b> [Horno Olla (Hagondange, FR) -- Victor Mácha](https://www.viktormacha.com/galerie/ascometal-hagondange-443/)</b>\n",
    "\n",
    "</center>\n",
    "\n",
    "\n",
    "<center>\n",
    "\n",
    "<img src=\"figures/images/induction-furnace-1.jpg\" style=\"height:300px\" title=\"IM\">\n",
    "\n",
    "<b> [Horno de inducción -- Inductotherm](https://inductothermgroup.com/wp-content/uploads/bb-plugin/cache/BETZ052115_106-scaled-landscape-11b804abef00a9426edb73d9859ce38c-6089ac663f55c.jpg)</b>\n",
    "\n",
    "</center>\n",
    "\n",
    "\n",
    "\n",
    "\n",
    "- Condiciones de vacío (modifican cinéticas bajo condiciones oxidantes o reductoras)\n",
    "\n",
    "<center>\n",
    "\n",
    "<img src=\"figures/images/viktorMacha_RH.png\" style=\"height:500px\" title=\"RH\">\n",
    "\n",
    "<b> [Estación RH (Siegen, DE) -- Viktor Mácha](https://www.viktormacha.com/galerie/deutsche-edelstahlwerke-siegen-509/)</b>\n",
    "\n",
    "</center>\n",
    "\n",
    "<center>\n",
    "\n",
    "<img src=\"figures/images/viktorMacha_VOD.png\" style=\"height:500px\" title=\"VOD\">\n",
    "\n",
    "<b> [Estación VOD (Saint Saulve, FR) -- Viktor Mácha](https://www.viktormacha.com/galerie/saarstahl-ascoval-saint-saulve-418/)</b>\n",
    "\n",
    "</center>\n",
    "\n",
    "</details>"
   ]
  },
  {
   "cell_type": "markdown",
   "metadata": {},
   "source": [
    "<details>\n",
    "<summary><b>Lixiviación</b></summary>\n",
    "\n",
    "Proceso en el que se extraen compuestos solubles de una matriz sólida mediante el uso de un lixiviante.\n",
    "\n",
    "<center>\n",
    "\n",
    "<img src=\"figures/images/goldCyanideLeaching.jpg\" style=\"width:400px\" title=\"gold leaching\">\n",
    "\n",
    "<b>[Lixiviación de oro  -- Metso Corporation](https://www.metso.com/portfolio/gold-cyanide-leaching-process/)</b>\n",
    "\n",
    "</center>\n",
    "\n",
    "</details>"
   ]
  },
  {
   "cell_type": "markdown",
   "metadata": {},
   "source": [
    "<details>\n",
    "<summary><b>Electrodeposición</b></summary>\n",
    "\n",
    "Proceso electroquímico en el cuál se depositan metales en un substrato a partir de un electrolito concetrado.\n",
    "\n",
    "<center>\n",
    "\n",
    "<img src=\"figures/images/Hall-Heroult-process-for-aluminium-production_W640.jpg\" style=\"width:400px\" title=\"Hall Heroult\">\n",
    "\n",
    "<b>[Celda Hall-Heroult -- Elsevier](https://www.sciencedirect.com/topics/materials-science/electroextraction)</b>\n",
    "\n",
    "</center>\n",
    "\n",
    "</details>"
   ]
  },
  {
   "cell_type": "markdown",
   "metadata": {},
   "source": [
    "<details>\n",
    "<summary><b>Electrorefinación</b></summary>\n",
    "\n",
    "Proceso electroquímico en el cuál refina un metal impuro. El material impuro (ánodo) se disuelve, los iones metálicos migran en un electrolito y se depositan en un cátodo de metal puro.\n",
    "\n",
    "<center>\n",
    "\n",
    "<img src=\"figures/images/copperCathodes.jpg\" style=\"width:400px\" title=\"Lime kiln\">\n",
    "\n",
    "<b>[Cátodos de cobre -- Elsevier](https://www.sciencedirect.com/topics/materials-science/electroextraction)</b>\n",
    "\n",
    "</center>\n",
    "\n",
    "</details>"
   ]
  },
  {
   "cell_type": "markdown",
   "metadata": {},
   "source": [
    "<details>\n",
    "<summary><b>Recubrimiento por inmersión</b></summary>\n",
    "\n",
    "Proceso en el cuál se recubre un sustrato mediante su inmersión en una solución, con reacciones químicas en la superficie.\n",
    "\n",
    "<center>\n",
    "\n",
    "<img src=\"figures/images/continuousGalvanizing.jpg\" style=\"width:400px\" title=\"continuous hot dip galvanizing\">\n",
    "\n",
    "<b>[Línea de galvanizado caliente continuo - Danieli S.p.A.](https://www.danieli.com/en/news-media/news/continuous-galvanizing-line-completed-tosyali-toyo-turkey_37_400.htm)</b>\n",
    "\n",
    "</center>\n",
    "\n",
    "</details>"
   ]
  },
  {
   "cell_type": "markdown",
   "metadata": {},
   "source": [
    "#### 1.2.1.2 Separación"
   ]
  },
  {
   "cell_type": "markdown",
   "metadata": {},
   "source": [
    "Conjunto de operaciones físicas, en los cuáles se obtiene un producto a partir de una mezcla o solución, aprovechando las propiedades físicas del material."
   ]
  },
  {
   "cell_type": "markdown",
   "metadata": {},
   "source": [
    "##### Ejemplos"
   ]
  },
  {
   "cell_type": "markdown",
   "metadata": {},
   "source": [
    "<details>\n",
    "<summary><b>Destilación</b></summary>\n",
    "\n",
    "Proceso en el que se separan los componentes de una mezcla mediante el uso de ebullición selectiva y condensación.\n",
    "\n",
    "- El proceso Pidgeon, esquematizado debajo, combina los procesos de reducción silicotérmica de magnesia, con destilación de los vapores de magnesio resultantes.\n",
    "\n",
    "<center>\n",
    "\n",
    "<img src=\"figures/images/pidgeon_process.png\" style=\"width:400px\" title=\"Mg Pidgeon Process\">\n",
    "\n",
    "<b>[Proceso Pidgeon -- Springer Nature](https://link.springer.com/chapter/10.1007/978-981-16-2171-0_2#Fig1)</b>\n",
    "\n",
    "</center>\n",
    "\n",
    "\n",
    "</details>"
   ]
  },
  {
   "cell_type": "markdown",
   "metadata": {},
   "source": [
    "<details>\n",
    "<summary><b>Flotación</b></summary>\n",
    "\n",
    "Proceso de separación de especies químicas mediante la adhesión selectiva de las mismas a burbujas de gas (aire, nitrógeno, argón, etc.)\n",
    "\n",
    "<center>\n",
    "\n",
    "<img src=\"figures/images/FlotationFalconbridgeOnt.jpeg\" style=\"width:400px\" title=\"Froth cell\">\n",
    "\n",
    "<b>[Celdas de flotación (Ontario, CA) -- Wikimedia Commons](https://en.wikipedia.org/wiki/Froth_flotation#/media/File:FlotationFalconbridgeOnt.jpg)</b>\n",
    "\n",
    "</center>\n",
    "\n",
    "</details>"
   ]
  },
  {
   "cell_type": "markdown",
   "metadata": {},
   "source": [
    "<details>\n",
    "<summary><b>Centrifugación</b></summary>\n",
    "\n",
    "Proceso en el que se separan partículas de una mezcla, basandose en sus diferencias de densidad.\n",
    "\n",
    "<center>\n",
    "\n",
    "<img src=\"figures/images/Cyclone_ani.gif\" style=\"heigth:200px\" title=\"cyclone\">\n",
    "\n",
    "<b>[Ciclón separador -- Simerics Inc.](https://energyeducation.ca/encyclopedia/Cyclone_separator)</b>\n",
    "\n",
    "</center>\n",
    "\n",
    "</details>"
   ]
  },
  {
   "cell_type": "markdown",
   "metadata": {},
   "source": [
    "<details>\n",
    "<summary><b>Separación magnética</b></summary>\n",
    "\n",
    "Proceso de separación de materiales, basado en diferencias en sus propiedades magnéticas.\n",
    "\n",
    "<center>\n",
    "\n",
    "<img src=\"figures/images/magneticScrapConveyor.jpg\" style=\"width:400px\" title=\"Magnetic scrap conveyor\">\n",
    "\n",
    "<b>[Banda de separación magnética -- Buting Magnetics](https://buntingmagnetics.com/industries/recycling/)</b>\n",
    "\n",
    "</center>\n",
    "\n",
    "</details>"
   ]
  },
  {
   "cell_type": "markdown",
   "metadata": {},
   "source": [
    "## 1.3 ¿Qué es cinética de procesos?"
   ]
  },
  {
   "cell_type": "markdown",
   "metadata": {},
   "source": [
    "Es la aplicación de la cinética para el estudio de procesos de producción y beneficio.\n",
    "\n",
    "- Definir parámetros de operación que permitan satisfacer de la mejor forma los requerimientos de un proceso.\n",
    "\n",
    "- Investigación y desarrollo de nuevos procesos.\n",
    "\n",
    "- Modelación matemática de procesos."
   ]
  },
  {
   "cell_type": "markdown",
   "metadata": {},
   "source": [
    "## 1.4 ¿En qué ayuda aprender cinética?"
   ]
  },
  {
   "cell_type": "markdown",
   "metadata": {},
   "source": [
    "### 1.4.1 Conocer la velocidad con la que se llevan a cabo las reacciones"
   ]
  },
  {
   "cell_type": "markdown",
   "metadata": {},
   "source": [
    "Considere la reacción prototipo:\n",
    "\n",
    "$$\\mathrm{aA + bB \\longrightarrow cC + dD}$$\n",
    "\n",
    "Se puede determinar la relación entre velocidad de reacción y parámetros de control, e.g. Temperatura, etc. \n",
    "\n",
    "Esto permite construir expresiones de la Ley de Velocidad de Reacción, $r_{\\mathrm{A}}$ adecuadas, por ejemplo:\n",
    "\n",
    "$$r_{\\mathrm{A}}=k_{\\mathrm{A}} \\cdot C_{\\mathrm{A}} C_{\\mathrm{B}}$$\n",
    "\n",
    "$$k_{\\mathrm{A}} = k_0 \\exp \\left(\\frac{-E_a}{RT} \\right)$$"
   ]
  },
  {
   "cell_type": "markdown",
   "metadata": {},
   "source": [
    "<center>\n",
    "\n",
    "<img src=\"figures/images/Coordenada_reaccion.png\" style=\"width:350px\" title=\"Potential energy surface\">\n",
    "\n",
    "***Figura 01. Esquema de una superficie de energía potencial y la barrera energética correspondiente para la reacción prototipo.***\n",
    "\n",
    "Tomado de: [Creative Commons](https://commons.wikimedia.org/wiki/Category:Reaction_coordinate_diagrams#/media/File:Coordenada_reaccion.png) \n",
    "\n",
    "</center>"
   ]
  },
  {
   "cell_type": "markdown",
   "metadata": {},
   "source": [
    "### 1.4.2 Determinar el mecanismo de reacción y la etapa controlante"
   ]
  },
  {
   "cell_type": "markdown",
   "metadata": {},
   "source": [
    "La reacción prototipo no siempre se lleva a cabo en una sola etapa:\n",
    "\n",
    "$$\\mathrm{aA + bB \\longrightarrow cC + dD}$$\n",
    "\n",
    "Es posible que la reacción involucre etapas o reacciones intermediarias:\n",
    "\n",
    "$$\\mathrm{aA + bB \\longrightarrow} cC + dD^{*}$$\n",
    "\n",
    "$$\\mathrm{dD^{*} \\longrightarrow dD}$$\n",
    "\n",
    "El mecanismo de reacción cambiará la expresión de velocidad de reacción, que puede ser más complejo, por ejemplo:\n",
    "\n",
    "\n",
    "$$r_{\\mathrm{A}}=\\frac{k_{\\mathrm{1}} \\cdot C_{\\mathrm{A}} C_{\\mathrm{B}}}{k_2 \\cdot C_{\\mathrm{B}}}$$"
   ]
  },
  {
   "cell_type": "markdown",
   "metadata": {},
   "source": [
    "### 1.4.3 Proponer formas de acelerar una reacción de interés"
   ]
  },
  {
   "cell_type": "markdown",
   "metadata": {},
   "source": [
    "Si se conoce la Ley de Velocidad de Reacción, $r_{\\mathrm{A}}$, la reacción se podría acelerar por los siguientes métodos:\n",
    "\n",
    "- Incremento de temperatura.\n",
    "- Variando la concentración de los reactivos.\n",
    "- Utilización de catalizadores."
   ]
  },
  {
   "cell_type": "markdown",
   "metadata": {},
   "source": [
    "### 1.4.4 Si es necesario, proponer el uso de catalizadores"
   ]
  },
  {
   "cell_type": "markdown",
   "metadata": {},
   "source": [
    "Un catalizador es una especie que tiene la finalidad de incrementar la velocidad de reacción:\n",
    "\n",
    "$$aA \\longrightarrow cC$$\n",
    "\n",
    "El catalizador modificaría el camino de reacción o el mecanismo de reacción, sin que la masa del mismo se modifique durante la reacción:\n",
    "\n",
    "\n",
    "$$aA + X \\longrightarrow aA-X$$\n",
    "\n",
    "$$aA-X \\longrightarrow cC-X$$\n",
    "\n",
    "$$cC-X \\longrightarrow cC + X$$\n",
    "\n",
    "**Nota: $X$ corresponde a los sitios activos en el catalizador**"
   ]
  },
  {
   "cell_type": "markdown",
   "metadata": {},
   "source": [
    "<center>\n",
    "\n",
    "<img src=\"figures/images/TransEffectEnergyDiagram.jpg\" style=\"width:400px\" title=\"Potential energy surface\">\n",
    "\n",
    "***Figura 02. Esquema del efecto de la utilización de catalizadores sobre la barrera energética*** \n",
    "\n",
    "Tomado de: [Creative Commons](https://upload.wikimedia.org/wikipedia/commons/a/a3/Trans_effect_energy_diagram.png) \n",
    "\n",
    "</center>"
   ]
  },
  {
   "cell_type": "markdown",
   "metadata": {},
   "source": [
    "### 1.4.5 Diseñar el reactor donde se ejecutará la transformación deseada"
   ]
  },
  {
   "cell_type": "markdown",
   "metadata": {},
   "source": [
    "Al conocer la ley de velocidad de reacción, $r_{\\mathrm{A}}$ y la constante cinética $k_{\\mathrm{A}}$, se pueden diseñar y dimesionar reactores a cualquier escala (piloto o industrial), usando ecuaciones de transporte de masa y energía.\n",
    "\n",
    "A manera de ejemplo, se muestra como a partir de una ecuación de conservación de especies químicas se pueden derivar las ecuaciones de diseño para algunos reactores comunes:\n",
    "\n",
    "$$\\underbrace{\\frac{dN_j}{dt}}_{\\mathrm{Acumulación}} = \\underbrace{F_{j_0}}_{\\mathrm{Entradas}} - \\underbrace{F_{j}}_{\\mathrm{Salidas}} + \\underbrace{\\int_{V} r_j dV}_{\\mathrm{Generación/Consumo}}$$"
   ]
  },
  {
   "cell_type": "markdown",
   "metadata": {},
   "source": [
    "<center>\n",
    "\n",
    "***Tabla 1. Ecuaciones de diseño para algunos reactores comunes*** \n",
    "\n",
    "| Reactor| Acrónimo | Ecuación de diseño | Esquema |\n",
    "|---------|---------|--------------------|:-------:|\n",
    "| Reactor discontinuo | BR      | $$\\frac{dN_j}{dt} =  \\int_{V} r_j dV$$ | <img src=\"figures/images/Fed_batch_reactor_FSTR.svg\" style=\"width:75px\" title=\"Batch Reactor\"> |\n",
    "| Reactor continuo agitado | CSTR    | $$F_{j_0} - F_{j} = -\\int_{V} r_j dV$$ | <img src=\"figures/images/Continuous_bach_reactor_CSTR.svg\" style=\"width:100px\" title=\"Continuous Stirred Tank Reactor\"> |\n",
    "| Reactor de flujo pistón | PFR    | $$\\frac{dF_{j}}{dV} = r_j$$ | <img src=\"figures/images/ReactorPlugFlow.svg\" style=\"width:200px\" title=\"Plug Flow Reactor\"> | \n",
    "| Reactor de lecho empacado | PBR    | $$\\frac{dF_{j}}{dW} = r^{\\prime}_j$$ | <img src=\"figures/images/ReactorPackedBed.svg\" style=\"width:200px\" title=\"Packed Bed Reactor\"> |\n",
    "\n",
    "</center>"
   ]
  },
  {
   "cell_type": "markdown",
   "metadata": {},
   "source": [
    "### 1.4.6 Control del reactor"
   ]
  },
  {
   "cell_type": "markdown",
   "metadata": {},
   "source": [
    "Considere la reacción prototipo:\n",
    "\n",
    "$$\\mathrm{aA + bB \\longrightarrow cC + dD}$$\n",
    "\n",
    "\n",
    "Conjuntando:\n",
    "\n",
    "- Conocimiento de la Ley de Velocidad de Reacción, $r_{\\mathrm{A}}$, la constante cinética, $k_{\\mathrm{A}}$, el calor de reacción, la conversión de la reacción, etc.\n",
    "\n",
    "- Conocimiento de ecuaciones de conservación de materia y energía + Métodos numéricos.\n",
    "\n",
    "Se pueden modificar los parámetros de control de un reactor, e.g., temperatura, flujo de alimentación, etc., de tal forma que se optimice la conversión en el reactor."
   ]
  }
 ],
 "metadata": {
  "kernelspec": {
   "display_name": "Python 3",
   "language": "python",
   "name": "python3"
  },
  "language_info": {
   "codemirror_mode": {
    "name": "ipython",
    "version": 3
   },
   "file_extension": ".py",
   "mimetype": "text/x-python",
   "name": "python",
   "nbconvert_exporter": "python",
   "pygments_lexer": "ipython3",
   "version": "3.10.12"
  }
 },
 "nbformat": 4,
 "nbformat_minor": 2
}
