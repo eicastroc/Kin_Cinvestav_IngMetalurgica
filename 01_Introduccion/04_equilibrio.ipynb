{
 "cells": [
  {
   "cell_type": "code",
   "execution_count": null,
   "metadata": {},
   "outputs": [],
   "source": []
  },
  {
   "cell_type": "markdown",
   "metadata": {},
   "source": [
    "# Cinética de Procesos (Sesión 01)"
   ]
  },
  {
   "cell_type": "markdown",
   "metadata": {},
   "source": [
    "<img src=\"figures/LogoCinvestav.png\" style=\"height:100px\" title=\"Cinvestav\">"
   ]
  },
  {
   "cell_type": "markdown",
   "metadata": {},
   "source": [
    "**CINVESTAV Unidad Saltillo**\n",
    "\n",
    "**Programa de Maestría en Ciencias en Ingeniería Metalúrgica**\n",
    "\n",
    "Dr. Edgar Ivan Castro Cedeño\n",
    "\n",
    "\n",
    "2025\n",
    "\n",
    "Contacto:\n",
    "[edgar.castro@cinvestav.mx](mailto:edgar.castro@cinvestav.mx)"
   ]
  },
  {
   "cell_type": "markdown",
   "metadata": {},
   "source": [
    "# Equilibrio químico"
   ]
  },
  {
   "cell_type": "markdown",
   "metadata": {},
   "source": [
    "## Energía libre de Gibbs"
   ]
  },
  {
   "cell_type": "markdown",
   "metadata": {},
   "source": [
    "**Primera ley de la termodinámica:**\n",
    "\n",
    "Enuncia el principio de conservación de energía\n",
    "\n",
    "$$\\Delta U_{\\mathrm{universo}} = \\Delta U_{\\mathrm{sistema}} + \\Delta U_{\\mathrm{alrededores}} = 0$$"
   ]
  },
  {
   "cell_type": "markdown",
   "metadata": {},
   "source": [
    "**Segunda ley de la termodinámica:**\n",
    "\n",
    "La energía se disipa espontáneamente, si no hay impedimento, desde una concentración elevada hasta un estado donde está distribuida equitativamente.\n",
    "\n",
    "$$\\Delta S_{\\mathrm{universo}} = \\Delta S_{\\mathrm{sistema}} + \\Delta S_{\\mathrm{alrededores}} > 0$$"
   ]
  },
  {
   "cell_type": "markdown",
   "metadata": {},
   "source": [
    "**Energía libre de Gibbs:**\n",
    "\n",
    "La condición de un proceso se puede evaluar mediante una función termodinámica llamada ***Energía libre de Gibbs***.\n",
    "\n",
    "$$\\Delta U + P \\Delta V - T \\Delta S \\le 0$$\n",
    "\n",
    "$$ \\Delta H - T \\Delta S \\le 0$$\n",
    "\n",
    "$$ \\Delta G \\le 0$$"
   ]
  },
  {
   "cell_type": "markdown",
   "metadata": {},
   "source": [
    "En condiciones de equilibrio:\n",
    "\n",
    "$$\\Delta G = 0$$\n",
    "\n",
    "$$\\therefore \\Delta H = T \\Delta S$$"
   ]
  },
  {
   "cell_type": "markdown",
   "metadata": {},
   "source": [
    "Un proceso es espontaneo si:\n",
    "\n",
    "$$\\Delta G < 0$$"
   ]
  },
  {
   "cell_type": "markdown",
   "metadata": {},
   "source": [
    "## Espontaneidad de reacciones"
   ]
  },
  {
   "cell_type": "markdown",
   "metadata": {},
   "source": [
    "Es posible saber si una reacción química es posible o no, mediante el cálculo del cambio de la energía libre de Gibbs del sistema."
   ]
  },
  {
   "cell_type": "markdown",
   "metadata": {},
   "source": [
    "De forma general, una reacción química se puede expresar como:\n",
    "\n",
    "$$\\underbrace{\\nu_1 A_1 + \\nu_2 A_2 + \\cdots \\nu_k A_k}_{\\mathrm{reactivos}} = \\underbrace{\\nu_{k+1} A_{k+1} + \\cdots  \\nu_r A_r}_{\\mathrm{productos}}$$\n",
    "\n",
    "que se puede reescribir como:\n",
    "\n",
    "$$\\sum \\nu_i A_i = 0$$\n",
    "\n",
    "- $\\nu_i>0$ para productos\n",
    "- $\\nu_i<0$ para reactivos.\n",
    "\n",
    "Consecuentemente la entalpía de reacción se puede expresar como:\n",
    "\n",
    "$$ \\Delta_r G = \\sum v_i G_i$$\n",
    "\n"
   ]
  },
  {
   "cell_type": "markdown",
   "metadata": {},
   "source": [
    "<details>\n",
    "<summary><b>Nomenclatura</b></summary>\n",
    "\n",
    "<div class=\"alert alert-info\">\n",
    "\n",
    "- **$\\Delta_r G$**: Energía libre de Gibbs de la reacción,  $[\\mathrm{J}]$.\n",
    "\n",
    "- **$\\bar{G}_i$**: Energía libre de Gibbs molar parcial del componente $i$,  $[\\mathrm{J.mol^{-1}}]$.\n",
    "\n",
    "- **$\\mathrm{\\nu_i}$**: coeficiente estequiométrico para la especie $i$. \n",
    "    - $\\nu_i>0$ para productos\n",
    "    - $\\nu_i<0$ para reactivos.\n",
    "</div>\n",
    "\n",
    "</details>"
   ]
  },
  {
   "cell_type": "markdown",
   "metadata": {},
   "source": [
    "- Cuando $\\Delta_r G < 0$, la reacción es espontanea.\n",
    "\n",
    "- Cuando $\\Delta_r G = 0$, el sistema está en equilibrio.\n",
    "\n",
    "- Cuando $\\Delta_r G > 0$, la reacción no se puede llevar a cabo."
   ]
  },
  {
   "cell_type": "markdown",
   "metadata": {},
   "source": [
    "## Equilibrio de una reacción"
   ]
  },
  {
   "cell_type": "markdown",
   "metadata": {},
   "source": [
    "El cambio en la energía libre de Gibbs está directamente relacionado con el equilibrio."
   ]
  },
  {
   "cell_type": "markdown",
   "metadata": {},
   "source": [
    "$$\\Delta_r G = \\Delta_r G^{\\circ} + RT \\ln (Q)$$"
   ]
  },
  {
   "cell_type": "markdown",
   "metadata": {},
   "source": [
    "**En equilibrio:**\n",
    "\n",
    "$$\\Delta_r G = 0$$\n",
    "\n",
    "$$\\Delta_r G^{\\circ} = -RT \\ln(K)$$\n",
    "\n",
    "Entonces:\n",
    "\n",
    "$$K = \\exp \\left(\\frac{-\\Delta_r G^{\\circ}}{RT} \\right)$$"
   ]
  },
  {
   "cell_type": "markdown",
   "metadata": {},
   "source": [
    "<details>\n",
    "<summary><b>Nomenclatura</b></summary>\n",
    "\n",
    "<div class=\"alert alert-info\">\n",
    "\n",
    "- **$\\Delta_r G$**: Energía libre de Gibbs de la reacción,  $[\\mathrm{J}]$.\n",
    "\n",
    "- **$\\Delta_r G^{\\circ}$**: Energía libre de Gibbs estándar de la reacción,  $[\\mathrm{J}]$.\n",
    "\n",
    "- **$R$**: Constante universal de los gases,  $8.314\\,[\\mathrm{J.mol^{-1}.K^{-1}}]$.\n",
    "\n",
    "- **$T$**: Temperatura, $[\\mathrm{K}]$.\n",
    "\n",
    "- **$K$**: Constante de equilibrio.\n",
    "\n",
    "</div>\n",
    "\n",
    "</details>"
   ]
  },
  {
   "cell_type": "markdown",
   "metadata": {},
   "source": [
    "Considerando la reacción química general:\n",
    "\n",
    "$$\\underbrace{\\nu_1 A_1 + \\nu_2 A_2 + \\cdots \\nu_k A_k}_{\\mathrm{reactivos}} = \\underbrace{\\nu_{k+1} A_{k+1} + \\cdots  \\nu_r A_r}_{\\mathrm{productos}}$$"
   ]
  },
  {
   "cell_type": "markdown",
   "metadata": {},
   "source": [
    "La constante de equilibrio $K$ está relacionada con las concentraciones de los reactivos y productos en condiciones de equilibrio:\n",
    "\n",
    "\n",
    "\n",
    "$$K = \\frac{\\overbrace{\\prod_{j=k+1}^{r} [A_{j}]^{\\nu_j}}^{\\mathrm{productos}}}{\\underbrace{\\prod_{i=1}^{k} [A_{i}]^{\\nu_i}}_{\\mathrm{reactivos}}}$$"
   ]
  },
  {
   "cell_type": "markdown",
   "metadata": {},
   "source": [
    "<details>\n",
    "<summary><b>Nomenclatura</b></summary>\n",
    "\n",
    "<div class=\"alert alert-info\">\n",
    "\n",
    "- **$K$**: Constante de equilibrio.\n",
    "\n",
    "- **$[A_i]$**: concentración, o actividad, o presión parcial de la especie $i$.\n",
    "\n",
    "- **$\\nu_i$**: coeficiente estequimétrico de la especie $i$.\n",
    "</div>\n",
    "\n",
    "</details>"
   ]
  },
  {
   "cell_type": "markdown",
   "metadata": {},
   "source": [
    "## Conversión en un sistema de reacción"
   ]
  },
  {
   "cell_type": "markdown",
   "metadata": {},
   "source": [
    "En un sistema de reacción, la conversión, $X$ indica la cantidad de reactivo que ha reaccionado, descrito generalmente como un cociente $(0\\le X \\le 1)$:\n",
    "\n",
    "$$X_i = \\frac{n_i(0) - n_i(t)}{n_i(0)}$$\n",
    "\n",
    "$$X_i = 1 - \\frac{n_i(t)}{n_i(0)}$$"
   ]
  },
  {
   "cell_type": "markdown",
   "metadata": {},
   "source": [
    "### Conversión en equilibrio:"
   ]
  },
  {
   "cell_type": "markdown",
   "metadata": {},
   "source": [
    "Cuando un sistema se encuentra en equilibrio, la reacción química no progresa. Las concentraciones de reactivos y productos corresponden a las calculadas a partir de la constatante de equilibrio.\n",
    "\n",
    "Entonces, la conversión en equilibrio corresponde a la máxima conversión posible para una reacción dada a una temperatura determinada."
   ]
  },
  {
   "cell_type": "markdown",
   "metadata": {},
   "source": [
    "Considere la reacción:\n",
    "\n",
    "$$\\mathrm{aA \\longrightarrow cC}$$\n",
    "\n",
    "$$K = \\frac{[C]^c}{[A]^a}$$"
   ]
  },
  {
   "cell_type": "markdown",
   "metadata": {},
   "source": [
    "Las concentraciones en equilibrio se pueden calcular usando la estequiometría de la reacción:"
   ]
  },
  {
   "cell_type": "markdown",
   "metadata": {},
   "source": [
    "$$\\mathrm{A \\longrightarrow \\frac{c}{a} C}$$"
   ]
  },
  {
   "cell_type": "markdown",
   "metadata": {},
   "source": [
    "- Para el reactivo $A$:\n",
    "\n",
    "$$\\underbrace{[A]}_{\\mathrm{concentración \\, de \\, A}} = \\underbrace{[A]_0}_{\\mathrm{concentración \\, inicial \\, de \\, A}} - \\underbrace{[A]_0 X_A}_{\\mathrm{concentración \\, de \\,A \\, consumida}}$$"
   ]
  },
  {
   "cell_type": "markdown",
   "metadata": {},
   "source": [
    "- Para el producto $C$:"
   ]
  },
  {
   "cell_type": "markdown",
   "metadata": {},
   "source": [
    "$$\\underbrace{[C]}_{\\mathrm{concentración \\, de \\, C}} = \\underbrace{[C]_0}_{\\mathrm{concentración \\, inicial \\, de \\, C}} + \\underbrace{\\frac{c}{a}[A]_0 X_A}_{\\mathrm{concentración \\, de \\,C \\, generada}}$$\n",
    "\n",
    "Asumiendo que la concentración inicial de $[C]_0=0$, se tiene:\n",
    "\n",
    "$$\\underbrace{[C]}_{\\mathrm{concentración \\, de \\, C}} =  \\underbrace{\\frac{c}{a}[A]_0 X_A}_{\\mathrm{concentración \\, de \\,C \\, generada}}$$"
   ]
  },
  {
   "cell_type": "markdown",
   "metadata": {},
   "source": [
    "Sustituyendo en la constante de equilibrio de la reacción se tiene:\n",
    "\n",
    "$$K = \\frac{\\left[\\frac{c}{a} [A]_0 X_A\\right]^c}{\\left[[A]_0 - [A]_0 X_A \\right]^a}$$"
   ]
  },
  {
   "cell_type": "markdown",
   "metadata": {},
   "source": [
    "Con este tipo de ecuación se puede conocer la conversión máxima, $X_A$."
   ]
  },
  {
   "cell_type": "code",
   "execution_count": null,
   "metadata": {},
   "outputs": [],
   "source": [
    "using NLsolve"
   ]
  },
  {
   "cell_type": "code",
   "execution_count": 1,
   "metadata": {},
   "outputs": [
    {
     "data": {
      "text/plain": [
       "2"
      ]
     },
     "metadata": {},
     "output_type": "display_data"
    }
   ],
   "source": [
    "K = 0.01\n",
    "c = 2\n",
    "a = 1\n",
    "A0 = 2"
   ]
  },
  {
   "cell_type": "code",
   "execution_count": null,
   "metadata": {},
   "outputs": [],
   "source": [
    "function f!()"
   ]
  }
 ],
 "metadata": {
  "kernelspec": {
   "display_name": "Julia 1.10.6",
   "language": "julia",
   "name": "julia-1.10"
  },
  "language_info": {
   "file_extension": ".jl",
   "mimetype": "application/julia",
   "name": "julia",
   "version": "1.10.6"
  }
 },
 "nbformat": 4,
 "nbformat_minor": 2
}
