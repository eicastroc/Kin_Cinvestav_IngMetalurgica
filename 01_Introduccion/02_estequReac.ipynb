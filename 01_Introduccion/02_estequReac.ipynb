{
 "cells": [
  {
   "cell_type": "code",
   "execution_count": 1,
   "metadata": {},
   "outputs": [],
   "source": [
    "import numpy as np\n",
    "import sympy as sp"
   ]
  },
  {
   "cell_type": "markdown",
   "metadata": {},
   "source": [
    "# Cinética de Procesos (Sesión 01)"
   ]
  },
  {
   "cell_type": "markdown",
   "metadata": {},
   "source": [
    "<img src=\"figures/LogoCinvestav.png\" style=\"height:100px\" title=\"Cinvestav\">"
   ]
  },
  {
   "cell_type": "markdown",
   "metadata": {},
   "source": [
    "**CINVESTAV Unidad Saltillo**\n",
    "\n",
    "**Programa de Maestría en Ciencias en Ingeniería Metalúrgica**\n",
    "\n",
    "Dr. Edgar Ivan Castro Cedeño\n",
    "\n",
    "\n",
    "2025\n",
    "\n",
    "Contacto:\n",
    "[edgar.castro@cinvestav.mx](mailto:edgar.castro@cinvestav.mx)"
   ]
  },
  {
   "cell_type": "markdown",
   "metadata": {},
   "source": [
    "# 2. Estequiometría de reacciones"
   ]
  },
  {
   "cell_type": "markdown",
   "metadata": {},
   "source": [
    "## 2.1 ¿Qué es una reacción química?"
   ]
  },
  {
   "cell_type": "markdown",
   "metadata": {},
   "source": [
    "Es una representación esquemática de la transformaciones de la materia, representada por medio de especies químicas que pueden tener el rol de reactivos (consumo) o productos (generación). "
   ]
  },
  {
   "cell_type": "markdown",
   "metadata": {},
   "source": [
    "**Reacción irreversible:**\n",
    "\n",
    "$$\n",
    "\\mathrm{\\underbrace{a\\,A + b\\,B}_{reactivos} \\longrightarrow \\underbrace{c\\,C + d\\,D}_{productos}}\n",
    "$$\n",
    "\n",
    "**Reacción reversible:**\n",
    "\n",
    "$$\n",
    "\\mathrm{\\underbrace{a\\,A + b\\,B}_{reactivos} \\rightleftarrows \\underbrace{c\\,C + d\\,D}_{productos}}\n",
    "$$"
   ]
  },
  {
   "cell_type": "markdown",
   "metadata": {},
   "source": [
    "El término especie química se usa para referirse de forma génerica a los átomos, moleculas, iones, radicales, etc., que sean de interés."
   ]
  },
  {
   "cell_type": "markdown",
   "metadata": {},
   "source": [
    "<details>\n",
    "<summary><b>Nomenclatura</b></summary>\n",
    "\n",
    "<div class=\"alert alert-info\">\n",
    "\n",
    "- **$\\mathrm{A,B,C,D}$**: especies químicas.\n",
    "\n",
    "- **$\\mathrm{a,b,c,d}$**: coeficientes estequiométricos.\n",
    "\n",
    "</div>\n",
    "\n",
    "</details>"
   ]
  },
  {
   "cell_type": "markdown",
   "metadata": {},
   "source": [
    "## 2.2 Ley de conservación de la materia"
   ]
  },
  {
   "cell_type": "markdown",
   "metadata": {},
   "source": [
    "### 2.2.1 Balance global de materia"
   ]
  },
  {
   "cell_type": "markdown",
   "metadata": {},
   "source": [
    "\n",
    "\n",
    "El balance de materia escrito debajo es válido para cualquier tipo de sistema (abierto o cerrado) bajo cualquier tipo de régimen (estacionario o transitorio).\n",
    "\n",
    "$$\n",
    "\\underbrace{\\mathbf{Acumulación}}_{\\mathbf{transitorio}} = \\underbrace{(\\mathbf{Entradas} - \\mathbf{Salidas})}_{\\mathbf{advectivo\\,y\\,difusivo}} + \\underbrace{(\\mathbf{Generación} - \\mathbf{Consumo})}_{\\mathbf{fuente}}\n",
    "$$"
   ]
  },
  {
   "cell_type": "markdown",
   "metadata": {},
   "source": [
    "### 2.2.2 Principio de conservación de la materia"
   ]
  },
  {
   "cell_type": "markdown",
   "metadata": {},
   "source": [
    "Demostrado por Antoine Lavoisier en el siglo XVIII."
   ]
  },
  {
   "cell_type": "markdown",
   "metadata": {},
   "source": [
    "<div class=\"alert alert-info\">\n",
    "\n",
    "<center>\n",
    "\n",
    "\"La materia no se crea ni se destruye, solo se transforma\".\n",
    "\n",
    "</center>\n",
    "\n",
    "\n",
    "</div>"
   ]
  },
  {
   "cell_type": "markdown",
   "metadata": {},
   "source": [
    "<div class=\"alert alert-success\">\n",
    "\n",
    "\n",
    "<center>\n",
    "\n",
    "\"[En un ***sistema cerrado***, si se toma en cuenta todos los reactivos y productos de una reacción química, la masa total del sistema sera la misma en cualquier momento](https://www.nature.com/scitable/knowledge/library/the-conservation-of-mass-17395478/)\".\n",
    "\n",
    "</center>\n",
    "\n",
    "</div>"
   ]
  },
  {
   "cell_type": "markdown",
   "metadata": {},
   "source": [
    "En un sistema cerrado, el balance global de materia se puede modificar para reflejar el principio de conservación de la materia.\n",
    "\n",
    "$$\n",
    "\\cancel{\\underbrace{\\mathbf{Acumulación}}_{\\mathbf{transitorio}}} = \\cancel{\\underbrace{(\\mathbf{Entradas} - \\mathbf{Salidas})}_{\\mathbf{advectivo\\,y\\,difusivo}}} + \\underbrace{(\\mathbf{Generación} - \\mathbf{Consumo})}_{\\mathbf{fuente}}\n",
    "$$\n",
    "\n",
    "El consumo de reactivos y la generación de productos están balanceados de tal forma que no hay cambios transitorios en la masa del sistema cerrado (Acumulación cero, no hay ni entradas ni salidas):\n",
    "\n",
    "$$(\\mathbf{Generación} - \\mathbf{Consumo}) = 0$$"
   ]
  },
  {
   "cell_type": "markdown",
   "metadata": {},
   "source": [
    "## 2.3 ¿Qué es estequiometría?"
   ]
  },
  {
   "cell_type": "markdown",
   "metadata": {},
   "source": [
    "Es la cuantificación de las cantidades de reactivos y productos comprendidos en una reacción química."
   ]
  },
  {
   "cell_type": "markdown",
   "metadata": {},
   "source": [
    "**De forma general una reacción química se puede escribir como:**"
   ]
  },
  {
   "cell_type": "markdown",
   "metadata": {},
   "source": [
    "$$\n",
    "\\nu_1 A_1 + \\nu_2 A_2 + \\cdots + \\nu_{k} A_k = \\nu_{k+1} A_{k+1} + \\cdots + \\nu_{r} A_r\n",
    "$$\n",
    "\n",
    "$$\n",
    "\\sum_{i=1}^{r} \\nu_i A_i = 0\n",
    "$$"
   ]
  },
  {
   "cell_type": "markdown",
   "metadata": {},
   "source": [
    "### 2.3.1 Pasos generales para resolver problemas de estequiometría"
   ]
  },
  {
   "cell_type": "markdown",
   "metadata": {},
   "source": [
    "1. Escribir la reacción química.\n",
    "\n",
    "2. Balancear la reacción.\n",
    "\n",
    "3. Calcular las masas molares de la especies de interés.\n",
    "\n",
    "4. Convertir todas las cantidades a moles.\n",
    "\n",
    "5. Identificar el reactivo limitante, y hacer los cálculos necesarios en base a la cantidad del mismo.\n",
    "\n",
    "6. Si se tiene la conversión $X$, hacer los cálculos considerando el reactivo limitante y la conversión."
   ]
  },
  {
   "cell_type": "markdown",
   "metadata": {},
   "source": [
    "## 2.4 Procedimiento para balancear reacciones"
   ]
  },
  {
   "cell_type": "markdown",
   "metadata": {},
   "source": [
    "El proceso de balanceo de una reacción química consiste en aplicar los principios de la ley de conservación de la materia, encontrando los coeficientes estequiométricos que permitan que el número de átomos de cada elemento en los reactivos sea igual al número de átomos de cada elemento en los productos.\n",
    "\n",
    "Existen distintos métodos para encontrar los coeficientes estequiométricos, tales como el método de prueba y error, el método redox y el método algebraico. Este último es el que se presenta debajo por medio de ejemplos."
   ]
  },
  {
   "cell_type": "markdown",
   "metadata": {},
   "source": [
    "### 2.4.1 Ejemplo: Tostación de $\\mathrm{FeS}$"
   ]
  },
  {
   "cell_type": "markdown",
   "metadata": {},
   "source": [
    "$$\n",
    "\\mathrm{FeS + O_2 = Fe_2O_3 + SO_2}\n",
    "$$"
   ]
  },
  {
   "cell_type": "markdown",
   "metadata": {},
   "source": [
    "**1. Definir sistema de ecuaciones para el balance:**"
   ]
  },
  {
   "cell_type": "markdown",
   "metadata": {},
   "source": [
    "$$\n",
    "\\mathrm{\\nu_1 FeS + \\nu_2 O_2 = \\nu_3 Fe_2O_3 + \\nu_4 SO_2}\n",
    "$$\n"
   ]
  },
  {
   "cell_type": "markdown",
   "metadata": {},
   "source": [
    "- Escribir el balance estequiométrico para cada elemento:"
   ]
  },
  {
   "cell_type": "markdown",
   "metadata": {},
   "source": [
    "<center>\n",
    "\n",
    "| Especie | Balance estequiométrico |\n",
    "|--------|----------|\n",
    "| $\\mathrm{Fe}$ | $\\nu_1 - 2\\nu_3 = 0$ |\n",
    "| $\\mathrm{S}$  | $\\nu_1 - \\nu_4 = 0$ |\n",
    "| $\\mathrm{O}$  | $2\\nu_2 -3\\nu_3 - 2 \\nu_4 = 0$ |\n",
    "\n",
    "</center>"
   ]
  },
  {
   "cell_type": "markdown",
   "metadata": {},
   "source": [
    "- Escribir la ecuación del balance de forma vectorial:\n",
    "\n",
    "$$\n",
    "\\nu_1\\begin{bmatrix} 1 \\\\ 1 \\\\ 0\\end{bmatrix}\n",
    "+\\nu_2\\begin{bmatrix} 0 \\\\ 0 \\\\ 2 \\end{bmatrix}\n",
    "+\\nu_3\\begin{bmatrix} -2 \\\\ 0 \\\\ -3 \\end{bmatrix}\n",
    "+\\nu_4\\begin{bmatrix} 0 \\\\ -1 \\\\ -2 \\end{bmatrix}\n",
    "=\\begin{bmatrix} 0 \\\\ 0 \\\\ 0 \\end{bmatrix}\n",
    "$$"
   ]
  },
  {
   "cell_type": "markdown",
   "metadata": {},
   "source": [
    "- Reescribir el balance en forma de matriz aumentada:\n",
    "\n",
    "$$\n",
    "\\left[\n",
    "\\begin{array}{cccc|c}\n",
    "1 & 0 & -2 & 0 & 0\\\\\n",
    "1 & 0 & 0 & -1 & 0\\\\\n",
    "0 & 2 & -3 & -2 & 0\n",
    "\\end{array}\n",
    "\\right]\n",
    "$$"
   ]
  },
  {
   "cell_type": "code",
   "execution_count": 2,
   "metadata": {},
   "outputs": [
    {
     "data": {
      "text/latex": [
       "$\\displaystyle \\left[\\begin{matrix}1 & 0 & -2 & 0\\\\1 & 0 & 0 & -1\\\\0 & 2 & -3 & -2\\end{matrix}\\right]$"
      ],
      "text/plain": [
       "Matrix([\n",
       "[1, 0, -2,  0],\n",
       "[1, 0,  0, -1],\n",
       "[0, 2, -3, -2]])"
      ]
     },
     "execution_count": 2,
     "metadata": {},
     "output_type": "execute_result"
    }
   ],
   "source": [
    "# escritura de la matriz en forma escalonada\n",
    "A = np.matrix([[1, 0, -2,  0],\n",
    "               [1, 0,  0, -1],\n",
    "               [0, 2,  -3, -2]])\n",
    "A = sp.Matrix(A)\n",
    "A"
   ]
  },
  {
   "cell_type": "markdown",
   "metadata": {},
   "source": [
    "**2. Resolver el sistema de ecuaciones lineales:**"
   ]
  },
  {
   "cell_type": "markdown",
   "metadata": {},
   "source": [
    "- Obtener la forma escalonada reducida de la matriz:\n",
    "\n",
    "$$\n",
    "\\left[\n",
    "\\begin{array}{cccc|c}\n",
    "1 & 0 & 0 & -1 & 0\\\\\n",
    "0 & 1 & 0 & -\\frac{7}{4} & 0\\\\\n",
    "0 & 0 & 1 & -\\frac{1}{2} & 0\n",
    "\\end{array}\n",
    "\\right]\n",
    "$$"
   ]
  },
  {
   "cell_type": "code",
   "execution_count": 3,
   "metadata": {},
   "outputs": [
    {
     "name": "stdout",
     "output_type": "stream",
     "text": [
      "(Matrix([\n",
      "[1, 0, 0,   -1],\n",
      "[0, 1, 0, -7/4],\n",
      "[0, 0, 1, -1/2]]), (0, 1, 2))\n"
     ]
    }
   ],
   "source": [
    "# obtener forma escalonada reducida\n",
    "Arref = A.rref()\n",
    "print(Arref)"
   ]
  },
  {
   "cell_type": "markdown",
   "metadata": {},
   "source": [
    "- Reescribir el resultado bajo forma de un sistema de ecuaciones, para tener los coeficientes estequimétricos $\\nu_1, \\cdots, \\nu_{r-1}$ como funciones de $\\nu_r$\n",
    "\n",
    "$$\n",
    "\\nu_1 = \\nu_4\n",
    "$$\n",
    "\n",
    "$$\n",
    "\\nu_2 =  \\frac{7}{4} \\nu_4\n",
    "$$\n",
    "\n",
    "$$\n",
    "\\nu_3 = \\frac{1}{2} \\nu_4\n",
    "$$"
   ]
  },
  {
   "cell_type": "markdown",
   "metadata": {},
   "source": [
    "- Considerar el caso para un valor de $\\nu_r$ que sea conveniente:"
   ]
  },
  {
   "cell_type": "markdown",
   "metadata": {},
   "source": [
    "Si:\n",
    "\n",
    "$$\\nu_r = 4$$\n",
    "\n",
    "Entonces:\n",
    "\n",
    "$$\\nu_1 = 4$$\n",
    "\n",
    "$$\\nu_2 = 7$$\n",
    "\n",
    "$$\\nu_3 = 2$$\n",
    "\n",
    "$$\\nu_4 = 4$$\n"
   ]
  },
  {
   "cell_type": "markdown",
   "metadata": {},
   "source": [
    "**3. Escribir la ecuación balanceada:**\n",
    "\n",
    "$$\n",
    "\\mathrm{4 FeS + 7 O_2 = 2 Fe_2O_3 + 4 SO_2}\n",
    "$$\n",
    "\n",
    "---\n"
   ]
  },
  {
   "cell_type": "markdown",
   "metadata": {},
   "source": [
    "### 2.4.2 Ejemplo: Reducción de $\\mathrm{SnO_2}$"
   ]
  },
  {
   "cell_type": "markdown",
   "metadata": {},
   "source": [
    "$$\n",
    "\\mathrm{SnO_2 + H_2 = Sn + H_2O}\n",
    "$$"
   ]
  },
  {
   "cell_type": "markdown",
   "metadata": {},
   "source": [
    "**1. Definir sistema de ecuaciones para el balance:**"
   ]
  },
  {
   "cell_type": "markdown",
   "metadata": {},
   "source": [
    "$$\n",
    "\\mathrm{\\nu_1 SnO_2 + \\nu_2 H_2 = \\nu_3 Sn + \\nu_4 H_2O}\n",
    "$$\n"
   ]
  },
  {
   "cell_type": "markdown",
   "metadata": {},
   "source": [
    "- Escribir el balance estequiométrico para cada elemento:"
   ]
  },
  {
   "cell_type": "markdown",
   "metadata": {},
   "source": [
    "<center>\n",
    "\n",
    "| Especie | Balance estequiométrico |\n",
    "|--------|----------|\n",
    "| $\\mathrm{Sn}$ | $\\nu_1 - \\nu_3 = 0$ |\n",
    "| $\\mathrm{O}$  | $2 \\nu_1 - \\nu_4 = 0$ |\n",
    "| $\\mathrm{H}$  | $2 \\nu_2 - 2 \\nu_4 = 0$ |\n",
    "\n",
    "</center>"
   ]
  },
  {
   "cell_type": "markdown",
   "metadata": {},
   "source": [
    "- Escribir la ecuación del balance de forma vectorial:\n",
    "\n",
    "$$\n",
    "\\nu_1\\begin{bmatrix} 1 \\\\ 2 \\\\ 0\\end{bmatrix}\n",
    "+\\nu_2\\begin{bmatrix} 0 \\\\ 0 \\\\ 2 \\end{bmatrix}\n",
    "+\\nu_3\\begin{bmatrix} -1 \\\\ 0 \\\\ 0 \\end{bmatrix}\n",
    "+\\nu_4\\begin{bmatrix} 0 \\\\ -1 \\\\ -2 \\end{bmatrix}\n",
    "=\\begin{bmatrix} 0 \\\\ 0 \\\\ 0 \\end{bmatrix}\n",
    "$$"
   ]
  },
  {
   "cell_type": "markdown",
   "metadata": {},
   "source": [
    "- Reescribir el balance en forma de matriz aumentada:\n",
    "\n",
    "$$\n",
    "\\left[\n",
    "\\begin{array}{cccc|c}\n",
    "1 & 0 & -1 & 0 & 0\\\\\n",
    "2 & 0 & 0 & -1 & 0\\\\\n",
    "0 & 2 & 0 & -2 & 0\n",
    "\\end{array}\n",
    "\\right]\n",
    "$$"
   ]
  },
  {
   "cell_type": "code",
   "execution_count": 4,
   "metadata": {},
   "outputs": [
    {
     "data": {
      "text/latex": [
       "$\\displaystyle \\left[\\begin{matrix}1 & 0 & -1 & 0\\\\2 & 0 & 0 & -1\\\\0 & 2 & 0 & -2\\end{matrix}\\right]$"
      ],
      "text/plain": [
       "Matrix([\n",
       "[1, 0, -1,  0],\n",
       "[2, 0,  0, -1],\n",
       "[0, 2,  0, -2]])"
      ]
     },
     "execution_count": 4,
     "metadata": {},
     "output_type": "execute_result"
    }
   ],
   "source": [
    "# escritura de la matriz en forma escalonada\n",
    "A = np.matrix([[1, 0, -1,  0],\n",
    "               [2, 0,  0, -1],\n",
    "               [0, 2,  0, -2]])\n",
    "A = sp.Matrix(A)\n",
    "A"
   ]
  },
  {
   "cell_type": "markdown",
   "metadata": {},
   "source": [
    "**2. Resolver el sistema de ecuaciones lineales:**"
   ]
  },
  {
   "cell_type": "markdown",
   "metadata": {},
   "source": [
    "- Obtener la forma escalonada reducida de la matriz:\n",
    "\n",
    "$$\n",
    "\\left[\n",
    "\\begin{array}{cccc|c}\n",
    "1 & 0 & 0 & -\\frac{1}{2} & 0\\\\\n",
    "0 & 1 & 0 & -1 & 0\\\\\n",
    "0 & 0 & 1 & -\\frac{1}{2} & 0\n",
    "\\end{array}\n",
    "\\right]\n",
    "$$"
   ]
  },
  {
   "cell_type": "code",
   "execution_count": 5,
   "metadata": {},
   "outputs": [
    {
     "name": "stdout",
     "output_type": "stream",
     "text": [
      "(Matrix([\n",
      "[1, 0, 0, -1/2],\n",
      "[0, 1, 0,   -1],\n",
      "[0, 0, 1, -1/2]]), (0, 1, 2))\n"
     ]
    }
   ],
   "source": [
    "# obtener forma escalonada reducida\n",
    "Arref = A.rref()\n",
    "print(Arref)"
   ]
  },
  {
   "cell_type": "markdown",
   "metadata": {},
   "source": [
    "- Reescribir el resultado bajo forma de un sistema de ecuaciones, para tener los coeficientes estequimétricos $\\nu_1 \\cdot \\nu_{r-1}$ como funciones de $\\nu_r$\n",
    "\n",
    "$$\n",
    "\\nu_1 = \\frac{1}{2} \\nu_4\n",
    "$$\n",
    "\n",
    "$$\n",
    "\\nu_2 =  \\nu_4\n",
    "$$\n",
    "\n",
    "$$\n",
    "\\nu_3 = \\frac{1}{2} \\nu_4\n",
    "$$"
   ]
  },
  {
   "cell_type": "markdown",
   "metadata": {},
   "source": [
    "- Considerar el caso para un valor de $\\nu_r$ que sea conveniente:"
   ]
  },
  {
   "cell_type": "markdown",
   "metadata": {},
   "source": [
    "Si:\n",
    "\n",
    "$$\\nu_r = \\nu_4 = 2$$\n",
    "\n",
    "Entonces:\n",
    "\n",
    "$$\\nu_1 = 1$$\n",
    "\n",
    "$$\\nu_2 = 2$$\n",
    "\n",
    "$$\\nu_3 = 1$$\n",
    "\n",
    "$$\\nu_4 = 2$$\n"
   ]
  },
  {
   "cell_type": "markdown",
   "metadata": {},
   "source": [
    "**3. Escribir la ecuación balanceada:**\n",
    "\n",
    "$$\n",
    "\\mathrm{SnO_2 + 2 H_2 = Sn + 2 H_2O}\n",
    "$$\n",
    "\n",
    "---"
   ]
  },
  {
   "cell_type": "markdown",
   "metadata": {},
   "source": [
    "### 2.4.3 Ejemplo: Reducción parcial de $\\mathrm{Fe_2O_3}$"
   ]
  },
  {
   "cell_type": "markdown",
   "metadata": {},
   "source": [
    "$$\n",
    "\\mathrm{Fe_2O_3 + CO = Fe_3O_4 + CO_2}\n",
    "$$"
   ]
  },
  {
   "cell_type": "markdown",
   "metadata": {},
   "source": [
    "**1. Definir sistema de ecuaciones para el balance:**"
   ]
  },
  {
   "cell_type": "markdown",
   "metadata": {},
   "source": [
    "$$\n",
    "\\mathrm{\\nu_1 Fe_2O_3 + \\nu_2 CO = \\nu_3 Fe_3O_4 + \\nu_4 CO_2}\n",
    "$$\n"
   ]
  },
  {
   "cell_type": "markdown",
   "metadata": {},
   "source": [
    "- Escribir el balance estequiométrico para cada elemento:"
   ]
  },
  {
   "cell_type": "markdown",
   "metadata": {},
   "source": [
    "<center>\n",
    "\n",
    "| Especie | Balance estequiométrico |\n",
    "|--------|----------|\n",
    "| $\\mathrm{Fe}$ | $2\\nu_1 - 3\\nu_3 = 0$ |\n",
    "| $\\mathrm{O}$  | $3\\nu_1 +\\nu_2 - 4\\nu_3 - 2\\nu_4 = 0$ |\n",
    "| $\\mathrm{C}$  | $\\nu_2 - \\nu_4 = 0$ |\n",
    "\n",
    "</center>"
   ]
  },
  {
   "cell_type": "markdown",
   "metadata": {},
   "source": [
    "- Escribir la ecuación del balance de forma vectorial:\n",
    "\n",
    "$$\n",
    "\\nu_1\\begin{bmatrix} 2 \\\\ 3 \\\\ 0\\end{bmatrix}\n",
    "+\\nu_2\\begin{bmatrix} 0 \\\\ 1 \\\\ 1 \\end{bmatrix}\n",
    "+\\nu_3\\begin{bmatrix} -3 \\\\ -4 \\\\ 0 \\end{bmatrix}\n",
    "+\\nu_4\\begin{bmatrix} 0 \\\\ -2 \\\\ -1 \\end{bmatrix}\n",
    "=\\begin{bmatrix} 0 \\\\ 0 \\\\ 0 \\end{bmatrix}\n",
    "$$"
   ]
  },
  {
   "cell_type": "markdown",
   "metadata": {},
   "source": [
    "- Reescribir el balance en forma de matriz aumentada:\n",
    "\n",
    "$$\n",
    "\\left[\n",
    "\\begin{array}{cccc|c}\n",
    "2 & 0 & -3 & 0 & 0\\\\\n",
    "3 & 1 & -4 & -2 & 0\\\\\n",
    "0 & 1 & 0 & -1 & 0\n",
    "\\end{array}\n",
    "\\right]\n",
    "$$"
   ]
  },
  {
   "cell_type": "code",
   "execution_count": 6,
   "metadata": {},
   "outputs": [
    {
     "data": {
      "text/latex": [
       "$\\displaystyle \\left[\\begin{matrix}2 & 0 & -3 & 0\\\\3 & 1 & -4 & -2\\\\0 & 1 & 0 & -1\\end{matrix}\\right]$"
      ],
      "text/plain": [
       "Matrix([\n",
       "[2, 0, -3,  0],\n",
       "[3, 1, -4, -2],\n",
       "[0, 1,  0, -1]])"
      ]
     },
     "execution_count": 6,
     "metadata": {},
     "output_type": "execute_result"
    }
   ],
   "source": [
    "# escritura de la matriz en forma escalonada\n",
    "A = np.matrix([[2, 0, -3,  0],\n",
    "               [3, 1,  -4, -2],\n",
    "               [0, 1,  0, -1]])\n",
    "A = sp.Matrix(A)\n",
    "A"
   ]
  },
  {
   "cell_type": "markdown",
   "metadata": {},
   "source": [
    "**2. Resolver el sistema de ecuaciones lineales:**"
   ]
  },
  {
   "cell_type": "markdown",
   "metadata": {},
   "source": [
    "- Obtener la forma escalonada reducida de la matriz:\n",
    "\n",
    "$$\n",
    "\\left[\n",
    "\\begin{array}{cccc|c}\n",
    "1 & 0 & 0 & -3 & 0\\\\\n",
    "0 & 1 & 0 & -1 & 0\\\\\n",
    "0 & 0 & 1 & -2 & 0\n",
    "\\end{array}\n",
    "\\right]\n",
    "$$"
   ]
  },
  {
   "cell_type": "code",
   "execution_count": 7,
   "metadata": {},
   "outputs": [
    {
     "data": {
      "text/plain": [
       "(Matrix([\n",
       " [1, 0, 0, -3],\n",
       " [0, 1, 0, -1],\n",
       " [0, 0, 1, -2]]),\n",
       " (0, 1, 2))"
      ]
     },
     "execution_count": 7,
     "metadata": {},
     "output_type": "execute_result"
    }
   ],
   "source": [
    "Arref = A.rref()\n",
    "Arref"
   ]
  },
  {
   "cell_type": "markdown",
   "metadata": {},
   "source": [
    "- Reescribir el resultado bajo forma de un sistema de ecuaciones, para tener los coeficientes estequimétricos $\\nu_1 \\cdot \\nu_{r-1}$ como funciones de $\\nu_r$\n",
    "\n",
    "$$\n",
    "\\nu_1 = 3 \\nu_4\n",
    "$$\n",
    "\n",
    "$$\n",
    "\\nu_2 =  \\nu_4\n",
    "$$\n",
    "\n",
    "$$\n",
    "\\nu_3 = 2 \\nu_4\n",
    "$$"
   ]
  },
  {
   "cell_type": "markdown",
   "metadata": {},
   "source": [
    "- Considerar el caso para un valor de $\\nu_r$ que sea conveniente:"
   ]
  },
  {
   "cell_type": "markdown",
   "metadata": {},
   "source": [
    "Si:\n",
    "\n",
    "$$\\nu_r = \\nu_4 = 1$$\n",
    "\n",
    "Entonces:\n",
    "\n",
    "$$\\nu_1 = 3$$\n",
    "\n",
    "$$\\nu_2 = 1$$\n",
    "\n",
    "$$\\nu_3 = 2$$\n",
    "\n",
    "$$\\nu_4 = 1$$\n"
   ]
  },
  {
   "cell_type": "markdown",
   "metadata": {},
   "source": [
    "**3. Escribir la ecuación balanceada:**\n",
    "\n",
    "$$\n",
    "\\mathrm{3 Fe_2O_3 +  CO = 2 Fe_3O_4 + 1 CO_2}\n",
    "$$\n",
    "\n",
    "---"
   ]
  },
  {
   "cell_type": "markdown",
   "metadata": {},
   "source": []
  }
 ],
 "metadata": {
  "kernelspec": {
   "display_name": "Python 3",
   "language": "python",
   "name": "python3"
  },
  "language_info": {
   "codemirror_mode": {
    "name": "ipython",
    "version": 3
   },
   "file_extension": ".py",
   "mimetype": "text/x-python",
   "name": "python",
   "nbconvert_exporter": "python",
   "pygments_lexer": "ipython3",
   "version": "3.10.12"
  }
 },
 "nbformat": 4,
 "nbformat_minor": 2
}
