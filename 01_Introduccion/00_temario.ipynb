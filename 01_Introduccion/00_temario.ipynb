{
 "cells": [
  {
   "cell_type": "markdown",
   "metadata": {},
   "source": [
    "# Cinética de Procesos (Sesión 01)"
   ]
  },
  {
   "cell_type": "markdown",
   "metadata": {},
   "source": [
    "<img src=\"figures/LogoCinvestav.png\" style=\"height:100px\" title=\"Cinvestav\">"
   ]
  },
  {
   "cell_type": "markdown",
   "metadata": {},
   "source": [
    "**CINVESTAV Unidad Saltillo**\n",
    "\n",
    "**Programa de Maestría en Ciencias en Ingeniería Metalúrgica**\n",
    "\n",
    "Dr. Edgar Ivan Castro Cedeño\n",
    "\n",
    "\n",
    "2025\n",
    "\n",
    "Contacto:\n",
    "[edgar.castro@cinvestav.mx](mailto:edgar.castro@cinvestav.mx)"
   ]
  },
  {
   "cell_type": "markdown",
   "metadata": {},
   "source": [
    "# Contenido de la sesión"
   ]
  },
  {
   "cell_type": "markdown",
   "metadata": {},
   "source": [
    "**Introducción**\n",
    "\n",
    "\n",
    "- ¿Qué es cinética?\n",
    "\n",
    "- ¿Qué es un proceso?\n",
    "\n",
    "- ¿Qué es cinética de procesos?\n",
    "\n",
    "- ¿En qué ayuda aprender cinética?"
   ]
  },
  {
   "cell_type": "markdown",
   "metadata": {},
   "source": [
    "**Estequiometría de reacciones**\n",
    "\n",
    "- ¿Qué es una reacción química?\n",
    "\n",
    "- Ley de conservación de la materia.\n",
    "\n",
    "- ¿Qué es estequiometría?\n",
    "\n",
    "- Procedimiento para balancear reacciones."
   ]
  },
  {
   "cell_type": "markdown",
   "metadata": {},
   "source": [
    "**Termodinámica y entalpía de reacción**\n",
    "\n",
    "- Primera ley de la termodinámica.\n",
    "\n",
    "- Entalpía.\n",
    "\n",
    "- Capacidad calorífica.\n",
    "\n",
    "- Entalpía de reacción.\n",
    "\n",
    "- Relación entre entalpía y temperatura."
   ]
  },
  {
   "cell_type": "markdown",
   "metadata": {},
   "source": [
    "**Equilibrio químico**"
   ]
  },
  {
   "cell_type": "markdown",
   "metadata": {},
   "source": []
  }
 ],
 "metadata": {
  "language_info": {
   "name": "python"
  }
 },
 "nbformat": 4,
 "nbformat_minor": 2
}
