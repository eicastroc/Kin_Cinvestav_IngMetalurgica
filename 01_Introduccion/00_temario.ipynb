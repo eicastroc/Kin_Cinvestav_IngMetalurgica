{
 "cells": [
  {
   "cell_type": "markdown",
   "metadata": {},
   "source": [
    "# Cinética de Procesos (Sesión 01)"
   ]
  },
  {
   "cell_type": "markdown",
   "metadata": {},
   "source": [
    "<img src=\"figures/LogoCinvestav.png\" style=\"height:100px\" title=\"Cinvestav\">"
   ]
  },
  {
   "cell_type": "markdown",
   "metadata": {},
   "source": [
    "**CINVESTAV Unidad Saltillo**\n",
    "\n",
    "**Programa de Maestría en Ciencias en Ingeniería Metalúrgica**\n",
    "\n",
    "Dr. Edgar Ivan Castro Cedeño\n",
    "\n",
    "\n",
    "2025\n",
    "\n",
    "Contacto:\n",
    "[edgar.castro@cinvestav.mx](mailto:edgar.castro@cinvestav.mx)"
   ]
  },
  {
   "cell_type": "markdown",
   "metadata": {},
   "source": [
    "# Contenido de la sesión"
   ]
  },
  {
   "cell_type": "markdown",
   "metadata": {},
   "source": [
    "**1. Introducción**\n",
    "\n",
    "\n",
    "- **1.1** ¿Qué es cinética?\n",
    "\n",
    "- **1.2** ¿Qué es un proceso?\n",
    "\n",
    "- **1.3** ¿Qué es cinética de procesos?\n",
    "\n",
    "- **1.4** ¿En qué ayuda aprender cinética?"
   ]
  },
  {
   "cell_type": "markdown",
   "metadata": {},
   "source": [
    "**2. Estequiometría de reacciones**\n",
    "\n",
    "- **2.1** ¿Qué es una reacción química?\n",
    "\n",
    "- **2.2** Ley de conservación de la materia.\n",
    "\n",
    "- **2.3** ¿Qué es estequiometría?\n",
    "\n",
    "- **2.4** Procedimiento para balancear reacciones."
   ]
  },
  {
   "cell_type": "markdown",
   "metadata": {},
   "source": [
    "**3. Termodinámica y entalpía de reacción**\n",
    "\n",
    "- **3.1** Primera ley de la termodinámica.\n",
    "\n",
    "- **3.2**Entalpía.\n",
    "\n",
    "- **3.3** Capacidad calorífica.\n",
    "\n",
    "- **3.4** Entalpía de reacción.\n",
    "\n",
    "- **3.5** Relación entre entalpía y temperatura."
   ]
  },
  {
   "cell_type": "markdown",
   "metadata": {},
   "source": [
    "**4. Equilibrio químico**\n",
    "\n",
    "- **4.1** Energía libre de Gibbs.\n",
    "\n",
    "- **4.2** Espontaneidad de reacciones.\n",
    "\n",
    "- **4.3** Equilibrio de una reacción.\n"
   ]
  },
  {
   "cell_type": "markdown",
   "metadata": {},
   "source": []
  }
 ],
 "metadata": {
  "language_info": {
   "name": "python"
  }
 },
 "nbformat": 4,
 "nbformat_minor": 2
}
