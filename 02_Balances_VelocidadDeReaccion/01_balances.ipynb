{
 "cells": [
  {
   "cell_type": "markdown",
   "metadata": {},
   "source": [
    "# Cinética de Procesos (Sesión 02)"
   ]
  },
  {
   "cell_type": "markdown",
   "metadata": {},
   "source": [
    "<img src=\"figures/LogoCinvestav.png\" style=\"height:100px\" title=\"Cinvestav\">"
   ]
  },
  {
   "cell_type": "markdown",
   "metadata": {},
   "source": [
    "**CINVESTAV Unidad Saltillo**\n",
    "\n",
    "**Programa de Maestría en Ciencias en Ingeniería Metalúrgica**\n",
    "\n",
    "Dr. Edgar Ivan Castro Cedeño\n",
    "\n",
    "\n",
    "2025\n",
    "\n",
    "Contacto:\n",
    "[edgar.castro@cinvestav.mx](mailto:edgar.castro@cinvestav.mx)"
   ]
  },
  {
   "cell_type": "markdown",
   "metadata": {},
   "source": [
    "# 1. Ecuación general de balance de moles"
   ]
  },
  {
   "cell_type": "markdown",
   "metadata": {},
   "source": [
    "## 1.1 Balance global de materia"
   ]
  },
  {
   "cell_type": "markdown",
   "metadata": {},
   "source": [
    "El balance de materia escrito debajo es válido para cualquier tipo de sistema (abierto o cerrado) bajo cualquier tipo de régimen (estacionario o transitorio).\n",
    "\n",
    "$$\n",
    "\\underbrace{\\mathbf{Acumulación}}_{\\mathbf{transitorio}} = \\underbrace{(\\mathbf{Entradas} - \\mathbf{Salidas})}_{\\mathbf{advectivo\\,y\\,difusivo}} + \\underbrace{(\\mathbf{Generación} - \\mathbf{Consumo})}_{\\mathbf{fuente}}\n",
    "$$"
   ]
  },
  {
   "cell_type": "markdown",
   "metadata": {},
   "source": [
    "## 1.2 Balance de moles en un sistema químico"
   ]
  },
  {
   "cell_type": "markdown",
   "metadata": {},
   "source": [
    "### 1.2.1 Ecuación de balance de moles en un sistema"
   ]
  },
  {
   "cell_type": "markdown",
   "metadata": {},
   "source": [
    "$$\\underbrace{\\frac{dN_j}{dt}}_{\\mathrm{Acumulación}} = \\underbrace{F_{j_0}}_{\\mathrm{Entradas}} - \\underbrace{F_{j}}_{\\mathrm{Salidas}} + \\underbrace{G_j}_{\\mathrm{Generación/Consumo}}$$"
   ]
  },
  {
   "cell_type": "markdown",
   "metadata": {},
   "source": [
    "En el balance de moles, $N_j$ representa el número de moles de una especie $j$ en el sistema en un tiempo $t$."
   ]
  },
  {
   "cell_type": "markdown",
   "metadata": {},
   "source": [
    "<details>\n",
    "<summary><b>Nomenclatura</b></summary>\n",
    "\n",
    "<div class=\"alert alert-info\">\n",
    "\n",
    "- **$\\frac{dN_j}{dt}$**: Tasa  de acumulación de la especie $j$ en el sistema, $[\\mathrm{mol.s^{-1}}]$.\n",
    "\n",
    "- **$F_{j_0}$**: Tasa  de flujo de entrada de la especie $j$ hacia el sistema, $[\\mathrm{mol.s^{-1}}]$.\n",
    "\n",
    "- **$F_{j_0}$**: Tasa  de flujo de salida de la especie $j$ desde el sistema, $[\\mathrm{mol.s^{-1}}]$.\n",
    "\n",
    "- **$G_j$**: Tasa de generación/consumo de la especie $j$ por reacción química en el sistema, $[\\mathrm{mol.s^{-1}}]$.\n",
    "\n",
    "</div>\n",
    "\n",
    "</details>"
   ]
  },
  {
   "cell_type": "markdown",
   "metadata": {},
   "source": [
    "### 1.2.2 Tratamiento del término de generación/consumo"
   ]
  },
  {
   "cell_type": "markdown",
   "metadata": {},
   "source": [
    "#### 1.2.2.1 Sistema homogéneo"
   ]
  },
  {
   "cell_type": "markdown",
   "metadata": {},
   "source": [
    "Si se considera que todas las variables del sistema (e.g., temperatura, concentración de especies químicas, etc.) están uniformemente distribuidas en todo el volumen del sistema.\n",
    "\n",
    "Entonces la tasa de generación/consumo de la especie $j$, $Gj$, es el producto del volumen de reacción $V$ y la tasa de reacción de la especie $j$, $r_j$."
   ]
  },
  {
   "cell_type": "markdown",
   "metadata": {},
   "source": [
    "$$G_j = r_j \\cdot V"
   ]
  },
  {
   "cell_type": "markdown",
   "metadata": {},
   "source": [
    "<details>\n",
    "<summary><b>Nomenclatura</b></summary>\n",
    "\n",
    "<div class=\"alert alert-info\">\n",
    "\n",
    "- **$G_j$**: Tasa de generación/consumo de la especie $j$ por reacción química en el sistema, $[\\mathrm{mol.s^{-1}}]$.\n",
    "\n",
    "- **$r_{j}$**: Tasa  de reacción de la especie $j$ por unidad de volumen en el sistema, $[\\mathrm{mol.m^{-3}.s^{-1}}]$.\n",
    "\n",
    "- **$V$**: Volumen de reacción del sistema, $[\\mathrm{m^{3}}]$.\n",
    "\n",
    "\n",
    "</div>\n",
    "\n",
    "</details>"
   ]
  },
  {
   "cell_type": "markdown",
   "metadata": {},
   "source": [
    "#### 1.2.2.2 Sistema heterogéneo"
   ]
  },
  {
   "cell_type": "markdown",
   "metadata": {},
   "source": [
    "Ahora considere que las variables del sistema (e.g. temperatura, concentración de especies químicas, etc) pueden variar con la posición en el volumen del sistema. Entonces la tasa de reacción de la especie $j$, $r_j$, también puede variar con la posición en el volumen del sistema.\n",
    "\n",
    "En este caso, el volumen total del sistema se puede dividir en $M$ sub-volumenes, y la tasa total de generación/consumo de la especie $j$ en el sistema se puede escribir como una suma discreta:\n",
    "\n",
    "\n",
    "$$G_j = \\sum_{i=1}^{M} r_{ji} \\cdot \\Delta V_i$$"
   ]
  },
  {
   "cell_type": "markdown",
   "metadata": {},
   "source": [
    "<details>\n",
    "<summary><b>Nomenclatura</b></summary>\n",
    "\n",
    "<div class=\"alert alert-info\">\n",
    "\n",
    "- **$G_j$**: Tasa de generación/consumo de la especie $j$ por reacción química en el sistema, $[\\mathrm{mol.s^{-1}}]$.\n",
    "\n",
    "- **$r_{ji}$**: Tasa  de reacción de la especie $j$ por unidad de volumen en la región $i$ del sistema, $[\\mathrm{mol.s^{-1}.m^{-3}}]$.\n",
    "\n",
    "- **$\\Delta V_i$**: Sub-volumen de reacción en la región $i$ del sistema, con propiedades homogéneas, $[\\mathrm{m^{3}}]$.\n",
    "\n",
    "\n",
    "</div>\n",
    "\n",
    "</details>"
   ]
  },
  {
   "cell_type": "markdown",
   "metadata": {},
   "source": [
    "Considerando límites apropiados ($M \\rightarrow \\infty$, $\\Delta V \\rightarrow 0$), y utilizando la definición de la integral, la ecuación se puede reescribir de la siguiente forma:\n",
    "\n",
    "$$G_j=\\int_{V} r_j dV$$"
   ]
  },
  {
   "cell_type": "markdown",
   "metadata": {},
   "source": [
    "<details>\n",
    "<summary><b>Nomenclatura</b></summary>\n",
    "\n",
    "<div class=\"alert alert-info\">\n",
    "\n",
    "- **$G_j$**: Tasa de generación/consumo de la especie $j$ por reacción química en el sistema, $[\\mathrm{mol.s^{-1}}]$.\n",
    "\n",
    "- **$r_{j}$**: Tasa de reacción de la especie $j$ por unidad de volumen (función indirecta de la posición en el sistema), $[\\mathrm{mol.m^{-3}.s^{-1}}]$.\n",
    "\n",
    "- **$dV$**: diferencial de volumen, $[\\mathrm{m^{3}}]$.\n",
    "\n",
    "\n",
    "</div>\n",
    "\n",
    "</details>"
   ]
  },
  {
   "cell_type": "markdown",
   "metadata": {},
   "source": [
    "## 1.3 Ecuación de diseño general para reactores"
   ]
  },
  {
   "cell_type": "markdown",
   "metadata": {},
   "source": [
    "La ecuación de balance de moles de un sistema con el término de generación/consumo escrito en forma integral, constituye el punto de partida para la ecuación de diseño para varios tipos de reactores industriales."
   ]
  },
  {
   "cell_type": "markdown",
   "metadata": {},
   "source": [
    "$$\\underbrace{\\frac{dN_j}{dt}}_{\\mathrm{Acumulación}} = \\underbrace{F_{j_0}}_{\\mathrm{Entradas}} - \\underbrace{F_{j}}_{\\mathrm{Salidas}} + \\underbrace{G_j}_{\\mathrm{Generación/Consumo}}$$"
   ]
  },
  {
   "cell_type": "markdown",
   "metadata": {},
   "source": [
    "$$\\underbrace{\\frac{dN_j}{dt}}_{\\mathrm{Acumulación}} = \\underbrace{F_{j_0}}_{\\mathrm{Entradas}} - \\underbrace{F_{j}}_{\\mathrm{Salidas}} + \\underbrace{\\int_{V} r_j dV}_{\\mathrm{Generación/Consumo}}$$"
   ]
  },
  {
   "cell_type": "markdown",
   "metadata": {},
   "source": [
    "$$\\frac{dN_j}{dt} = F_{j_0} - F_{j} + \\int_{V} r_j dV$$"
   ]
  },
  {
   "cell_type": "markdown",
   "metadata": {},
   "source": [
    "En la ***Tabla 1*** se presentan, a manera de ejemplo, ecuaciones de diseño básicas para algunos reactores comunes."
   ]
  },
  {
   "cell_type": "markdown",
   "metadata": {},
   "source": [
    "<center>\n",
    "\n",
    "***Tabla 1. Ecuaciones de diseño para algunos reactores comunes*** \n",
    "\n",
    "| Reactor| Acrónimo | Ecuación de diseño | Esquema |\n",
    "|---------|---------|--------------------|:-------:|\n",
    "| Reactor discontinuo | BR      | $$\\frac{dN_j}{dt} =  \\int_{V} r_j dV$$ | <img src=\"figures/images/Fed_batch_reactor_FSTR.svg\" style=\"width:75px\" title=\"Batch Reactor\"> |\n",
    "| Reactor continuo agitado | CSTR    | $$F_{j_0} - F_{j} = -\\int_{V} r_j dV$$ | <img src=\"figures/images/Continuous_bach_reactor_CSTR.svg\" style=\"width:100px\" title=\"Continuous Stirred Tank Reactor\"> |\n",
    "| Reactor de flujo pistón | PFR    | $$\\frac{dF_{j}}{dV} = r_j$$ | <img src=\"figures/images/ReactorPlugFlow.svg\" style=\"width:200px\" title=\"Plug Flow Reactor\"> | \n",
    "| Reactor de lecho empacado | PBR    | $$\\frac{dF_{j}}{dW} = r^{\\prime}_j$$ | <img src=\"figures/images/ReactorPackedBed.svg\" style=\"width:200px\" title=\"Packed Bed Reactor\"> |\n",
    "\n",
    "</center>"
   ]
  },
  {
   "cell_type": "markdown",
   "metadata": {},
   "source": [
    " En un documento posterior se desarrollará en detalle la derivación de las ecuaciones de diseño para estos reactores."
   ]
  }
 ],
 "metadata": {
  "kernelspec": {
   "display_name": "Python 3",
   "language": "python",
   "name": "python3"
  },
  "language_info": {
   "name": "python",
   "version": "3.10.12"
  }
 },
 "nbformat": 4,
 "nbformat_minor": 2
}
