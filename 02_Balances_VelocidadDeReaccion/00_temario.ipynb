{
 "cells": [
  {
   "cell_type": "markdown",
   "metadata": {},
   "source": [
    "# Cinética de Procesos (Sesión 02)"
   ]
  },
  {
   "cell_type": "markdown",
   "metadata": {},
   "source": [
    "<img src=\"figures/LogoCinvestav.png\" style=\"height:100px\" title=\"Cinvestav\">"
   ]
  },
  {
   "cell_type": "markdown",
   "metadata": {},
   "source": [
    "**CINVESTAV Unidad Saltillo**\n",
    "\n",
    "**Programa de Maestría en Ciencias en Ingeniería Metalúrgica**\n",
    "\n",
    "Dr. Edgar Ivan Castro Cedeño\n",
    "\n",
    "\n",
    "2025\n",
    "\n",
    "Contacto:\n",
    "[edgar.castro@cinvestav.mx](mailto:edgar.castro@cinvestav.mx)"
   ]
  },
  {
   "cell_type": "markdown",
   "metadata": {},
   "source": [
    "# Contenido de la sesión"
   ]
  },
  {
   "cell_type": "markdown",
   "metadata": {},
   "source": [
    "**1. Ecuación general de balance de moles**\n",
    "\n",
    "\n",
    "- **1.1** Balance global de materia.\n",
    "- **1.2** Balance de moles en un sistema químico.\n",
    "- **1.3** Ecuación de diseño general para reactores."
   ]
  },
  {
   "cell_type": "markdown",
   "metadata": {},
   "source": [
    "**2. Ley de velocidad de reacción**\n",
    "\n",
    "- **2.1** Definición de tasa de reacción.\n",
    "\n",
    "- **2.2** Expresiones para la tasa de reacción.\n",
    "\n",
    "- **2.3** Expresiones para Leyes de Velocidad de Reacción."
   ]
  },
  {
   "cell_type": "markdown",
   "metadata": {},
   "source": [
    "**3. Conversión en un sistema de reacción**\n",
    "\n",
    "- **3.1** Definiciones.\n",
    "\n",
    "- **3.2** Conversión para una reacción irreversible.\n",
    "\n",
    "- **3.3** Conversión para una reacción reversible."
   ]
  }
 ],
 "metadata": {
  "language_info": {
   "name": "python"
  }
 },
 "nbformat": 4,
 "nbformat_minor": 2
}
