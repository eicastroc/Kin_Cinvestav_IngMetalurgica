{
 "cells": [
  {
   "cell_type": "code",
   "execution_count": 28,
   "metadata": {},
   "outputs": [],
   "source": [
    "import numpy as np\n",
    "import matplotlib.pyplot as plt"
   ]
  },
  {
   "cell_type": "markdown",
   "metadata": {},
   "source": [
    "# Cinética de Procesos (Sesión 02)"
   ]
  },
  {
   "cell_type": "markdown",
   "metadata": {},
   "source": [
    "<img src=\"figures/LogoCinvestav.png\" style=\"height:100px\" title=\"Cinvestav\">"
   ]
  },
  {
   "cell_type": "markdown",
   "metadata": {},
   "source": [
    "**CINVESTAV Unidad Saltillo**\n",
    "\n",
    "**Programa de Maestría en Ciencias en Ingeniería Metalúrgica**\n",
    "\n",
    "Dr. Edgar Ivan Castro Cedeño\n",
    "\n",
    "\n",
    "2025\n",
    "\n",
    "Contacto:\n",
    "[edgar.castro@cinvestav.mx](mailto:edgar.castro@cinvestav.mx)"
   ]
  },
  {
   "cell_type": "markdown",
   "metadata": {},
   "source": [
    "# 3. Conversión en un sistema de reacción"
   ]
  },
  {
   "cell_type": "markdown",
   "metadata": {},
   "source": [
    "## 3.1 Reactivo limitante"
   ]
  },
  {
   "cell_type": "markdown",
   "metadata": {},
   "source": [
    "### 3.1.1. Definición"
   ]
  },
  {
   "cell_type": "markdown",
   "metadata": {},
   "source": [
    "Las reacciones químicas se deben escribir de tal forma que los coeficientes estequiométricos respeten el principio de conservación de la materia.\n",
    "\n",
    "Más a menudo que lo habitual, los reactivos están presentes en proporciones molares diferentes a las que vienen dadas en una reacción química balanceada. De tal forma que:\n",
    "\n",
    "- Puede haber uno o varios reactivos que no serán consumidos completamente durante la reacción, i.e. reactivo(s) en exceso.\n",
    "\n",
    "- Uno de los reactivos limita la cantidad de producto que se puede obtener, i.e. el reactivo limitante.\n",
    "\n"
   ]
  },
  {
   "cell_type": "markdown",
   "metadata": {},
   "source": [
    "### 3.1.2 Ejemplos"
   ]
  },
  {
   "cell_type": "markdown",
   "metadata": {},
   "source": [
    "#### 3.1.2.1 Proceso Kroll para obtención de Titanio"
   ]
  },
  {
   "cell_type": "markdown",
   "metadata": {},
   "source": [
    "Adaptado de: [chem.libretexts](https://chem.libretexts.org/Bookshelves/General_Chemistry/Map%3A_General_Chemistry_(Petrucci_et_al.)/04%3A_Chemical_Reactions/4.4%3A_Determining_the_Limiting_Reactant)"
   ]
  },
  {
   "cell_type": "markdown",
   "metadata": {},
   "source": [
    "En el proceso de extracción \"clásico\" del titanio, en una primera etapa se produce tetracloruro de titanio a partir de mineral (típicamente ilmenita), al hacerlos reaccionar con carbón y gas cloro:\n",
    "\n",
    "$$\\mathrm{2 FeTiO_{3} + 7 Cl_2 + 6 C \\longrightarrow 2 TiCl_4 + 2 FeCl_3 + 6 CO}$$"
   ]
  },
  {
   "cell_type": "markdown",
   "metadata": {},
   "source": [
    "Posteriormente el tetracloruro de titanio es convertido en titanio metálico al reaccionar con magnesio a alta temperatura:\n",
    "\n",
    "$$\\mathrm{{TiCl_{4}}_{(g)} + 2 Mg_{(l)} \\longrightarrow Ti_{(s)} + 2 {MgCl_2}_{(l)}}$$"
   ]
  },
  {
   "cell_type": "markdown",
   "metadata": {},
   "source": [
    "¿Si se tiene $1.00$ $\\mathrm{kg}$ de tetracloruro de titanio, y $0.2$ $\\mathrm{kg}$ de magnesio metálico, cuanto titanio metálico podria producirse de acuerdo con la reacción mostrada arriba?"
   ]
  },
  {
   "cell_type": "markdown",
   "metadata": {},
   "source": [
    "***Respuesta:***\n",
    "\n",
    "Para determinar de forma simple y consistente, se puede utilizar el siguiente procedimiento:\n",
    "\n",
    "1. Calcular el número de moles de cada reactivo que están presentes.\n",
    "2. Calcular, para cada reactivo, el cociente entre los moles presentes, y su coeficiente estequiométrico en la reacción química balanceada.\n",
    "3. El reactivo con el cociente mas pequeño, es el reactivo limitante."
   ]
  },
  {
   "cell_type": "code",
   "execution_count": 29,
   "metadata": {},
   "outputs": [],
   "source": [
    "massTiCl4 = 1000 # masa de TiCl4 [g]\n",
    "massMg = 500 # masa de Mg [g]\n",
    "\n",
    "MTi, MCl, MMg = 47.867, 35.453, 24.305 # masas molares elementales Ti, Cl, Mg\n",
    "MTiCl4 = MTi+4*MCl # masa molar TiCl4 [g/mol]"
   ]
  },
  {
   "cell_type": "code",
   "execution_count": 30,
   "metadata": {},
   "outputs": [
    {
     "name": "stdout",
     "output_type": "stream",
     "text": [
      "### 1. Determinar el número de moles de cada reactivo\n",
      "5.272064909663167 moles de TiCl4\n",
      "20.57189878625797 moles de Mg\n"
     ]
    }
   ],
   "source": [
    "print(\"### 1. Determinar el número de moles de cada reactivo\")\n",
    "reacs = [\"TiCl4\", \"Mg\"]  \n",
    "molesStoic = np.array([1, 2])\n",
    "molesReac = np.array([massTiCl4 / MTiCl4, massMg / MMg])\n",
    "# imprimir resultados\n",
    "for i, reac in enumerate(reacs):\n",
    "    print(f\"{molesReac[i]} moles de {reac}\")"
   ]
  },
  {
   "cell_type": "code",
   "execution_count": 31,
   "metadata": {},
   "outputs": [
    {
     "name": "stdout",
     "output_type": "stream",
     "text": [
      "### 2. Cocientes entre los moles presentes, y coeficientes estequiométrico en la reacción química balanceada.\n",
      "5.272064909663167, cociente para: TiCl4\n",
      "10.285949393128986, cociente para: Mg\n"
     ]
    }
   ],
   "source": [
    "print(\"### 2. Cocientes entre los moles presentes, y coeficientes estequiométrico en la reacción química balanceada.\")\n",
    "ratio = molesReac / molesStoic\n",
    "for i, reac in enumerate(reacs):\n",
    "    print(f\"{ratio[i]}, cociente para: {reac}\")"
   ]
  },
  {
   "cell_type": "code",
   "execution_count": 32,
   "metadata": {},
   "outputs": [
    {
     "name": "stdout",
     "output_type": "stream",
     "text": [
      "### 3. El reactivo con el cociente mas pequeño, es el reactivo limitante.\n",
      "El reactivo limitante es: TiCl4\n"
     ]
    }
   ],
   "source": [
    "print(\"### 3. El reactivo con el cociente mas pequeño, es el reactivo limitante.\")\n",
    "i = np.argmin(ratio) # indice (posición) del argumento mínimo\n",
    "print(f\"El reactivo limitante es: {reacs[i]}\")"
   ]
  },
  {
   "cell_type": "markdown",
   "metadata": {},
   "source": [
    "#### 3.1.2.2 Extracción pirometalúrgica de Plomo"
   ]
  },
  {
   "cell_type": "markdown",
   "metadata": {},
   "source": [
    "Adaptado de: [chem.libretexts](https://chem.libretexts.org/Bookshelves/General_Chemistry/Map%3A_Chemistry_-_The_Central_Science_(Brown_et_al.)/03%3A_Stoichiometry-_Chemical_Formulas_and_Equations/3.07%3A_Limiting_Reactants)"
   ]
  },
  {
   "cell_type": "markdown",
   "metadata": {},
   "source": [
    "La obtención del plomo a partir de galena por vía pirometalúrgica consta de dos etapas principales:"
   ]
  },
  {
   "cell_type": "markdown",
   "metadata": {},
   "source": [
    "Primeramente se tuesta el mineral con aire, que es caracterizado por la reacción:\n",
    "\n",
    "$$\\mathrm{2 {PbS}_{(s)} + 3 O_2 \\longrightarrow 2 {PbO}_{(s)} + 2 {SO_2}_{(g)}}$$"
   ]
  },
  {
   "cell_type": "markdown",
   "metadata": {},
   "source": [
    "Posteriormente se obtiene plomo metálico mediante reducción carbotérmica del óxido de plomo:\n",
    "\n",
    "$$\\mathrm{{PbO}_{(s)} + {C}_{(s)} \\longrightarrow {Pb}_{(l)} + {CO}_{(g)}}$$"
   ]
  },
  {
   "cell_type": "markdown",
   "metadata": {},
   "source": [
    "Si se tienen $100$ $\\mathrm{kg}$ de $\\mathrm{PbO}$ y $10$ $kg$ de $\\mathrm{C}$, ¿cuál sería el reactivo limitante para la reacción de reducción carbotérmica?"
   ]
  },
  {
   "cell_type": "code",
   "execution_count": 33,
   "metadata": {},
   "outputs": [],
   "source": [
    "massPbO = 100.0 # masa de PbO [kg]\n",
    "massC = 100.0 # masa de C [kg]\n",
    "\n",
    "MPb, MC, MO = 207.2, 12.011, 15.999 # masas molares elementales Pb, C, O\n",
    "MPbO = MPb+MO # masa molar PbO [g/mol]"
   ]
  },
  {
   "cell_type": "code",
   "execution_count": 34,
   "metadata": {},
   "outputs": [
    {
     "name": "stdout",
     "output_type": "stream",
     "text": [
      "### 1. Determinar el número de moles de cada reactivo\n",
      "0.44803068114104455 moles de PbO\n",
      "8.32570144034635 moles de C\n"
     ]
    }
   ],
   "source": [
    "print(\"### 1. Determinar el número de moles de cada reactivo\")\n",
    "reacs = [\"PbO\", \"C\"]  \n",
    "molesStoic = np.array([1, 1])\n",
    "molesReac = np.array([massPbO / MPbO, massC / MC])\n",
    "# imprimir resultados\n",
    "for i, reac in enumerate(reacs):\n",
    "    print(f\"{molesReac[i]} moles de {reac}\")"
   ]
  },
  {
   "cell_type": "code",
   "execution_count": 35,
   "metadata": {},
   "outputs": [
    {
     "name": "stdout",
     "output_type": "stream",
     "text": [
      "### 2. Cocientes entre los moles presentes, y coeficientes estequiométrico en la reacción química balanceada.\n",
      "0.44803068114104455, cociente para: PbO\n",
      "8.32570144034635, cociente para: C\n"
     ]
    }
   ],
   "source": [
    "print(\"### 2. Cocientes entre los moles presentes, y coeficientes estequiométrico en la reacción química balanceada.\")\n",
    "ratio = molesReac / molesStoic\n",
    "for i, reac in enumerate(reacs):\n",
    "    print(f\"{ratio[i]}, cociente para: {reac}\")"
   ]
  },
  {
   "cell_type": "code",
   "execution_count": 36,
   "metadata": {},
   "outputs": [
    {
     "name": "stdout",
     "output_type": "stream",
     "text": [
      "### 3. El reactivo con el cociente mas pequeño, es el reactivo limitante.\n",
      "El reactivo limitante es: PbO\n"
     ]
    }
   ],
   "source": [
    "print(\"### 3. El reactivo con el cociente mas pequeño, es el reactivo limitante.\")\n",
    "i = np.argmin(ratio) # indice (posición) del argumento mínimo\n",
    "print(f\"El reactivo limitante es: {reacs[i]}\")"
   ]
  },
  {
   "cell_type": "markdown",
   "metadata": {},
   "source": []
  },
  {
   "cell_type": "markdown",
   "metadata": {},
   "source": [
    "## 3.2 Conversión"
   ]
  },
  {
   "cell_type": "markdown",
   "metadata": {},
   "source": [
    "### 3.2.1 Cuestionamientos"
   ]
  },
  {
   "cell_type": "markdown",
   "metadata": {},
   "source": [
    "Para definir la conversión, se considera a uno de los reactivos como la base para el cálculo, i.e., la conversión se relaciona con las otras especies involucradas en la reacción utilizando como base el reactivo limitante.\n",
    "\n",
    "Considere la reacción general:\n",
    "\n",
    "$$\\mathrm{a A + b B \\longrightarrow cC + dD}$$\n",
    "\n",
    "Luego, divida la expresión de la reacción por el coeficiente estequiométrico de la especie que es el reactivo limitante (para el ejemplo se considera $\\mathrm{A}$ como el reactivo limitante), de tal forma que la base de la reacción sea \"por mol del reactivo limitante, $\\mathrm{A}$\":\n",
    "\n",
    "$$\\mathrm{A + \\frac{b}{a} B \\longrightarrow \\frac{c}{a} C + \\frac{d}{a} D}$$\n",
    "\n"
   ]
  },
  {
   "cell_type": "markdown",
   "metadata": {},
   "source": [
    "Se deben considerar una serie de preguntas clave antes de llegar a la definición de conversión:\n",
    "\n",
    "- ¿Cómo cuantificar el progreso de la reacción?\n",
    "- ¿Cuántos moles de otros reactivos son consumidos por cada mol de reactivo limitante que se consume ?\n",
    "- ¿Cuántos moles de productos se forman por cada mol de reactivo limitante que se consume?"
   ]
  },
  {
   "cell_type": "markdown",
   "metadata": {},
   "source": [
    "### 3.2.2 Definición"
   ]
  },
  {
   "cell_type": "markdown",
   "metadata": {},
   "source": [
    "Una manera conveniente para responder a estas preguntas es definir un parámetro llamado conversión. La conversión $X_{\\mathrm{A}}$ es el número de moles del reactivo limitante $\\mathrm{A}$ que han reaccionado por cada mol del reactivo limitante $\\mathrm{A}$ que es alimentado al sistema:\n",
    "\n",
    "$$X_{\\mathrm{A}} = \\frac{\\mathrm{moles \\, de \\, A \\, reaccionados}}{\\mathrm{moles \\, de \\, A \\, alimentados}}$$"
   ]
  },
  {
   "cell_type": "markdown",
   "metadata": {},
   "source": [
    "En un sistema de reacción, la conversión, $X$ indica la cantidad de reactivo que ha reaccionado, descrito generalmente como un cociente $(0\\le X \\le 1)$:\n",
    "\n",
    "$$X_{\\mathrm{A}} = \\frac{N_{\\mathrm{A}_0} - N_{\\mathrm{A}}}{N_{\\mathrm{A}_0}} = 1 - \\frac{N_{\\mathrm{A}}}{N_{\\mathrm{A}_0}}$$"
   ]
  },
  {
   "cell_type": "markdown",
   "metadata": {},
   "source": [
    "Recondando que la concentración se puede expresar como el número de moles por unidad de volumen, $C_{\\mathrm{A}} = \\frac{N_{\\mathrm{A}}}{V}$ , para un sistema de volumen constante se tiene:\n",
    "\n",
    "$$X_{\\mathrm{A}} = 1 - \\frac{C_{\\mathrm{A}}}{C_{\\mathrm{A}_0}}$$\n",
    "\n",
    "y \n",
    "\n",
    "$$d X_{\\mathrm{A}} = - \\frac{d C_{\\mathrm{A}}}{C_{\\mathrm{A}_0}}$$"
   ]
  },
  {
   "cell_type": "markdown",
   "metadata": {},
   "source": [
    "## 3.3 Límites de Conversión máxima en un sistema de reacción"
   ]
  },
  {
   "cell_type": "markdown",
   "metadata": {},
   "source": [
    "### 3.3.1 Conversión para reacciones irreversibles"
   ]
  },
  {
   "cell_type": "markdown",
   "metadata": {},
   "source": [
    "Para una reacción irreversible:\n",
    "\n",
    "$$\n",
    "\\mathrm{\\underbrace{a\\,A + b\\,B}_{reactivos} \\longrightarrow \\underbrace{c\\,C + d\\,D}_{productos}}\n",
    "$$\n",
    "\n",
    " la conversión máxima es $1.0$, i.e., el reactivo limitante puede ser completamente consumido durante la reacción.\n",
    "\n",
    "$$X_{\\mathit{max}} = 1.0$$"
   ]
  },
  {
   "cell_type": "markdown",
   "metadata": {},
   "source": [
    "### 3.3.2 Conversión para reacciones reversibles"
   ]
  },
  {
   "cell_type": "markdown",
   "metadata": {},
   "source": [
    "Para una reaccion reversible:\n",
    "\n",
    "$$\n",
    "\\mathrm{\\underbrace{a\\,A + b\\,B}_{reactivos} \\rightleftarrows \\underbrace{c\\,C + d\\,D}_{productos}}\n",
    "$$\n",
    "\n",
    " el límite de conversión máxima corresponde a la conversión que se ha logrado al momento que la reacción alcanza el equilibrio termodinámico.\n",
    "\n",
    "$$X_{\\mathit{max}} = X_e$$\n",
    "\n"
   ]
  },
  {
   "cell_type": "markdown",
   "metadata": {},
   "source": [
    "<div class=\"alert alert-warning\">\n",
    "\n",
    "<center>\n",
    "\n",
    "**TERMO MATA CINÉTICA**\n",
    "\n",
    "</center>\n",
    "\n",
    "Esto implica que la cantidad remanente de reactivo limitante se encuentra en equilibrio con el resto de las especies involucradas en la reacción, de acuerdo con la relación dada por la constante de equilibrio de la reacción.\n",
    "\n",
    "$$K = \\frac{[C]^c [D]^d}{[A]^a [B]^b}$$\n",
    "\n",
    "</div>"
   ]
  },
  {
   "cell_type": "markdown",
   "metadata": {},
   "source": [
    "<details>\n",
    "<summary><b>Nomenclatura</b></summary>\n",
    "\n",
    "<div class=\"alert alert-info\">\n",
    "\n",
    "- **$K$**: Constante de equilibrio.\n",
    "\n",
    "- **$[A_i]$**: concentración, o actividad, o presión parcial de la especie $i$.\n",
    "\n",
    "- **$\\nu_i$**: coeficiente estequimétrico de la especie $i$.\n",
    "</div>\n",
    "\n",
    "</details>"
   ]
  },
  {
   "cell_type": "markdown",
   "metadata": {},
   "source": [
    "## 3.4 Relación entre Ley de Velocidad de Reacción y Conversión"
   ]
  },
  {
   "cell_type": "markdown",
   "metadata": {},
   "source": [
    "### 3.4.1 Balances y Tabla Estequiométrica de la reacción"
   ]
  },
  {
   "cell_type": "markdown",
   "metadata": {},
   "source": [
    "Considere la reacción prototipo:\n",
    "\n",
    "$$\\mathrm{aA + bB \\longrightarrow cC + dD}$$\n",
    "\n",
    "Tomando como hipótesis que la especie $\\mathrm{A}$ es el reactivo limitante, la reacción balancedada se puede escribir en términos del reactivo limitante de la siguiente forma:\n",
    "\n",
    "$$\\mathrm{A + \\frac{b}{a} B \\longrightarrow \\frac{c}{a} C + \\frac{d}{a} D}$$"
   ]
  },
  {
   "cell_type": "markdown",
   "metadata": {},
   "source": [
    "Como se muestra en la ***Tabla 1***, ***Tabla 2*** y ***Tabla 3***, la evolución de la cantidad, flujo molar o la concentración de las especies químicas involucradas en una reacción en función del reactivo limitante, se pueden obtener construyendo un balance de especies químicas en una tabla estequiométrica. \n",
    "\n",
    "La ***Tabla 1*** corresponde al escenario de un reactor batch, por lo que el balance se escribe en términos de la candidad de sustancia, $[\\mathrm{mol}]$. "
   ]
  },
  {
   "cell_type": "markdown",
   "metadata": {},
   "source": [
    "<center>\n",
    "\n",
    "***Tabla 1. Tabla estequiométrica para una reacción balanceada en un reactor batch.***\n",
    "\n",
    "| Especie | Inicial | Cambio | Remanente (Balance) |\n",
    "|:--:|:--:|:--:|:--:|\n",
    "| $$\\mathrm{A}$$ | $$N_{\\mathrm{A_0}}$$ | $$-\\left(N_{\\mathrm{A_0}}X\\right)$$ | $$N_{\\mathrm{A}} = N_{\\mathrm{A_0}} \\left(1-X\\right)$$ |\n",
    "| $$\\mathrm{B}$$ | $$N_{\\mathrm{B_0}}=N_{\\mathrm{A_0}}\\theta_{\\mathrm{B}}$$ | $$-\\frac{b}{a}\\left(N_{\\mathrm{A_0}}X\\right)$$ | $$N_{\\mathrm{B}} = N_{\\mathrm{A_0}} \\left(\\theta_{\\mathrm{B}}-\\frac{b}{a}X\\right)$$ |\n",
    "| $$\\mathrm{C}$$ | $$N_{\\mathrm{C_0}}=N_{\\mathrm{A_0}}\\theta_{\\mathrm{C}}$$ | $$+\\frac{c}{a}\\left(N_{\\mathrm{A_0}}X\\right)$$ | $$N_{\\mathrm{C}} = N_{\\mathrm{A_0}} \\left(\\theta_{\\mathrm{C}}+\\frac{c}{a}X\\right)$$ |\n",
    "| $$\\mathrm{D}$$ | $$N_{\\mathrm{D_0}}=N_{\\mathrm{A_0}}\\theta_{\\mathrm{D}}$$ | $$+\\frac{d}{a}\\left(N_{\\mathrm{A_0}}X\\right)$$ | $$N_{\\mathrm{C}} = N_{\\mathrm{A_0}} \\left(\\theta_{\\mathrm{D}}+\\frac{d}{a}X\\right)$$ |\n",
    "| $$\\mathrm{I}$$ (inertes) | $$N_{\\mathrm{I_0}}$$ | $0$ | $$N_{\\mathrm{I}} = N_{\\mathrm{I_0}}$$ |\n",
    "| **TOTALES** | $$N_{\\mathrm{T_0}}$$ | | $$\\begin{matrix} N_{\\mathrm{T}} = N_{\\mathrm{T_0}} + \\left(\\frac{d}{a} + \\frac{c}{a} - \\frac{b}{a} - 1\\right) N_{\\mathrm{A_0}} X \\\\ \\\\ N_{\\mathrm{T}} = N_{\\mathrm{T_0}} + \\delta N_{\\mathrm{A_0}} X \\end{matrix} $$ |\n",
    "\n",
    "</center>"
   ]
  },
  {
   "cell_type": "markdown",
   "metadata": {},
   "source": [
    "La ***Tabla 2*** corresponde al escenario de un reactor de flujo continuo, por lo que el balance  se realiza en términos del flujo de especies, i.e. cantidad de sustancia por unidad de tiempo, $[\\mathrm{mol.s^{-1}}]$."
   ]
  },
  {
   "cell_type": "markdown",
   "metadata": {},
   "source": [
    "<center>\n",
    "\n",
    "***Tabla 2. Tabla estequiométrica para una reacción balanceada en un reactor de flujo continuo.***\n",
    "\n",
    "| Especie | Inicial | Cambio | Remanente (Balance) |\n",
    "|:--:|:--:|:--:|:--:|\n",
    "| $$\\mathrm{A}$$ | $$F_{\\mathrm{A_0}}$$ | $$-\\left(F_{\\mathrm{A_0}}X\\right)$$ | $$F_{\\mathrm{A}} = F_{\\mathrm{A_0}} \\left(1-X\\right)$$ |\n",
    "| $$\\mathrm{B}$$ | $$F_{\\mathrm{B_0}} = F_{\\mathrm{A_0}} \\theta_{\\mathrm{B}}$$ | $$-\\frac{b}{a}\\left(F_{\\mathrm{A_0}}X\\right)$$ | $$F_{\\mathrm{B}} = F_{\\mathrm{A_0}} \\left(\\theta_{\\mathrm{B}}-\\frac{b}{a}X\\right)$$ |\n",
    "| $$\\mathrm{C}$$ | $$F_{\\mathrm{C_0}} = F_{\\mathrm{A_0}} \\theta_{\\mathrm{C}}$$ | $$+\\frac{c}{a}\\left(F_{\\mathrm{A_0}}X\\right)$$ | $$F_{\\mathrm{C}} = F_{\\mathrm{A_0}} \\left(\\theta_{\\mathrm{C}}+\\frac{c}{a}X\\right)$$ |\n",
    "| $$\\mathrm{D}$$ | $$F_{\\mathrm{D_0}} = F_{\\mathrm{A_0}} \\theta_{\\mathrm{D}}$$ | $$+\\frac{d}{a}\\left(F_{\\mathrm{A_0}}X\\right)$$ | $$F_{\\mathrm{C}} = F_{\\mathrm{A_0}} \\left(\\theta_{\\mathrm{D}}+\\frac{d}{a}X\\right)$$ |\n",
    "| $$\\mathrm{I}$$ (inertes) | $$F_{\\mathrm{I_0}}$$ | $0$ | $$F_{\\mathrm{I}} = F_{\\mathrm{I_0}}$$ |\n",
    "| **TOTALES** | $$F_{\\mathrm{T_0}}$$ | | $$\\begin{matrix} F_{\\mathrm{T}} = F_{\\mathrm{T_0}} + \\left(\\frac{d}{a} + \\frac{c}{a} - \\frac{b}{a} - 1\\right) F_{\\mathrm{A_0}} X \\\\ \\\\ F_{\\mathrm{T}} = F_{\\mathrm{T_0}} + \\delta F_{\\mathrm{A_0}} X \\end{matrix} $$ |\n",
    "\n",
    "</center>"
   ]
  },
  {
   "cell_type": "markdown",
   "metadata": {},
   "source": [
    "La ***Tabla 3*** corresponde a un balance que se realiza en términos de la concentración de especies, i.e. cantidad de sustancia por unidad de volumen, $[\\mathrm{mol.m^{-3}}]$. Puede aplicarse a reactores batch o sistemas de flujo continuo en régimen estacionario."
   ]
  },
  {
   "cell_type": "markdown",
   "metadata": {},
   "source": [
    "<center>\n",
    "\n",
    "***Tabla 3. Tabla estequiométrica para una reacción balanceada en términos de la concentración de especies.***\n",
    "\n",
    "| Especie | Inicial | Cambio | Remanente (Balance) |\n",
    "|:--:|:--:|:--:|:--:|\n",
    "| $$\\mathrm{A}$$ | $$C_{\\mathrm{A_0}}$$ | $$-\\left(C_{\\mathrm{A_0}}X\\right)$$ | $$C_{\\mathrm{A}} = C_{\\mathrm{A_0}} \\left(1-X\\right)$$ |\n",
    "| $$\\mathrm{B}$$ | $$C_{\\mathrm{B_0}} = C_{\\mathrm{A_0}} \\theta_{\\mathrm{B}}$$ | $$-\\frac{b}{a}\\left(C_{\\mathrm{A_0}}X\\right)$$ | $$C_{\\mathrm{B}} = C_{\\mathrm{A_0}} \\left(\\theta_{\\mathrm{B}}-\\frac{b}{a}X\\right)$$ |\n",
    "| $$\\mathrm{C}$$ | $$C_{\\mathrm{C_0}} = C_{\\mathrm{A_0}} \\theta_{\\mathrm{C}}$$ | $$+\\frac{c}{a}\\left(C_{\\mathrm{A_0}}X\\right)$$ | $$C_{\\mathrm{C}} = C_{\\mathrm{A_0}} \\left(\\theta_{\\mathrm{C}}+\\frac{c}{a}X\\right)$$ |\n",
    "| $$\\mathrm{D}$$ | $$C_{\\mathrm{D_0}} = C_{\\mathrm{A_0}} \\theta_{\\mathrm{D}}$$ | $$+\\frac{d}{a}\\left(C_{\\mathrm{A_0}}X\\right)$$ | $$C_{\\mathrm{C}} = C_{\\mathrm{A_0}} \\left(\\theta_{\\mathrm{D}}+\\frac{d}{a}X\\right)$$ |\n",
    "| $$\\mathrm{I}$$ (inertes) | $$C_{\\mathrm{I_0}}$$ | $0$ | $$C_{\\mathrm{I}} = C_{\\mathrm{I_0}}$$ |\n",
    "\n",
    "</center>"
   ]
  },
  {
   "cell_type": "markdown",
   "metadata": {},
   "source": [
    "<details>\n",
    "\n",
    "<summary><b>Etapas para construcción de la tabla estequiométrica</b></summary>\n",
    "\n",
    "<div class=\"alert alert-info\">\n",
    "\n",
    "1. Escribir, para cada especie, el balance de la cantidad o concentración de como función del reactivo limitante, utilizando las relaciones relativas dada por la estequiometría de la reacción balanceada.\n",
    "\n",
    "$$N_{\\mathrm{A}} = \\underbrace{N_{\\mathrm{A_0}}}_{\\mathrm{inicial}} - \\underbrace{N_{\\mathrm{A_0}}X}_{\\mathrm{cambio}}$$\n",
    "\n",
    "$$N_{\\mathrm{B}} = \\underbrace{N_{\\mathrm{B_0}}}_{\\mathrm{inicial}} - \\underbrace{\\frac{b}{a} N_{\\mathrm{A_0}}X}_{\\mathrm{cambio}}$$\n",
    "\n",
    "$$N_{\\mathrm{C}} = \\underbrace{N_{\\mathrm{C_0}}}_{\\mathrm{inicial}} + \\underbrace{\\frac{c}{a} N_{\\mathrm{A_0}}X}_{\\mathrm{cambio}}$$\n",
    "\n",
    "$$N_{\\mathrm{D}} = \\underbrace{N_{\\mathrm{D_0}}}_{\\mathrm{inicial}} + \\underbrace{\\frac{d}{a} N_{\\mathrm{A_0}}X}_{\\mathrm{cambio}}$$\n",
    "\n",
    "2. Adimensionalizar las concentraciones iniciales, tomando como referencia la concentración inicial del reactivo limitante.\n",
    "\n",
    "$$\\theta_{\\mathrm{A}} = \\frac{N_{\\mathrm{A_0}}}{N_{\\mathrm{A_0}}} = \\frac{C_{\\mathrm{A_0}}}{C_{\\mathrm{A_0}}} = 1$$\n",
    "\n",
    "$$\\theta_{\\mathrm{B}} = \\frac{N_{\\mathrm{B_0}}}{N_{\\mathrm{A_0}}} = \\frac{C_{\\mathrm{B_0}}}{C_{\\mathrm{A_0}}}$$\n",
    "\n",
    "$$\\theta_{\\mathrm{C}} = \\frac{N_{\\mathrm{C_0}}}{N_{\\mathrm{A_0}}} = \\frac{C_{\\mathrm{C_0}}}{C_{\\mathrm{A_0}}}$$\n",
    "\n",
    "$$\\theta_{\\mathrm{D}} = \\frac{N_{\\mathrm{D_0}}}{N_{\\mathrm{A_0}}} = \\frac{C_{\\mathrm{D_0}}}{C_{\\mathrm{A_0}}}$$\n",
    "\n",
    "3. Sustituir en los balances las concentraciones iniciales adimensionalizadas, para que los balances queden escritos únicamente en función del reactivo limitante.\n",
    "\n",
    "$$N_{\\mathrm{A}} = N_{\\mathrm{A_0}} - N_{\\mathrm{A_0}}X$$\n",
    "\n",
    "$$N_{\\mathrm{B}} = N_{\\mathrm{A_0}} \\theta_{\\mathrm{B}} - \\frac{b}{a} N_{\\mathrm{A_0}}X$$\n",
    "\n",
    "$$N_{\\mathrm{C}} = N_{\\mathrm{A_0}} \\theta_{\\mathrm{C}} + \\frac{c}{a} N_{\\mathrm{A_0}}X$$\n",
    "\n",
    "$$N_{\\mathrm{D}} = N_{\\mathrm{A_0}} \\theta_{\\mathrm{D}} + \\frac{d}{a} N_{\\mathrm{A_0}}X$$\n",
    "\n",
    "4. Manipular algebráicamente las expresiones.\n",
    "\n",
    "$$N_{\\mathrm{A}} = \\underbrace{N_{\\mathrm{A_0}} \\left(1 - X \\right)}_{\\mathrm{remanente}}$$\n",
    "\n",
    "$$N_{\\mathrm{B}} = \\underbrace{N_{\\mathrm{A_0}} \\left(\\theta_{\\mathrm{B}}-\\frac{b}{a}X\\right)}_{\\mathrm{remanente}}$$\n",
    "\n",
    "$$N_{\\mathrm{C}} = \\underbrace{N_{\\mathrm{A_0}} \\left(\\theta_{\\mathrm{C}}+\\frac{c}{a}X\\right)}_{\\mathrm{remanente}}$$\n",
    "\n",
    "$$N_{\\mathrm{D}} = \\underbrace{N_{\\mathrm{A_0}} \\left(\\theta_{\\mathrm{D}}+\\frac{d}{a}X\\right)}_{\\mathrm{remanente}}$$\n",
    "</div>\n",
    "\n",
    "</details>"
   ]
  },
  {
   "cell_type": "markdown",
   "metadata": {},
   "source": [
    "### 3.4.2 Relación entre Ley de Velocidad de Reacción y Conversión"
   ]
  },
  {
   "cell_type": "markdown",
   "metadata": {},
   "source": [
    "Considere una ley de velocidad de reacción descrita con el modelo de serie de potencias:\n",
    "\n",
    "$$-r_{\\mathrm{A}} = k_{\\mathrm{A}} \\, C_{\\mathrm{A}}^{\\alpha} \\, C_{\\mathrm{B}}^{\\beta}$$"
   ]
  },
  {
   "cell_type": "markdown",
   "metadata": {},
   "source": [
    "<details>\n",
    "<summary><b>Nomenclatura</b></summary>\n",
    "\n",
    "<div class=\"alert alert-info\">\n",
    "\n",
    "- **$-r_{\\mathrm{A}}$**: Velocidad de reacción (consumo) de la especie $\\mathrm{A}$, en $[\\mathrm{mol.m^{-3}.s^{-1}}]$.\n",
    "\n",
    "- **$k_{A}$**: constante de reacción específica, con unidades variables que incluyen al tiempo.\n",
    "\n",
    "- **$C_{\\mathrm{i}}$**: Concentración de la especie $\\mathrm{i}$, en $[\\mathrm{mol.m^{3}}]$.\n",
    "</div>\n",
    "\n",
    "</details>"
   ]
  },
  {
   "cell_type": "markdown",
   "metadata": {},
   "source": [
    "Las relaciones escritas en la Tabla Estequiométrica permiten reescribir la ley de velocidad de reacción en función de la conversión.\n",
    "\n",
    "$$-r_{\\mathrm{A}} = k_{\\mathrm{A}} \\, \\underbrace{\\left( C_{\\mathrm{A_0}}(1-X)\\right)^{\\alpha}}_{C_{\\mathrm{A}}^{\\alpha}} \\, \\underbrace{\\left(C_{\\mathrm{A_0}} \\left(\\theta_{\\mathrm{B}}-\\frac{b}{a}X\\right)\\right)^{\\beta}}_{C_{\\mathrm{B}}^\\beta}$$"
   ]
  },
  {
   "cell_type": "markdown",
   "metadata": {},
   "source": [
    "#### 3.4.2.1 Ejemplo: Reacción de primer orden"
   ]
  },
  {
   "cell_type": "markdown",
   "metadata": {},
   "source": [
    "\n",
    "$$-r_{\\mathrm{A}} = k_{\\mathrm{A}} C_{\\mathrm{A}}$$\n",
    "\n",
    "$$-r_{\\mathrm{A}} = k_{\\mathrm{A}} \\underbrace{C_{\\mathrm{A_0}} \\left(1 - X \\right)}_{C_{\\mathrm{A}}}$$"
   ]
  },
  {
   "cell_type": "markdown",
   "metadata": {},
   "source": [
    "#### 3.4.2.2 Ejemplo: Reacción de orden dos"
   ]
  },
  {
   "cell_type": "markdown",
   "metadata": {},
   "source": [
    "\n",
    "\n",
    "**Dependencia cuadrática con el reactivo limitante**:\n",
    "\n",
    "$$-r_{\\mathrm{A}} = k_{\\mathrm{A}} C_{\\mathrm{A}}^{2}$$\n",
    "\n",
    "$$-r_{\\mathrm{A}} = k_{\\mathrm{A}} \\underbrace{C_{\\mathrm{A_0}}^2 \\left(1-X\\right)^2}_{C_{\\mathrm{A}}^{2}}$$\n",
    "\n",
    "**Dependencia cruzada del reactivo limitante y otro reactivo**:\n",
    "\n",
    "$$-r_{\\mathrm{A}} = k_{\\mathrm{A}} C_{\\mathrm{A}} C_{\\mathrm{B}}$$\n",
    "\n",
    "$$-r_{\\mathrm{A}} = k_{\\mathrm{A}} \\underbrace{C_{\\mathrm{A_0}} \\left(1-X\\right)}_{C_{\\mathrm{A}}} \\underbrace{\\left(C_{\\mathrm{A_0}} \\left(\\theta_{\\mathrm{B}}-\\frac{b}{a}X\\right)\\right)}_{C_{\\mathrm{B}}}$$\n",
    "\n",
    "$$-r_{\\mathrm{A}} = k_{\\mathrm{A}} C_{\\mathrm{A_0}}^2 \\left(1-X\\right) \\left(\\theta_{\\mathrm{B}}-\\frac{b}{a}X\\right)$$\n"
   ]
  },
  {
   "cell_type": "markdown",
   "metadata": {},
   "source": [
    "Para una reacción irreversible, la conversión máxima es $1.0$.\n",
    "\n",
    "$$X_{\\mathit{max}} = 1.0$$"
   ]
  },
  {
   "cell_type": "markdown",
   "metadata": {},
   "source": [
    "## 3.5 Expresiones de Conversión en equilibrio para reacciones reversibles"
   ]
  },
  {
   "cell_type": "markdown",
   "metadata": {},
   "source": [
    "### 3.5.1 Reacción tipo: $\\mathrm{aA \\rightleftarrows cC}$"
   ]
  },
  {
   "cell_type": "markdown",
   "metadata": {},
   "source": [
    "Considere la reacción:\n",
    "\n",
    "$$\\mathrm{aA \\rightleftarrows cC}$$\n",
    "\n",
    "$$K = \\frac{[C]^c}{[A]^a}$$"
   ]
  },
  {
   "cell_type": "markdown",
   "metadata": {},
   "source": [
    "Con la ayuda de una Tabla estequiométrica se obtienen expresiones para la concentración de las distintas especies en función de la concentración inicial de reactivo limitante y la conversión:"
   ]
  },
  {
   "cell_type": "markdown",
   "metadata": {},
   "source": [
    "<center>\n",
    "\n",
    "***Tabla 4. Tabla estequiométrica para la reacción balanceada.***\n",
    "\n",
    "| Especie | Inicial | Cambio | Remanente (Balance) |\n",
    "|:--:|:--:|:--:|:--:|\n",
    "| $$\\mathrm{A}$$ | $$[\\mathrm{A}]_{0}$$ | $$-\\left([\\mathrm{A}]_{0} X\\right)$$ | $$[\\mathrm{A}] = [\\mathrm{A}]_0 \\left(1-X\\right)$$ |\n",
    "| $$\\mathrm{C}$$ | $$[\\mathrm{C}]_0=[\\mathrm{A}]_0\\theta_{\\mathrm{C}}$$ | $$+\\frac{c}{a}\\left([\\mathrm{A}]_{0} X\\right)$$ | $$[\\mathrm{C}] = [\\mathrm{A}]_{0} \\left(\\theta_{\\mathrm{C}}+\\frac{c}{a}X\\right)$$ |\n",
    "\n",
    "</center>"
   ]
  },
  {
   "cell_type": "markdown",
   "metadata": {},
   "source": [
    "Sustituyendo las expresiones de concentración obtenidas en la constante de la reacción, se tiene:\n",
    "\n",
    "$$K = \\frac{\\left[[A]_0 \\left(\\theta_C + \\frac{c}{a} X \\right) \\right]^{c}}{\\left[[A]_0 \\left(1- X \\right) \\right]^{a}}$$"
   ]
  },
  {
   "cell_type": "markdown",
   "metadata": {},
   "source": [
    "#### 3.5.1.1 Implementación de la expresión"
   ]
  },
  {
   "cell_type": "code",
   "execution_count": 90,
   "metadata": {},
   "outputs": [],
   "source": [
    "def KforX_r1(X, *args):\n",
    "    stoich, conc0 = args\n",
    "    a, c = stoich\n",
    "    A0, C0 = conc0\n",
    "    thetaC = C0 / A0\n",
    "    num = (A0 * (thetaC + c/a*X))**(c)\n",
    "    den = (A0 * (1-X))**(a)\n",
    "    return (num/den)"
   ]
  },
  {
   "cell_type": "markdown",
   "metadata": {},
   "source": [
    "#### 3.5.1.2 Gráfico exploratorio"
   ]
  },
  {
   "cell_type": "code",
   "execution_count": 91,
   "metadata": {},
   "outputs": [
    {
     "name": "stderr",
     "output_type": "stream",
     "text": [
      "/tmp/ipykernel_16815/569202148.py:8: RuntimeWarning: divide by zero encountered in divide\n",
      "  return (num/den)\n"
     ]
    },
    {
     "data": {
      "image/png": "[encoded data removed]",
      "text/plain": [
       "<Figure size 640x480 with 1 Axes>"
      ]
     },
     "metadata": {},
     "output_type": "display_data"
    }
   ],
   "source": [
    "fig, ax = plt.subplots()\n",
    "X = np.logspace(-2, 0, 1001)\n",
    "\n",
    "## Modifique los parámetros de entrada para obtener distintas curvas\n",
    "stoich, conc0 = [1, 1], [1, 0]\n",
    "ax.plot(X, KforX_r1(X, stoich, conc0), label=\"|\".join([f\"$a, b$={stoich} \", f\" $A_0, B_0$ = {conc0}\"]))\n",
    "\n",
    "# formato del gráfico\n",
    "ax.set_title(r\"Reacción: $\\mathrm{aA \\longrightarrow cC}$\")\n",
    "ax.set(xlabel='Conversión', ylabel='K', xlim=(1e-2, 1), ylim=(1e-2, 1e2), xscale='log', yscale='log')\n",
    "ax.grid(ls=\"--\", which='both', alpha=0.5)\n",
    "ax.legend()\n",
    "plt.show()"
   ]
  },
  {
   "cell_type": "markdown",
   "metadata": {},
   "source": [
    "### 3.5.2 Reacción tipo: $\\mathrm{aA + bB \\rightleftarrows cC + dD}$"
   ]
  },
  {
   "cell_type": "markdown",
   "metadata": {},
   "source": [
    "Considere la reacción:\n",
    "\n",
    "$$\\mathrm{aA + bB \\longrightarrow cC + dD}$$\n",
    "\n",
    "$$K = \\frac{[C]^c [D]^d}{[A]^a [B]^b}$$"
   ]
  },
  {
   "cell_type": "markdown",
   "metadata": {},
   "source": [
    "Con la ayuda de una Tabla estequiométrica se obtienen expresiones para la concentración de las distintas especies en función de la concentración inicial de reactivo limitante y la conversión:"
   ]
  },
  {
   "cell_type": "markdown",
   "metadata": {},
   "source": [
    "<center>\n",
    "\n",
    "***Tabla 5. Tabla estequiométrica para la reacción balanceada.***\n",
    "\n",
    "| Especie | Inicial | Cambio | Remanente (Balance) |\n",
    "|:--:|:--:|:--:|:--:|\n",
    "| $$\\mathrm{A}$$ | $$[\\mathrm{A}]_{0}$$ | $$-\\left([\\mathrm{A}]_{0} X\\right)$$ | $$[\\mathrm{A}] = [\\mathrm{A}]_0 \\left(1-X\\right)$$ |\n",
    "| $$\\mathrm{C}$$ | $$[\\mathrm{B}]_0=[\\mathrm{A}]_0\\theta_{\\mathrm{B}}$$ | $$-\\frac{b}{a}\\left([\\mathrm{A}]_{0} X\\right)$$ | $$[\\mathrm{B}] = [\\mathrm{A}]_{0} \\left(\\theta_{\\mathrm{B}}-\\frac{b}{a}X\\right)$$ |\n",
    "| $$\\mathrm{C}$$ | $$[\\mathrm{C}]_0=[\\mathrm{A}]_0\\theta_{\\mathrm{C}}$$ | $$+\\frac{c}{a}\\left([\\mathrm{A}]_{0} X\\right)$$ | $$[\\mathrm{C}] = [\\mathrm{A}]_{0} \\left(\\theta_{\\mathrm{C}}+\\frac{c}{a}X\\right)$$ |\n",
    "| $$\\mathrm{D}$$ | $$[\\mathrm{D}]_0=[\\mathrm{A}]_0\\theta_{\\mathrm{D}}$$ | $$+\\frac{d}{a}\\left([\\mathrm{A}]_{0} X\\right)$$ | $$[\\mathrm{D}] = [\\mathrm{A}]_{0} \\left(\\theta_{\\mathrm{D}}+\\frac{d}{a}X\\right)$$ |\n",
    "\n",
    "</center>"
   ]
  },
  {
   "cell_type": "markdown",
   "metadata": {},
   "source": [
    "Sustituyendo las expresiones de concentración obtenidas en la constante de la reacción, se tiene:\n",
    "\n",
    "$$K = \\frac{\\left[[A]_0 \\left(\\theta_C + \\frac{c}{a} X \\right) \\right]^{c} \\left[[A]_0 \\left(\\theta_D + \\frac{d}{a} X \\right) \\right]^{d}}{\\left[[A]_0 \\left(1- X \\right) \\right]^{a} \\left[[A]_0 \\left(\\theta_B - \\frac{b}{a} X \\right) \\right]^{b}}$$"
   ]
  },
  {
   "cell_type": "markdown",
   "metadata": {},
   "source": [
    "#### 3.5.2.1 Implementación de la expresión"
   ]
  },
  {
   "cell_type": "code",
   "execution_count": 92,
   "metadata": {},
   "outputs": [],
   "source": [
    "def KforX_r2(X, *args):\n",
    "    stoich, conc0 = args\n",
    "    a, b, c, d = stoich\n",
    "    A0, B0, C0, D0 = conc0\n",
    "    thetaB, thetaC, thetaD = B0/A0, C0/A0, D0/A0\n",
    "    num = (A0 * (thetaC + c/a*X))**(c) * (A0 * (thetaD + d/a*X))**(d)\n",
    "    den = (A0 * (1-X))**(a) * (A0 * (thetaB + b/a*X))**(b)\n",
    "    return num/den"
   ]
  },
  {
   "cell_type": "markdown",
   "metadata": {},
   "source": [
    "#### 3.5.2.2 Gráfico exploratorio"
   ]
  },
  {
   "cell_type": "code",
   "execution_count": 95,
   "metadata": {},
   "outputs": [
    {
     "name": "stderr",
     "output_type": "stream",
     "text": [
      "/tmp/ipykernel_16815/4042916989.py:8: RuntimeWarning: divide by zero encountered in divide\n",
      "  return num/den\n"
     ]
    },
    {
     "data": {
      "image/png": "[encoded data removed]",
      "text/plain": [
       "<Figure size 640x480 with 1 Axes>"
      ]
     },
     "metadata": {},
     "output_type": "display_data"
    }
   ],
   "source": [
    "fig, ax = plt.subplots()\n",
    "X = np.logspace(-3, 0, 1001)\n",
    "\n",
    "## Modifique los parámetros de entrada para obtener distintas curvas\n",
    "stoich, conc0 = [1, 1, 1, 1], [1, 1, 0, 0]\n",
    "ax.plot(X, KforX_r2(X, stoich, conc0), label=\"|\".join([f\"$a, b, c, d$={stoich} \", f\" $A_0, B_0, C_0, D_0$ = {conc0}\"]))\n",
    "\n",
    "# formato del gráfico\n",
    "ax.set_title(r\"Reacción: $\\mathrm{aA + bB \\longrightarrow cC + dD}$\")\n",
    "ax.set(xlabel='Conversión', ylabel='K', xlim=(1e-2, 1), ylim=(1e-3, 1e2), xscale='log', yscale='log')\n",
    "ax.grid(ls=\"--\", which='both', alpha=0.5)\n",
    "ax.legend()\n",
    "plt.show()"
   ]
  }
 ],
 "metadata": {
  "kernelspec": {
   "display_name": "Python 3",
   "language": "python",
   "name": "python3"
  },
  "language_info": {
   "codemirror_mode": {
    "name": "ipython",
    "version": 3
   },
   "file_extension": ".py",
   "mimetype": "text/x-python",
   "name": "python",
   "nbconvert_exporter": "python",
   "pygments_lexer": "ipython3",
   "version": "3.10.12"
  }
 },
 "nbformat": 4,
 "nbformat_minor": 2
}
