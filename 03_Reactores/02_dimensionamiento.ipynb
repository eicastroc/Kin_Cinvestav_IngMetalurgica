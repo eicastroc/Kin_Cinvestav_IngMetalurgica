{
 "cells": [
  {
   "cell_type": "code",
   "execution_count": 12,
   "metadata": {},
   "outputs": [],
   "source": [
    "import numpy as np\n",
    "import pandas as pd\n",
    "import polars as pl\n",
    "import matplotlib.pyplot as plt\n",
    "from scipy.integrate import trapezoid, simpson, cumulative_trapezoid, cumulative_simpson"
   ]
  },
  {
   "cell_type": "markdown",
   "metadata": {},
   "source": [
    "# Cinética de Procesos (Sesión 03)"
   ]
  },
  {
   "cell_type": "markdown",
   "metadata": {},
   "source": [
    "<img src=\"figures/LogoCinvestav.png\" style=\"height:100px\" title=\"Cinvestav\">"
   ]
  },
  {
   "cell_type": "markdown",
   "metadata": {},
   "source": [
    "**CINVESTAV Unidad Saltillo**\n",
    "\n",
    "**Programa de Maestría en Ciencias en Ingeniería Metalúrgica**\n",
    "\n",
    "Dr. Edgar Ivan Castro Cedeño\n",
    "\n",
    "\n",
    "2025\n",
    "\n",
    "Contacto:\n",
    "[edgar.castro@cinvestav.mx](mailto:edgar.castro@cinvestav.mx)"
   ]
  },
  {
   "cell_type": "markdown",
   "metadata": {},
   "source": [
    "## 2. Dimensionamiento de un Reactor Ideal"
   ]
  },
  {
   "cell_type": "markdown",
   "metadata": {},
   "source": [
    "**Consideraciones generales:**\n",
    "\n",
    "- Existe una dependencia funcional entre la velocidad de reacción $r_{\\mathrm{A}}$, y la conversión $X$, i.e. para un valor de $X$ existirá un solo valor de $r_{\\mathrm{A}}$.\n",
    "\n",
    "- La dependencia entre $r_{\\mathrm{A}}$ y $X$ puede expresarse de varias formas:\n",
    "    - Empírica a partir de experimentos.\n",
    "    - Mediante una función que relacione una ley de velocidad de reacción y la conversión."
   ]
  },
  {
   "cell_type": "markdown",
   "metadata": {},
   "source": [
    "## 2.1 Ecuaciones para dimensionamiento de reactores ideales"
   ]
  },
  {
   "cell_type": "markdown",
   "metadata": {},
   "source": [
    "### 2.1.1 Reactores discontinuos (BR)"
   ]
  },
  {
   "cell_type": "markdown",
   "metadata": {},
   "source": [
    "Para el reactor discontinuo, se considera la hipótesis de mezclado perfecto en el reactor, i.e., no existen gradientes de composición, temperatura, velocidad de reacción, etc. en el reactor.\n",
    "\n",
    "Para el caso ideal, el dimensionamiento de los reactores tipo batch está gobernado por el tamaño de lote que se desea producir. "
   ]
  },
  {
   "cell_type": "markdown",
   "metadata": {},
   "source": [
    "$$t = N_{\\mathrm{A}_0} \\int_{0}^{X} \\frac{dX}{-r_{\\mathrm{A}} V}$$"
   ]
  },
  {
   "cell_type": "markdown",
   "metadata": {},
   "source": [
    "<details>\n",
    "<summary><b>Nomenclatura</b></summary>\n",
    "\n",
    "<div class=\"alert alert-info\">\n",
    "\n",
    "- **$V$**: Volumen del reactor CSTR, $[\\mathrm{m^{3}}]$.\n",
    "\n",
    "- **$N_{\\mathrm{A_0}}$**: Cantidad inicial del reactivo limitante en el reactor, $[\\mathrm{mol}]$.\n",
    "\n",
    "- **$X$**: Conversión del reactivo limitante.\n",
    "\n",
    "- **$r_{\\mathrm{A}}$**: Tasa de reacción del reactivo limitante $\\mathrm{A}$ por unidad de volumen, $[\\mathrm{mol.m^{-3}.s^{-1}}]$.\n",
    "\n",
    "</div>\n",
    "\n",
    "</details>"
   ]
  },
  {
   "cell_type": "markdown",
   "metadata": {},
   "source": [
    "**Consideraciones adicionales:**\n",
    "\n",
    "- El término de volumen debe de permanecer dentro de la integral junto con la tasa de reacción, ya que de forma general, pueden cambiar a medida que la reacción procede."
   ]
  },
  {
   "cell_type": "markdown",
   "metadata": {},
   "source": [
    "#### 2.1.1.1 Ley de orden cero, $-r_\\mathrm{A} = k$"
   ]
  },
  {
   "cell_type": "markdown",
   "metadata": {},
   "source": [
    "$$t = N_{\\mathrm{A}_0} \\int_{0}^{X} \\frac{dX}{k V}$$"
   ]
  },
  {
   "cell_type": "markdown",
   "metadata": {},
   "source": [
    "### 2.1.2 Reactor continuo agitado (CSTR)"
   ]
  },
  {
   "cell_type": "markdown",
   "metadata": {},
   "source": [
    "Para el reactor continuo agitado, se consideran las hipótesis de operación en régimen estacionario y de mezclado perfecto en el reactor, i.e., los flujos de entrada y salida son iguales, y no existen gradientes de composición, temperatura, velocidad de reacción, etc. en el reactor.\n",
    "\n",
    "El volumen del reactor se calcula mediante la ecuación algebráica reproducida debajo:"
   ]
  },
  {
   "cell_type": "markdown",
   "metadata": {},
   "source": [
    "$$V = \\frac{F_{\\mathrm{A}_0}}{-r_{\\mathrm{A}}}X$$"
   ]
  },
  {
   "cell_type": "markdown",
   "metadata": {},
   "source": [
    "<details>\n",
    "<summary><b>Nomenclatura</b></summary>\n",
    "\n",
    "<div class=\"alert alert-info\">\n",
    "\n",
    "- **$V$**: Volumen del reactor CSTR, $[\\mathrm{m^{3}}]$.\n",
    "\n",
    "- **$F_{\\mathrm{A_0}}$**: Flujo molar del reactivo limitante a la entrada del reactor, $[\\mathrm{mol.s^{-1}}]$.\n",
    "\n",
    "- **$X$**: Conversión del reactivo limitante.\n",
    "\n",
    "- **$r_{\\mathrm{A}}$**: Tasa de reacción del reactivo limitante $\\mathrm{A}$ por unidad de volumen, $[\\mathrm{mol.m^{-3}.s^{-1}}]$.\n",
    "\n",
    "</div>\n",
    "\n",
    "</details>"
   ]
  },
  {
   "cell_type": "markdown",
   "metadata": {},
   "source": [
    "**Consideraciones adicionales**:\n",
    "\n",
    "- El término $F_{\\mathrm{A_0}}$ se considera como constante (hipótesis de operación en régimen estacionario).\n",
    "\n",
    "- Para un volumen dado, existiran únicamente un par de valores $[r_{\\mathrm{A}}, X]$, que satisfacen la ecuación (hipótesis de reactor perfectamente agitado)."
   ]
  },
  {
   "cell_type": "markdown",
   "metadata": {},
   "source": [
    "### 2.1.3 Reactor Flujo Pistón (PFR)"
   ]
  },
  {
   "cell_type": "markdown",
   "metadata": {},
   "source": [
    "Para el reactor de flujo pistón, se consideran las hipótesis de operación, i.e., los flujos de entrada y salida son iguales.\n",
    "\n",
    "Por definición, pueden existir gradientes de composición, temperatura, velocidad de reacción, etc. sobre el volumen del reactor. Una hipótesis recurrente es considerar que solo existen gradientes sobre el eje axial del reactor.\n",
    "\n",
    "El volumen del reactor se calcula mediante la ecuación integral reproducida debajo:"
   ]
  },
  {
   "cell_type": "markdown",
   "metadata": {},
   "source": [
    "$$V = F_{\\mathrm{A}_0} \\int_{0}^{X} \\frac{dX}{-r_{\\mathrm{A}}}$$"
   ]
  },
  {
   "cell_type": "markdown",
   "metadata": {},
   "source": [
    "<details>\n",
    "<summary><b>Nomenclatura</b></summary>\n",
    "\n",
    "<div class=\"alert alert-info\">\n",
    "\n",
    "- **$V$**: Volumen del reactor CSTR, $[\\mathrm{m^{3}}]$.\n",
    "\n",
    "- **$F_{\\mathrm{A_0}}$**: Flujo molar del reactivo limitante a la entrada del reactor, $[\\mathrm{mol.s^{-1}}]$.\n",
    "\n",
    "- **$X$**: Conversión del reactivo limitante.\n",
    "\n",
    "- **$r_{\\mathrm{A}}$**: Tasa de reacción del reactivo limitante $\\mathrm{A}$ por unidad de volumen, $[\\mathrm{mol.m^{-3}.s^{-1}}]$.\n",
    "\n",
    "</div>\n",
    "\n",
    "</details>"
   ]
  },
  {
   "cell_type": "markdown",
   "metadata": {},
   "source": [
    "**Consideraciones adicionales**:\n",
    "\n",
    "- El término $F_{\\mathrm{A_0}}$ se considera como constante (hipótesis de operación en régimen estacionario).\n",
    "\n",
    "- Para un volumen dado, existen gradientes de conversión dentro del reactor, por lo que se debe resolver la integral definida por algún método: gráfico, analítico o numérico."
   ]
  },
  {
   "cell_type": "markdown",
   "metadata": {},
   "source": [
    "## 2.2 Gráfica de Levenspiel"
   ]
  },
  {
   "cell_type": "markdown",
   "metadata": {},
   "source": [
    "### 2.2.1 Conceptualización"
   ]
  },
  {
   "cell_type": "markdown",
   "metadata": {},
   "source": [
    "El gráfico de Levenspiel es una herramienta que permite dimensionar reactores tipo CSTR y tipo PFR que operan en régimen estacionario, en función del flujo molar en el sistema y la tasa de conversión deseada, a condición que se tengan datos de mediciones de la tasa de velocidad de reacción en función de la conversión."
   ]
  },
  {
   "cell_type": "markdown",
   "metadata": {},
   "source": [
    "En la ***Tabla 1*** se recapitulan las ecuaciones de diseño para los reactores de flujo continuo tipo CSTR y PFR, en términos de la conversión $X$. Para ambos casos, el volumen de reactor es proporcional al flujo molar $F_{\\mathrm{A_0}}$, $[\\mathrm{mol.s^{-1}}]$; e inversamente proporcional a la tasa de reacción $r_{\\mathrm{A}}$, $[\\mathrm{mol.m^{-3}.s^{-1}}]$."
   ]
  },
  {
   "cell_type": "markdown",
   "metadata": {},
   "source": [
    "<center>\n",
    "\n",
    "***Tabla 1. Ecuaciones de diseño para reactores CSTR y PFR, en términos de la conversión*** \n",
    "\n",
    "| Reactor| Acrónimo | Ecuación de diseño | Esquema |\n",
    "|---------|---------|--------------------|:-------:|\n",
    "| Reactor continuo agitado | CSTR    | $$V = \\frac{F_{\\mathrm{A}_0}}{-r_{\\mathrm{A}}}X$$ | <img src=\"figures/images/Continuous_bach_reactor_CSTR.svg\" style=\"width:100px\" title=\"Continuous Stirred Tank Reactor\"> |\n",
    "| Reactor de flujo pistón | PFR    | $$V = F_{\\mathrm{A}_0} \\int_{0}^{X} \\frac{dX}{-r_{\\mathrm{A}}}$$ | <img src=\"figures/images/ReactorPlugFlow.svg\" style=\"width:200px\" title=\"Plug Flow Reactor\"> | \n",
    "\n",
    "</center>"
   ]
  },
  {
   "cell_type": "markdown",
   "metadata": {},
   "source": [
    "Para la construcción de un gráfico de Levenspiel, como los que se muestran en la ***Figura 1***, se siguen las siguientes etapas:\n",
    "\n",
    "1. Graficar los datos experimentales:\n",
    "    - Eje horizontal: Conversión, $X$.\n",
    "    - Eje vertical: Flujo molar entre el negativo de la tasa de reacción $\\frac{F_{\\mathrm{A_0}}}{-r_{\\mathrm{A}}}$ $[\\mathrm{m^{3}}]$.\n",
    "\n",
    "2. Estimar el volumen del reactor, de acuerdo con las especificidades de cada tipo de reactor:\n",
    "    - CSTR: El volumen está dado por el área del rectángulo cuya base es la conversión deseada $X$, y cuya altura es el valor de $\\frac{F_{\\mathrm{A_0}}}{-r_{\\mathrm{A}}}$ que le corresponda.\n",
    "    - PFR: El volumen está dado por el área bajo la curva $\\frac{F_{\\mathrm{A_0}}}{-r_{\\mathrm{A}}}$ vs $X$, para la conversión deseada $X$. "
   ]
  },
  {
   "cell_type": "markdown",
   "metadata": {},
   "source": [
    "<center>\n",
    "\n",
    "<img src=\"figures/images/levenspiel.png\" style=\"width:800px\" title=\"Levenspiel plots\">\n",
    "\n",
    "***Figura 1: Gráfico de Levenspiel para el dimensionamiento de un reactor. Adaptado de [Fogler, 2017, pp. 39-47]***\n",
    "\n",
    "</center>"
   ]
  },
  {
   "cell_type": "markdown",
   "metadata": {},
   "source": [
    "\n",
    "<div class=\"alert alert-warning\">\n",
    "\n",
    "<center>\n",
    "\n",
    "**¿Cómo se pueden estimar las áreas en un gráfico de Levenspiel?**\n",
    "\n",
    "</center>\n",
    "\n",
    "\n",
    "\n",
    "</div>"
   ]
  },
  {
   "cell_type": "markdown",
   "metadata": {},
   "source": [
    "### 2.2.2 Ejemplo de aplicación"
   ]
  },
  {
   "cell_type": "markdown",
   "metadata": {},
   "source": [
    "#### 2.2.2.1 Dimensionamiento de reactores CSTR y PFR a partir de datos empíricos"
   ]
  },
  {
   "cell_type": "markdown",
   "metadata": {},
   "source": [
    "Adaptado de: ***[Fogler, 2017, pp. 39-47]***"
   ]
  },
  {
   "cell_type": "markdown",
   "metadata": {},
   "source": [
    "Considere la reacción isotérmica de isomerización de una fase gaseosa:\n",
    "\n",
    "$$\\mathrm{A \\longrightarrow B}$$\n",
    "\n",
    "Estime el volumen de los reactores CSTR y PFR que se requieren para obtener las distintas conversiones que se muestran en la ***Tabla 2***, considerando que el flujo molar en el reactor a dimensionar será  $F_{\\mathrm{A_0}}=0.4$ $[\\mathrm{mol.s^{-1}}]$, y las mediciones de laboratorio de tasa de reacción en función de la conversión que se muestran en la ***Tabla 2***, y que fueron obtenidas en condiciones de temperatura $T=500$ $\\mathrm{K}$ y presión $P=8.2$ $\\mathrm{atm}$. "
   ]
  },
  {
   "cell_type": "markdown",
   "metadata": {},
   "source": [
    "<center>\n",
    "\n",
    "***Tabla 2. Datos procesados***\n",
    "\n",
    "| $$X$$ | 0 | 0.1 | 0.2 | 0.4 | 0.6 | 0.7 | 0.8 |\n",
    "|----|--|--|--|--|--|--|--|\n",
    "| $$-r_{\\mathrm{A}} \\,\\, [\\mathrm{(mol.m^{-3}).s^{-1}}]$$ | 0.45 | 0.37 | 0.30 | 0.195 | 0.113 | 0.079 | 0.05 |\n"
   ]
  },
  {
   "cell_type": "markdown",
   "metadata": {},
   "source": [
    "**Solución**"
   ]
  },
  {
   "cell_type": "markdown",
   "metadata": {},
   "source": [
    "1. Calcular los términos $\\frac{1}{-r_{\\mathrm{A}}}$  y $\\frac{F_{\\mathrm{A_0}}}{-r_{\\mathrm{A}}}$."
   ]
  },
  {
   "cell_type": "code",
   "execution_count": 13,
   "metadata": {},
   "outputs": [
    {
     "data": {
      "application/vnd.microsoft.datawrangler.viewer.v0+json": {
       "columns": [
        {
         "name": "index",
         "rawType": "int64",
         "type": "integer"
        },
        {
         "name": "X",
         "rawType": "float64",
         "type": "float"
        },
        {
         "name": "-rA",
         "rawType": "float64",
         "type": "float"
        },
        {
         "name": "1/-rA",
         "rawType": "float64",
         "type": "float"
        },
        {
         "name": "F/-rA",
         "rawType": "float64",
         "type": "float"
        }
       ],
       "ref": "1c1d426a-adfa-4c17-8426-830c893588d2",
       "rows": [
        [
         "0",
         "0.0",
         "0.45",
         "2.2222222222222223",
         "0.888888888888889"
        ],
        [
         "1",
         "0.1",
         "0.37",
         "2.7027027027027026",
         "1.0810810810810811"
        ],
        [
         "2",
         "0.2",
         "0.3",
         "3.3333333333333335",
         "1.3333333333333335"
        ],
        [
         "3",
         "0.4",
         "0.195",
         "5.128205128205128",
         "2.051282051282051"
        ],
        [
         "4",
         "0.6",
         "0.113",
         "8.849557522123893",
         "3.5398230088495577"
        ],
        [
         "5",
         "0.7",
         "0.079",
         "12.658227848101266",
         "5.063291139240507"
        ],
        [
         "6",
         "0.8",
         "0.05",
         "20.0",
         "8.0"
        ]
       ],
       "shape": {
        "columns": 4,
        "rows": 7
       }
      },
      "text/html": [
       "<div>\n",
       "<style scoped>\n",
       "    .dataframe tbody tr th:only-of-type {\n",
       "        vertical-align: middle;\n",
       "    }\n",
       "\n",
       "    .dataframe tbody tr th {\n",
       "        vertical-align: top;\n",
       "    }\n",
       "\n",
       "    .dataframe thead th {\n",
       "        text-align: right;\n",
       "    }\n",
       "</style>\n",
       "<table border=\"1\" class=\"dataframe\">\n",
       "  <thead>\n",
       "    <tr style=\"text-align: right;\">\n",
       "      <th></th>\n",
       "      <th>X</th>\n",
       "      <th>-rA</th>\n",
       "      <th>1/-rA</th>\n",
       "      <th>F/-rA</th>\n",
       "    </tr>\n",
       "  </thead>\n",
       "  <tbody>\n",
       "    <tr>\n",
       "      <th>0</th>\n",
       "      <td>0.0</td>\n",
       "      <td>0.450</td>\n",
       "      <td>2.222222</td>\n",
       "      <td>0.888889</td>\n",
       "    </tr>\n",
       "    <tr>\n",
       "      <th>1</th>\n",
       "      <td>0.1</td>\n",
       "      <td>0.370</td>\n",
       "      <td>2.702703</td>\n",
       "      <td>1.081081</td>\n",
       "    </tr>\n",
       "    <tr>\n",
       "      <th>2</th>\n",
       "      <td>0.2</td>\n",
       "      <td>0.300</td>\n",
       "      <td>3.333333</td>\n",
       "      <td>1.333333</td>\n",
       "    </tr>\n",
       "    <tr>\n",
       "      <th>3</th>\n",
       "      <td>0.4</td>\n",
       "      <td>0.195</td>\n",
       "      <td>5.128205</td>\n",
       "      <td>2.051282</td>\n",
       "    </tr>\n",
       "    <tr>\n",
       "      <th>4</th>\n",
       "      <td>0.6</td>\n",
       "      <td>0.113</td>\n",
       "      <td>8.849558</td>\n",
       "      <td>3.539823</td>\n",
       "    </tr>\n",
       "    <tr>\n",
       "      <th>5</th>\n",
       "      <td>0.7</td>\n",
       "      <td>0.079</td>\n",
       "      <td>12.658228</td>\n",
       "      <td>5.063291</td>\n",
       "    </tr>\n",
       "    <tr>\n",
       "      <th>6</th>\n",
       "      <td>0.8</td>\n",
       "      <td>0.050</td>\n",
       "      <td>20.000000</td>\n",
       "      <td>8.000000</td>\n",
       "    </tr>\n",
       "  </tbody>\n",
       "</table>\n",
       "</div>"
      ],
      "text/plain": [
       "     X    -rA      1/-rA     F/-rA\n",
       "0  0.0  0.450   2.222222  0.888889\n",
       "1  0.1  0.370   2.702703  1.081081\n",
       "2  0.2  0.300   3.333333  1.333333\n",
       "3  0.4  0.195   5.128205  2.051282\n",
       "4  0.6  0.113   8.849558  3.539823\n",
       "5  0.7  0.079  12.658228  5.063291\n",
       "6  0.8  0.050  20.000000  8.000000"
      ]
     },
     "metadata": {},
     "output_type": "display_data"
    }
   ],
   "source": [
    "# Entrada\n",
    "FA0 = 0.4 # [mol.s-1]\n",
    "X = np.array([0, 0.1, 0.2, 0.4, 0.6, 0.7, 0.8]) # dimless\n",
    "rA = -1. * np.array([0.45, 0.37, 0.30, 0.195, 0.113, 0.079, 0.05]) # [(mol.m-3).s-1]\n",
    "\n",
    "# Creación de DataFrame con datos de interés\n",
    "df = pd.DataFrame({\"X\": X, '-rA': -rA})\n",
    "df['1/-rA'] = 1/df['-rA'] # [(mol-1.m3).s]\n",
    "df['F/-rA'] = FA0 * df['1/-rA'] # [m3]\n",
    "\n",
    "display(df)"
   ]
  },
  {
   "cell_type": "markdown",
   "metadata": {},
   "source": [
    "2. Construir los gráficos de Levenspiel"
   ]
  },
  {
   "cell_type": "code",
   "execution_count": 14,
   "metadata": {},
   "outputs": [
    {
     "data": {
      "image/png": "[encoded data removed]",
      "text/plain": [
       "<Figure size 640x480 with 1 Axes>"
      ]
     },
     "metadata": {},
     "output_type": "display_data"
    }
   ],
   "source": [
    "fig, ax = plt.subplots()\n",
    "x = df[\"X\"].to_numpy()\n",
    "y = df[\"F/-rA\"].to_numpy()\n",
    "ax.plot(x, y, ls='-', marker='o', label='datos procesados') # datos procesados\n",
    "ax.fill_between(x, y[-1]*np.ones_like(x), label='Levenspiel CSTR', color='violet', alpha=0.25) # Levenspiel para CSTR\n",
    "ax.fill_between(x, y, label='Levenspiel PFR', color='darkgray', alpha=0.5) # Levenspiel para PFR\n",
    "\n",
    "ax.set(xlim=(0, 1), ylim=(0, 10),xlabel=r'Conversion, $X$ [-]', ylabel=r'$(F_{A_0}/-r_{A})$  [$m^3$]')\n",
    "ax.legend()\n",
    "ax.grid(ls=\"--\")\n",
    "fig.tight_layout()\n",
    "plt.show()"
   ]
  },
  {
   "cell_type": "markdown",
   "metadata": {},
   "source": [
    "3. Estimar los volúmenes de los reactores (gráficamente o con un método numérico)"
   ]
  },
  {
   "cell_type": "code",
   "execution_count": 15,
   "metadata": {},
   "outputs": [
    {
     "data": {
      "application/vnd.microsoft.datawrangler.viewer.v0+json": {
       "columns": [
        {
         "name": "index",
         "rawType": "int64",
         "type": "integer"
        },
        {
         "name": "X",
         "rawType": "float64",
         "type": "float"
        },
        {
         "name": "-rA",
         "rawType": "float64",
         "type": "float"
        },
        {
         "name": "Vcstr",
         "rawType": "float64",
         "type": "float"
        },
        {
         "name": "Vpfr(trapz)",
         "rawType": "float64",
         "type": "float"
        },
        {
         "name": "Vpfr(simps)",
         "rawType": "float64",
         "type": "float"
        }
       ],
       "ref": "5e918d23-ff2e-451d-b826-79f8a95c9329",
       "rows": [
        [
         "0",
         "0.0",
         "0.45",
         "0.0",
         "0.0",
         "0.0"
        ],
        [
         "1",
         "0.1",
         "0.37",
         "0.10810810810810811",
         "0.09849849849849851",
         "0.09849849849849851"
        ],
        [
         "2",
         "0.2",
         "0.3",
         "0.2666666666666667",
         "0.21921921921921925",
         "0.21821821821821819"
        ],
        [
         "3",
         "0.4",
         "0.195",
         "0.8205128205128205",
         "0.5576807576807578",
         "0.5519365519365519"
        ],
        [
         "4",
         "0.6",
         "0.113",
         "2.1238938053097347",
         "1.1167912636939183",
         "1.0901038547056243"
        ],
        [
         "5",
         "0.7",
         "0.079",
         "3.5443037974683542",
         "1.5469469710984214",
         "1.5159306862678652"
        ],
        [
         "6",
         "0.8",
         "0.05",
         "6.4",
         "2.2001115280604475",
         "2.1498701068993444"
        ]
       ],
       "shape": {
        "columns": 5,
        "rows": 7
       }
      },
      "text/html": [
       "<div>\n",
       "<style scoped>\n",
       "    .dataframe tbody tr th:only-of-type {\n",
       "        vertical-align: middle;\n",
       "    }\n",
       "\n",
       "    .dataframe tbody tr th {\n",
       "        vertical-align: top;\n",
       "    }\n",
       "\n",
       "    .dataframe thead th {\n",
       "        text-align: right;\n",
       "    }\n",
       "</style>\n",
       "<table border=\"1\" class=\"dataframe\">\n",
       "  <thead>\n",
       "    <tr style=\"text-align: right;\">\n",
       "      <th></th>\n",
       "      <th>X</th>\n",
       "      <th>-rA</th>\n",
       "      <th>Vcstr</th>\n",
       "      <th>Vpfr(trapz)</th>\n",
       "      <th>Vpfr(simps)</th>\n",
       "    </tr>\n",
       "  </thead>\n",
       "  <tbody>\n",
       "    <tr>\n",
       "      <th>0</th>\n",
       "      <td>0.0</td>\n",
       "      <td>0.450</td>\n",
       "      <td>0.000000</td>\n",
       "      <td>0.000000</td>\n",
       "      <td>0.000000</td>\n",
       "    </tr>\n",
       "    <tr>\n",
       "      <th>1</th>\n",
       "      <td>0.1</td>\n",
       "      <td>0.370</td>\n",
       "      <td>0.108108</td>\n",
       "      <td>0.098498</td>\n",
       "      <td>0.098498</td>\n",
       "    </tr>\n",
       "    <tr>\n",
       "      <th>2</th>\n",
       "      <td>0.2</td>\n",
       "      <td>0.300</td>\n",
       "      <td>0.266667</td>\n",
       "      <td>0.219219</td>\n",
       "      <td>0.218218</td>\n",
       "    </tr>\n",
       "    <tr>\n",
       "      <th>3</th>\n",
       "      <td>0.4</td>\n",
       "      <td>0.195</td>\n",
       "      <td>0.820513</td>\n",
       "      <td>0.557681</td>\n",
       "      <td>0.551937</td>\n",
       "    </tr>\n",
       "    <tr>\n",
       "      <th>4</th>\n",
       "      <td>0.6</td>\n",
       "      <td>0.113</td>\n",
       "      <td>2.123894</td>\n",
       "      <td>1.116791</td>\n",
       "      <td>1.090104</td>\n",
       "    </tr>\n",
       "    <tr>\n",
       "      <th>5</th>\n",
       "      <td>0.7</td>\n",
       "      <td>0.079</td>\n",
       "      <td>3.544304</td>\n",
       "      <td>1.546947</td>\n",
       "      <td>1.515931</td>\n",
       "    </tr>\n",
       "    <tr>\n",
       "      <th>6</th>\n",
       "      <td>0.8</td>\n",
       "      <td>0.050</td>\n",
       "      <td>6.400000</td>\n",
       "      <td>2.200112</td>\n",
       "      <td>2.149870</td>\n",
       "    </tr>\n",
       "  </tbody>\n",
       "</table>\n",
       "</div>"
      ],
      "text/plain": [
       "     X    -rA     Vcstr  Vpfr(trapz)  Vpfr(simps)\n",
       "0  0.0  0.450  0.000000     0.000000     0.000000\n",
       "1  0.1  0.370  0.108108     0.098498     0.098498\n",
       "2  0.2  0.300  0.266667     0.219219     0.218218\n",
       "3  0.4  0.195  0.820513     0.557681     0.551937\n",
       "4  0.6  0.113  2.123894     1.116791     1.090104\n",
       "5  0.7  0.079  3.544304     1.546947     1.515931\n",
       "6  0.8  0.050  6.400000     2.200112     2.149870"
      ]
     },
     "metadata": {},
     "output_type": "display_data"
    }
   ],
   "source": [
    "# Estimación volúmenes CSTR\n",
    "df[\"Vcstr\"] = df[\"X\"] * df[\"F/-rA\"] #m3\n",
    "\n",
    "# Estimacion de volúmenes PFR\n",
    "df[\"Vpfr(trapz)\"] = 0.0\n",
    "df[\"Vpfr(simps)\"] = 0.0\n",
    "for idx, row in df.iterrows():\n",
    "    if idx > 0:\n",
    "        x = df.loc[:idx, 'X'] # X\n",
    "        y = df.loc[:idx, 'F/-rA'] # (F/-rA)\n",
    "        df.at[idx, 'Vpfr(trapz)'] = trapezoid(y, x)\n",
    "        df.at[idx, 'Vpfr(simps)'] = simpson(y, x)\n",
    "\n",
    "display(df[[\"X\", \"-rA\", \"Vcstr\", \"Vpfr(trapz)\", \"Vpfr(simps)\"]])"
   ]
  },
  {
   "cell_type": "markdown",
   "metadata": {},
   "source": [
    "\n",
    "<div class=\"alert alert-warning\">\n",
    "\n",
    "<center>\n",
    "\n",
    "Para casos isotérmicos, generalmente a conversión equivalente, el volumen de un reactor CSTR es mayor al de un reactor PFR. \n",
    "\n",
    "¿Por qué sucede esto?\n",
    "\n",
    "</center>\n",
    "\n",
    "\n",
    "\n",
    "</div>"
   ]
  },
  {
   "cell_type": "markdown",
   "metadata": {},
   "source": [
    "A partir de los datos calculados se pueden trazar perfiles de conversión y de velocidad de reacción para reactores CSTR, y a lo largo del volumen de reactores PFR."
   ]
  },
  {
   "cell_type": "code",
   "execution_count": 16,
   "metadata": {},
   "outputs": [
    {
     "data": {
      "image/png": "[encoded data removed]",
      "text/plain": [
       "<Figure size 640x480 with 2 Axes>"
      ]
     },
     "metadata": {},
     "output_type": "display_data"
    }
   ],
   "source": [
    "fig, axes = plt.subplots(ncols=2, sharex=True)\n",
    "\n",
    "x0 = 1e3*df['Vcstr'].to_numpy()  # Volume CSTR in dm3\n",
    "x1, x2 = 1e3*df['Vpfr(trapz)'].to_numpy(), 1e3*df['Vpfr(simps)'].to_numpy() # Volume PFR in dm3\n",
    "y1 = df['X'].to_numpy() # conversion X [-]\n",
    "y2 = df['-rA'].to_numpy() # reaction rate [(mol.m-3).s-1]\n",
    "\n",
    "axes[0].stem(x0, y1, linefmt='-', markerfmt='o', basefmt='None', orientation='vertical', label='CSTR')\n",
    "axes[0].plot(x1, y1, ls='-', marker='o', label='PFR(Trapz)')\n",
    "axes[0].plot(x2, y1, ls='-', marker='o', label='PFR(Simps)')\n",
    "axes[0].set(xlim=(0, 2500), ylim=(0, 1), xlabel=r'V [dm$^3$]', ylabel='Conversion, X')\n",
    "\n",
    "axes[1].stem(y2, x0, linefmt='-', markerfmt='o', basefmt='None', orientation='horizontal', label='CSTR')\n",
    "axes[1].plot(x1, y2, ls='-', marker='o', label='PFR(Trapz)')\n",
    "axes[1].plot(x2, y2, ls='-', marker='o', label='PFR(Simps)')\n",
    "axes[1].set(xlim=(0, 7000), ylim=(0, 0.5), xlabel=r'V [dm$^3$]', ylabel=r'$-r_{A}$ [mol.m$^{-3}$.s$^{-1}$]')\n",
    "\n",
    "for ax in axes:\n",
    "    ax.grid(ls=\"--\")\n",
    "    ax.legend()\n",
    "\n",
    "fig.tight_layout()\n",
    "plt.show()"
   ]
  },
  {
   "cell_type": "markdown",
   "metadata": {},
   "source": [
    "**Reactores CSTR:**\n",
    "\n",
    "Como consecuencia de la hipótesis de mezclado perfecto, los reactores CSTR siempre operan a la tasa de reacción más baja (la tasa a la salida).\n",
    "\n",
    "**Reactores PFR:**\n",
    "\n",
    "En un reactor PFR, la tasa de reacción es grande a la entrada del reactor y disminuye de forma gradual a medida que un elemento se acerca a la salida, donde la tasa de reacción es baja. Este comportamiento es típico para reactores en régimen de operación isotérmico."
   ]
  },
  {
   "cell_type": "markdown",
   "metadata": {},
   "source": [
    "\n",
    "<div class=\"alert alert-warning\">\n",
    "\n",
    "<center>\n",
    "\n",
    "**Si bien este comportamiento es general para reacciones isotérmicas, existen excepciones como el caso de reacciones autocatalíticas, reacciones no isotérmicas, etc.**\n",
    "\n",
    "</center>\n",
    "\n",
    "\n",
    "\n",
    "</div>"
   ]
  },
  {
   "cell_type": "markdown",
   "metadata": {},
   "source": [
    "#### 2.2.2.2 Dimensionamiento de reactores CSTR y PFR a partir de leyes de velocidad de reacción"
   ]
  },
  {
   "cell_type": "code",
   "execution_count": 17,
   "metadata": {},
   "outputs": [],
   "source": [
    "def rA_O1(k, C0, X):\n",
    "    return -k*C0*(1-X)"
   ]
  },
  {
   "cell_type": "markdown",
   "metadata": {},
   "source": [
    "##### Pandas"
   ]
  },
  {
   "cell_type": "code",
   "execution_count": 21,
   "metadata": {},
   "outputs": [
    {
     "data": {
      "application/vnd.microsoft.datawrangler.viewer.v0+json": {
       "columns": [
        {
         "name": "index",
         "rawType": "int64",
         "type": "integer"
        },
        {
         "name": "X",
         "rawType": "float64",
         "type": "float"
        },
        {
         "name": "-rA",
         "rawType": "float64",
         "type": "float"
        },
        {
         "name": "1/-rA",
         "rawType": "float64",
         "type": "float"
        },
        {
         "name": "F/-rA",
         "rawType": "float64",
         "type": "float"
        }
       ],
       "ref": "9580d73e-87a8-4794-947f-33e5e5135018",
       "rows": [
        [
         "0",
         "0.0",
         "10.0",
         "0.1",
         "0.1"
        ],
        [
         "1",
         "0.0163265306122449",
         "9.83673469387755",
         "0.1016597510373444",
         "0.1016597510373444"
        ],
        [
         "2",
         "0.0326530612244898",
         "9.673469387755102",
         "0.10337552742616034",
         "0.10337552742616034"
        ],
        [
         "3",
         "0.0489795918367347",
         "9.510204081632653",
         "0.10515021459227468",
         "0.10515021459227468"
        ],
        [
         "4",
         "0.0653061224489796",
         "9.346938775510203",
         "0.10698689956331879",
         "0.10698689956331879"
        ],
        [
         "5",
         "0.0816326530612245",
         "9.183673469387756",
         "0.10888888888888888",
         "0.10888888888888888"
        ],
        [
         "6",
         "0.0979591836734694",
         "9.020408163265305",
         "0.11085972850678734",
         "0.11085972850678734"
        ],
        [
         "7",
         "0.1142857142857143",
         "8.857142857142858",
         "0.11290322580645161",
         "0.11290322580645161"
        ],
        [
         "8",
         "0.1306122448979592",
         "8.693877551020408",
         "0.11502347417840375",
         "0.11502347417840375"
        ],
        [
         "9",
         "0.1469387755102041",
         "8.53061224489796",
         "0.11722488038277512",
         "0.11722488038277512"
        ],
        [
         "10",
         "0.163265306122449",
         "8.36734693877551",
         "0.11951219512195121",
         "0.11951219512195121"
        ],
        [
         "11",
         "0.1795918367346939",
         "8.204081632653061",
         "0.12189054726368159",
         "0.12189054726368159"
        ],
        [
         "12",
         "0.1959183673469388",
         "8.040816326530612",
         "0.12436548223350255",
         "0.12436548223350255"
        ],
        [
         "13",
         "0.2122448979591837",
         "7.877551020408164",
         "0.12694300518134716",
         "0.12694300518134716"
        ],
        [
         "14",
         "0.2285714285714286",
         "7.7142857142857135",
         "0.12962962962962965",
         "0.12962962962962965"
        ],
        [
         "15",
         "0.2448979591836735",
         "7.551020408163264",
         "0.13243243243243244",
         "0.13243243243243244"
        ],
        [
         "16",
         "0.2612244897959184",
         "7.387755102040816",
         "0.13535911602209946",
         "0.13535911602209946"
        ],
        [
         "17",
         "0.27755102040816326",
         "7.224489795918368",
         "0.1384180790960452",
         "0.1384180790960452"
        ],
        [
         "18",
         "0.2938775510204082",
         "7.061224489795919",
         "0.14161849710982657",
         "0.14161849710982657"
        ],
        [
         "19",
         "0.3102040816326531",
         "6.897959183673469",
         "0.14497041420118345",
         "0.14497041420118345"
        ],
        [
         "20",
         "0.326530612244898",
         "6.73469387755102",
         "0.1484848484848485",
         "0.1484848484848485"
        ],
        [
         "21",
         "0.34285714285714286",
         "6.571428571428571",
         "0.15217391304347827",
         "0.15217391304347827"
        ],
        [
         "22",
         "0.3591836734693878",
         "6.408163265306122",
         "0.15605095541401276",
         "0.15605095541401276"
        ],
        [
         "23",
         "0.3755102040816327",
         "6.244897959183673",
         "0.16013071895424838",
         "0.16013071895424838"
        ],
        [
         "24",
         "0.3918367346938776",
         "6.081632653061224",
         "0.1644295302013423",
         "0.1644295302013423"
        ],
        [
         "25",
         "0.40816326530612246",
         "5.918367346938775",
         "0.16896551724137931",
         "0.16896551724137931"
        ],
        [
         "26",
         "0.4244897959183674",
         "5.755102040816327",
         "0.17375886524822692",
         "0.17375886524822692"
        ],
        [
         "27",
         "0.4408163265306123",
         "5.591836734693877",
         "0.17883211678832117",
         "0.17883211678832117"
        ],
        [
         "28",
         "0.4571428571428572",
         "5.428571428571428",
         "0.1842105263157895",
         "0.1842105263157895"
        ],
        [
         "29",
         "0.47346938775510206",
         "5.26530612244898",
         "0.18992248062015504",
         "0.18992248062015504"
        ],
        [
         "30",
         "0.489795918367347",
         "5.10204081632653",
         "0.19600000000000004",
         "0.19600000000000004"
        ],
        [
         "31",
         "0.5061224489795919",
         "4.938775510204081",
         "0.20247933884297523",
         "0.20247933884297523"
        ],
        [
         "32",
         "0.5224489795918368",
         "4.775510204081632",
         "0.20940170940170943",
         "0.20940170940170943"
        ],
        [
         "33",
         "0.5387755102040817",
         "4.612244897959183",
         "0.21681415929203543",
         "0.21681415929203543"
        ],
        [
         "34",
         "0.5551020408163265",
         "4.448979591836735",
         "0.22477064220183485",
         "0.22477064220183485"
        ],
        [
         "35",
         "0.5714285714285715",
         "4.285714285714285",
         "0.2333333333333334",
         "0.2333333333333334"
        ],
        [
         "36",
         "0.5877551020408164",
         "4.122448979591836",
         "0.2425742574257426",
         "0.2425742574257426"
        ],
        [
         "37",
         "0.6040816326530613",
         "3.9591836734693873",
         "0.2525773195876289",
         "0.2525773195876289"
        ],
        [
         "38",
         "0.6204081632653062",
         "3.7959183673469377",
         "0.26344086021505386",
         "0.26344086021505386"
        ],
        [
         "39",
         "0.6367346938775511",
         "3.632653061224489",
         "0.27528089887640456",
         "0.27528089887640456"
        ],
        [
         "40",
         "0.653061224489796",
         "3.4693877551020402",
         "0.2882352941176471",
         "0.2882352941176471"
        ],
        [
         "41",
         "0.6693877551020408",
         "3.3061224489795915",
         "0.30246913580246915",
         "0.30246913580246915"
        ],
        [
         "42",
         "0.6857142857142857",
         "3.142857142857143",
         "0.3181818181818182",
         "0.3181818181818182"
        ],
        [
         "43",
         "0.7020408163265307",
         "2.979591836734693",
         "0.33561643835616445",
         "0.33561643835616445"
        ],
        [
         "44",
         "0.7183673469387756",
         "2.816326530612244",
         "0.3550724637681161",
         "0.3550724637681161"
        ],
        [
         "45",
         "0.7346938775510204",
         "2.6530612244897958",
         "0.37692307692307697",
         "0.37692307692307697"
        ],
        [
         "46",
         "0.7510204081632654",
         "2.4897959183673457",
         "0.4016393442622953",
         "0.4016393442622953"
        ],
        [
         "47",
         "0.7673469387755103",
         "2.326530612244897",
         "0.42982456140350894",
         "0.42982456140350894"
        ],
        [
         "48",
         "0.7836734693877552",
         "2.1632653061224483",
         "0.4622641509433964",
         "0.4622641509433964"
        ],
        [
         "49",
         "0.8",
         "1.9999999999999996",
         "0.5000000000000001",
         "0.5000000000000001"
        ]
       ],
       "shape": {
        "columns": 4,
        "rows": 50
       }
      },
      "text/html": [
       "<div>\n",
       "<style scoped>\n",
       "    .dataframe tbody tr th:only-of-type {\n",
       "        vertical-align: middle;\n",
       "    }\n",
       "\n",
       "    .dataframe tbody tr th {\n",
       "        vertical-align: top;\n",
       "    }\n",
       "\n",
       "    .dataframe thead th {\n",
       "        text-align: right;\n",
       "    }\n",
       "</style>\n",
       "<table border=\"1\" class=\"dataframe\">\n",
       "  <thead>\n",
       "    <tr style=\"text-align: right;\">\n",
       "      <th></th>\n",
       "      <th>X</th>\n",
       "      <th>-rA</th>\n",
       "      <th>1/-rA</th>\n",
       "      <th>F/-rA</th>\n",
       "    </tr>\n",
       "  </thead>\n",
       "  <tbody>\n",
       "    <tr>\n",
       "      <th>0</th>\n",
       "      <td>0.000000</td>\n",
       "      <td>10.000000</td>\n",
       "      <td>0.100000</td>\n",
       "      <td>0.100000</td>\n",
       "    </tr>\n",
       "    <tr>\n",
       "      <th>1</th>\n",
       "      <td>0.016327</td>\n",
       "      <td>9.836735</td>\n",
       "      <td>0.101660</td>\n",
       "      <td>0.101660</td>\n",
       "    </tr>\n",
       "    <tr>\n",
       "      <th>2</th>\n",
       "      <td>0.032653</td>\n",
       "      <td>9.673469</td>\n",
       "      <td>0.103376</td>\n",
       "      <td>0.103376</td>\n",
       "    </tr>\n",
       "    <tr>\n",
       "      <th>3</th>\n",
       "      <td>0.048980</td>\n",
       "      <td>9.510204</td>\n",
       "      <td>0.105150</td>\n",
       "      <td>0.105150</td>\n",
       "    </tr>\n",
       "    <tr>\n",
       "      <th>4</th>\n",
       "      <td>0.065306</td>\n",
       "      <td>9.346939</td>\n",
       "      <td>0.106987</td>\n",
       "      <td>0.106987</td>\n",
       "    </tr>\n",
       "    <tr>\n",
       "      <th>5</th>\n",
       "      <td>0.081633</td>\n",
       "      <td>9.183673</td>\n",
       "      <td>0.108889</td>\n",
       "      <td>0.108889</td>\n",
       "    </tr>\n",
       "    <tr>\n",
       "      <th>6</th>\n",
       "      <td>0.097959</td>\n",
       "      <td>9.020408</td>\n",
       "      <td>0.110860</td>\n",
       "      <td>0.110860</td>\n",
       "    </tr>\n",
       "    <tr>\n",
       "      <th>7</th>\n",
       "      <td>0.114286</td>\n",
       "      <td>8.857143</td>\n",
       "      <td>0.112903</td>\n",
       "      <td>0.112903</td>\n",
       "    </tr>\n",
       "    <tr>\n",
       "      <th>8</th>\n",
       "      <td>0.130612</td>\n",
       "      <td>8.693878</td>\n",
       "      <td>0.115023</td>\n",
       "      <td>0.115023</td>\n",
       "    </tr>\n",
       "    <tr>\n",
       "      <th>9</th>\n",
       "      <td>0.146939</td>\n",
       "      <td>8.530612</td>\n",
       "      <td>0.117225</td>\n",
       "      <td>0.117225</td>\n",
       "    </tr>\n",
       "    <tr>\n",
       "      <th>10</th>\n",
       "      <td>0.163265</td>\n",
       "      <td>8.367347</td>\n",
       "      <td>0.119512</td>\n",
       "      <td>0.119512</td>\n",
       "    </tr>\n",
       "    <tr>\n",
       "      <th>11</th>\n",
       "      <td>0.179592</td>\n",
       "      <td>8.204082</td>\n",
       "      <td>0.121891</td>\n",
       "      <td>0.121891</td>\n",
       "    </tr>\n",
       "    <tr>\n",
       "      <th>12</th>\n",
       "      <td>0.195918</td>\n",
       "      <td>8.040816</td>\n",
       "      <td>0.124365</td>\n",
       "      <td>0.124365</td>\n",
       "    </tr>\n",
       "    <tr>\n",
       "      <th>13</th>\n",
       "      <td>0.212245</td>\n",
       "      <td>7.877551</td>\n",
       "      <td>0.126943</td>\n",
       "      <td>0.126943</td>\n",
       "    </tr>\n",
       "    <tr>\n",
       "      <th>14</th>\n",
       "      <td>0.228571</td>\n",
       "      <td>7.714286</td>\n",
       "      <td>0.129630</td>\n",
       "      <td>0.129630</td>\n",
       "    </tr>\n",
       "    <tr>\n",
       "      <th>15</th>\n",
       "      <td>0.244898</td>\n",
       "      <td>7.551020</td>\n",
       "      <td>0.132432</td>\n",
       "      <td>0.132432</td>\n",
       "    </tr>\n",
       "    <tr>\n",
       "      <th>16</th>\n",
       "      <td>0.261224</td>\n",
       "      <td>7.387755</td>\n",
       "      <td>0.135359</td>\n",
       "      <td>0.135359</td>\n",
       "    </tr>\n",
       "    <tr>\n",
       "      <th>17</th>\n",
       "      <td>0.277551</td>\n",
       "      <td>7.224490</td>\n",
       "      <td>0.138418</td>\n",
       "      <td>0.138418</td>\n",
       "    </tr>\n",
       "    <tr>\n",
       "      <th>18</th>\n",
       "      <td>0.293878</td>\n",
       "      <td>7.061224</td>\n",
       "      <td>0.141618</td>\n",
       "      <td>0.141618</td>\n",
       "    </tr>\n",
       "    <tr>\n",
       "      <th>19</th>\n",
       "      <td>0.310204</td>\n",
       "      <td>6.897959</td>\n",
       "      <td>0.144970</td>\n",
       "      <td>0.144970</td>\n",
       "    </tr>\n",
       "    <tr>\n",
       "      <th>20</th>\n",
       "      <td>0.326531</td>\n",
       "      <td>6.734694</td>\n",
       "      <td>0.148485</td>\n",
       "      <td>0.148485</td>\n",
       "    </tr>\n",
       "    <tr>\n",
       "      <th>21</th>\n",
       "      <td>0.342857</td>\n",
       "      <td>6.571429</td>\n",
       "      <td>0.152174</td>\n",
       "      <td>0.152174</td>\n",
       "    </tr>\n",
       "    <tr>\n",
       "      <th>22</th>\n",
       "      <td>0.359184</td>\n",
       "      <td>6.408163</td>\n",
       "      <td>0.156051</td>\n",
       "      <td>0.156051</td>\n",
       "    </tr>\n",
       "    <tr>\n",
       "      <th>23</th>\n",
       "      <td>0.375510</td>\n",
       "      <td>6.244898</td>\n",
       "      <td>0.160131</td>\n",
       "      <td>0.160131</td>\n",
       "    </tr>\n",
       "    <tr>\n",
       "      <th>24</th>\n",
       "      <td>0.391837</td>\n",
       "      <td>6.081633</td>\n",
       "      <td>0.164430</td>\n",
       "      <td>0.164430</td>\n",
       "    </tr>\n",
       "    <tr>\n",
       "      <th>25</th>\n",
       "      <td>0.408163</td>\n",
       "      <td>5.918367</td>\n",
       "      <td>0.168966</td>\n",
       "      <td>0.168966</td>\n",
       "    </tr>\n",
       "    <tr>\n",
       "      <th>26</th>\n",
       "      <td>0.424490</td>\n",
       "      <td>5.755102</td>\n",
       "      <td>0.173759</td>\n",
       "      <td>0.173759</td>\n",
       "    </tr>\n",
       "    <tr>\n",
       "      <th>27</th>\n",
       "      <td>0.440816</td>\n",
       "      <td>5.591837</td>\n",
       "      <td>0.178832</td>\n",
       "      <td>0.178832</td>\n",
       "    </tr>\n",
       "    <tr>\n",
       "      <th>28</th>\n",
       "      <td>0.457143</td>\n",
       "      <td>5.428571</td>\n",
       "      <td>0.184211</td>\n",
       "      <td>0.184211</td>\n",
       "    </tr>\n",
       "    <tr>\n",
       "      <th>29</th>\n",
       "      <td>0.473469</td>\n",
       "      <td>5.265306</td>\n",
       "      <td>0.189922</td>\n",
       "      <td>0.189922</td>\n",
       "    </tr>\n",
       "    <tr>\n",
       "      <th>30</th>\n",
       "      <td>0.489796</td>\n",
       "      <td>5.102041</td>\n",
       "      <td>0.196000</td>\n",
       "      <td>0.196000</td>\n",
       "    </tr>\n",
       "    <tr>\n",
       "      <th>31</th>\n",
       "      <td>0.506122</td>\n",
       "      <td>4.938776</td>\n",
       "      <td>0.202479</td>\n",
       "      <td>0.202479</td>\n",
       "    </tr>\n",
       "    <tr>\n",
       "      <th>32</th>\n",
       "      <td>0.522449</td>\n",
       "      <td>4.775510</td>\n",
       "      <td>0.209402</td>\n",
       "      <td>0.209402</td>\n",
       "    </tr>\n",
       "    <tr>\n",
       "      <th>33</th>\n",
       "      <td>0.538776</td>\n",
       "      <td>4.612245</td>\n",
       "      <td>0.216814</td>\n",
       "      <td>0.216814</td>\n",
       "    </tr>\n",
       "    <tr>\n",
       "      <th>34</th>\n",
       "      <td>0.555102</td>\n",
       "      <td>4.448980</td>\n",
       "      <td>0.224771</td>\n",
       "      <td>0.224771</td>\n",
       "    </tr>\n",
       "    <tr>\n",
       "      <th>35</th>\n",
       "      <td>0.571429</td>\n",
       "      <td>4.285714</td>\n",
       "      <td>0.233333</td>\n",
       "      <td>0.233333</td>\n",
       "    </tr>\n",
       "    <tr>\n",
       "      <th>36</th>\n",
       "      <td>0.587755</td>\n",
       "      <td>4.122449</td>\n",
       "      <td>0.242574</td>\n",
       "      <td>0.242574</td>\n",
       "    </tr>\n",
       "    <tr>\n",
       "      <th>37</th>\n",
       "      <td>0.604082</td>\n",
       "      <td>3.959184</td>\n",
       "      <td>0.252577</td>\n",
       "      <td>0.252577</td>\n",
       "    </tr>\n",
       "    <tr>\n",
       "      <th>38</th>\n",
       "      <td>0.620408</td>\n",
       "      <td>3.795918</td>\n",
       "      <td>0.263441</td>\n",
       "      <td>0.263441</td>\n",
       "    </tr>\n",
       "    <tr>\n",
       "      <th>39</th>\n",
       "      <td>0.636735</td>\n",
       "      <td>3.632653</td>\n",
       "      <td>0.275281</td>\n",
       "      <td>0.275281</td>\n",
       "    </tr>\n",
       "    <tr>\n",
       "      <th>40</th>\n",
       "      <td>0.653061</td>\n",
       "      <td>3.469388</td>\n",
       "      <td>0.288235</td>\n",
       "      <td>0.288235</td>\n",
       "    </tr>\n",
       "    <tr>\n",
       "      <th>41</th>\n",
       "      <td>0.669388</td>\n",
       "      <td>3.306122</td>\n",
       "      <td>0.302469</td>\n",
       "      <td>0.302469</td>\n",
       "    </tr>\n",
       "    <tr>\n",
       "      <th>42</th>\n",
       "      <td>0.685714</td>\n",
       "      <td>3.142857</td>\n",
       "      <td>0.318182</td>\n",
       "      <td>0.318182</td>\n",
       "    </tr>\n",
       "    <tr>\n",
       "      <th>43</th>\n",
       "      <td>0.702041</td>\n",
       "      <td>2.979592</td>\n",
       "      <td>0.335616</td>\n",
       "      <td>0.335616</td>\n",
       "    </tr>\n",
       "    <tr>\n",
       "      <th>44</th>\n",
       "      <td>0.718367</td>\n",
       "      <td>2.816327</td>\n",
       "      <td>0.355072</td>\n",
       "      <td>0.355072</td>\n",
       "    </tr>\n",
       "    <tr>\n",
       "      <th>45</th>\n",
       "      <td>0.734694</td>\n",
       "      <td>2.653061</td>\n",
       "      <td>0.376923</td>\n",
       "      <td>0.376923</td>\n",
       "    </tr>\n",
       "    <tr>\n",
       "      <th>46</th>\n",
       "      <td>0.751020</td>\n",
       "      <td>2.489796</td>\n",
       "      <td>0.401639</td>\n",
       "      <td>0.401639</td>\n",
       "    </tr>\n",
       "    <tr>\n",
       "      <th>47</th>\n",
       "      <td>0.767347</td>\n",
       "      <td>2.326531</td>\n",
       "      <td>0.429825</td>\n",
       "      <td>0.429825</td>\n",
       "    </tr>\n",
       "    <tr>\n",
       "      <th>48</th>\n",
       "      <td>0.783673</td>\n",
       "      <td>2.163265</td>\n",
       "      <td>0.462264</td>\n",
       "      <td>0.462264</td>\n",
       "    </tr>\n",
       "    <tr>\n",
       "      <th>49</th>\n",
       "      <td>0.800000</td>\n",
       "      <td>2.000000</td>\n",
       "      <td>0.500000</td>\n",
       "      <td>0.500000</td>\n",
       "    </tr>\n",
       "  </tbody>\n",
       "</table>\n",
       "</div>"
      ],
      "text/plain": [
       "           X        -rA     1/-rA     F/-rA\n",
       "0   0.000000  10.000000  0.100000  0.100000\n",
       "1   0.016327   9.836735  0.101660  0.101660\n",
       "2   0.032653   9.673469  0.103376  0.103376\n",
       "3   0.048980   9.510204  0.105150  0.105150\n",
       "4   0.065306   9.346939  0.106987  0.106987\n",
       "5   0.081633   9.183673  0.108889  0.108889\n",
       "6   0.097959   9.020408  0.110860  0.110860\n",
       "7   0.114286   8.857143  0.112903  0.112903\n",
       "8   0.130612   8.693878  0.115023  0.115023\n",
       "9   0.146939   8.530612  0.117225  0.117225\n",
       "10  0.163265   8.367347  0.119512  0.119512\n",
       "11  0.179592   8.204082  0.121891  0.121891\n",
       "12  0.195918   8.040816  0.124365  0.124365\n",
       "13  0.212245   7.877551  0.126943  0.126943\n",
       "14  0.228571   7.714286  0.129630  0.129630\n",
       "15  0.244898   7.551020  0.132432  0.132432\n",
       "16  0.261224   7.387755  0.135359  0.135359\n",
       "17  0.277551   7.224490  0.138418  0.138418\n",
       "18  0.293878   7.061224  0.141618  0.141618\n",
       "19  0.310204   6.897959  0.144970  0.144970\n",
       "20  0.326531   6.734694  0.148485  0.148485\n",
       "21  0.342857   6.571429  0.152174  0.152174\n",
       "22  0.359184   6.408163  0.156051  0.156051\n",
       "23  0.375510   6.244898  0.160131  0.160131\n",
       "24  0.391837   6.081633  0.164430  0.164430\n",
       "25  0.408163   5.918367  0.168966  0.168966\n",
       "26  0.424490   5.755102  0.173759  0.173759\n",
       "27  0.440816   5.591837  0.178832  0.178832\n",
       "28  0.457143   5.428571  0.184211  0.184211\n",
       "29  0.473469   5.265306  0.189922  0.189922\n",
       "30  0.489796   5.102041  0.196000  0.196000\n",
       "31  0.506122   4.938776  0.202479  0.202479\n",
       "32  0.522449   4.775510  0.209402  0.209402\n",
       "33  0.538776   4.612245  0.216814  0.216814\n",
       "34  0.555102   4.448980  0.224771  0.224771\n",
       "35  0.571429   4.285714  0.233333  0.233333\n",
       "36  0.587755   4.122449  0.242574  0.242574\n",
       "37  0.604082   3.959184  0.252577  0.252577\n",
       "38  0.620408   3.795918  0.263441  0.263441\n",
       "39  0.636735   3.632653  0.275281  0.275281\n",
       "40  0.653061   3.469388  0.288235  0.288235\n",
       "41  0.669388   3.306122  0.302469  0.302469\n",
       "42  0.685714   3.142857  0.318182  0.318182\n",
       "43  0.702041   2.979592  0.335616  0.335616\n",
       "44  0.718367   2.816327  0.355072  0.355072\n",
       "45  0.734694   2.653061  0.376923  0.376923\n",
       "46  0.751020   2.489796  0.401639  0.401639\n",
       "47  0.767347   2.326531  0.429825  0.429825\n",
       "48  0.783673   2.163265  0.462264  0.462264\n",
       "49  0.800000   2.000000  0.500000  0.500000"
      ]
     },
     "metadata": {},
     "output_type": "display_data"
    }
   ],
   "source": [
    "# Entrada\n",
    "FA0 = 1 # [mol.s-1]\n",
    "k = 10\n",
    "c0 = 1\n",
    "X = np.linspace(0, 0.8, 50)\n",
    "\n",
    "rA = rA_O1(k, c0, X)\n",
    "\n",
    "# Creación de DataFrame con datos de interés\n",
    "df = pd.DataFrame({\"X\": X, '-rA': -rA})\n",
    "df['1/-rA'] = 1/df['-rA'] # [(mol-1.m3).s]\n",
    "df['F/-rA'] = FA0 * df['1/-rA'] # [m3]\n",
    "\n",
    "display(df)"
   ]
  },
  {
   "cell_type": "code",
   "execution_count": 22,
   "metadata": {},
   "outputs": [
    {
     "data": {
      "image/png": "[encoded data removed]",
      "text/plain": [
       "<Figure size 640x480 with 1 Axes>"
      ]
     },
     "metadata": {},
     "output_type": "display_data"
    }
   ],
   "source": [
    "fig, ax = plt.subplots()\n",
    "x = df[\"X\"].to_numpy()\n",
    "y = df[\"F/-rA\"].to_numpy()\n",
    "ax.plot(x, y, ls='-', marker='o', label='datos procesados') # datos procesados\n",
    "ax.fill_between(x, y[-1]*np.ones_like(x), label='Levenspiel CSTR', color='violet', alpha=0.25) # Levenspiel para CSTR\n",
    "ax.fill_between(x, y, label='Levenspiel PFR', color='darkgray', alpha=0.5) # Levenspiel para PFR\n",
    "\n",
    "ax.set(xlim=(0, 1), xlabel=r'Conversion, $X$ [-]', ylabel=r'$(F_{A_0}/-r_{A})$  [$m^3$]')\n",
    "ax.legend()\n",
    "ax.grid(ls=\"--\")\n",
    "fig.tight_layout()\n",
    "plt.show()"
   ]
  },
  {
   "cell_type": "code",
   "execution_count": 23,
   "metadata": {},
   "outputs": [
    {
     "data": {
      "application/vnd.microsoft.datawrangler.viewer.v0+json": {
       "columns": [
        {
         "name": "index",
         "rawType": "int64",
         "type": "integer"
        },
        {
         "name": "X",
         "rawType": "float64",
         "type": "float"
        },
        {
         "name": "-rA",
         "rawType": "float64",
         "type": "float"
        },
        {
         "name": "Vcstr",
         "rawType": "float64",
         "type": "float"
        },
        {
         "name": "Vpfr(trapz)",
         "rawType": "float64",
         "type": "float"
        },
        {
         "name": "Vpfr(simps)",
         "rawType": "float64",
         "type": "float"
        }
       ],
       "ref": "8f283033-b4a4-4393-bdb1-50245b26a59c",
       "rows": [
        [
         "0",
         "0.0",
         "10.0",
         "0.0",
         "0.0",
         "0.0"
        ],
        [
         "1",
         "0.0163265306122449",
         "9.83673469387755",
         "0.0016597510373443985",
         "0.0016462020492844442",
         "0.0016462020492844442"
        ],
        [
         "2",
         "0.0326530612244898",
         "9.673469387755102",
         "0.003375527426160338",
         "0.0033199594244967276",
         "0.0033198069745607505"
        ],
        [
         "3",
         "0.0489795918367347",
         "9.510204081632653",
         "0.005150214592274678",
         "0.005022210379749259",
         "0.005021977779095868"
        ],
        [
         "4",
         "0.0653061224489796",
         "9.346938775510203",
         "0.006986899563318779",
         "0.006753941923876553",
         "0.006753620772430562"
        ],
        [
         "5",
         "0.0816326530612245",
         "9.183673469387756",
         "0.008888888888888889",
         "0.00851619325818029",
         "0.008515783257272359"
        ],
        [
         "6",
         "0.0979591836734694",
         "9.020408163265305",
         "0.010859728506787332",
         "0.01031005952263479",
         "0.010309551023454572"
        ],
        [
         "7",
         "0.1142857142857143",
         "8.857142857142858",
         "0.012903225806451613",
         "0.012136695884375517",
         "0.012136088531206502"
        ],
        [
         "8",
         "0.1306122448979592",
         "8.693877551020408",
         "0.015023474178403757",
         "0.013997322006700865",
         "0.013996604661065443"
        ],
        [
         "9",
         "0.1469387755102041",
         "8.53061224489796",
         "0.017224880382775122",
         "0.015893226941894163",
         "0.01589239917743912"
        ],
        [
         "10",
         "0.163265306122449",
         "8.36734693877551",
         "0.01951219512195122",
         "0.017825774497034787",
         "0.017824823386678807"
        ],
        [
         "11",
         "0.1795918367346939",
         "8.204081632653061",
         "0.021890547263681594",
         "0.019796409128754237",
         "0.01979533415798662"
        ],
        [
         "12",
         "0.1959183673469388",
         "8.040816326530612",
         "0.02436548223350254",
         "0.02180666243077207",
         "0.021805448509999516"
        ],
        [
         "13",
         "0.2122448979591837",
         "7.877551020408164",
         "0.026943005181347155",
         "0.02385816028721982",
         "0.023856806790966967"
        ],
        [
         "14",
         "0.2285714285714286",
         "7.7142857142857135",
         "0.029629629629629638",
         "0.025952630775472694",
         "0.025951119979869017"
        ],
        [
         "15",
         "0.2448979591836735",
         "7.551020408163264",
         "0.032432432432432434",
         "0.028091912914754835",
         "0.028090244053362693"
        ],
        [
         "16",
         "0.2612244897959184",
         "7.387755102040816",
         "0.03535911602209946",
         "0.03027796637152652",
         "0.030276118485346344"
        ],
        [
         "17",
         "0.27755102040816326",
         "7.224489795918368",
         "0.0384180790960452",
         "0.03251288225004199",
         "0.032510854391774355"
        ],
        [
         "18",
         "0.2938775510204082",
         "7.061224489795919",
         "0.04161849710982659",
         "0.0347988951170287",
         "0.034796662319447606"
        ],
        [
         "19",
         "0.3102040816326531",
         "6.897959183673469",
         "0.044970414201183445",
         "0.03713839643385328",
         "0.0371359575150782"
        ],
        [
         "20",
         "0.326530612244898",
         "6.73469387755102",
         "0.04848484848484849",
         "0.03953394959863721",
         "0.039531274577403575"
        ],
        [
         "21",
         "0.34285714285714286",
         "6.571428571428571",
         "0.052173913043478265",
         "0.04198830683560314",
         "0.04198539422215867"
        ],
        [
         "22",
         "0.3591836734693878",
         "6.408163265306122",
         "0.056050955414012754",
         "0.044504428210766334",
         "0.04450124168528262"
        ],
        [
         "23",
         "0.3755102040816327",
         "6.244897959183673",
         "0.06013071895424838",
         "0.04708550310356847",
         "0.047082040766969514"
        ],
        [
         "24",
         "0.3918367346938776",
         "6.081632653061224",
         "0.06442953020134229",
         "0.04973497452524675",
         "0.049731191951581113"
        ],
        [
         "25",
         "0.40816326530612246",
         "5.918367346938775",
         "0.06896551724137931",
         "0.05245656674926896",
         "0.05245246148744966"
        ],
        [
         "26",
         "0.4244897959183674",
         "5.755102040816327",
         "0.07375886524822695",
         "0.05525431681040861",
         "0.05524983393479247"
        ],
        [
         "27",
         "0.4408163265306123",
         "5.591836734693877",
         "0.07883211678832118",
         "0.05813261054131921",
         "0.0581277468445694"
        ],
        [
         "28",
         "0.4571428571428572",
         "5.428571428571428",
         "0.08421052631578949",
         "0.06109622395441399",
         "0.061090910716927446"
        ],
        [
         "29",
         "0.47346938775510206",
         "5.26530612244898",
         "0.08992248062015504",
         "0.06415037094980945",
         "0.06414460390990535"
        ],
        [
         "30",
         "0.489795918367347",
         "5.10204081632653",
         "0.09600000000000003",
         "0.06730075854670868",
         "0.06729445057432287"
        ],
        [
         "31",
         "0.5061224489795919",
         "4.938775510204081",
         "0.10247933884297523",
         "0.07055365110869216",
         "0.07054679644315924"
        ],
        [
         "32",
         "0.5224489795918368",
         "4.775510204081632",
         "0.10940170940170943",
         "0.07391594538007734",
         "0.07390843187921327"
        ],
        [
         "33",
         "0.5387755102040817",
         "4.612244897959183",
         "0.11681415929203542",
         "0.07739525859390382",
         "0.07738707831843894"
        ],
        [
         "34",
         "0.5551020408163265",
         "4.448979591836735",
         "0.12477064220183486",
         "0.0810000324836497",
         "0.08099103862082788"
        ],
        [
         "35",
         "0.5714285714285715",
         "4.285714285714285",
         "0.1333333333333334",
         "0.08473965677373273",
         "0.08472983813782016"
        ],
        [
         "36",
         "0.5877551020408164",
         "4.122448979591836",
         "0.1425742574257426",
         "0.0886246166982966",
         "0.08861377730360835"
        ],
        [
         "37",
         "0.6040816326530613",
         "3.9591836734693873",
         "0.1525773195876289",
         "0.09266667038820167",
         "0.09265479407096991"
        ],
        [
         "38",
         "0.6204081632653062",
         "3.7959183673469377",
         "0.16344086021505386",
         "0.09687906369271339",
         "0.09686588286002368"
        ],
        [
         "39",
         "0.6367346938775511",
         "3.632653061224489",
         "0.17528089887640455",
         "0.10127679233835794",
         "0.10126228293691458"
        ],
        [
         "40",
         "0.653061224489796",
         "3.4693877551020402",
         "0.18823529411764708",
         "0.10587692452606447",
         "0.10586071143057234"
        ],
        [
         "41",
         "0.6693877551020408",
         "3.3061224489795915",
         "0.20246913580246914",
         "0.11069900150500418",
         "0.1106810476660514"
        ],
        [
         "42",
         "0.6857142857142857",
         "3.142857142857143",
         "0.21818181818181817",
         "0.11576553990487591",
         "0.11574530275307214"
        ],
        [
         "43",
         "0.7020408163265307",
         "2.979591836734693",
         "0.23561643835616447",
         "0.1211026685296758",
         "0.12108008860536183"
        ],
        [
         "44",
         "0.7183673469387756",
         "2.816326530612244",
         "0.25507246376811604",
         "0.12674094528171073",
         "0.1267152077074917"
        ],
        [
         "45",
         "0.7346938775510204",
         "2.6530612244897958",
         "0.276923076923077",
         "0.13271641908327148",
         "0.13268742356654495"
        ],
        [
         "46",
         "0.7510204081632654",
         "2.4897959183673457",
         "0.3016393442622953",
         "0.13907203068478474",
         "0.13903849541210517"
        ],
        [
         "47",
         "0.7673469387755103",
         "2.326530612244897",
         "0.32982456140350896",
         "0.14585949113919947",
         "0.14582123620692533"
        ],
        [
         "48",
         "0.7836734693877552",
         "2.1632653061224483",
         "0.3622641509433964",
         "0.1531418479746844",
         "0.153096736178471"
        ],
        [
         "49",
         "0.8",
         "1.9999999999999996",
         "0.40000000000000013",
         "0.16099706553340598",
         "0.16094474794193175"
        ]
       ],
       "shape": {
        "columns": 5,
        "rows": 50
       }
      },
      "text/html": [
       "<div>\n",
       "<style scoped>\n",
       "    .dataframe tbody tr th:only-of-type {\n",
       "        vertical-align: middle;\n",
       "    }\n",
       "\n",
       "    .dataframe tbody tr th {\n",
       "        vertical-align: top;\n",
       "    }\n",
       "\n",
       "    .dataframe thead th {\n",
       "        text-align: right;\n",
       "    }\n",
       "</style>\n",
       "<table border=\"1\" class=\"dataframe\">\n",
       "  <thead>\n",
       "    <tr style=\"text-align: right;\">\n",
       "      <th></th>\n",
       "      <th>X</th>\n",
       "      <th>-rA</th>\n",
       "      <th>Vcstr</th>\n",
       "      <th>Vpfr(trapz)</th>\n",
       "      <th>Vpfr(simps)</th>\n",
       "    </tr>\n",
       "  </thead>\n",
       "  <tbody>\n",
       "    <tr>\n",
       "      <th>0</th>\n",
       "      <td>0.000000</td>\n",
       "      <td>10.000000</td>\n",
       "      <td>0.000000</td>\n",
       "      <td>0.000000</td>\n",
       "      <td>0.000000</td>\n",
       "    </tr>\n",
       "    <tr>\n",
       "      <th>1</th>\n",
       "      <td>0.016327</td>\n",
       "      <td>9.836735</td>\n",
       "      <td>0.001660</td>\n",
       "      <td>0.001646</td>\n",
       "      <td>0.001646</td>\n",
       "    </tr>\n",
       "    <tr>\n",
       "      <th>2</th>\n",
       "      <td>0.032653</td>\n",
       "      <td>9.673469</td>\n",
       "      <td>0.003376</td>\n",
       "      <td>0.003320</td>\n",
       "      <td>0.003320</td>\n",
       "    </tr>\n",
       "    <tr>\n",
       "      <th>3</th>\n",
       "      <td>0.048980</td>\n",
       "      <td>9.510204</td>\n",
       "      <td>0.005150</td>\n",
       "      <td>0.005022</td>\n",
       "      <td>0.005022</td>\n",
       "    </tr>\n",
       "    <tr>\n",
       "      <th>4</th>\n",
       "      <td>0.065306</td>\n",
       "      <td>9.346939</td>\n",
       "      <td>0.006987</td>\n",
       "      <td>0.006754</td>\n",
       "      <td>0.006754</td>\n",
       "    </tr>\n",
       "    <tr>\n",
       "      <th>5</th>\n",
       "      <td>0.081633</td>\n",
       "      <td>9.183673</td>\n",
       "      <td>0.008889</td>\n",
       "      <td>0.008516</td>\n",
       "      <td>0.008516</td>\n",
       "    </tr>\n",
       "    <tr>\n",
       "      <th>6</th>\n",
       "      <td>0.097959</td>\n",
       "      <td>9.020408</td>\n",
       "      <td>0.010860</td>\n",
       "      <td>0.010310</td>\n",
       "      <td>0.010310</td>\n",
       "    </tr>\n",
       "    <tr>\n",
       "      <th>7</th>\n",
       "      <td>0.114286</td>\n",
       "      <td>8.857143</td>\n",
       "      <td>0.012903</td>\n",
       "      <td>0.012137</td>\n",
       "      <td>0.012136</td>\n",
       "    </tr>\n",
       "    <tr>\n",
       "      <th>8</th>\n",
       "      <td>0.130612</td>\n",
       "      <td>8.693878</td>\n",
       "      <td>0.015023</td>\n",
       "      <td>0.013997</td>\n",
       "      <td>0.013997</td>\n",
       "    </tr>\n",
       "    <tr>\n",
       "      <th>9</th>\n",
       "      <td>0.146939</td>\n",
       "      <td>8.530612</td>\n",
       "      <td>0.017225</td>\n",
       "      <td>0.015893</td>\n",
       "      <td>0.015892</td>\n",
       "    </tr>\n",
       "    <tr>\n",
       "      <th>10</th>\n",
       "      <td>0.163265</td>\n",
       "      <td>8.367347</td>\n",
       "      <td>0.019512</td>\n",
       "      <td>0.017826</td>\n",
       "      <td>0.017825</td>\n",
       "    </tr>\n",
       "    <tr>\n",
       "      <th>11</th>\n",
       "      <td>0.179592</td>\n",
       "      <td>8.204082</td>\n",
       "      <td>0.021891</td>\n",
       "      <td>0.019796</td>\n",
       "      <td>0.019795</td>\n",
       "    </tr>\n",
       "    <tr>\n",
       "      <th>12</th>\n",
       "      <td>0.195918</td>\n",
       "      <td>8.040816</td>\n",
       "      <td>0.024365</td>\n",
       "      <td>0.021807</td>\n",
       "      <td>0.021805</td>\n",
       "    </tr>\n",
       "    <tr>\n",
       "      <th>13</th>\n",
       "      <td>0.212245</td>\n",
       "      <td>7.877551</td>\n",
       "      <td>0.026943</td>\n",
       "      <td>0.023858</td>\n",
       "      <td>0.023857</td>\n",
       "    </tr>\n",
       "    <tr>\n",
       "      <th>14</th>\n",
       "      <td>0.228571</td>\n",
       "      <td>7.714286</td>\n",
       "      <td>0.029630</td>\n",
       "      <td>0.025953</td>\n",
       "      <td>0.025951</td>\n",
       "    </tr>\n",
       "    <tr>\n",
       "      <th>15</th>\n",
       "      <td>0.244898</td>\n",
       "      <td>7.551020</td>\n",
       "      <td>0.032432</td>\n",
       "      <td>0.028092</td>\n",
       "      <td>0.028090</td>\n",
       "    </tr>\n",
       "    <tr>\n",
       "      <th>16</th>\n",
       "      <td>0.261224</td>\n",
       "      <td>7.387755</td>\n",
       "      <td>0.035359</td>\n",
       "      <td>0.030278</td>\n",
       "      <td>0.030276</td>\n",
       "    </tr>\n",
       "    <tr>\n",
       "      <th>17</th>\n",
       "      <td>0.277551</td>\n",
       "      <td>7.224490</td>\n",
       "      <td>0.038418</td>\n",
       "      <td>0.032513</td>\n",
       "      <td>0.032511</td>\n",
       "    </tr>\n",
       "    <tr>\n",
       "      <th>18</th>\n",
       "      <td>0.293878</td>\n",
       "      <td>7.061224</td>\n",
       "      <td>0.041618</td>\n",
       "      <td>0.034799</td>\n",
       "      <td>0.034797</td>\n",
       "    </tr>\n",
       "    <tr>\n",
       "      <th>19</th>\n",
       "      <td>0.310204</td>\n",
       "      <td>6.897959</td>\n",
       "      <td>0.044970</td>\n",
       "      <td>0.037138</td>\n",
       "      <td>0.037136</td>\n",
       "    </tr>\n",
       "    <tr>\n",
       "      <th>20</th>\n",
       "      <td>0.326531</td>\n",
       "      <td>6.734694</td>\n",
       "      <td>0.048485</td>\n",
       "      <td>0.039534</td>\n",
       "      <td>0.039531</td>\n",
       "    </tr>\n",
       "    <tr>\n",
       "      <th>21</th>\n",
       "      <td>0.342857</td>\n",
       "      <td>6.571429</td>\n",
       "      <td>0.052174</td>\n",
       "      <td>0.041988</td>\n",
       "      <td>0.041985</td>\n",
       "    </tr>\n",
       "    <tr>\n",
       "      <th>22</th>\n",
       "      <td>0.359184</td>\n",
       "      <td>6.408163</td>\n",
       "      <td>0.056051</td>\n",
       "      <td>0.044504</td>\n",
       "      <td>0.044501</td>\n",
       "    </tr>\n",
       "    <tr>\n",
       "      <th>23</th>\n",
       "      <td>0.375510</td>\n",
       "      <td>6.244898</td>\n",
       "      <td>0.060131</td>\n",
       "      <td>0.047086</td>\n",
       "      <td>0.047082</td>\n",
       "    </tr>\n",
       "    <tr>\n",
       "      <th>24</th>\n",
       "      <td>0.391837</td>\n",
       "      <td>6.081633</td>\n",
       "      <td>0.064430</td>\n",
       "      <td>0.049735</td>\n",
       "      <td>0.049731</td>\n",
       "    </tr>\n",
       "    <tr>\n",
       "      <th>25</th>\n",
       "      <td>0.408163</td>\n",
       "      <td>5.918367</td>\n",
       "      <td>0.068966</td>\n",
       "      <td>0.052457</td>\n",
       "      <td>0.052452</td>\n",
       "    </tr>\n",
       "    <tr>\n",
       "      <th>26</th>\n",
       "      <td>0.424490</td>\n",
       "      <td>5.755102</td>\n",
       "      <td>0.073759</td>\n",
       "      <td>0.055254</td>\n",
       "      <td>0.055250</td>\n",
       "    </tr>\n",
       "    <tr>\n",
       "      <th>27</th>\n",
       "      <td>0.440816</td>\n",
       "      <td>5.591837</td>\n",
       "      <td>0.078832</td>\n",
       "      <td>0.058133</td>\n",
       "      <td>0.058128</td>\n",
       "    </tr>\n",
       "    <tr>\n",
       "      <th>28</th>\n",
       "      <td>0.457143</td>\n",
       "      <td>5.428571</td>\n",
       "      <td>0.084211</td>\n",
       "      <td>0.061096</td>\n",
       "      <td>0.061091</td>\n",
       "    </tr>\n",
       "    <tr>\n",
       "      <th>29</th>\n",
       "      <td>0.473469</td>\n",
       "      <td>5.265306</td>\n",
       "      <td>0.089922</td>\n",
       "      <td>0.064150</td>\n",
       "      <td>0.064145</td>\n",
       "    </tr>\n",
       "    <tr>\n",
       "      <th>30</th>\n",
       "      <td>0.489796</td>\n",
       "      <td>5.102041</td>\n",
       "      <td>0.096000</td>\n",
       "      <td>0.067301</td>\n",
       "      <td>0.067294</td>\n",
       "    </tr>\n",
       "    <tr>\n",
       "      <th>31</th>\n",
       "      <td>0.506122</td>\n",
       "      <td>4.938776</td>\n",
       "      <td>0.102479</td>\n",
       "      <td>0.070554</td>\n",
       "      <td>0.070547</td>\n",
       "    </tr>\n",
       "    <tr>\n",
       "      <th>32</th>\n",
       "      <td>0.522449</td>\n",
       "      <td>4.775510</td>\n",
       "      <td>0.109402</td>\n",
       "      <td>0.073916</td>\n",
       "      <td>0.073908</td>\n",
       "    </tr>\n",
       "    <tr>\n",
       "      <th>33</th>\n",
       "      <td>0.538776</td>\n",
       "      <td>4.612245</td>\n",
       "      <td>0.116814</td>\n",
       "      <td>0.077395</td>\n",
       "      <td>0.077387</td>\n",
       "    </tr>\n",
       "    <tr>\n",
       "      <th>34</th>\n",
       "      <td>0.555102</td>\n",
       "      <td>4.448980</td>\n",
       "      <td>0.124771</td>\n",
       "      <td>0.081000</td>\n",
       "      <td>0.080991</td>\n",
       "    </tr>\n",
       "    <tr>\n",
       "      <th>35</th>\n",
       "      <td>0.571429</td>\n",
       "      <td>4.285714</td>\n",
       "      <td>0.133333</td>\n",
       "      <td>0.084740</td>\n",
       "      <td>0.084730</td>\n",
       "    </tr>\n",
       "    <tr>\n",
       "      <th>36</th>\n",
       "      <td>0.587755</td>\n",
       "      <td>4.122449</td>\n",
       "      <td>0.142574</td>\n",
       "      <td>0.088625</td>\n",
       "      <td>0.088614</td>\n",
       "    </tr>\n",
       "    <tr>\n",
       "      <th>37</th>\n",
       "      <td>0.604082</td>\n",
       "      <td>3.959184</td>\n",
       "      <td>0.152577</td>\n",
       "      <td>0.092667</td>\n",
       "      <td>0.092655</td>\n",
       "    </tr>\n",
       "    <tr>\n",
       "      <th>38</th>\n",
       "      <td>0.620408</td>\n",
       "      <td>3.795918</td>\n",
       "      <td>0.163441</td>\n",
       "      <td>0.096879</td>\n",
       "      <td>0.096866</td>\n",
       "    </tr>\n",
       "    <tr>\n",
       "      <th>39</th>\n",
       "      <td>0.636735</td>\n",
       "      <td>3.632653</td>\n",
       "      <td>0.175281</td>\n",
       "      <td>0.101277</td>\n",
       "      <td>0.101262</td>\n",
       "    </tr>\n",
       "    <tr>\n",
       "      <th>40</th>\n",
       "      <td>0.653061</td>\n",
       "      <td>3.469388</td>\n",
       "      <td>0.188235</td>\n",
       "      <td>0.105877</td>\n",
       "      <td>0.105861</td>\n",
       "    </tr>\n",
       "    <tr>\n",
       "      <th>41</th>\n",
       "      <td>0.669388</td>\n",
       "      <td>3.306122</td>\n",
       "      <td>0.202469</td>\n",
       "      <td>0.110699</td>\n",
       "      <td>0.110681</td>\n",
       "    </tr>\n",
       "    <tr>\n",
       "      <th>42</th>\n",
       "      <td>0.685714</td>\n",
       "      <td>3.142857</td>\n",
       "      <td>0.218182</td>\n",
       "      <td>0.115766</td>\n",
       "      <td>0.115745</td>\n",
       "    </tr>\n",
       "    <tr>\n",
       "      <th>43</th>\n",
       "      <td>0.702041</td>\n",
       "      <td>2.979592</td>\n",
       "      <td>0.235616</td>\n",
       "      <td>0.121103</td>\n",
       "      <td>0.121080</td>\n",
       "    </tr>\n",
       "    <tr>\n",
       "      <th>44</th>\n",
       "      <td>0.718367</td>\n",
       "      <td>2.816327</td>\n",
       "      <td>0.255072</td>\n",
       "      <td>0.126741</td>\n",
       "      <td>0.126715</td>\n",
       "    </tr>\n",
       "    <tr>\n",
       "      <th>45</th>\n",
       "      <td>0.734694</td>\n",
       "      <td>2.653061</td>\n",
       "      <td>0.276923</td>\n",
       "      <td>0.132716</td>\n",
       "      <td>0.132687</td>\n",
       "    </tr>\n",
       "    <tr>\n",
       "      <th>46</th>\n",
       "      <td>0.751020</td>\n",
       "      <td>2.489796</td>\n",
       "      <td>0.301639</td>\n",
       "      <td>0.139072</td>\n",
       "      <td>0.139038</td>\n",
       "    </tr>\n",
       "    <tr>\n",
       "      <th>47</th>\n",
       "      <td>0.767347</td>\n",
       "      <td>2.326531</td>\n",
       "      <td>0.329825</td>\n",
       "      <td>0.145859</td>\n",
       "      <td>0.145821</td>\n",
       "    </tr>\n",
       "    <tr>\n",
       "      <th>48</th>\n",
       "      <td>0.783673</td>\n",
       "      <td>2.163265</td>\n",
       "      <td>0.362264</td>\n",
       "      <td>0.153142</td>\n",
       "      <td>0.153097</td>\n",
       "    </tr>\n",
       "    <tr>\n",
       "      <th>49</th>\n",
       "      <td>0.800000</td>\n",
       "      <td>2.000000</td>\n",
       "      <td>0.400000</td>\n",
       "      <td>0.160997</td>\n",
       "      <td>0.160945</td>\n",
       "    </tr>\n",
       "  </tbody>\n",
       "</table>\n",
       "</div>"
      ],
      "text/plain": [
       "           X        -rA     Vcstr  Vpfr(trapz)  Vpfr(simps)\n",
       "0   0.000000  10.000000  0.000000     0.000000     0.000000\n",
       "1   0.016327   9.836735  0.001660     0.001646     0.001646\n",
       "2   0.032653   9.673469  0.003376     0.003320     0.003320\n",
       "3   0.048980   9.510204  0.005150     0.005022     0.005022\n",
       "4   0.065306   9.346939  0.006987     0.006754     0.006754\n",
       "5   0.081633   9.183673  0.008889     0.008516     0.008516\n",
       "6   0.097959   9.020408  0.010860     0.010310     0.010310\n",
       "7   0.114286   8.857143  0.012903     0.012137     0.012136\n",
       "8   0.130612   8.693878  0.015023     0.013997     0.013997\n",
       "9   0.146939   8.530612  0.017225     0.015893     0.015892\n",
       "10  0.163265   8.367347  0.019512     0.017826     0.017825\n",
       "11  0.179592   8.204082  0.021891     0.019796     0.019795\n",
       "12  0.195918   8.040816  0.024365     0.021807     0.021805\n",
       "13  0.212245   7.877551  0.026943     0.023858     0.023857\n",
       "14  0.228571   7.714286  0.029630     0.025953     0.025951\n",
       "15  0.244898   7.551020  0.032432     0.028092     0.028090\n",
       "16  0.261224   7.387755  0.035359     0.030278     0.030276\n",
       "17  0.277551   7.224490  0.038418     0.032513     0.032511\n",
       "18  0.293878   7.061224  0.041618     0.034799     0.034797\n",
       "19  0.310204   6.897959  0.044970     0.037138     0.037136\n",
       "20  0.326531   6.734694  0.048485     0.039534     0.039531\n",
       "21  0.342857   6.571429  0.052174     0.041988     0.041985\n",
       "22  0.359184   6.408163  0.056051     0.044504     0.044501\n",
       "23  0.375510   6.244898  0.060131     0.047086     0.047082\n",
       "24  0.391837   6.081633  0.064430     0.049735     0.049731\n",
       "25  0.408163   5.918367  0.068966     0.052457     0.052452\n",
       "26  0.424490   5.755102  0.073759     0.055254     0.055250\n",
       "27  0.440816   5.591837  0.078832     0.058133     0.058128\n",
       "28  0.457143   5.428571  0.084211     0.061096     0.061091\n",
       "29  0.473469   5.265306  0.089922     0.064150     0.064145\n",
       "30  0.489796   5.102041  0.096000     0.067301     0.067294\n",
       "31  0.506122   4.938776  0.102479     0.070554     0.070547\n",
       "32  0.522449   4.775510  0.109402     0.073916     0.073908\n",
       "33  0.538776   4.612245  0.116814     0.077395     0.077387\n",
       "34  0.555102   4.448980  0.124771     0.081000     0.080991\n",
       "35  0.571429   4.285714  0.133333     0.084740     0.084730\n",
       "36  0.587755   4.122449  0.142574     0.088625     0.088614\n",
       "37  0.604082   3.959184  0.152577     0.092667     0.092655\n",
       "38  0.620408   3.795918  0.163441     0.096879     0.096866\n",
       "39  0.636735   3.632653  0.175281     0.101277     0.101262\n",
       "40  0.653061   3.469388  0.188235     0.105877     0.105861\n",
       "41  0.669388   3.306122  0.202469     0.110699     0.110681\n",
       "42  0.685714   3.142857  0.218182     0.115766     0.115745\n",
       "43  0.702041   2.979592  0.235616     0.121103     0.121080\n",
       "44  0.718367   2.816327  0.255072     0.126741     0.126715\n",
       "45  0.734694   2.653061  0.276923     0.132716     0.132687\n",
       "46  0.751020   2.489796  0.301639     0.139072     0.139038\n",
       "47  0.767347   2.326531  0.329825     0.145859     0.145821\n",
       "48  0.783673   2.163265  0.362264     0.153142     0.153097\n",
       "49  0.800000   2.000000  0.400000     0.160997     0.160945"
      ]
     },
     "metadata": {},
     "output_type": "display_data"
    },
    {
     "data": {
      "text/plain": [
       "numpy.ndarray"
      ]
     },
     "execution_count": 23,
     "metadata": {},
     "output_type": "execute_result"
    }
   ],
   "source": [
    "# Estimación volúmenes CSTR\n",
    "df[\"Vcstr\"] = df[\"X\"] * df[\"F/-rA\"] #m3\n",
    "\n",
    "# Estimacion de volúmenes PFR\n",
    "df[\"Vpfr(trapz)\"] = 0.0\n",
    "df[\"Vpfr(simps)\"] = 0.0\n",
    "for idx, row in df.iterrows():\n",
    "    if idx > 0:\n",
    "        x = df.loc[:idx, 'X'] # X\n",
    "        y = df.loc[:idx, 'F/-rA'] # (F/-rA)\n",
    "        df.at[idx, 'Vpfr(trapz)'] = trapezoid(y, x)\n",
    "        df.at[idx, 'Vpfr(simps)'] = simpson(y, x)\n",
    "\n",
    "display(df[[\"X\", \"-rA\", \"Vcstr\", \"Vpfr(trapz)\", \"Vpfr(simps)\"]])\n",
    "\n",
    "x = df[\"X\"]\n",
    "y = df[\"F/-rA\"]\n",
    "VpfrT = cumulative_trapezoid(y, x)\n",
    "type(VpfrT)\n"
   ]
  },
  {
   "cell_type": "markdown",
   "metadata": {},
   "source": [
    "# Referencias"
   ]
  },
  {
   "cell_type": "markdown",
   "metadata": {},
   "source": [
    "- ***[Fogler, 2016]***: Fogler, H. S. (2016) Elements of Chemical Reaction Engineering (5th ed.). Prentice Education Inc.\n",
    "\n",
    "- ***[Levenspiel, 1998]***: Levenspiel, O. (1998) Chemical Reaction Engineering (3rd ed.). John Wiley & Sons Inc. URL: https://www.wiley.com/en-no/Chemical+Reaction+Engineering%2C+3rd+Edition-p-9780471254249"
   ]
  }
 ],
 "metadata": {
  "kernelspec": {
   "display_name": "Python 3",
   "language": "python",
   "name": "python3"
  },
  "language_info": {
   "codemirror_mode": {
    "name": "ipython",
    "version": 3
   },
   "file_extension": ".py",
   "mimetype": "text/x-python",
   "name": "python",
   "nbconvert_exporter": "python",
   "pygments_lexer": "ipython3",
   "version": "3.10.12"
  }
 },
 "nbformat": 4,
 "nbformat_minor": 2
}
