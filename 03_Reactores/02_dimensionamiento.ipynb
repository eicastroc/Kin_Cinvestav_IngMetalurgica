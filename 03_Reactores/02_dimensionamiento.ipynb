{
 "cells": [
  {
   "cell_type": "code",
   "execution_count": 47,
   "metadata": {},
   "outputs": [],
   "source": [
    "import numpy as np\n",
    "import pandas as pd\n",
    "import matplotlib.pyplot as plt\n",
    "from scipy.integrate import trapezoid, simpson, cumulative_trapezoid"
   ]
  },
  {
   "cell_type": "markdown",
   "metadata": {},
   "source": [
    "# Cinética de Procesos (Sesión 03)"
   ]
  },
  {
   "cell_type": "markdown",
   "metadata": {},
   "source": [
    "<img src=\"figures/LogoCinvestav.png\" style=\"height:100px\" title=\"Cinvestav\">"
   ]
  },
  {
   "cell_type": "markdown",
   "metadata": {},
   "source": [
    "**CINVESTAV Unidad Saltillo**\n",
    "\n",
    "**Programa de Maestría en Ciencias en Ingeniería Metalúrgica**\n",
    "\n",
    "Dr. Edgar Ivan Castro Cedeño\n",
    "\n",
    "\n",
    "2025\n",
    "\n",
    "Contacto:\n",
    "[edgar.castro@cinvestav.mx](mailto:edgar.castro@cinvestav.mx)"
   ]
  },
  {
   "cell_type": "markdown",
   "metadata": {},
   "source": [
    "## 2. Dimensionamiento de Reactores ideales"
   ]
  },
  {
   "cell_type": "markdown",
   "metadata": {},
   "source": [
    "**Consideraciones generales:**\n",
    "\n",
    "- Existe una dependencia funcional entre la velocidad de reacción $r_{\\mathrm{A}}$, y la conversión $X$, i.e. para un valor de $X$ existirá un solo valor de $r_{\\mathrm{A}}$.\n",
    "\n",
    "- La dependencia entre $r_{\\mathrm{A}}$ y $X$ puede expresarse de varias formas:\n",
    "    - Empírica a partir de experimentos.\n",
    "    - Mediante una función que relacione una ley de velocidad de reacción y la conversión."
   ]
  },
  {
   "cell_type": "markdown",
   "metadata": {},
   "source": [
    "## 2.1 Ecuaciones para dimensionamiento de reactores ideales"
   ]
  },
  {
   "cell_type": "markdown",
   "metadata": {},
   "source": [
    "### 2.1.1 Reactores discontinuos (BR)"
   ]
  },
  {
   "cell_type": "markdown",
   "metadata": {},
   "source": [
    "Para el reactor discontinuo, se considera la hipótesis de mezclado perfecto en el reactor, i.e., no existen gradientes de composición, temperatura, velocidad de reacción, etc. en el reactor.\n",
    "\n",
    "Para el caso ideal, el dimensionamiento de los reactores tipo batch está gobernado por el tamaño de lote que se desea producir. "
   ]
  },
  {
   "cell_type": "markdown",
   "metadata": {},
   "source": [
    "$$t = N_{\\mathrm{A}_0} \\int_{0}^{X} \\frac{dX}{-r_{\\mathrm{A}} V}$$"
   ]
  },
  {
   "cell_type": "markdown",
   "metadata": {},
   "source": [
    "<details>\n",
    "<summary><b>Nomenclatura</b></summary>\n",
    "\n",
    "<div class=\"alert alert-info\">\n",
    "\n",
    "- **$V$**: Volumen del reactor CSTR, $[\\mathrm{m^{3}}]$.\n",
    "\n",
    "- **$N_{\\mathrm{A_0}}$**: Cantidad inicial del reactivo limitante en el reactor, $[\\mathrm{mol}]$.\n",
    "\n",
    "- **$X$**: Conversión del reactivo limitante.\n",
    "\n",
    "- **$r_{\\mathrm{A}}$**: Tasa de reacción del reactivo limitante $\\mathrm{A}$ por unidad de volumen, $[\\mathrm{mol.m^{-3}.s^{-1}}]$.\n",
    "\n",
    "</div>\n",
    "\n",
    "</details>"
   ]
  },
  {
   "cell_type": "markdown",
   "metadata": {},
   "source": [
    "**Consideraciones adicionales:**\n",
    "\n",
    "- Para casos de volumen constante, el término $V$ se puede sacar de la integral, y en estos casos el término fuera de la integral tendra unidades de concentración: $\\frac{N_{\\mathrm{A_0}}}{V}$ $[\\mathrm{mol.m^{-3}}]$."
   ]
  },
  {
   "cell_type": "markdown",
   "metadata": {},
   "source": [
    "### 2.1.2 Reactor continuo agitado (CSTR)"
   ]
  },
  {
   "cell_type": "markdown",
   "metadata": {},
   "source": [
    "Para el reactor continuo agitado, se consideran las hipótesis de operación en régimen estacionario y de mezclado perfecto en el reactor, i.e., los flujos de entrada y salida son iguales, y no existen gradientes de composición, temperatura, velocidad de reacción, etc. en el reactor.\n",
    "\n",
    "El volumen del reactor se calcula mediante la ecuación algebráica reproducida debajo:"
   ]
  },
  {
   "cell_type": "markdown",
   "metadata": {},
   "source": [
    "$$V = \\frac{F_{\\mathrm{A}_0}}{-r_{\\mathrm{A}}}X$$"
   ]
  },
  {
   "cell_type": "markdown",
   "metadata": {},
   "source": [
    "<details>\n",
    "<summary><b>Nomenclatura</b></summary>\n",
    "\n",
    "<div class=\"alert alert-info\">\n",
    "\n",
    "- **$V$**: Volumen del reactor CSTR, $[\\mathrm{m^{3}}]$.\n",
    "\n",
    "- **$F_{\\mathrm{A_0}}$**: Flujo molar del reactivo limitante a la entrada del reactor, $[\\mathrm{mol.s^{-1}}]$.\n",
    "\n",
    "- **$X$**: Conversión del reactivo limitante.\n",
    "\n",
    "- **$r_{\\mathrm{A}}$**: Tasa de reacción del reactivo limitante $\\mathrm{A}$ por unidad de volumen, $[\\mathrm{mol.m^{-3}.s^{-1}}]$.\n",
    "\n",
    "</div>\n",
    "\n",
    "</details>"
   ]
  },
  {
   "cell_type": "markdown",
   "metadata": {},
   "source": [
    "**Consideraciones adicionales**:\n",
    "\n",
    "- El término $F_{\\mathrm{A_0}}$ se considera como constante (hipótesis de operación en régimen estacionario).\n",
    "\n",
    "- Para un volumen dado, existiran únicamente un par de valores $[r_{\\mathrm{A}}, X]$, que satisfacen la ecuación (hipótesis de reactor perfectamente agitado)."
   ]
  },
  {
   "cell_type": "markdown",
   "metadata": {},
   "source": [
    "### 2.1.3 Reactor Flujo Pistón (PFR)"
   ]
  },
  {
   "cell_type": "markdown",
   "metadata": {},
   "source": [
    "Para el reactor de flujo pistón, se consideran las hipótesis de operación, i.e., los flujos de entrada y salida son iguales.\n",
    "\n",
    "Por definición, pueden existir gradientes de composición, temperatura, velocidad de reacción, etc. sobre el volumen del reactor. Una hipótesis recurrente es considerar que solo existen gradientes sobre el eje axial del reactor.\n",
    "\n",
    "El volumen del reactor se calcula mediante la ecuación integral reproducida debajo:"
   ]
  },
  {
   "cell_type": "markdown",
   "metadata": {},
   "source": [
    "$$V = F_{\\mathrm{A}_0} \\int_{0}^{X} \\frac{dX}{-r_{\\mathrm{A}}}$$"
   ]
  },
  {
   "cell_type": "markdown",
   "metadata": {},
   "source": [
    "<details>\n",
    "<summary><b>Nomenclatura</b></summary>\n",
    "\n",
    "<div class=\"alert alert-info\">\n",
    "\n",
    "- **$V$**: Volumen del reactor CSTR, $[\\mathrm{m^{3}}]$.\n",
    "\n",
    "- **$F_{\\mathrm{A_0}}$**: Flujo molar del reactivo limitante a la entrada del reactor, $[\\mathrm{mol.s^{-1}}]$.\n",
    "\n",
    "- **$X$**: Conversión del reactivo limitante.\n",
    "\n",
    "- **$r_{\\mathrm{A}}$**: Tasa de reacción del reactivo limitante $\\mathrm{A}$ por unidad de volumen, $[\\mathrm{mol.m^{-3}.s^{-1}}]$.\n",
    "\n",
    "</div>\n",
    "\n",
    "</details>"
   ]
  },
  {
   "cell_type": "markdown",
   "metadata": {},
   "source": [
    "**Consideraciones adicionales**:\n",
    "\n",
    "- El término $F_{\\mathrm{A_0}}$ se considera como constante (hipótesis de operación en régimen estacionario).\n",
    "\n",
    "- Para un volumen dado, existen gradientes de conversión dentro del reactor, por lo que se debe resolver la integral definida por algún método: gráfico, analítico o numérico."
   ]
  },
  {
   "cell_type": "markdown",
   "metadata": {},
   "source": [
    "## 2.2 Gráfica de Levenspiel"
   ]
  },
  {
   "cell_type": "markdown",
   "metadata": {},
   "source": [
    "### 2.2.1 Conceptualización"
   ]
  },
  {
   "cell_type": "markdown",
   "metadata": {},
   "source": [
    "El gráfico de Levenspiel es una herramienta que permite dimensionar reactores tipo CSTR y tipo PFR que operan en régimen estacionario, en función del flujo molar en el sistema y la tasa de conversión deseada, a condición que se tengan datos de mediciones de la tasa de velocidad de reacción en función de la conversión."
   ]
  },
  {
   "cell_type": "markdown",
   "metadata": {},
   "source": [
    "En la ***Tabla 1*** se recapitulan las ecuaciones de diseño para los reactores de flujo continuo tipo CSTR y PFR, en términos de la conversión $X$. Para ambos casos, el volumen de reactor es proporcional al flujo molar $F_{\\mathrm{A_0}}$, $[\\mathrm{mol.s^{-1}}]$; e inversamente proporcional a la tasa de reacción $r_{\\mathrm{A}}$, $[\\mathrm{mol.m^{-3}.s^{-1}}]$."
   ]
  },
  {
   "cell_type": "markdown",
   "metadata": {},
   "source": [
    "<center>\n",
    "\n",
    "***Tabla 1. Ecuaciones de diseño para reactores CSTR y PFR, en términos de la conversión*** \n",
    "\n",
    "| Reactor| Acrónimo | Ecuación de diseño | Esquema |\n",
    "|---------|---------|--------------------|:-------:|\n",
    "| Reactor continuo agitado | CSTR    | $$V = \\frac{F_{\\mathrm{A}_0}}{-r_{\\mathrm{A}}}X$$ | <img src=\"figures/images/Continuous_bach_reactor_CSTR.svg\" style=\"width:100px\" title=\"Continuous Stirred Tank Reactor\"> |\n",
    "| Reactor de flujo pistón | PFR    | $$V = F_{\\mathrm{A}_0} \\int_{0}^{X} \\frac{dX}{-r_{\\mathrm{A}}}$$ | <img src=\"figures/images/ReactorPlugFlow.svg\" style=\"width:200px\" title=\"Plug Flow Reactor\"> | \n",
    "\n",
    "</center>"
   ]
  },
  {
   "cell_type": "markdown",
   "metadata": {},
   "source": [
    "Para la construcción de un gráfico de Levenspiel, como los que se muestran en la ***Figura 1***, se siguen las siguientes etapas:\n",
    "\n",
    "1. Graficar los datos experimentales:\n",
    "    - Eje horizontal: Conversión, $X$.\n",
    "    - Eje vertical: Flujo molar entre el negativo de la tasa de reacción $\\frac{F_{\\mathrm{A_0}}}{-r_{\\mathrm{A}}}$ $[\\mathrm{m^{3}}]$.\n",
    "\n",
    "2. Estimar el volumen del reactor, de acuerdo con las especificidades de cada tipo de reactor:\n",
    "    - CSTR: El volumen está dado por el área del rectángulo cuya base es la conversión deseada $X$, y cuya altura es el valor de $\\frac{F_{\\mathrm{A_0}}}{-r_{\\mathrm{A}}}$ que le corresponda.\n",
    "    - PFR: El volumen está dado por el área bajo la curva $\\frac{F_{\\mathrm{A_0}}}{-r_{\\mathrm{A}}}$ vs $X$, para la conversión deseada $X$. "
   ]
  },
  {
   "cell_type": "markdown",
   "metadata": {},
   "source": [
    "<center>\n",
    "\n",
    "<img src=\"figures/images/levenspiel.png\" style=\"width:800px\" title=\"Levenspiel plots\">\n",
    "\n",
    "***Figura 1: Gráfico de Levenspiel para el dimensionamiento de un reactor. Adaptado de [Fogler, 2017, pp. 39-47]***\n",
    "\n",
    "</center>"
   ]
  },
  {
   "cell_type": "markdown",
   "metadata": {},
   "source": [
    "\n",
    "<div class=\"alert alert-warning\">\n",
    "\n",
    "<center>\n",
    "\n",
    "**¿Cómo se pueden estimar las áreas en un gráfico de Levenspiel?**\n",
    "\n",
    "</center>\n",
    "\n",
    "\n",
    "\n",
    "</div>"
   ]
  },
  {
   "cell_type": "markdown",
   "metadata": {},
   "source": [
    "### 2.2.2 Ejemplo de aplicación"
   ]
  },
  {
   "cell_type": "markdown",
   "metadata": {},
   "source": [
    "Adaptado de: ***[Fogler, 2017, pp. 39-47]***"
   ]
  },
  {
   "cell_type": "markdown",
   "metadata": {},
   "source": [
    "Considere la reacción isotérmica de isomerización de una fase gaseosa:\n",
    "\n",
    "$$\\mathrm{A \\longrightarrow B}$$\n",
    "\n",
    "Estime el volumen de los reactores CSTR y PFR que se requieren para obtener las distintas conversiones que se muestran en la ***Tabla 2***, considerando que el flujo molar en el reactor a dimensionar será  $F_{\\mathrm{A_0}}=0.4$ $[\\mathrm{mol.s^{-1}}]$, y las mediciones de laboratorio de tasa de reacción en función de la conversión que se muestran en la ***Tabla 2***, y que fueron obtenidas en condiciones de temperatura $T=500$ $\\mathrm{K}$ y presión $P=8.2$ $\\mathrm{atm}$. "
   ]
  },
  {
   "cell_type": "markdown",
   "metadata": {},
   "source": [
    "<center>\n",
    "\n",
    "***Tabla 2. Datos procesados***\n",
    "\n",
    "| $$X$$ | 0 | 0.1 | 0.2 | 0.4 | 0.6 | 0.7 | 0.8 |\n",
    "|----|--|--|--|--|--|--|--|\n",
    "| $$-r_{\\mathrm{A}} \\,\\, [\\mathrm{(mol.m^{-3}).s^{-1}}]$$ | 0.45 | 0.37 | 0.30 | 0.195 | 0.113 | 0.079 | 0.05 |\n"
   ]
  },
  {
   "cell_type": "markdown",
   "metadata": {},
   "source": [
    "**Solución**"
   ]
  },
  {
   "cell_type": "markdown",
   "metadata": {},
   "source": [
    "1. Calcular los términos $\\frac{1}{-r_{\\mathrm{A}}}$  y $\\frac{F_{\\mathrm{A_0}}}{-r_{\\mathrm{A}}}$."
   ]
  },
  {
   "cell_type": "code",
   "execution_count": 48,
   "metadata": {},
   "outputs": [
    {
     "data": {
      "application/vnd.microsoft.datawrangler.viewer.v0+json": {
       "columns": [
        {
         "name": "index",
         "rawType": "int64",
         "type": "integer"
        },
        {
         "name": "X",
         "rawType": "float64",
         "type": "float"
        },
        {
         "name": "-rA",
         "rawType": "float64",
         "type": "float"
        },
        {
         "name": "1/-rA",
         "rawType": "float64",
         "type": "float"
        },
        {
         "name": "F/-rA",
         "rawType": "float64",
         "type": "float"
        }
       ],
       "conversionMethod": "pd.DataFrame",
       "ref": "f159d211-5a32-4a1c-972c-d52e57105606",
       "rows": [
        [
         "0",
         "0.0",
         "0.45",
         "2.2222222222222223",
         "0.888888888888889"
        ],
        [
         "1",
         "0.1",
         "0.37",
         "2.7027027027027026",
         "1.0810810810810811"
        ],
        [
         "2",
         "0.2",
         "0.3",
         "3.3333333333333335",
         "1.3333333333333335"
        ],
        [
         "3",
         "0.4",
         "0.195",
         "5.128205128205128",
         "2.051282051282051"
        ],
        [
         "4",
         "0.6",
         "0.113",
         "8.849557522123893",
         "3.5398230088495577"
        ],
        [
         "5",
         "0.7",
         "0.079",
         "12.658227848101266",
         "5.063291139240507"
        ],
        [
         "6",
         "0.8",
         "0.05",
         "20.0",
         "8.0"
        ]
       ],
       "shape": {
        "columns": 4,
        "rows": 7
       }
      },
      "text/html": [
       "<div>\n",
       "<style scoped>\n",
       "    .dataframe tbody tr th:only-of-type {\n",
       "        vertical-align: middle;\n",
       "    }\n",
       "\n",
       "    .dataframe tbody tr th {\n",
       "        vertical-align: top;\n",
       "    }\n",
       "\n",
       "    .dataframe thead th {\n",
       "        text-align: right;\n",
       "    }\n",
       "</style>\n",
       "<table border=\"1\" class=\"dataframe\">\n",
       "  <thead>\n",
       "    <tr style=\"text-align: right;\">\n",
       "      <th></th>\n",
       "      <th>X</th>\n",
       "      <th>-rA</th>\n",
       "      <th>1/-rA</th>\n",
       "      <th>F/-rA</th>\n",
       "    </tr>\n",
       "  </thead>\n",
       "  <tbody>\n",
       "    <tr>\n",
       "      <th>0</th>\n",
       "      <td>0.0</td>\n",
       "      <td>0.450</td>\n",
       "      <td>2.222222</td>\n",
       "      <td>0.888889</td>\n",
       "    </tr>\n",
       "    <tr>\n",
       "      <th>1</th>\n",
       "      <td>0.1</td>\n",
       "      <td>0.370</td>\n",
       "      <td>2.702703</td>\n",
       "      <td>1.081081</td>\n",
       "    </tr>\n",
       "    <tr>\n",
       "      <th>2</th>\n",
       "      <td>0.2</td>\n",
       "      <td>0.300</td>\n",
       "      <td>3.333333</td>\n",
       "      <td>1.333333</td>\n",
       "    </tr>\n",
       "    <tr>\n",
       "      <th>3</th>\n",
       "      <td>0.4</td>\n",
       "      <td>0.195</td>\n",
       "      <td>5.128205</td>\n",
       "      <td>2.051282</td>\n",
       "    </tr>\n",
       "    <tr>\n",
       "      <th>4</th>\n",
       "      <td>0.6</td>\n",
       "      <td>0.113</td>\n",
       "      <td>8.849558</td>\n",
       "      <td>3.539823</td>\n",
       "    </tr>\n",
       "    <tr>\n",
       "      <th>5</th>\n",
       "      <td>0.7</td>\n",
       "      <td>0.079</td>\n",
       "      <td>12.658228</td>\n",
       "      <td>5.063291</td>\n",
       "    </tr>\n",
       "    <tr>\n",
       "      <th>6</th>\n",
       "      <td>0.8</td>\n",
       "      <td>0.050</td>\n",
       "      <td>20.000000</td>\n",
       "      <td>8.000000</td>\n",
       "    </tr>\n",
       "  </tbody>\n",
       "</table>\n",
       "</div>"
      ],
      "text/plain": [
       "     X    -rA      1/-rA     F/-rA\n",
       "0  0.0  0.450   2.222222  0.888889\n",
       "1  0.1  0.370   2.702703  1.081081\n",
       "2  0.2  0.300   3.333333  1.333333\n",
       "3  0.4  0.195   5.128205  2.051282\n",
       "4  0.6  0.113   8.849558  3.539823\n",
       "5  0.7  0.079  12.658228  5.063291\n",
       "6  0.8  0.050  20.000000  8.000000"
      ]
     },
     "metadata": {},
     "output_type": "display_data"
    }
   ],
   "source": [
    "# Entrada\n",
    "FA0 = 0.4 # [mol.s-1]\n",
    "X = np.array([0, 0.1, 0.2, 0.4, 0.6, 0.7, 0.8]) # dimless\n",
    "rA = -1. * np.array([0.45, 0.37, 0.30, 0.195, 0.113, 0.079, 0.05]) # [(mol.m-3).s-1]\n",
    "\n",
    "# Creación de DataFrame con datos de interés\n",
    "df = pd.DataFrame({\"X\": X, '-rA': -rA})\n",
    "df['1/-rA'] = 1/df['-rA'] # [(mol-1.m3).s]\n",
    "df['F/-rA'] = FA0 * df['1/-rA'] # [m3]\n",
    "\n",
    "display(df)"
   ]
  },
  {
   "cell_type": "markdown",
   "metadata": {},
   "source": [
    "2. Construir los gráficos de Levenspiel"
   ]
  },
  {
   "cell_type": "code",
   "execution_count": 49,
   "metadata": {},
   "outputs": [
    {
     "data": {
      "image/png": "[encoded data removed]",
      "text/plain": [
       "<Figure size 640x480 with 1 Axes>"
      ]
     },
     "metadata": {},
     "output_type": "display_data"
    }
   ],
   "source": [
    "fig, ax = plt.subplots()\n",
    "x = df[\"X\"].to_numpy()\n",
    "y = df[\"F/-rA\"].to_numpy()\n",
    "ax.plot(x, y, ls='-', marker='o', label='datos procesados') # datos procesados\n",
    "ax.fill_between(x, y[-1]*np.ones_like(x), label='Levenspiel CSTR', color='lightgray', alpha=0.5) # Levenspiel para CSTR\n",
    "ax.fill_between(x, y, label='Levenspiel PFR', color='darkgray', alpha=0.5) # Levenspiel para PFR\n",
    "\n",
    "ax.set(xlim=(0, 1), ylim=(0, 10),xlabel=r'Conversion, $X$ [-]', ylabel=r'$(F_{A_0}/-r_{A})$  [$m^3$]')\n",
    "ax.legend()\n",
    "ax.grid(ls=\"--\")\n",
    "fig.tight_layout()\n",
    "plt.show()"
   ]
  },
  {
   "cell_type": "markdown",
   "metadata": {},
   "source": [
    "3. Estimar los volúmenes de los reactores (gráficamente o con un método numérico)"
   ]
  },
  {
   "cell_type": "code",
   "execution_count": 73,
   "metadata": {},
   "outputs": [
    {
     "data": {
      "application/vnd.microsoft.datawrangler.viewer.v0+json": {
       "columns": [
        {
         "name": "index",
         "rawType": "int64",
         "type": "integer"
        },
        {
         "name": "X",
         "rawType": "float64",
         "type": "float"
        },
        {
         "name": "Vcstr",
         "rawType": "float64",
         "type": "float"
        },
        {
         "name": "Vpfr",
         "rawType": "float64",
         "type": "float"
        }
       ],
       "conversionMethod": "pd.DataFrame",
       "ref": "bf8f805a-d943-4077-a22c-08abaf268d61",
       "rows": [
        [
         "0",
         "0.0",
         "0.0",
         "0.0"
        ],
        [
         "1",
         "0.1",
         "0.10810810810810811",
         "0.09849849849849851"
        ],
        [
         "2",
         "0.2",
         "0.2666666666666667",
         "0.21821821821821819"
        ],
        [
         "3",
         "0.4",
         "0.8205128205128205",
         "0.5519365519365519"
        ],
        [
         "4",
         "0.6",
         "2.1238938053097347",
         "1.0901038547056243"
        ],
        [
         "5",
         "0.7",
         "3.5443037974683542",
         "1.5159306862678652"
        ],
        [
         "6",
         "0.8",
         "6.4",
         "2.1498701068993444"
        ]
       ],
       "shape": {
        "columns": 3,
        "rows": 7
       }
      },
      "text/html": [
       "<div>\n",
       "<style scoped>\n",
       "    .dataframe tbody tr th:only-of-type {\n",
       "        vertical-align: middle;\n",
       "    }\n",
       "\n",
       "    .dataframe tbody tr th {\n",
       "        vertical-align: top;\n",
       "    }\n",
       "\n",
       "    .dataframe thead th {\n",
       "        text-align: right;\n",
       "    }\n",
       "</style>\n",
       "<table border=\"1\" class=\"dataframe\">\n",
       "  <thead>\n",
       "    <tr style=\"text-align: right;\">\n",
       "      <th></th>\n",
       "      <th>X</th>\n",
       "      <th>Vcstr</th>\n",
       "      <th>Vpfr</th>\n",
       "    </tr>\n",
       "  </thead>\n",
       "  <tbody>\n",
       "    <tr>\n",
       "      <th>0</th>\n",
       "      <td>0.0</td>\n",
       "      <td>0.000000</td>\n",
       "      <td>0.000000</td>\n",
       "    </tr>\n",
       "    <tr>\n",
       "      <th>1</th>\n",
       "      <td>0.1</td>\n",
       "      <td>0.108108</td>\n",
       "      <td>0.098498</td>\n",
       "    </tr>\n",
       "    <tr>\n",
       "      <th>2</th>\n",
       "      <td>0.2</td>\n",
       "      <td>0.266667</td>\n",
       "      <td>0.218218</td>\n",
       "    </tr>\n",
       "    <tr>\n",
       "      <th>3</th>\n",
       "      <td>0.4</td>\n",
       "      <td>0.820513</td>\n",
       "      <td>0.551937</td>\n",
       "    </tr>\n",
       "    <tr>\n",
       "      <th>4</th>\n",
       "      <td>0.6</td>\n",
       "      <td>2.123894</td>\n",
       "      <td>1.090104</td>\n",
       "    </tr>\n",
       "    <tr>\n",
       "      <th>5</th>\n",
       "      <td>0.7</td>\n",
       "      <td>3.544304</td>\n",
       "      <td>1.515931</td>\n",
       "    </tr>\n",
       "    <tr>\n",
       "      <th>6</th>\n",
       "      <td>0.8</td>\n",
       "      <td>6.400000</td>\n",
       "      <td>2.149870</td>\n",
       "    </tr>\n",
       "  </tbody>\n",
       "</table>\n",
       "</div>"
      ],
      "text/plain": [
       "     X     Vcstr      Vpfr\n",
       "0  0.0  0.000000  0.000000\n",
       "1  0.1  0.108108  0.098498\n",
       "2  0.2  0.266667  0.218218\n",
       "3  0.4  0.820513  0.551937\n",
       "4  0.6  2.123894  1.090104\n",
       "5  0.7  3.544304  1.515931\n",
       "6  0.8  6.400000  2.149870"
      ]
     },
     "metadata": {},
     "output_type": "display_data"
    }
   ],
   "source": [
    "# Estimación volúmenes CSTR\n",
    "df[\"Vcstr\"] = df[\"X\"] * df[\"F/-rA\"] #m3\n",
    "\n",
    "# Estimacion de volúmenes PFR\n",
    "df[\"Vpfr\"] = 0.0\n",
    "for idx, row in df.iterrows():\n",
    "    if idx > 0:\n",
    "        x = df.iloc[:idx+1, 0] # X\n",
    "        y = df.iloc[:idx+1, 3] # (F/-rA)\n",
    "        df.at[idx, 'Vpfr'] = simpson(y, x)\n",
    "\n",
    "display(df[[\"X\", \"Vcstr\", \"Vpfr\"]])"
   ]
  },
  {
   "cell_type": "markdown",
   "metadata": {},
   "source": [
    "# Referencias"
   ]
  },
  {
   "cell_type": "markdown",
   "metadata": {},
   "source": [
    "- ***[Fogler, 2016]***: Fogler, H. S. (2016) Elements of Chemical Reaction Engineering (5th ed.). Prentice Education Inc."
   ]
  },
  {
   "cell_type": "markdown",
   "metadata": {},
   "source": []
  }
 ],
 "metadata": {
  "kernelspec": {
   "display_name": "Python 3",
   "language": "python",
   "name": "python3"
  },
  "language_info": {
   "codemirror_mode": {
    "name": "ipython",
    "version": 3
   },
   "file_extension": ".py",
   "mimetype": "text/x-python",
   "name": "python",
   "nbconvert_exporter": "python",
   "pygments_lexer": "ipython3",
   "version": "3.10.12"
  }
 },
 "nbformat": 4,
 "nbformat_minor": 2
}
