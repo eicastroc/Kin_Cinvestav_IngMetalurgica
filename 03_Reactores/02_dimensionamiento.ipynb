{
 "cells": [
  {
   "cell_type": "code",
   "execution_count": 2,
   "metadata": {},
   "outputs": [],
   "source": [
    "import numpy as np\n",
    "import matplotlib.pyplot as plt\n",
    "from numpy.polynomial.polynomial import Polynomial\n",
    "from scipy.integrate import solve_ivp\n"
   ]
  },
  {
   "cell_type": "markdown",
   "metadata": {},
   "source": [
    "# Cinética de Procesos (Sesión 03)"
   ]
  },
  {
   "cell_type": "markdown",
   "metadata": {},
   "source": [
    "<img src=\"figures/LogoCinvestav.png\" style=\"height:100px\" title=\"Cinvestav\">"
   ]
  },
  {
   "cell_type": "markdown",
   "metadata": {},
   "source": [
    "**CINVESTAV Unidad Saltillo**\n",
    "\n",
    "**Programa de Maestría en Ciencias en Ingeniería Metalúrgica**\n",
    "\n",
    "Dr. Edgar Ivan Castro Cedeño\n",
    "\n",
    "\n",
    "2025\n",
    "\n",
    "Contacto:\n",
    "[edgar.castro@cinvestav.mx](mailto:edgar.castro@cinvestav.mx)"
   ]
  },
  {
   "cell_type": "markdown",
   "metadata": {},
   "source": [
    "## 3.2 Dimensionamiento de Reactores ideales"
   ]
  },
  {
   "cell_type": "markdown",
   "metadata": {},
   "source": [
    "**Consideraciones generales:**\n",
    "\n",
    "Para el dimensionamiento de un reactor, en su forma más elemental, se deben de tener en cuenta las siguientes consideraciones:\n",
    "\n",
    "- Existe una dependencia funcional entre la velocidad de reacción $r_{\\mathrm{A}}$, y la conversión $X$, i.e. para un valor de $X$ existirá un solo valor de $r_{\\mathrm{A}}$.\n",
    "\n",
    "- La dependencia entre $r_{\\mathrm{A}}$ y $X$ puede determinarse de forma empírica, o mediante una función que relacione la que la ley de velocidad de reacción y la conversión, $r_{\\mathrm{A}} = r_{\\mathrm{A}}(X)$. "
   ]
  },
  {
   "cell_type": "markdown",
   "metadata": {},
   "source": [
    "### 3.2.1 Dimensionamiento de reactores discontinuous (BR)"
   ]
  },
  {
   "cell_type": "markdown",
   "metadata": {},
   "source": [
    "Para el reactor discontinuo, se considera la hipótesis de mezclado perfecto en el reactor, i.e., no existen gradientes de composición, temperatura, velocidad de reacción, etc. en el reactor.\n",
    "\n",
    "Para el caso ideal, el dimensionamiento de los reactores tipo batch está gobernado por el tamaño de lote que se desea producir. "
   ]
  },
  {
   "cell_type": "markdown",
   "metadata": {},
   "source": [
    "$$t = N_{\\mathrm{A}_0} \\int_{0}^{X} \\frac{dX}{-r_{\\mathrm{A}} V}$$"
   ]
  },
  {
   "cell_type": "markdown",
   "metadata": {},
   "source": [
    "<details>\n",
    "<summary><b>Nomenclatura</b></summary>\n",
    "\n",
    "<div class=\"alert alert-info\">\n",
    "\n",
    "- **$V$**: Volumen del reactor CSTR, $[\\mathrm{m^{3}}]$.\n",
    "\n",
    "- **$N_{\\mathrm{A_0}}$**: Cantidad inicial del reactivo limitante en el reactor, $[\\mathrm{mol}]$.\n",
    "\n",
    "- **$X$**: Conversión del reactivo limitante.\n",
    "\n",
    "- **$r_{\\mathrm{A}}$**: Tasa de reacción del reactivo limitante $\\mathrm{A}$ por unidad de volumen, $[\\mathrm{mol.m^{-3}.s^{-1}}]$.\n",
    "\n",
    "</div>\n",
    "\n",
    "</details>"
   ]
  },
  {
   "cell_type": "markdown",
   "metadata": {},
   "source": [
    "**Consideraciones adicionales:**\n",
    "\n",
    "- Para casos de volumen constante, el término $V$ se puede sacar de la integral, y en estos casos el término fuera de la integral tendra unidades de concentración: $\\frac{N_{\\mathrm{A_0}}}{V}$ $[\\mathrm{mol.m^{-3}}]$."
   ]
  },
  {
   "cell_type": "markdown",
   "metadata": {},
   "source": [
    "### 3.2.2 Dimensionamiento de reactores de flujo continuo (CSTR, PFR)"
   ]
  },
  {
   "cell_type": "markdown",
   "metadata": {},
   "source": [
    "#### 3.2.2.1 Reactor continuo agitado"
   ]
  },
  {
   "cell_type": "markdown",
   "metadata": {},
   "source": [
    "Para el reactor continuo agitado, se consideran las hipótesis de operación en régimen estacionario y de mezclado perfecto en el reactor, i.e., los flujos de entrada y salida son iguales, y no existen gradientes de composición, temperatura, velocidad de reacción, etc. en el reactor.\n",
    "\n",
    "El volumen del reactor se calcula mediante la ecuación algebráica reproducida debajo:"
   ]
  },
  {
   "cell_type": "markdown",
   "metadata": {},
   "source": [
    "$$V = \\frac{F_{\\mathrm{A}_0}}{-r_{\\mathrm{A}}}X$$"
   ]
  },
  {
   "cell_type": "markdown",
   "metadata": {},
   "source": [
    "<details>\n",
    "<summary><b>Nomenclatura</b></summary>\n",
    "\n",
    "<div class=\"alert alert-info\">\n",
    "\n",
    "- **$V$**: Volumen del reactor CSTR, $[\\mathrm{m^{3}}]$.\n",
    "\n",
    "- **$F_{\\mathrm{A_0}}$**: Flujo molar del reactivo limitante a la entrada del reactor, $[\\mathrm{mol.s^{-1}}]$.\n",
    "\n",
    "- **$X$**: Conversión del reactivo limitante.\n",
    "\n",
    "- **$r_{\\mathrm{A}}$**: Tasa de reacción del reactivo limitante $\\mathrm{A}$ por unidad de volumen, $[\\mathrm{mol.m^{-3}.s^{-1}}]$.\n",
    "\n",
    "</div>\n",
    "\n",
    "</details>"
   ]
  },
  {
   "cell_type": "markdown",
   "metadata": {},
   "source": [
    "**Consideraciones adicionales**:\n",
    "\n",
    "- El término $F_{\\mathrm{A_0}}$ se considera como constante (hipótesis de operación en régimen estacionario).\n",
    "\n",
    "- Para un volumen de reactor dado, existiran únicamente un par de valores $[r_{\\mathrm{A}}, X]$, que satisfagan la ecuación (hipótesis de reactor perfectamente agitado)."
   ]
  },
  {
   "cell_type": "markdown",
   "metadata": {},
   "source": [
    "#### 3.2.2.2 Reactor de flujo pistón"
   ]
  },
  {
   "cell_type": "markdown",
   "metadata": {},
   "source": [
    "Para el reactor de flujo pistón, se consideran las hipótesis de operación, i.e., los flujos de entrada y salida son iguales.\n",
    "\n",
    "Por definición, pueden existir gradientes de composición, temperatura, velocidad de reacción, etc. sobre el volumen del reactor. Una hipótesis recurrente es considerar que solo existen gradientes sobre el eje axial del reactor.\n",
    "\n",
    "El volumen del reactor se calcula mediante la ecuación integral reproducida debajo:"
   ]
  },
  {
   "cell_type": "markdown",
   "metadata": {},
   "source": [
    "$$V = F_{\\mathrm{A}_0} \\int_{0}^{X} \\frac{dX}{-r_{\\mathrm{A}}}$$"
   ]
  },
  {
   "cell_type": "markdown",
   "metadata": {},
   "source": [
    "<details>\n",
    "<summary><b>Nomenclatura</b></summary>\n",
    "\n",
    "<div class=\"alert alert-info\">\n",
    "\n",
    "- **$V$**: Volumen del reactor CSTR, $[\\mathrm{m^{3}}]$.\n",
    "\n",
    "- **$F_{\\mathrm{A_0}}$**: Flujo molar del reactivo limitante a la entrada del reactor, $[\\mathrm{mol.s^{-1}}]$.\n",
    "\n",
    "- **$X$**: Conversión del reactivo limitante.\n",
    "\n",
    "- **$r_{\\mathrm{A}}$**: Tasa de reacción del reactivo limitante $\\mathrm{A}$ por unidad de volumen, $[\\mathrm{mol.m^{-3}.s^{-1}}]$.\n",
    "\n",
    "</div>\n",
    "\n",
    "</details>"
   ]
  },
  {
   "cell_type": "markdown",
   "metadata": {},
   "source": [
    "**Consideraciones adicionales**:\n",
    "\n",
    "- El término $F_{\\mathrm{A_0}}$ se considera como constante (hipótesis de operación en régimen estacionario).\n",
    "\n",
    "- Para un volumen dado, existen gradientes de conversión dentro del reactor, por lo que se debe resolver la integral definida por algún método gráfico, analítico o numérico."
   ]
  },
  {
   "cell_type": "markdown",
   "metadata": {},
   "source": [
    "### 3.2.3 Gráfica de Levenspiel"
   ]
  },
  {
   "cell_type": "markdown",
   "metadata": {},
   "source": [
    "En la ***Tabla 1*** se recapitulan las ecuaciones de diseño para los reactores de flujo continuo tipo CSTR y PFR, en términos de la conversión $X$."
   ]
  },
  {
   "cell_type": "markdown",
   "metadata": {},
   "source": [
    "<center>\n",
    "\n",
    "***Tabla 1. Ecuaciones de diseño para reactores CSTR y PFR, en términos de la conversión*** \n",
    "\n",
    "| Reactor| Acrónimo | Ecuación de diseño | Esquema |\n",
    "|---------|---------|--------------------|:-------:|\n",
    "| Reactor continuo agitado | CSTR    | $$V = \\frac{F_{\\mathrm{A}_0}}{-r_{\\mathrm{A}}}X$$ | <img src=\"figures/images/Continuous_bach_reactor_CSTR.svg\" style=\"width:100px\" title=\"Continuous Stirred Tank Reactor\"> |\n",
    "| Reactor de flujo pistón | PFR    | $$V = F_{\\mathrm{A}_0} \\int_{0}^{X} \\frac{dX}{-r_{\\mathrm{A}}}$$ | <img src=\"figures/images/ReactorPlugFlow.svg\" style=\"width:200px\" title=\"Plug Flow Reactor\"> | \n",
    "\n",
    "</center>"
   ]
  },
  {
   "cell_type": "markdown",
   "metadata": {},
   "source": [
    " En las ecuaciones de diseño que se muestran arriba, el volumen del reactor es proporcional al flujo molar $F_{\\mathrm{A}_0}$ y a la conversión $X$, e inversamente proporcional a la tasa de reacción $r_{\\mathrm{A}}$. "
   ]
  },
  {
   "cell_type": "markdown",
   "metadata": {},
   "source": [
    "### 3.2.3 Ejemplos"
   ]
  },
  {
   "cell_type": "markdown",
   "metadata": {},
   "source": [
    "Adaptado de: ***[Fogler, 2017, pp. 39-47]***"
   ]
  },
  {
   "cell_type": "markdown",
   "metadata": {},
   "source": []
  },
  {
   "cell_type": "code",
   "execution_count": 3,
   "metadata": {},
   "outputs": [],
   "source": [
    "FA0 = 0.4 # [mol.s-1]"
   ]
  },
  {
   "cell_type": "code",
   "execution_count": 4,
   "metadata": {},
   "outputs": [],
   "source": [
    "X = np.array([0, 0.1, 0.2, 0.4, 0.6, 0.7, 0.8])\n",
    "rA = -1. * np.array([0.45, 0.37, 0.30, 0.195, 0.113, 0.079, 0.05]) #[(mol.m-3).s-1]\n",
    "rAinv = 1 / rA # [(m3.mol-1).s]\n",
    "FA0_rA = FA0 / rA"
   ]
  },
  {
   "cell_type": "code",
   "execution_count": 7,
   "metadata": {},
   "outputs": [
    {
     "data": {
      "text/plain": [
       "[<matplotlib.lines.Line2D at 0x7f4ca0697d60>]"
      ]
     },
     "execution_count": 7,
     "metadata": {},
     "output_type": "execute_result"
    },
    {
     "data": {
      "image/png": "[encoded data removed]",
      "text/plain": [
       "<Figure size 640x480 with 1 Axes>"
      ]
     },
     "metadata": {},
     "output_type": "display_data"
    }
   ],
   "source": [
    "fig, ax = plt.subplots()\n",
    "ax.plot(X, -FA0_rA, ls='-', marker='o')\n",
    "\n",
    "# polynomial fitting\n",
    "#fit = Polynomial.fit(X, -FA0_rA, deg=4)\n",
    "\n",
    "\n",
    "\n",
    "\n",
    "x = np.linspace(0, 0.8, 20)\n",
    "ax.plot(x, fit(x))"
   ]
  },
  {
   "cell_type": "code",
   "execution_count": 6,
   "metadata": {},
   "outputs": [
    {
     "data": {
      "text/latex": [
       "$x \\mapsto \\text{2.06608725} + \\text{1.6546968}\\,\\left(\\text{-1.0} + \\text{2.5}x\\right) + \\text{1.08947006}\\,\\left(\\text{-1.0} + \\text{2.5}x\\right)^{2} + \\text{1.88654508}\\,\\left(\\text{-1.0} + \\text{2.5}x\\right)^{3} + \\text{1.28571458}\\,\\left(\\text{-1.0} + \\text{2.5}x\\right)^{4}$"
      ],
      "text/plain": [
       "Polynomial([2.06608725, 1.6546968 , 1.08947006, 1.88654508, 1.28571458], domain=[0. , 0.8], window=[-1.,  1.], symbol='x')"
      ]
     },
     "execution_count": 6,
     "metadata": {},
     "output_type": "execute_result"
    }
   ],
   "source": [
    "fit"
   ]
  },
  {
   "cell_type": "code",
   "execution_count": 20,
   "metadata": {},
   "outputs": [
    {
     "data": {
      "text/plain": [
       "[<matplotlib.lines.Line2D at 0x7f4c7c9073a0>]"
      ]
     },
     "execution_count": 20,
     "metadata": {},
     "output_type": "execute_result"
    },
    {
     "data": {
      "image/png": "[encoded data removed]",
      "text/plain": [
       "<Figure size 640x480 with 1 Axes>"
      ]
     },
     "metadata": {},
     "output_type": "display_data"
    }
   ],
   "source": [
    "X = np.linspace(0, 1, 100)\n",
    "rAinv =  5*X**2 + 5\n",
    "rA = 1/rAinv\n",
    "plt.plot(X, rAinv)"
   ]
  },
  {
   "cell_type": "code",
   "execution_count": 14,
   "metadata": {},
   "outputs": [
    {
     "data": {
      "text/plain": [
       "array([0.2       , 0.1999796 , 0.19991841, 0.19981651, 0.19967403,\n",
       "       0.19949115, 0.19926807, 0.19900508, 0.19870248, 0.19836066,\n",
       "       0.19798   , 0.19756098, 0.19710407, 0.19660983, 0.19607882,\n",
       "       0.19551167, 0.19490902, 0.19427156, 0.1936    , 0.1928951 ,\n",
       "       0.19215763, 0.1913884 , 0.19058824, 0.18975799, 0.18889853,\n",
       "       0.18801074, 0.18709554, 0.18615385, 0.18518658, 0.1841947 ,\n",
       "       0.18317914, 0.18214087, 0.18108083, 0.18      , 0.17889933,\n",
       "       0.17777979, 0.17664234, 0.17548791, 0.17431747, 0.17313196,\n",
       "       0.17193229, 0.17071939, 0.16949416, 0.16825751, 0.16701031,\n",
       "       0.16575342, 0.16448771, 0.16321399, 0.16193309, 0.1606458 ,\n",
       "       0.1593529 , 0.15805515, 0.1567533 , 0.15544806, 0.15414013,\n",
       "       0.15283019, 0.1515189 , 0.1502069 , 0.1488948 , 0.1475832 ,\n",
       "       0.14627267, 0.14496376, 0.14365702, 0.14235294, 0.14105203,\n",
       "       0.13975474, 0.13846154, 0.13717285, 0.13588908, 0.13461063,\n",
       "       0.13333787, 0.13207115, 0.13081081, 0.12955717, 0.12831053,\n",
       "       0.12707118, 0.12583938, 0.12461538, 0.12339943, 0.12219175,\n",
       "       0.12099253, 0.11980198, 0.11862027, 0.11744757, 0.11628404,\n",
       "       0.1151298 , 0.113985  , 0.11284974, 0.11172414, 0.11060828,\n",
       "       0.10950226, 0.10840615, 0.10732001, 0.1062439 , 0.10517787,\n",
       "       0.10412196, 0.10307619, 0.1020406 , 0.1010152 , 0.1       ])"
      ]
     },
     "execution_count": 14,
     "metadata": {},
     "output_type": "execute_result"
    }
   ],
   "source": [
    "rA"
   ]
  },
  {
   "cell_type": "markdown",
   "metadata": {},
   "source": [
    "# Referencias"
   ]
  },
  {
   "cell_type": "markdown",
   "metadata": {},
   "source": [
    "- ***[Fogler, 2016]***: Fogler, H. S. (2016) Elements of Chemical Reaction Engineering (5th ed.). Prentice Education Inc."
   ]
  },
  {
   "cell_type": "markdown",
   "metadata": {},
   "source": []
  }
 ],
 "metadata": {
  "kernelspec": {
   "display_name": "Python 3",
   "language": "python",
   "name": "python3"
  },
  "language_info": {
   "codemirror_mode": {
    "name": "ipython",
    "version": 3
   },
   "file_extension": ".py",
   "mimetype": "text/x-python",
   "name": "python",
   "nbconvert_exporter": "python",
   "pygments_lexer": "ipython3",
   "version": "3.10.12"
  }
 },
 "nbformat": 4,
 "nbformat_minor": 2
}
