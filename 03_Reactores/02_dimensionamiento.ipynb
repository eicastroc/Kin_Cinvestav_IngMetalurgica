{
 "cells": [
  {
   "cell_type": "code",
   "execution_count": 1,
   "metadata": {},
   "outputs": [],
   "source": [
    "import numpy as np\n",
    "import pandas as pd\n",
    "import polars as pl\n",
    "import matplotlib.pyplot as plt\n",
    "from scipy.integrate import trapezoid, simpson, cumulative_trapezoid, cumulative_simpson"
   ]
  },
  {
   "cell_type": "markdown",
   "metadata": {},
   "source": [
    "# Cinética de Procesos (Sesión 03)"
   ]
  },
  {
   "cell_type": "markdown",
   "metadata": {},
   "source": [
    "<img src=\"figures/LogoCinvestav.png\" style=\"height:100px\" title=\"Cinvestav\">"
   ]
  },
  {
   "cell_type": "markdown",
   "metadata": {},
   "source": [
    "**CINVESTAV Unidad Saltillo**\n",
    "\n",
    "**Programa de Maestría en Ciencias en Ingeniería Metalúrgica**\n",
    "\n",
    "Dr. Edgar Ivan Castro Cedeño\n",
    "\n",
    "\n",
    "2025\n",
    "\n",
    "Contacto:\n",
    "[edgar.castro@cinvestav.mx](mailto:edgar.castro@cinvestav.mx)"
   ]
  },
  {
   "cell_type": "markdown",
   "metadata": {},
   "source": [
    "## 2. Dimensionamiento de un Reactor Ideal"
   ]
  },
  {
   "cell_type": "markdown",
   "metadata": {},
   "source": [
    "**Consideraciones generales:**\n",
    "\n",
    "- Existe una dependencia funcional entre la velocidad de reacción $r_{\\mathrm{A}}$, y la conversión $X$, i.e. para un valor de $X$ existirá un solo valor de $r_{\\mathrm{A}}$.\n",
    "\n",
    "- La dependencia entre $r_{\\mathrm{A}}$ y $X$ puede expresarse de varias formas:\n",
    "    - Empírica a partir de experimentos.\n",
    "    - Mediante una función que relacione una ley de velocidad de reacción y la conversión."
   ]
  },
  {
   "cell_type": "markdown",
   "metadata": {},
   "source": [
    "## 2.1 Ecuaciones para dimensionamiento de reactores ideales"
   ]
  },
  {
   "cell_type": "markdown",
   "metadata": {},
   "source": [
    "### 2.1.1 Reactores discontinuos (BR)"
   ]
  },
  {
   "cell_type": "markdown",
   "metadata": {},
   "source": [
    "Para el reactor discontinuo, se considera la hipótesis de mezclado perfecto en el reactor, i.e., no existen gradientes de composición, temperatura, velocidad de reacción, etc. en el reactor.\n",
    "\n",
    "Para el caso ideal, el dimensionamiento de los reactores tipo batch está gobernado por el tamaño de lote que se desea producir. "
   ]
  },
  {
   "cell_type": "markdown",
   "metadata": {},
   "source": [
    "$$t = N_{\\mathrm{A}_0} \\int_{0}^{X} \\frac{dX}{-r_{\\mathrm{A}} V}$$"
   ]
  },
  {
   "cell_type": "markdown",
   "metadata": {},
   "source": [
    "<details>\n",
    "<summary><b>Nomenclatura</b></summary>\n",
    "\n",
    "<div class=\"alert alert-info\">\n",
    "\n",
    "- **$V$**: Volumen del reactor CSTR, $[\\mathrm{m^{3}}]$.\n",
    "\n",
    "- **$N_{\\mathrm{A_0}}$**: Cantidad inicial del reactivo limitante en el reactor, $[\\mathrm{mol}]$.\n",
    "\n",
    "- **$X$**: Conversión del reactivo limitante.\n",
    "\n",
    "- **$r_{\\mathrm{A}}$**: Tasa de reacción del reactivo limitante $\\mathrm{A}$ por unidad de volumen, $[\\mathrm{mol.m^{-3}.s^{-1}}]$.\n",
    "\n",
    "</div>\n",
    "\n",
    "</details>"
   ]
  },
  {
   "cell_type": "markdown",
   "metadata": {},
   "source": [
    "**Consideraciones adicionales:**\n",
    "\n",
    "- El término de volumen debe de permanecer dentro de la integral junto con la tasa de reacción, ya que de forma general, pueden cambiar a medida que la reacción procede."
   ]
  },
  {
   "cell_type": "markdown",
   "metadata": {},
   "source": [
    "### 2.1.2 Reactor continuo agitado (CSTR)"
   ]
  },
  {
   "cell_type": "markdown",
   "metadata": {},
   "source": [
    "Para el reactor continuo agitado, se consideran las hipótesis de operación en régimen estacionario y de mezclado perfecto en el reactor, i.e., los flujos de entrada y salida son iguales, y no existen gradientes de composición, temperatura, velocidad de reacción, etc. en el reactor.\n",
    "\n",
    "El volumen del reactor se calcula mediante la ecuación algebráica reproducida debajo:"
   ]
  },
  {
   "cell_type": "markdown",
   "metadata": {},
   "source": [
    "$$V = \\frac{F_{\\mathrm{A}_0}}{-r_{\\mathrm{A}}}X$$"
   ]
  },
  {
   "cell_type": "markdown",
   "metadata": {},
   "source": [
    "<details>\n",
    "<summary><b>Nomenclatura</b></summary>\n",
    "\n",
    "<div class=\"alert alert-info\">\n",
    "\n",
    "- **$V$**: Volumen del reactor CSTR, $[\\mathrm{m^{3}}]$.\n",
    "\n",
    "- **$F_{\\mathrm{A_0}}$**: Flujo molar del reactivo limitante a la entrada del reactor, $[\\mathrm{mol.s^{-1}}]$.\n",
    "\n",
    "- **$X$**: Conversión del reactivo limitante.\n",
    "\n",
    "- **$r_{\\mathrm{A}}$**: Tasa de reacción del reactivo limitante $\\mathrm{A}$ por unidad de volumen, $[\\mathrm{mol.m^{-3}.s^{-1}}]$.\n",
    "\n",
    "</div>\n",
    "\n",
    "</details>"
   ]
  },
  {
   "cell_type": "markdown",
   "metadata": {},
   "source": [
    "**Consideraciones adicionales**:\n",
    "\n",
    "- El término $F_{\\mathrm{A_0}}$ se considera como constante (hipótesis de operación en régimen estacionario).\n",
    "\n",
    "- Para un volumen dado, existiran únicamente un par de valores $[r_{\\mathrm{A}}, X]$, que satisfacen la ecuación (hipótesis de reactor perfectamente agitado)."
   ]
  },
  {
   "cell_type": "markdown",
   "metadata": {},
   "source": [
    "### 2.1.3 Reactor Flujo Pistón (PFR)"
   ]
  },
  {
   "cell_type": "markdown",
   "metadata": {},
   "source": [
    "Para el reactor de flujo pistón, se consideran las hipótesis de operación, i.e., los flujos de entrada y salida son iguales.\n",
    "\n",
    "Por definición, pueden existir gradientes de composición, temperatura, velocidad de reacción, etc. sobre el volumen del reactor. Una hipótesis recurrente es considerar que solo existen gradientes sobre el eje axial del reactor.\n",
    "\n",
    "El volumen del reactor se calcula mediante la ecuación integral reproducida debajo:"
   ]
  },
  {
   "cell_type": "markdown",
   "metadata": {},
   "source": [
    "$$V = F_{\\mathrm{A}_0} \\int_{0}^{X} \\frac{dX}{-r_{\\mathrm{A}}}$$"
   ]
  },
  {
   "cell_type": "markdown",
   "metadata": {},
   "source": [
    "<details>\n",
    "<summary><b>Nomenclatura</b></summary>\n",
    "\n",
    "<div class=\"alert alert-info\">\n",
    "\n",
    "- **$V$**: Volumen del reactor CSTR, $[\\mathrm{m^{3}}]$.\n",
    "\n",
    "- **$F_{\\mathrm{A_0}}$**: Flujo molar del reactivo limitante a la entrada del reactor, $[\\mathrm{mol.s^{-1}}]$.\n",
    "\n",
    "- **$X$**: Conversión del reactivo limitante.\n",
    "\n",
    "- **$r_{\\mathrm{A}}$**: Tasa de reacción del reactivo limitante $\\mathrm{A}$ por unidad de volumen, $[\\mathrm{mol.m^{-3}.s^{-1}}]$.\n",
    "\n",
    "</div>\n",
    "\n",
    "</details>"
   ]
  },
  {
   "cell_type": "markdown",
   "metadata": {},
   "source": [
    "**Consideraciones adicionales**:\n",
    "\n",
    "- El término $F_{\\mathrm{A_0}}$ se considera como constante (hipótesis de operación en régimen estacionario).\n",
    "\n",
    "- Para un volumen dado, existen gradientes de conversión dentro del reactor, por lo que se debe resolver la integral definida por algún método: gráfico, analítico o numérico."
   ]
  },
  {
   "cell_type": "markdown",
   "metadata": {},
   "source": [
    "## 2.2 Gráfica de Levenspiel"
   ]
  },
  {
   "cell_type": "markdown",
   "metadata": {},
   "source": [
    "### 2.2.1 Conceptualización"
   ]
  },
  {
   "cell_type": "markdown",
   "metadata": {},
   "source": [
    "El gráfico de Levenspiel es una herramienta que permite dimensionar reactores tipo CSTR y tipo PFR que operan en régimen estacionario, en función del flujo molar en el sistema y la tasa de conversión deseada, a condición que se tengan datos de mediciones de la tasa de velocidad de reacción en función de la conversión."
   ]
  },
  {
   "cell_type": "markdown",
   "metadata": {},
   "source": [
    "En la ***Tabla 1*** se recapitulan las ecuaciones de diseño para los reactores de flujo continuo tipo CSTR y PFR, en términos de la conversión $X$. Para ambos casos, el volumen de reactor es proporcional al flujo molar $F_{\\mathrm{A_0}}$, $[\\mathrm{mol.s^{-1}}]$; e inversamente proporcional a la tasa de reacción $r_{\\mathrm{A}}$, $[\\mathrm{mol.m^{-3}.s^{-1}}]$."
   ]
  },
  {
   "cell_type": "markdown",
   "metadata": {},
   "source": [
    "<center>\n",
    "\n",
    "***Tabla 1. Ecuaciones de diseño para reactores CSTR y PFR, en términos de la conversión*** \n",
    "\n",
    "| Reactor| Acrónimo | Ecuación de diseño | Esquema |\n",
    "|---------|---------|--------------------|:-------:|\n",
    "| Reactor continuo agitado | CSTR    | $$V = \\frac{F_{\\mathrm{A}_0}}{-r_{\\mathrm{A}}}X$$ | <img src=\"figures/images/Continuous_bach_reactor_CSTR.svg\" style=\"width:100px\" title=\"Continuous Stirred Tank Reactor\"> |\n",
    "| Reactor de flujo pistón | PFR    | $$V = F_{\\mathrm{A}_0} \\int_{0}^{X} \\frac{dX}{-r_{\\mathrm{A}}}$$ | <img src=\"figures/images/ReactorPlugFlow.svg\" style=\"width:200px\" title=\"Plug Flow Reactor\"> | \n",
    "\n",
    "</center>"
   ]
  },
  {
   "cell_type": "markdown",
   "metadata": {},
   "source": [
    "Para la construcción de un gráfico de Levenspiel, como los que se muestran en la ***Figura 1***, se siguen las siguientes etapas:\n",
    "\n",
    "1. Graficar los datos experimentales:\n",
    "    - Eje horizontal: Conversión, $X$.\n",
    "    - Eje vertical: Flujo molar entre el negativo de la tasa de reacción $\\frac{F_{\\mathrm{A_0}}}{-r_{\\mathrm{A}}}$ $[\\mathrm{m^{3}}]$.\n",
    "\n",
    "2. Estimar el volumen del reactor, de acuerdo con las especificidades de cada tipo de reactor:\n",
    "    - CSTR: El volumen está dado por el área del rectángulo cuya base es la conversión deseada $X$, y cuya altura es el valor de $\\frac{F_{\\mathrm{A_0}}}{-r_{\\mathrm{A}}}$ que le corresponda.\n",
    "    - PFR: El volumen está dado por el área bajo la curva $\\frac{F_{\\mathrm{A_0}}}{-r_{\\mathrm{A}}}$ vs $X$, para la conversión deseada $X$. "
   ]
  },
  {
   "cell_type": "markdown",
   "metadata": {},
   "source": [
    "<center>\n",
    "\n",
    "<img src=\"figures/images/levenspiel.png\" style=\"width:800px\" title=\"Levenspiel plots\">\n",
    "\n",
    "***Figura 1: Gráfico de Levenspiel para el dimensionamiento de un reactor. Adaptado de [Fogler, 2017, pp. 39-47]***\n",
    "\n",
    "</center>"
   ]
  },
  {
   "cell_type": "markdown",
   "metadata": {},
   "source": [
    "\n",
    "<div class=\"alert alert-warning\">\n",
    "\n",
    "<center>\n",
    "\n",
    "**¿Cómo se pueden estimar las áreas en un gráfico de Levenspiel?**\n",
    "\n",
    "</center>\n",
    "\n",
    "\n",
    "\n",
    "</div>"
   ]
  },
  {
   "cell_type": "markdown",
   "metadata": {},
   "source": [
    "### 2.2.2 Ejemplo de aplicación"
   ]
  },
  {
   "cell_type": "markdown",
   "metadata": {},
   "source": [
    "#### 2.2.2.1 Dimensionamiento de reactores CSTR y PFR a partir de datos empíricos"
   ]
  },
  {
   "cell_type": "markdown",
   "metadata": {},
   "source": [
    "Adaptado de: ***[Fogler, 2017, pp. 39-47]***"
   ]
  },
  {
   "cell_type": "markdown",
   "metadata": {},
   "source": [
    "Considere la reacción isotérmica de isomerización de una fase gaseosa:\n",
    "\n",
    "$$\\mathrm{A \\longrightarrow B}$$\n",
    "\n",
    "Estime el volumen de los reactores CSTR y PFR que se requieren para obtener las distintas conversiones que se muestran en la ***Tabla 2***, considerando que el flujo molar en el reactor a dimensionar será  $F_{\\mathrm{A_0}}=0.4$ $[\\mathrm{mol.s^{-1}}]$, y las mediciones de laboratorio de tasa de reacción en función de la conversión que se muestran en la ***Tabla 2***, y que fueron obtenidas en condiciones de temperatura $T=500$ $\\mathrm{K}$ y presión $P=8.2$ $\\mathrm{atm}$. "
   ]
  },
  {
   "cell_type": "markdown",
   "metadata": {},
   "source": [
    "<center>\n",
    "\n",
    "***Tabla 2. Datos procesados***\n",
    "\n",
    "| $$X$$ | 0 | 0.1 | 0.2 | 0.4 | 0.6 | 0.7 | 0.8 |\n",
    "|----|--|--|--|--|--|--|--|\n",
    "| $$-r_{\\mathrm{A}} \\,\\, [\\mathrm{(mol.m^{-3}).s^{-1}}]$$ | 0.45 | 0.37 | 0.30 | 0.195 | 0.113 | 0.079 | 0.05 |\n"
   ]
  },
  {
   "cell_type": "markdown",
   "metadata": {},
   "source": [
    "**Solución**"
   ]
  },
  {
   "cell_type": "markdown",
   "metadata": {},
   "source": [
    "1. Calcular los términos $\\frac{1}{-r_{\\mathrm{A}}}$  y $\\frac{F_{\\mathrm{A_0}}}{-r_{\\mathrm{A}}}$."
   ]
  },
  {
   "cell_type": "code",
   "execution_count": 2,
   "metadata": {},
   "outputs": [
    {
     "data": {
      "application/vnd.microsoft.datawrangler.viewer.v0+json": {
       "columns": [
        {
         "name": "index",
         "rawType": "int64",
         "type": "integer"
        },
        {
         "name": "X",
         "rawType": "float64",
         "type": "float"
        },
        {
         "name": "-rA",
         "rawType": "float64",
         "type": "float"
        },
        {
         "name": "1/-rA",
         "rawType": "float64",
         "type": "float"
        },
        {
         "name": "F/-rA",
         "rawType": "float64",
         "type": "float"
        }
       ],
       "ref": "1993ecb6-e9dc-40df-9699-8459b6e9b666",
       "rows": [
        [
         "0",
         "0.0",
         "0.45",
         "2.2222222222222223",
         "0.888888888888889"
        ],
        [
         "1",
         "0.1",
         "0.37",
         "2.7027027027027026",
         "1.0810810810810811"
        ],
        [
         "2",
         "0.2",
         "0.3",
         "3.3333333333333335",
         "1.3333333333333335"
        ],
        [
         "3",
         "0.4",
         "0.195",
         "5.128205128205128",
         "2.051282051282051"
        ],
        [
         "4",
         "0.6",
         "0.113",
         "8.849557522123893",
         "3.5398230088495577"
        ],
        [
         "5",
         "0.7",
         "0.079",
         "12.658227848101266",
         "5.063291139240507"
        ],
        [
         "6",
         "0.8",
         "0.05",
         "20.0",
         "8.0"
        ]
       ],
       "shape": {
        "columns": 4,
        "rows": 7
       }
      },
      "text/html": [
       "<div>\n",
       "<style scoped>\n",
       "    .dataframe tbody tr th:only-of-type {\n",
       "        vertical-align: middle;\n",
       "    }\n",
       "\n",
       "    .dataframe tbody tr th {\n",
       "        vertical-align: top;\n",
       "    }\n",
       "\n",
       "    .dataframe thead th {\n",
       "        text-align: right;\n",
       "    }\n",
       "</style>\n",
       "<table border=\"1\" class=\"dataframe\">\n",
       "  <thead>\n",
       "    <tr style=\"text-align: right;\">\n",
       "      <th></th>\n",
       "      <th>X</th>\n",
       "      <th>-rA</th>\n",
       "      <th>1/-rA</th>\n",
       "      <th>F/-rA</th>\n",
       "    </tr>\n",
       "  </thead>\n",
       "  <tbody>\n",
       "    <tr>\n",
       "      <th>0</th>\n",
       "      <td>0.0</td>\n",
       "      <td>0.450</td>\n",
       "      <td>2.222222</td>\n",
       "      <td>0.888889</td>\n",
       "    </tr>\n",
       "    <tr>\n",
       "      <th>1</th>\n",
       "      <td>0.1</td>\n",
       "      <td>0.370</td>\n",
       "      <td>2.702703</td>\n",
       "      <td>1.081081</td>\n",
       "    </tr>\n",
       "    <tr>\n",
       "      <th>2</th>\n",
       "      <td>0.2</td>\n",
       "      <td>0.300</td>\n",
       "      <td>3.333333</td>\n",
       "      <td>1.333333</td>\n",
       "    </tr>\n",
       "    <tr>\n",
       "      <th>3</th>\n",
       "      <td>0.4</td>\n",
       "      <td>0.195</td>\n",
       "      <td>5.128205</td>\n",
       "      <td>2.051282</td>\n",
       "    </tr>\n",
       "    <tr>\n",
       "      <th>4</th>\n",
       "      <td>0.6</td>\n",
       "      <td>0.113</td>\n",
       "      <td>8.849558</td>\n",
       "      <td>3.539823</td>\n",
       "    </tr>\n",
       "    <tr>\n",
       "      <th>5</th>\n",
       "      <td>0.7</td>\n",
       "      <td>0.079</td>\n",
       "      <td>12.658228</td>\n",
       "      <td>5.063291</td>\n",
       "    </tr>\n",
       "    <tr>\n",
       "      <th>6</th>\n",
       "      <td>0.8</td>\n",
       "      <td>0.050</td>\n",
       "      <td>20.000000</td>\n",
       "      <td>8.000000</td>\n",
       "    </tr>\n",
       "  </tbody>\n",
       "</table>\n",
       "</div>"
      ],
      "text/plain": [
       "     X    -rA      1/-rA     F/-rA\n",
       "0  0.0  0.450   2.222222  0.888889\n",
       "1  0.1  0.370   2.702703  1.081081\n",
       "2  0.2  0.300   3.333333  1.333333\n",
       "3  0.4  0.195   5.128205  2.051282\n",
       "4  0.6  0.113   8.849558  3.539823\n",
       "5  0.7  0.079  12.658228  5.063291\n",
       "6  0.8  0.050  20.000000  8.000000"
      ]
     },
     "metadata": {},
     "output_type": "display_data"
    }
   ],
   "source": [
    "# Entrada\n",
    "FA0 = 0.4 # [mol.s-1]\n",
    "X = np.array([0, 0.1, 0.2, 0.4, 0.6, 0.7, 0.8]) # dimless\n",
    "rA = -1. * np.array([0.45, 0.37, 0.30, 0.195, 0.113, 0.079, 0.05]) # [(mol.m-3).s-1]\n",
    "\n",
    "# Creación de DataFrame con datos de interés\n",
    "df = pd.DataFrame({\"X\": X, '-rA': -rA})\n",
    "df['1/-rA'] = 1/df['-rA'] # [(mol-1.m3).s]\n",
    "df['F/-rA'] = FA0 * df['1/-rA'] # [m3]\n",
    "\n",
    "display(df)"
   ]
  },
  {
   "cell_type": "markdown",
   "metadata": {},
   "source": [
    "2. Construir los gráficos de Levenspiel"
   ]
  },
  {
   "cell_type": "code",
   "execution_count": 3,
   "metadata": {},
   "outputs": [
    {
     "data": {
      "image/png": "[encoded data removed]",
      "text/plain": [
       "<Figure size 640x480 with 1 Axes>"
      ]
     },
     "metadata": {},
     "output_type": "display_data"
    }
   ],
   "source": [
    "fig, ax = plt.subplots()\n",
    "x = df[\"X\"].to_numpy()\n",
    "y = df[\"F/-rA\"].to_numpy()\n",
    "ax.plot(x, y, ls='-', marker='o', label='datos procesados') # datos procesados\n",
    "ax.fill_between(x, y[-1]*np.ones_like(x), label='Levenspiel CSTR', color='lightgray', alpha=0.5) # Levenspiel para CSTR\n",
    "ax.fill_between(x, y, label='Levenspiel PFR', color='darkgray', alpha=0.5) # Levenspiel para PFR\n",
    "\n",
    "ax.set(xlim=(0, 1), ylim=(0, 10),xlabel=r'Conversion, $X$ [-]', ylabel=r'$(F_{A_0}/-r_{A})$  [$m^3$]')\n",
    "ax.legend()\n",
    "ax.grid(ls=\"--\")\n",
    "fig.tight_layout()\n",
    "plt.show()"
   ]
  },
  {
   "cell_type": "markdown",
   "metadata": {},
   "source": [
    "3. Estimar los volúmenes de los reactores (gráficamente o con un método numérico)"
   ]
  },
  {
   "cell_type": "code",
   "execution_count": 4,
   "metadata": {},
   "outputs": [
    {
     "data": {
      "application/vnd.microsoft.datawrangler.viewer.v0+json": {
       "columns": [
        {
         "name": "index",
         "rawType": "int64",
         "type": "integer"
        },
        {
         "name": "X",
         "rawType": "float64",
         "type": "float"
        },
        {
         "name": "-rA",
         "rawType": "float64",
         "type": "float"
        },
        {
         "name": "Vcstr",
         "rawType": "float64",
         "type": "float"
        },
        {
         "name": "Vpfr(trapz)",
         "rawType": "float64",
         "type": "float"
        },
        {
         "name": "Vpfr(simps)",
         "rawType": "float64",
         "type": "float"
        }
       ],
       "ref": "1964ea52-45c9-4d05-885e-25f6d9891c3e",
       "rows": [
        [
         "0",
         "0.0",
         "0.45",
         "0.0",
         "0.0",
         "0.0"
        ],
        [
         "1",
         "0.1",
         "0.37",
         "0.10810810810810811",
         "0.09849849849849851",
         "0.09849849849849851"
        ],
        [
         "2",
         "0.2",
         "0.3",
         "0.2666666666666667",
         "0.21921921921921925",
         "0.21821821821821819"
        ],
        [
         "3",
         "0.4",
         "0.195",
         "0.8205128205128205",
         "0.5576807576807578",
         "0.5519365519365519"
        ],
        [
         "4",
         "0.6",
         "0.113",
         "2.1238938053097347",
         "1.1167912636939183",
         "1.0901038547056243"
        ],
        [
         "5",
         "0.7",
         "0.079",
         "3.5443037974683542",
         "1.5469469710984214",
         "1.5159306862678652"
        ],
        [
         "6",
         "0.8",
         "0.05",
         "6.4",
         "2.2001115280604475",
         "2.1498701068993444"
        ]
       ],
       "shape": {
        "columns": 5,
        "rows": 7
       }
      },
      "text/html": [
       "<div>\n",
       "<style scoped>\n",
       "    .dataframe tbody tr th:only-of-type {\n",
       "        vertical-align: middle;\n",
       "    }\n",
       "\n",
       "    .dataframe tbody tr th {\n",
       "        vertical-align: top;\n",
       "    }\n",
       "\n",
       "    .dataframe thead th {\n",
       "        text-align: right;\n",
       "    }\n",
       "</style>\n",
       "<table border=\"1\" class=\"dataframe\">\n",
       "  <thead>\n",
       "    <tr style=\"text-align: right;\">\n",
       "      <th></th>\n",
       "      <th>X</th>\n",
       "      <th>-rA</th>\n",
       "      <th>Vcstr</th>\n",
       "      <th>Vpfr(trapz)</th>\n",
       "      <th>Vpfr(simps)</th>\n",
       "    </tr>\n",
       "  </thead>\n",
       "  <tbody>\n",
       "    <tr>\n",
       "      <th>0</th>\n",
       "      <td>0.0</td>\n",
       "      <td>0.450</td>\n",
       "      <td>0.000000</td>\n",
       "      <td>0.000000</td>\n",
       "      <td>0.000000</td>\n",
       "    </tr>\n",
       "    <tr>\n",
       "      <th>1</th>\n",
       "      <td>0.1</td>\n",
       "      <td>0.370</td>\n",
       "      <td>0.108108</td>\n",
       "      <td>0.098498</td>\n",
       "      <td>0.098498</td>\n",
       "    </tr>\n",
       "    <tr>\n",
       "      <th>2</th>\n",
       "      <td>0.2</td>\n",
       "      <td>0.300</td>\n",
       "      <td>0.266667</td>\n",
       "      <td>0.219219</td>\n",
       "      <td>0.218218</td>\n",
       "    </tr>\n",
       "    <tr>\n",
       "      <th>3</th>\n",
       "      <td>0.4</td>\n",
       "      <td>0.195</td>\n",
       "      <td>0.820513</td>\n",
       "      <td>0.557681</td>\n",
       "      <td>0.551937</td>\n",
       "    </tr>\n",
       "    <tr>\n",
       "      <th>4</th>\n",
       "      <td>0.6</td>\n",
       "      <td>0.113</td>\n",
       "      <td>2.123894</td>\n",
       "      <td>1.116791</td>\n",
       "      <td>1.090104</td>\n",
       "    </tr>\n",
       "    <tr>\n",
       "      <th>5</th>\n",
       "      <td>0.7</td>\n",
       "      <td>0.079</td>\n",
       "      <td>3.544304</td>\n",
       "      <td>1.546947</td>\n",
       "      <td>1.515931</td>\n",
       "    </tr>\n",
       "    <tr>\n",
       "      <th>6</th>\n",
       "      <td>0.8</td>\n",
       "      <td>0.050</td>\n",
       "      <td>6.400000</td>\n",
       "      <td>2.200112</td>\n",
       "      <td>2.149870</td>\n",
       "    </tr>\n",
       "  </tbody>\n",
       "</table>\n",
       "</div>"
      ],
      "text/plain": [
       "     X    -rA     Vcstr  Vpfr(trapz)  Vpfr(simps)\n",
       "0  0.0  0.450  0.000000     0.000000     0.000000\n",
       "1  0.1  0.370  0.108108     0.098498     0.098498\n",
       "2  0.2  0.300  0.266667     0.219219     0.218218\n",
       "3  0.4  0.195  0.820513     0.557681     0.551937\n",
       "4  0.6  0.113  2.123894     1.116791     1.090104\n",
       "5  0.7  0.079  3.544304     1.546947     1.515931\n",
       "6  0.8  0.050  6.400000     2.200112     2.149870"
      ]
     },
     "metadata": {},
     "output_type": "display_data"
    }
   ],
   "source": [
    "# Estimación volúmenes CSTR\n",
    "df[\"Vcstr\"] = df[\"X\"] * df[\"F/-rA\"] #m3\n",
    "\n",
    "# Estimacion de volúmenes PFR\n",
    "df[\"Vpfr(trapz)\"] = 0.0\n",
    "df[\"Vpfr(simps)\"] = 0.0\n",
    "for idx, row in df.iterrows():\n",
    "    if idx > 0:\n",
    "        x = df.loc[:idx, 'X'] # X\n",
    "        y = df.loc[:idx, 'F/-rA'] # (F/-rA)\n",
    "        df.at[idx, 'Vpfr(trapz)'] = trapezoid(y, x)\n",
    "        df.at[idx, 'Vpfr(simps)'] = simpson(y, x)\n",
    "\n",
    "display(df[[\"X\", \"-rA\", \"Vcstr\", \"Vpfr(trapz)\", \"Vpfr(simps)\"]])"
   ]
  },
  {
   "cell_type": "markdown",
   "metadata": {},
   "source": [
    "\n",
    "<div class=\"alert alert-warning\">\n",
    "\n",
    "<center>\n",
    "\n",
    "Para casos isotérmicos, generalmente a conversión equivalente, el volumen de un reactor CSTR es mayor al de un reactor PFR. \n",
    "\n",
    "¿Por qué sucede esto?\n",
    "\n",
    "</center>\n",
    "\n",
    "\n",
    "\n",
    "</div>"
   ]
  },
  {
   "cell_type": "markdown",
   "metadata": {},
   "source": [
    "A partir de los datos calculados se pueden trazar perfiles de conversión y de velocidad de reacción para reactores CSTR, y a lo largo del volumen de reactores PFR."
   ]
  },
  {
   "cell_type": "code",
   "execution_count": 5,
   "metadata": {},
   "outputs": [
    {
     "data": {
      "image/png": "[encoded data removed]",
      "text/plain": [
       "<Figure size 640x480 with 2 Axes>"
      ]
     },
     "metadata": {},
     "output_type": "display_data"
    }
   ],
   "source": [
    "fig, axes = plt.subplots(ncols=2, sharex=True)\n",
    "\n",
    "x0 = 1e3*df['Vcstr'].to_numpy()  # Volume CSTR in dm3\n",
    "x1, x2 = 1e3*df['Vpfr(trapz)'].to_numpy(), 1e3*df['Vpfr(simps)'].to_numpy() # Volume PFR in dm3\n",
    "y1 = df['X'].to_numpy() # conversion X [-]\n",
    "y2 = df['-rA'].to_numpy() # reaction rate [(mol.m-3).s-1]\n",
    "\n",
    "axes[0].stem(x0, y1, linefmt='-', markerfmt='o', basefmt='None', orientation='vertical', label='CSTR')\n",
    "axes[0].plot(x1, y1, ls='-', marker='o', label='PFR(Trapz)')\n",
    "axes[0].plot(x2, y1, ls='-', marker='o', label='PFR(Simps)')\n",
    "axes[0].set(xlim=(0, 2500), ylim=(0, 1), xlabel=r'V [dm$^3$]', ylabel='Conversion, X')\n",
    "\n",
    "axes[1].stem(y2, x0, linefmt='-', markerfmt='o', basefmt='None', orientation='horizontal', label='CSTR')\n",
    "axes[1].plot(x1, y2, ls='-', marker='o', label='PFR(Trapz)')\n",
    "axes[1].plot(x2, y2, ls='-', marker='o', label='PFR(Simps)')\n",
    "axes[1].set(xlim=(0, 7000), ylim=(0, 0.5), xlabel=r'V [dm$^3$]', ylabel=r'$-r_{A}$ [mol.m$^{-3}$.s$^{-1}$]')\n",
    "\n",
    "for ax in axes:\n",
    "    ax.grid(ls=\"--\")\n",
    "    ax.legend()\n",
    "\n",
    "fig.tight_layout()\n",
    "plt.show()"
   ]
  },
  {
   "cell_type": "markdown",
   "metadata": {},
   "source": [
    "**Reactores CSTR:**\n",
    "\n",
    "Como consecuencia de la hipótesis de mezclado perfecto, los reactores CSTR siempre operan a la tasa de reacción más baja (la tasa a la salida).\n",
    "\n",
    "**Reactores PFR:**\n",
    "\n",
    "En un reactor PFR, la tasa de reacción es grande a la entrada del reactor y disminuye de forma gradual a medida que un elemento se acerca a la salida, donde la tasa de reacción es baja. Este comportamiento es típico para reactores en régimen de operación isotérmico."
   ]
  },
  {
   "cell_type": "markdown",
   "metadata": {},
   "source": [
    "\n",
    "<div class=\"alert alert-warning\">\n",
    "\n",
    "<center>\n",
    "\n",
    "**Si bien este comportamiento es general para reacciones isotérmicas, existen excepciones como el caso de reacciones autocatalíticas, reacciones no isotérmicas, etc.**\n",
    "\n",
    "</center>\n",
    "\n",
    "\n",
    "\n",
    "</div>"
   ]
  },
  {
   "cell_type": "markdown",
   "metadata": {},
   "source": [
    "#### 2.2.2.2 Dimensionamiento de reactores CSTR y PFR a partir de leyes de velocidad de reacción"
   ]
  },
  {
   "cell_type": "code",
   "execution_count": 6,
   "metadata": {},
   "outputs": [],
   "source": [
    "def rA_O1(k, C0, X):\n",
    "    return -k*C0*(1-X)"
   ]
  },
  {
   "cell_type": "markdown",
   "metadata": {},
   "source": [
    "##### Pandas"
   ]
  },
  {
   "cell_type": "code",
   "execution_count": 7,
   "metadata": {},
   "outputs": [
    {
     "data": {
      "application/vnd.microsoft.datawrangler.viewer.v0+json": {
       "columns": [
        {
         "name": "index",
         "rawType": "int64",
         "type": "integer"
        },
        {
         "name": "X",
         "rawType": "float64",
         "type": "float"
        },
        {
         "name": "-rA",
         "rawType": "float64",
         "type": "float"
        },
        {
         "name": "1/-rA",
         "rawType": "float64",
         "type": "float"
        },
        {
         "name": "F/-rA",
         "rawType": "float64",
         "type": "float"
        }
       ],
       "ref": "afb998dd-3ddc-47eb-bf08-605e0db8c87b",
       "rows": [
        [
         "0",
         "0.0",
         "10.0",
         "0.1",
         "0.1"
        ],
        [
         "1",
         "0.02020408163265306",
         "9.79795918367347",
         "0.10206207040199958",
         "0.10206207040199958"
        ],
        [
         "2",
         "0.04040816326530612",
         "9.595918367346938",
         "0.10421097405359422",
         "0.10421097405359422"
        ],
        [
         "3",
         "0.06061224489795918",
         "9.39387755102041",
         "0.106452313708451",
         "0.106452313708451"
        ],
        [
         "4",
         "0.08081632653061224",
         "9.191836734693878",
         "0.10879218472468917",
         "0.10879218472468917"
        ],
        [
         "5",
         "0.1010204081632653",
         "8.989795918367347",
         "0.1112372304199773",
         "0.1112372304199773"
        ],
        [
         "6",
         "0.12122448979591836",
         "8.787755102040816",
         "0.11379470506270321",
         "0.11379470506270321"
        ],
        [
         "7",
         "0.14142857142857143",
         "8.585714285714285",
         "0.11647254575707155",
         "0.11647254575707155"
        ],
        [
         "8",
         "0.16163265306122448",
         "8.383673469387755",
         "0.1192794547224927",
         "0.1192794547224927"
        ],
        [
         "9",
         "0.18183673469387754",
         "8.181632653061225",
         "0.12222499376403093",
         "0.12222499376403093"
        ],
        [
         "10",
         "0.2020408163265306",
         "7.979591836734694",
         "0.12531969309462915",
         "0.12531969309462915"
        ],
        [
         "11",
         "0.22224489795918367",
         "7.777551020408163",
         "0.12857517711886643",
         "0.12857517711886643"
        ],
        [
         "12",
         "0.24244897959183673",
         "7.575510204081633",
         "0.13200431034482757",
         "0.13200431034482757"
        ],
        [
         "13",
         "0.2626530612244898",
         "7.373469387755103",
         "0.13562136728480487",
         "0.13562136728480487"
        ],
        [
         "14",
         "0.28285714285714286",
         "7.171428571428571",
         "0.13944223107569723",
         "0.13944223107569723"
        ],
        [
         "15",
         "0.3030612244897959",
         "6.969387755102041",
         "0.14348462664714495",
         "0.14348462664714495"
        ],
        [
         "16",
         "0.32326530612244897",
         "6.7673469387755105",
         "0.14776839565741856",
         "0.14776839565741856"
        ],
        [
         "17",
         "0.34346938775510205",
         "6.5653061224489795",
         "0.15231582219459125",
         "0.15231582219459125"
        ],
        [
         "18",
         "0.3636734693877551",
         "6.36326530612245",
         "0.15715202052597815",
         "0.15715202052597815"
        ],
        [
         "19",
         "0.38387755102040816",
         "6.161224489795918",
         "0.1623053991387877",
         "0.1623053991387877"
        ],
        [
         "20",
         "0.4040816326530612",
         "5.959183673469388",
         "0.16780821917808217",
         "0.16780821917808217"
        ],
        [
         "21",
         "0.42428571428571427",
         "5.757142857142857",
         "0.17369727047146402",
         "0.17369727047146402"
        ],
        [
         "22",
         "0.44448979591836735",
         "5.555102040816326",
         "0.18001469507714918",
         "0.18001469507714918"
        ],
        [
         "23",
         "0.4646938775510204",
         "5.353061224489797",
         "0.18680899733130002",
         "0.18680899733130002"
        ],
        [
         "24",
         "0.48489795918367345",
         "5.151020408163265",
         "0.19413629160063392",
         "0.19413629160063392"
        ],
        [
         "25",
         "0.5051020408163265",
         "4.948979591836736",
         "0.20206185567010304",
         "0.20206185567010304"
        ],
        [
         "26",
         "0.5253061224489796",
         "4.746938775510205",
         "0.2106620808254514",
         "0.2106620808254514"
        ],
        [
         "27",
         "0.5455102040816326",
         "4.544897959183674",
         "0.22002694207453974",
         "0.22002694207453974"
        ],
        [
         "28",
         "0.5657142857142857",
         "4.3428571428571425",
         "0.23026315789473686",
         "0.23026315789473686"
        ],
        [
         "29",
         "0.5859183673469388",
         "4.1408163265306115",
         "0.24149827501232138",
         "0.24149827501232138"
        ],
        [
         "30",
         "0.6061224489795918",
         "3.9387755102040822",
         "0.25388601036269426",
         "0.25388601036269426"
        ],
        [
         "31",
         "0.6263265306122449",
         "3.736734693877551",
         "0.26761332605133803",
         "0.26761332605133803"
        ],
        [
         "32",
         "0.6465306122448979",
         "3.5346938775510206",
         "0.28290993071593534",
         "0.28290993071593534"
        ],
        [
         "33",
         "0.666734693877551",
         "3.33265306122449",
         "0.3000612369871402",
         "0.3000612369871402"
        ],
        [
         "34",
         "0.6869387755102041",
         "3.130612244897959",
         "0.31942633637548895",
         "0.31942633637548895"
        ],
        [
         "35",
         "0.7071428571428571",
         "2.9285714285714293",
         "0.34146341463414626",
         "0.34146341463414626"
        ],
        [
         "36",
         "0.7273469387755102",
         "2.7265306122448987",
         "0.3667664670658682",
         "0.3667664670658682"
        ],
        [
         "37",
         "0.7475510204081632",
         "2.5244897959183676",
         "0.39611964430072755",
         "0.39611964430072755"
        ],
        [
         "38",
         "0.7677551020408163",
         "2.3224489795918366",
         "0.4305799648506151",
         "0.4305799648506151"
        ],
        [
         "39",
         "0.7879591836734694",
         "2.120408163265306",
         "0.47160731472569783",
         "0.47160731472569783"
        ],
        [
         "40",
         "0.8081632653061224",
         "1.9183673469387763",
         "0.5212765957446807",
         "0.5212765957446807"
        ],
        [
         "41",
         "0.8283673469387755",
         "1.7163265306122455",
         "0.5826397146254457",
         "0.5826397146254457"
        ],
        [
         "42",
         "0.8485714285714285",
         "1.5142857142857147",
         "0.6603773584905659",
         "0.6603773584905659"
        ],
        [
         "43",
         "0.8687755102040816",
         "1.3122448979591839",
         "0.7620528771384135",
         "0.7620528771384135"
        ],
        [
         "44",
         "0.8889795918367347",
         "1.110204081632653",
         "0.9007352941176471",
         "0.9007352941176471"
        ],
        [
         "45",
         "0.9091836734693878",
         "0.9081632653061222",
         "1.1011235955056182",
         "1.1011235955056182"
        ],
        [
         "46",
         "0.9293877551020407",
         "0.7061224489795925",
         "1.4161849710982646",
         "1.4161849710982646"
        ],
        [
         "47",
         "0.9495918367346938",
         "0.5040816326530617",
         "1.9838056680161924",
         "1.9838056680161924"
        ],
        [
         "48",
         "0.9697959183673469",
         "0.3020408163265309",
         "3.3108108108108074",
         "3.3108108108108074"
        ],
        [
         "49",
         "0.99",
         "0.10000000000000009",
         "9.999999999999991",
         "9.999999999999991"
        ]
       ],
       "shape": {
        "columns": 4,
        "rows": 50
       }
      },
      "text/html": [
       "<div>\n",
       "<style scoped>\n",
       "    .dataframe tbody tr th:only-of-type {\n",
       "        vertical-align: middle;\n",
       "    }\n",
       "\n",
       "    .dataframe tbody tr th {\n",
       "        vertical-align: top;\n",
       "    }\n",
       "\n",
       "    .dataframe thead th {\n",
       "        text-align: right;\n",
       "    }\n",
       "</style>\n",
       "<table border=\"1\" class=\"dataframe\">\n",
       "  <thead>\n",
       "    <tr style=\"text-align: right;\">\n",
       "      <th></th>\n",
       "      <th>X</th>\n",
       "      <th>-rA</th>\n",
       "      <th>1/-rA</th>\n",
       "      <th>F/-rA</th>\n",
       "    </tr>\n",
       "  </thead>\n",
       "  <tbody>\n",
       "    <tr>\n",
       "      <th>0</th>\n",
       "      <td>0.000000</td>\n",
       "      <td>10.000000</td>\n",
       "      <td>0.100000</td>\n",
       "      <td>0.100000</td>\n",
       "    </tr>\n",
       "    <tr>\n",
       "      <th>1</th>\n",
       "      <td>0.020204</td>\n",
       "      <td>9.797959</td>\n",
       "      <td>0.102062</td>\n",
       "      <td>0.102062</td>\n",
       "    </tr>\n",
       "    <tr>\n",
       "      <th>2</th>\n",
       "      <td>0.040408</td>\n",
       "      <td>9.595918</td>\n",
       "      <td>0.104211</td>\n",
       "      <td>0.104211</td>\n",
       "    </tr>\n",
       "    <tr>\n",
       "      <th>3</th>\n",
       "      <td>0.060612</td>\n",
       "      <td>9.393878</td>\n",
       "      <td>0.106452</td>\n",
       "      <td>0.106452</td>\n",
       "    </tr>\n",
       "    <tr>\n",
       "      <th>4</th>\n",
       "      <td>0.080816</td>\n",
       "      <td>9.191837</td>\n",
       "      <td>0.108792</td>\n",
       "      <td>0.108792</td>\n",
       "    </tr>\n",
       "    <tr>\n",
       "      <th>5</th>\n",
       "      <td>0.101020</td>\n",
       "      <td>8.989796</td>\n",
       "      <td>0.111237</td>\n",
       "      <td>0.111237</td>\n",
       "    </tr>\n",
       "    <tr>\n",
       "      <th>6</th>\n",
       "      <td>0.121224</td>\n",
       "      <td>8.787755</td>\n",
       "      <td>0.113795</td>\n",
       "      <td>0.113795</td>\n",
       "    </tr>\n",
       "    <tr>\n",
       "      <th>7</th>\n",
       "      <td>0.141429</td>\n",
       "      <td>8.585714</td>\n",
       "      <td>0.116473</td>\n",
       "      <td>0.116473</td>\n",
       "    </tr>\n",
       "    <tr>\n",
       "      <th>8</th>\n",
       "      <td>0.161633</td>\n",
       "      <td>8.383673</td>\n",
       "      <td>0.119279</td>\n",
       "      <td>0.119279</td>\n",
       "    </tr>\n",
       "    <tr>\n",
       "      <th>9</th>\n",
       "      <td>0.181837</td>\n",
       "      <td>8.181633</td>\n",
       "      <td>0.122225</td>\n",
       "      <td>0.122225</td>\n",
       "    </tr>\n",
       "    <tr>\n",
       "      <th>10</th>\n",
       "      <td>0.202041</td>\n",
       "      <td>7.979592</td>\n",
       "      <td>0.125320</td>\n",
       "      <td>0.125320</td>\n",
       "    </tr>\n",
       "    <tr>\n",
       "      <th>11</th>\n",
       "      <td>0.222245</td>\n",
       "      <td>7.777551</td>\n",
       "      <td>0.128575</td>\n",
       "      <td>0.128575</td>\n",
       "    </tr>\n",
       "    <tr>\n",
       "      <th>12</th>\n",
       "      <td>0.242449</td>\n",
       "      <td>7.575510</td>\n",
       "      <td>0.132004</td>\n",
       "      <td>0.132004</td>\n",
       "    </tr>\n",
       "    <tr>\n",
       "      <th>13</th>\n",
       "      <td>0.262653</td>\n",
       "      <td>7.373469</td>\n",
       "      <td>0.135621</td>\n",
       "      <td>0.135621</td>\n",
       "    </tr>\n",
       "    <tr>\n",
       "      <th>14</th>\n",
       "      <td>0.282857</td>\n",
       "      <td>7.171429</td>\n",
       "      <td>0.139442</td>\n",
       "      <td>0.139442</td>\n",
       "    </tr>\n",
       "    <tr>\n",
       "      <th>15</th>\n",
       "      <td>0.303061</td>\n",
       "      <td>6.969388</td>\n",
       "      <td>0.143485</td>\n",
       "      <td>0.143485</td>\n",
       "    </tr>\n",
       "    <tr>\n",
       "      <th>16</th>\n",
       "      <td>0.323265</td>\n",
       "      <td>6.767347</td>\n",
       "      <td>0.147768</td>\n",
       "      <td>0.147768</td>\n",
       "    </tr>\n",
       "    <tr>\n",
       "      <th>17</th>\n",
       "      <td>0.343469</td>\n",
       "      <td>6.565306</td>\n",
       "      <td>0.152316</td>\n",
       "      <td>0.152316</td>\n",
       "    </tr>\n",
       "    <tr>\n",
       "      <th>18</th>\n",
       "      <td>0.363673</td>\n",
       "      <td>6.363265</td>\n",
       "      <td>0.157152</td>\n",
       "      <td>0.157152</td>\n",
       "    </tr>\n",
       "    <tr>\n",
       "      <th>19</th>\n",
       "      <td>0.383878</td>\n",
       "      <td>6.161224</td>\n",
       "      <td>0.162305</td>\n",
       "      <td>0.162305</td>\n",
       "    </tr>\n",
       "    <tr>\n",
       "      <th>20</th>\n",
       "      <td>0.404082</td>\n",
       "      <td>5.959184</td>\n",
       "      <td>0.167808</td>\n",
       "      <td>0.167808</td>\n",
       "    </tr>\n",
       "    <tr>\n",
       "      <th>21</th>\n",
       "      <td>0.424286</td>\n",
       "      <td>5.757143</td>\n",
       "      <td>0.173697</td>\n",
       "      <td>0.173697</td>\n",
       "    </tr>\n",
       "    <tr>\n",
       "      <th>22</th>\n",
       "      <td>0.444490</td>\n",
       "      <td>5.555102</td>\n",
       "      <td>0.180015</td>\n",
       "      <td>0.180015</td>\n",
       "    </tr>\n",
       "    <tr>\n",
       "      <th>23</th>\n",
       "      <td>0.464694</td>\n",
       "      <td>5.353061</td>\n",
       "      <td>0.186809</td>\n",
       "      <td>0.186809</td>\n",
       "    </tr>\n",
       "    <tr>\n",
       "      <th>24</th>\n",
       "      <td>0.484898</td>\n",
       "      <td>5.151020</td>\n",
       "      <td>0.194136</td>\n",
       "      <td>0.194136</td>\n",
       "    </tr>\n",
       "    <tr>\n",
       "      <th>25</th>\n",
       "      <td>0.505102</td>\n",
       "      <td>4.948980</td>\n",
       "      <td>0.202062</td>\n",
       "      <td>0.202062</td>\n",
       "    </tr>\n",
       "    <tr>\n",
       "      <th>26</th>\n",
       "      <td>0.525306</td>\n",
       "      <td>4.746939</td>\n",
       "      <td>0.210662</td>\n",
       "      <td>0.210662</td>\n",
       "    </tr>\n",
       "    <tr>\n",
       "      <th>27</th>\n",
       "      <td>0.545510</td>\n",
       "      <td>4.544898</td>\n",
       "      <td>0.220027</td>\n",
       "      <td>0.220027</td>\n",
       "    </tr>\n",
       "    <tr>\n",
       "      <th>28</th>\n",
       "      <td>0.565714</td>\n",
       "      <td>4.342857</td>\n",
       "      <td>0.230263</td>\n",
       "      <td>0.230263</td>\n",
       "    </tr>\n",
       "    <tr>\n",
       "      <th>29</th>\n",
       "      <td>0.585918</td>\n",
       "      <td>4.140816</td>\n",
       "      <td>0.241498</td>\n",
       "      <td>0.241498</td>\n",
       "    </tr>\n",
       "    <tr>\n",
       "      <th>30</th>\n",
       "      <td>0.606122</td>\n",
       "      <td>3.938776</td>\n",
       "      <td>0.253886</td>\n",
       "      <td>0.253886</td>\n",
       "    </tr>\n",
       "    <tr>\n",
       "      <th>31</th>\n",
       "      <td>0.626327</td>\n",
       "      <td>3.736735</td>\n",
       "      <td>0.267613</td>\n",
       "      <td>0.267613</td>\n",
       "    </tr>\n",
       "    <tr>\n",
       "      <th>32</th>\n",
       "      <td>0.646531</td>\n",
       "      <td>3.534694</td>\n",
       "      <td>0.282910</td>\n",
       "      <td>0.282910</td>\n",
       "    </tr>\n",
       "    <tr>\n",
       "      <th>33</th>\n",
       "      <td>0.666735</td>\n",
       "      <td>3.332653</td>\n",
       "      <td>0.300061</td>\n",
       "      <td>0.300061</td>\n",
       "    </tr>\n",
       "    <tr>\n",
       "      <th>34</th>\n",
       "      <td>0.686939</td>\n",
       "      <td>3.130612</td>\n",
       "      <td>0.319426</td>\n",
       "      <td>0.319426</td>\n",
       "    </tr>\n",
       "    <tr>\n",
       "      <th>35</th>\n",
       "      <td>0.707143</td>\n",
       "      <td>2.928571</td>\n",
       "      <td>0.341463</td>\n",
       "      <td>0.341463</td>\n",
       "    </tr>\n",
       "    <tr>\n",
       "      <th>36</th>\n",
       "      <td>0.727347</td>\n",
       "      <td>2.726531</td>\n",
       "      <td>0.366766</td>\n",
       "      <td>0.366766</td>\n",
       "    </tr>\n",
       "    <tr>\n",
       "      <th>37</th>\n",
       "      <td>0.747551</td>\n",
       "      <td>2.524490</td>\n",
       "      <td>0.396120</td>\n",
       "      <td>0.396120</td>\n",
       "    </tr>\n",
       "    <tr>\n",
       "      <th>38</th>\n",
       "      <td>0.767755</td>\n",
       "      <td>2.322449</td>\n",
       "      <td>0.430580</td>\n",
       "      <td>0.430580</td>\n",
       "    </tr>\n",
       "    <tr>\n",
       "      <th>39</th>\n",
       "      <td>0.787959</td>\n",
       "      <td>2.120408</td>\n",
       "      <td>0.471607</td>\n",
       "      <td>0.471607</td>\n",
       "    </tr>\n",
       "    <tr>\n",
       "      <th>40</th>\n",
       "      <td>0.808163</td>\n",
       "      <td>1.918367</td>\n",
       "      <td>0.521277</td>\n",
       "      <td>0.521277</td>\n",
       "    </tr>\n",
       "    <tr>\n",
       "      <th>41</th>\n",
       "      <td>0.828367</td>\n",
       "      <td>1.716327</td>\n",
       "      <td>0.582640</td>\n",
       "      <td>0.582640</td>\n",
       "    </tr>\n",
       "    <tr>\n",
       "      <th>42</th>\n",
       "      <td>0.848571</td>\n",
       "      <td>1.514286</td>\n",
       "      <td>0.660377</td>\n",
       "      <td>0.660377</td>\n",
       "    </tr>\n",
       "    <tr>\n",
       "      <th>43</th>\n",
       "      <td>0.868776</td>\n",
       "      <td>1.312245</td>\n",
       "      <td>0.762053</td>\n",
       "      <td>0.762053</td>\n",
       "    </tr>\n",
       "    <tr>\n",
       "      <th>44</th>\n",
       "      <td>0.888980</td>\n",
       "      <td>1.110204</td>\n",
       "      <td>0.900735</td>\n",
       "      <td>0.900735</td>\n",
       "    </tr>\n",
       "    <tr>\n",
       "      <th>45</th>\n",
       "      <td>0.909184</td>\n",
       "      <td>0.908163</td>\n",
       "      <td>1.101124</td>\n",
       "      <td>1.101124</td>\n",
       "    </tr>\n",
       "    <tr>\n",
       "      <th>46</th>\n",
       "      <td>0.929388</td>\n",
       "      <td>0.706122</td>\n",
       "      <td>1.416185</td>\n",
       "      <td>1.416185</td>\n",
       "    </tr>\n",
       "    <tr>\n",
       "      <th>47</th>\n",
       "      <td>0.949592</td>\n",
       "      <td>0.504082</td>\n",
       "      <td>1.983806</td>\n",
       "      <td>1.983806</td>\n",
       "    </tr>\n",
       "    <tr>\n",
       "      <th>48</th>\n",
       "      <td>0.969796</td>\n",
       "      <td>0.302041</td>\n",
       "      <td>3.310811</td>\n",
       "      <td>3.310811</td>\n",
       "    </tr>\n",
       "    <tr>\n",
       "      <th>49</th>\n",
       "      <td>0.990000</td>\n",
       "      <td>0.100000</td>\n",
       "      <td>10.000000</td>\n",
       "      <td>10.000000</td>\n",
       "    </tr>\n",
       "  </tbody>\n",
       "</table>\n",
       "</div>"
      ],
      "text/plain": [
       "           X        -rA      1/-rA      F/-rA\n",
       "0   0.000000  10.000000   0.100000   0.100000\n",
       "1   0.020204   9.797959   0.102062   0.102062\n",
       "2   0.040408   9.595918   0.104211   0.104211\n",
       "3   0.060612   9.393878   0.106452   0.106452\n",
       "4   0.080816   9.191837   0.108792   0.108792\n",
       "5   0.101020   8.989796   0.111237   0.111237\n",
       "6   0.121224   8.787755   0.113795   0.113795\n",
       "7   0.141429   8.585714   0.116473   0.116473\n",
       "8   0.161633   8.383673   0.119279   0.119279\n",
       "9   0.181837   8.181633   0.122225   0.122225\n",
       "10  0.202041   7.979592   0.125320   0.125320\n",
       "11  0.222245   7.777551   0.128575   0.128575\n",
       "12  0.242449   7.575510   0.132004   0.132004\n",
       "13  0.262653   7.373469   0.135621   0.135621\n",
       "14  0.282857   7.171429   0.139442   0.139442\n",
       "15  0.303061   6.969388   0.143485   0.143485\n",
       "16  0.323265   6.767347   0.147768   0.147768\n",
       "17  0.343469   6.565306   0.152316   0.152316\n",
       "18  0.363673   6.363265   0.157152   0.157152\n",
       "19  0.383878   6.161224   0.162305   0.162305\n",
       "20  0.404082   5.959184   0.167808   0.167808\n",
       "21  0.424286   5.757143   0.173697   0.173697\n",
       "22  0.444490   5.555102   0.180015   0.180015\n",
       "23  0.464694   5.353061   0.186809   0.186809\n",
       "24  0.484898   5.151020   0.194136   0.194136\n",
       "25  0.505102   4.948980   0.202062   0.202062\n",
       "26  0.525306   4.746939   0.210662   0.210662\n",
       "27  0.545510   4.544898   0.220027   0.220027\n",
       "28  0.565714   4.342857   0.230263   0.230263\n",
       "29  0.585918   4.140816   0.241498   0.241498\n",
       "30  0.606122   3.938776   0.253886   0.253886\n",
       "31  0.626327   3.736735   0.267613   0.267613\n",
       "32  0.646531   3.534694   0.282910   0.282910\n",
       "33  0.666735   3.332653   0.300061   0.300061\n",
       "34  0.686939   3.130612   0.319426   0.319426\n",
       "35  0.707143   2.928571   0.341463   0.341463\n",
       "36  0.727347   2.726531   0.366766   0.366766\n",
       "37  0.747551   2.524490   0.396120   0.396120\n",
       "38  0.767755   2.322449   0.430580   0.430580\n",
       "39  0.787959   2.120408   0.471607   0.471607\n",
       "40  0.808163   1.918367   0.521277   0.521277\n",
       "41  0.828367   1.716327   0.582640   0.582640\n",
       "42  0.848571   1.514286   0.660377   0.660377\n",
       "43  0.868776   1.312245   0.762053   0.762053\n",
       "44  0.888980   1.110204   0.900735   0.900735\n",
       "45  0.909184   0.908163   1.101124   1.101124\n",
       "46  0.929388   0.706122   1.416185   1.416185\n",
       "47  0.949592   0.504082   1.983806   1.983806\n",
       "48  0.969796   0.302041   3.310811   3.310811\n",
       "49  0.990000   0.100000  10.000000  10.000000"
      ]
     },
     "metadata": {},
     "output_type": "display_data"
    }
   ],
   "source": [
    "# Entrada\n",
    "FA0 = 1 # [mol.s-1]\n",
    "k = 10\n",
    "c0 = 1\n",
    "X = np.linspace(0, 0.99, 50)\n",
    "\n",
    "rA = rA_O1(k, c0, X)\n",
    "\n",
    "# Creación de DataFrame con datos de interés\n",
    "df = pd.DataFrame({\"X\": X, '-rA': -rA})\n",
    "df['1/-rA'] = 1/df['-rA'] # [(mol-1.m3).s]\n",
    "df['F/-rA'] = FA0 * df['1/-rA'] # [m3]\n",
    "\n",
    "display(df)"
   ]
  },
  {
   "cell_type": "code",
   "execution_count": 8,
   "metadata": {},
   "outputs": [
    {
     "data": {
      "image/png": "[encoded data removed]",
      "text/plain": [
       "<Figure size 640x480 with 1 Axes>"
      ]
     },
     "metadata": {},
     "output_type": "display_data"
    }
   ],
   "source": [
    "fig, ax = plt.subplots()\n",
    "x = df[\"X\"].to_numpy()\n",
    "y = df[\"F/-rA\"].to_numpy()\n",
    "ax.plot(x, y, ls='-', marker='o', label='datos procesados') # datos procesados\n",
    "ax.fill_between(x, y[-1]*np.ones_like(x), label='Levenspiel CSTR', color='lightgray', alpha=0.5) # Levenspiel para CSTR\n",
    "ax.fill_between(x, y, label='Levenspiel PFR', color='darkgray', alpha=0.5) # Levenspiel para PFR\n",
    "\n",
    "ax.set(xlim=(0, 1), xlabel=r'Conversion, $X$ [-]', ylabel=r'$(F_{A_0}/-r_{A})$  [$m^3$]')\n",
    "ax.legend()\n",
    "ax.grid(ls=\"--\")\n",
    "fig.tight_layout()\n",
    "plt.show()"
   ]
  },
  {
   "cell_type": "code",
   "execution_count": 9,
   "metadata": {},
   "outputs": [
    {
     "data": {
      "application/vnd.microsoft.datawrangler.viewer.v0+json": {
       "columns": [
        {
         "name": "index",
         "rawType": "int64",
         "type": "integer"
        },
        {
         "name": "X",
         "rawType": "float64",
         "type": "float"
        },
        {
         "name": "-rA",
         "rawType": "float64",
         "type": "float"
        },
        {
         "name": "Vcstr",
         "rawType": "float64",
         "type": "float"
        },
        {
         "name": "Vpfr(trapz)",
         "rawType": "float64",
         "type": "float"
        },
        {
         "name": "Vpfr(simps)",
         "rawType": "float64",
         "type": "float"
        }
       ],
       "ref": "2ee6c892-ed2d-4275-baed-4a65125e377b",
       "rows": [
        [
         "0",
         "0.0",
         "10.0",
         "0.0",
         "0.0",
         "0.0"
        ],
        [
         "1",
         "0.02020408163265306",
         "9.79795918367347",
         "0.0020620704019995834",
         "0.0020412392826324446",
         "0.0020412392826324446"
        ],
        [
         "2",
         "0.04040816326530612",
         "9.595918367346938",
         "0.004210974053594215",
         "0.0041250179970307894",
         "0.0041247255993535825"
        ],
        [
         "3",
         "0.06061224489795918",
         "9.39387755102041",
         "0.006452313708451009",
         "0.006253147128504511",
         "0.006252699098780996"
        ],
        [
         "4",
         "0.08081632653061224",
         "9.191836734693878",
         "0.008792184724689166",
         "0.008427555837165826",
         "0.008426931650210499"
        ],
        [
         "5",
         "0.1010204081632653",
         "8.989795918367347",
         "0.011237230419977297",
         "0.010650301969749702",
         "0.010649500702977606"
        ],
        [
         "6",
         "0.12122448979591836",
         "8.787755102040816",
         "0.013794705062703206",
         "0.0129235837669727",
         "0.012922580992745387"
        ],
        [
         "7",
         "0.14142857142857143",
         "8.585714285714285",
         "0.01647254575707155",
         "0.015249752933417364",
         "0.015248547502062285"
        ],
        [
         "8",
         "0.16163265306122448",
         "8.383673469387755",
         "0.019279454722492696",
         "0.01763132926479255",
         "0.017629891872917816"
        ],
        [
         "9",
         "0.18183673469387754",
         "8.181632653061225",
         "0.022224993764030927",
         "0.02007101706072784",
         "0.020069346261071888"
        ],
        [
         "10",
         "0.2020408163265306",
         "7.979591836734694",
         "0.025319693094629152",
         "0.022571723591238792",
         "0.022569783924921302"
        ],
        [
         "11",
         "0.22224489795918367",
         "7.777551020408163",
         "0.028575177118866438",
         "0.025136579933191454",
         "0.025134369557951"
        ],
        [
         "12",
         "0.24244897959183673",
         "7.575510204081633",
         "0.032004310344827584",
         "0.027768964551447138",
         "0.0277664401480218"
        ],
        [
         "13",
         "0.2626530612244898",
         "7.373469387755103",
         "0.03562136728480487",
         "0.03047253007035873",
         "0.030469689264761835"
        ],
        [
         "14",
         "0.28285714285714286",
         "7.171428571428571",
         "0.039442231075697214",
         "0.03325123376808217",
         "0.0332480230762813"
        ],
        [
         "15",
         "0.3030612244897959",
         "6.969387755102041",
         "0.04348462664714495",
         "0.036109372432833325",
         "0.03610578875385091"
        ],
        [
         "16",
         "0.32326530612244897",
         "6.7673469387755105",
         "0.04776839565741857",
         "0.039051622352032495",
         "0.039047598872121295"
        ],
        [
         "17",
         "0.34346938775510205",
         "6.5653061224489795",
         "0.052315822194591244",
         "0.04208308536910892",
         "0.04207861797601468"
        ],
        [
         "18",
         "0.3636734693877551",
         "6.36326530612245",
         "0.057152020525978176",
         "0.04520934214761263",
         "0.04520434627288418"
        ],
        [
         "19",
         "0.38387755102040816",
         "6.161224489795918",
         "0.06230539913878768",
         "0.04843651404014445",
         "0.04843098413739116"
        ],
        [
         "20",
         "0.4040816326530612",
         "5.959183673469388",
         "0.06780821917808218",
         "0.0517713352864067",
         "0.051765162721160496"
        ],
        [
         "21",
         "0.42428571428571427",
         "5.757142857142857",
         "0.07369727047146402",
         "0.055221237681845996",
         "0.055214414829284235"
        ],
        [
         "22",
         "0.44448979591836735",
         "5.555102040816326",
         "0.08001469507714916",
         "0.05879445039504117",
         "0.05878683534823313"
        ],
        [
         "23",
         "0.4646938775510204",
         "5.353061224489797",
         "0.08680899733130003",
         "0.06250011830814693",
         "0.06249170035509402"
        ],
        [
         "24",
         "0.48489795918367345",
         "5.151020408163265",
         "0.09413629160063391",
         "0.06634844316572464",
         "0.06633903334988588"
        ],
        [
         "25",
         "0.5051020408163265",
         "4.948979591836736",
         "0.10206185567010306",
         "0.07035085302080657",
         "0.07034043591397778"
        ],
        [
         "26",
         "0.5253061224489796",
         "4.746938775510205",
         "0.1106620808254514",
         "0.07452020707315962",
         "0.07450852543937861"
        ],
        [
         "27",
         "0.5455102040816326",
         "4.544897959183674",
         "0.12002694207453973",
         "0.07887104516163913",
         "0.07885807613035335"
        ],
        [
         "28",
         "0.5657142857142857",
         "4.3428571428571425",
         "0.13026315789473686",
         "0.08341989413071653",
         "0.0834052783437879"
        ],
        [
         "29",
         "0.5859183673469388",
         "4.1408163265306115",
         "0.14149827501232137",
         "0.08818564738151233",
         "0.08816934977097075"
        ],
        [
         "30",
         "0.6061224489795918",
         "3.9387755102040822",
         "0.15388601036269425",
         "0.09319003965213746",
         "0.09317154259973108"
        ],
        [
         "31",
         "0.6263265306122449",
         "3.736734693877551",
         "0.16761332605133802",
         "0.09845824723427922",
         "0.09843749476599718"
        ],
        [
         "32",
         "0.6465306122448979",
         "3.5346938775510206",
         "0.18290993071593534",
         "0.10401965564447921",
         "0.10399587425164361"
        ],
        [
         "33",
         "0.666734693877551",
         "3.33265306122449",
         "0.2000612369871402",
         "0.10990885417535723",
         "0.10988195007063295"
        ],
        [
         "34",
         "0.6869387755102041",
         "3.130612244897959",
         "0.21942633637548895",
         "0.1161669429266736",
         "0.1161357069243619"
        ],
        [
         "35",
         "0.7071428571428571",
         "2.9285714285714293",
         "0.24146341463414625",
         "0.12284327816646477",
         "0.12280754342421837"
        ],
        [
         "36",
         "0.7273469387755102",
         "2.7265306122448987",
         "0.2667664670658682",
         "0.12999784533874043",
         "0.12995561166829495"
        ],
        [
         "37",
         "0.7475510204081632",
         "2.5244897959183676",
         "0.2961196443007275",
         "0.1377045519739744",
         "0.13765549921585019"
        ],
        [
         "38",
         "0.7677551020408163",
         "2.3224489795918366",
         "0.33057996485061514",
         "0.14605590516846248",
         "0.14599647397460924"
        ],
        [
         "39",
         "0.7879591836734694",
         "2.120408163265306",
         "0.37160731472569786",
         "0.155169837890713",
         "0.15509934996381225"
        ],
        [
         "40",
         "0.8081632653061224",
         "1.9183673469387763",
         "0.4212765957446807",
         "0.16519999168015861",
         "0.16511146010592284"
        ],
        [
         "41",
         "0.8283673469387755",
         "1.7163265306122455",
         "0.48263971462544575",
         "0.17635179930532624",
         "0.17624357912652724"
        ],
        [
         "42",
         "0.8485714285714285",
         "1.5142857142857147",
         "0.5603773584905659",
         "0.18890880851333494",
         "0.1887651382325192"
        ],
        [
         "43",
         "0.8687755102040816",
         "1.3122448979591839",
         "0.6620528771384135",
         "0.20327825681203587",
         "0.20309428296653492"
        ],
        [
         "44",
         "0.8889795918367347",
         "1.110204081632653",
         "0.8007352941176471",
         "0.22007581078696956",
         "0.21980752544034404"
        ],
        [
         "45",
         "0.9091836734693878",
         "0.9081632653061222",
         "1.0011235955056181",
         "0.2402986709984699",
         "0.2399264930913603"
        ],
        [
         "46",
         "0.9293877551020407",
         "0.7061224489795925",
         "1.3161849710982645",
         "0.2657286248855907",
         "0.265074195513582"
        ],
        [
         "47",
         "0.9495918367346938",
         "0.5040816326530617",
         "1.8838056680161923",
         "0.30007546909705307",
         "0.29899581229628247"
        ],
        [
         "48",
         "0.9697959183673469",
         "0.3020408163265309",
         "3.2108108108108073",
         "0.3535619008729585",
         "0.3503503606117733"
        ],
        [
         "49",
         "0.99",
         "0.10000000000000009",
         "9.899999999999991",
         "0.4880282549821698",
         "0.47578854770409573"
        ]
       ],
       "shape": {
        "columns": 5,
        "rows": 50
       }
      },
      "text/html": [
       "<div>\n",
       "<style scoped>\n",
       "    .dataframe tbody tr th:only-of-type {\n",
       "        vertical-align: middle;\n",
       "    }\n",
       "\n",
       "    .dataframe tbody tr th {\n",
       "        vertical-align: top;\n",
       "    }\n",
       "\n",
       "    .dataframe thead th {\n",
       "        text-align: right;\n",
       "    }\n",
       "</style>\n",
       "<table border=\"1\" class=\"dataframe\">\n",
       "  <thead>\n",
       "    <tr style=\"text-align: right;\">\n",
       "      <th></th>\n",
       "      <th>X</th>\n",
       "      <th>-rA</th>\n",
       "      <th>Vcstr</th>\n",
       "      <th>Vpfr(trapz)</th>\n",
       "      <th>Vpfr(simps)</th>\n",
       "    </tr>\n",
       "  </thead>\n",
       "  <tbody>\n",
       "    <tr>\n",
       "      <th>0</th>\n",
       "      <td>0.000000</td>\n",
       "      <td>10.000000</td>\n",
       "      <td>0.000000</td>\n",
       "      <td>0.000000</td>\n",
       "      <td>0.000000</td>\n",
       "    </tr>\n",
       "    <tr>\n",
       "      <th>1</th>\n",
       "      <td>0.020204</td>\n",
       "      <td>9.797959</td>\n",
       "      <td>0.002062</td>\n",
       "      <td>0.002041</td>\n",
       "      <td>0.002041</td>\n",
       "    </tr>\n",
       "    <tr>\n",
       "      <th>2</th>\n",
       "      <td>0.040408</td>\n",
       "      <td>9.595918</td>\n",
       "      <td>0.004211</td>\n",
       "      <td>0.004125</td>\n",
       "      <td>0.004125</td>\n",
       "    </tr>\n",
       "    <tr>\n",
       "      <th>3</th>\n",
       "      <td>0.060612</td>\n",
       "      <td>9.393878</td>\n",
       "      <td>0.006452</td>\n",
       "      <td>0.006253</td>\n",
       "      <td>0.006253</td>\n",
       "    </tr>\n",
       "    <tr>\n",
       "      <th>4</th>\n",
       "      <td>0.080816</td>\n",
       "      <td>9.191837</td>\n",
       "      <td>0.008792</td>\n",
       "      <td>0.008428</td>\n",
       "      <td>0.008427</td>\n",
       "    </tr>\n",
       "    <tr>\n",
       "      <th>5</th>\n",
       "      <td>0.101020</td>\n",
       "      <td>8.989796</td>\n",
       "      <td>0.011237</td>\n",
       "      <td>0.010650</td>\n",
       "      <td>0.010650</td>\n",
       "    </tr>\n",
       "    <tr>\n",
       "      <th>6</th>\n",
       "      <td>0.121224</td>\n",
       "      <td>8.787755</td>\n",
       "      <td>0.013795</td>\n",
       "      <td>0.012924</td>\n",
       "      <td>0.012923</td>\n",
       "    </tr>\n",
       "    <tr>\n",
       "      <th>7</th>\n",
       "      <td>0.141429</td>\n",
       "      <td>8.585714</td>\n",
       "      <td>0.016473</td>\n",
       "      <td>0.015250</td>\n",
       "      <td>0.015249</td>\n",
       "    </tr>\n",
       "    <tr>\n",
       "      <th>8</th>\n",
       "      <td>0.161633</td>\n",
       "      <td>8.383673</td>\n",
       "      <td>0.019279</td>\n",
       "      <td>0.017631</td>\n",
       "      <td>0.017630</td>\n",
       "    </tr>\n",
       "    <tr>\n",
       "      <th>9</th>\n",
       "      <td>0.181837</td>\n",
       "      <td>8.181633</td>\n",
       "      <td>0.022225</td>\n",
       "      <td>0.020071</td>\n",
       "      <td>0.020069</td>\n",
       "    </tr>\n",
       "    <tr>\n",
       "      <th>10</th>\n",
       "      <td>0.202041</td>\n",
       "      <td>7.979592</td>\n",
       "      <td>0.025320</td>\n",
       "      <td>0.022572</td>\n",
       "      <td>0.022570</td>\n",
       "    </tr>\n",
       "    <tr>\n",
       "      <th>11</th>\n",
       "      <td>0.222245</td>\n",
       "      <td>7.777551</td>\n",
       "      <td>0.028575</td>\n",
       "      <td>0.025137</td>\n",
       "      <td>0.025134</td>\n",
       "    </tr>\n",
       "    <tr>\n",
       "      <th>12</th>\n",
       "      <td>0.242449</td>\n",
       "      <td>7.575510</td>\n",
       "      <td>0.032004</td>\n",
       "      <td>0.027769</td>\n",
       "      <td>0.027766</td>\n",
       "    </tr>\n",
       "    <tr>\n",
       "      <th>13</th>\n",
       "      <td>0.262653</td>\n",
       "      <td>7.373469</td>\n",
       "      <td>0.035621</td>\n",
       "      <td>0.030473</td>\n",
       "      <td>0.030470</td>\n",
       "    </tr>\n",
       "    <tr>\n",
       "      <th>14</th>\n",
       "      <td>0.282857</td>\n",
       "      <td>7.171429</td>\n",
       "      <td>0.039442</td>\n",
       "      <td>0.033251</td>\n",
       "      <td>0.033248</td>\n",
       "    </tr>\n",
       "    <tr>\n",
       "      <th>15</th>\n",
       "      <td>0.303061</td>\n",
       "      <td>6.969388</td>\n",
       "      <td>0.043485</td>\n",
       "      <td>0.036109</td>\n",
       "      <td>0.036106</td>\n",
       "    </tr>\n",
       "    <tr>\n",
       "      <th>16</th>\n",
       "      <td>0.323265</td>\n",
       "      <td>6.767347</td>\n",
       "      <td>0.047768</td>\n",
       "      <td>0.039052</td>\n",
       "      <td>0.039048</td>\n",
       "    </tr>\n",
       "    <tr>\n",
       "      <th>17</th>\n",
       "      <td>0.343469</td>\n",
       "      <td>6.565306</td>\n",
       "      <td>0.052316</td>\n",
       "      <td>0.042083</td>\n",
       "      <td>0.042079</td>\n",
       "    </tr>\n",
       "    <tr>\n",
       "      <th>18</th>\n",
       "      <td>0.363673</td>\n",
       "      <td>6.363265</td>\n",
       "      <td>0.057152</td>\n",
       "      <td>0.045209</td>\n",
       "      <td>0.045204</td>\n",
       "    </tr>\n",
       "    <tr>\n",
       "      <th>19</th>\n",
       "      <td>0.383878</td>\n",
       "      <td>6.161224</td>\n",
       "      <td>0.062305</td>\n",
       "      <td>0.048437</td>\n",
       "      <td>0.048431</td>\n",
       "    </tr>\n",
       "    <tr>\n",
       "      <th>20</th>\n",
       "      <td>0.404082</td>\n",
       "      <td>5.959184</td>\n",
       "      <td>0.067808</td>\n",
       "      <td>0.051771</td>\n",
       "      <td>0.051765</td>\n",
       "    </tr>\n",
       "    <tr>\n",
       "      <th>21</th>\n",
       "      <td>0.424286</td>\n",
       "      <td>5.757143</td>\n",
       "      <td>0.073697</td>\n",
       "      <td>0.055221</td>\n",
       "      <td>0.055214</td>\n",
       "    </tr>\n",
       "    <tr>\n",
       "      <th>22</th>\n",
       "      <td>0.444490</td>\n",
       "      <td>5.555102</td>\n",
       "      <td>0.080015</td>\n",
       "      <td>0.058794</td>\n",
       "      <td>0.058787</td>\n",
       "    </tr>\n",
       "    <tr>\n",
       "      <th>23</th>\n",
       "      <td>0.464694</td>\n",
       "      <td>5.353061</td>\n",
       "      <td>0.086809</td>\n",
       "      <td>0.062500</td>\n",
       "      <td>0.062492</td>\n",
       "    </tr>\n",
       "    <tr>\n",
       "      <th>24</th>\n",
       "      <td>0.484898</td>\n",
       "      <td>5.151020</td>\n",
       "      <td>0.094136</td>\n",
       "      <td>0.066348</td>\n",
       "      <td>0.066339</td>\n",
       "    </tr>\n",
       "    <tr>\n",
       "      <th>25</th>\n",
       "      <td>0.505102</td>\n",
       "      <td>4.948980</td>\n",
       "      <td>0.102062</td>\n",
       "      <td>0.070351</td>\n",
       "      <td>0.070340</td>\n",
       "    </tr>\n",
       "    <tr>\n",
       "      <th>26</th>\n",
       "      <td>0.525306</td>\n",
       "      <td>4.746939</td>\n",
       "      <td>0.110662</td>\n",
       "      <td>0.074520</td>\n",
       "      <td>0.074509</td>\n",
       "    </tr>\n",
       "    <tr>\n",
       "      <th>27</th>\n",
       "      <td>0.545510</td>\n",
       "      <td>4.544898</td>\n",
       "      <td>0.120027</td>\n",
       "      <td>0.078871</td>\n",
       "      <td>0.078858</td>\n",
       "    </tr>\n",
       "    <tr>\n",
       "      <th>28</th>\n",
       "      <td>0.565714</td>\n",
       "      <td>4.342857</td>\n",
       "      <td>0.130263</td>\n",
       "      <td>0.083420</td>\n",
       "      <td>0.083405</td>\n",
       "    </tr>\n",
       "    <tr>\n",
       "      <th>29</th>\n",
       "      <td>0.585918</td>\n",
       "      <td>4.140816</td>\n",
       "      <td>0.141498</td>\n",
       "      <td>0.088186</td>\n",
       "      <td>0.088169</td>\n",
       "    </tr>\n",
       "    <tr>\n",
       "      <th>30</th>\n",
       "      <td>0.606122</td>\n",
       "      <td>3.938776</td>\n",
       "      <td>0.153886</td>\n",
       "      <td>0.093190</td>\n",
       "      <td>0.093172</td>\n",
       "    </tr>\n",
       "    <tr>\n",
       "      <th>31</th>\n",
       "      <td>0.626327</td>\n",
       "      <td>3.736735</td>\n",
       "      <td>0.167613</td>\n",
       "      <td>0.098458</td>\n",
       "      <td>0.098437</td>\n",
       "    </tr>\n",
       "    <tr>\n",
       "      <th>32</th>\n",
       "      <td>0.646531</td>\n",
       "      <td>3.534694</td>\n",
       "      <td>0.182910</td>\n",
       "      <td>0.104020</td>\n",
       "      <td>0.103996</td>\n",
       "    </tr>\n",
       "    <tr>\n",
       "      <th>33</th>\n",
       "      <td>0.666735</td>\n",
       "      <td>3.332653</td>\n",
       "      <td>0.200061</td>\n",
       "      <td>0.109909</td>\n",
       "      <td>0.109882</td>\n",
       "    </tr>\n",
       "    <tr>\n",
       "      <th>34</th>\n",
       "      <td>0.686939</td>\n",
       "      <td>3.130612</td>\n",
       "      <td>0.219426</td>\n",
       "      <td>0.116167</td>\n",
       "      <td>0.116136</td>\n",
       "    </tr>\n",
       "    <tr>\n",
       "      <th>35</th>\n",
       "      <td>0.707143</td>\n",
       "      <td>2.928571</td>\n",
       "      <td>0.241463</td>\n",
       "      <td>0.122843</td>\n",
       "      <td>0.122808</td>\n",
       "    </tr>\n",
       "    <tr>\n",
       "      <th>36</th>\n",
       "      <td>0.727347</td>\n",
       "      <td>2.726531</td>\n",
       "      <td>0.266766</td>\n",
       "      <td>0.129998</td>\n",
       "      <td>0.129956</td>\n",
       "    </tr>\n",
       "    <tr>\n",
       "      <th>37</th>\n",
       "      <td>0.747551</td>\n",
       "      <td>2.524490</td>\n",
       "      <td>0.296120</td>\n",
       "      <td>0.137705</td>\n",
       "      <td>0.137655</td>\n",
       "    </tr>\n",
       "    <tr>\n",
       "      <th>38</th>\n",
       "      <td>0.767755</td>\n",
       "      <td>2.322449</td>\n",
       "      <td>0.330580</td>\n",
       "      <td>0.146056</td>\n",
       "      <td>0.145996</td>\n",
       "    </tr>\n",
       "    <tr>\n",
       "      <th>39</th>\n",
       "      <td>0.787959</td>\n",
       "      <td>2.120408</td>\n",
       "      <td>0.371607</td>\n",
       "      <td>0.155170</td>\n",
       "      <td>0.155099</td>\n",
       "    </tr>\n",
       "    <tr>\n",
       "      <th>40</th>\n",
       "      <td>0.808163</td>\n",
       "      <td>1.918367</td>\n",
       "      <td>0.421277</td>\n",
       "      <td>0.165200</td>\n",
       "      <td>0.165111</td>\n",
       "    </tr>\n",
       "    <tr>\n",
       "      <th>41</th>\n",
       "      <td>0.828367</td>\n",
       "      <td>1.716327</td>\n",
       "      <td>0.482640</td>\n",
       "      <td>0.176352</td>\n",
       "      <td>0.176244</td>\n",
       "    </tr>\n",
       "    <tr>\n",
       "      <th>42</th>\n",
       "      <td>0.848571</td>\n",
       "      <td>1.514286</td>\n",
       "      <td>0.560377</td>\n",
       "      <td>0.188909</td>\n",
       "      <td>0.188765</td>\n",
       "    </tr>\n",
       "    <tr>\n",
       "      <th>43</th>\n",
       "      <td>0.868776</td>\n",
       "      <td>1.312245</td>\n",
       "      <td>0.662053</td>\n",
       "      <td>0.203278</td>\n",
       "      <td>0.203094</td>\n",
       "    </tr>\n",
       "    <tr>\n",
       "      <th>44</th>\n",
       "      <td>0.888980</td>\n",
       "      <td>1.110204</td>\n",
       "      <td>0.800735</td>\n",
       "      <td>0.220076</td>\n",
       "      <td>0.219808</td>\n",
       "    </tr>\n",
       "    <tr>\n",
       "      <th>45</th>\n",
       "      <td>0.909184</td>\n",
       "      <td>0.908163</td>\n",
       "      <td>1.001124</td>\n",
       "      <td>0.240299</td>\n",
       "      <td>0.239926</td>\n",
       "    </tr>\n",
       "    <tr>\n",
       "      <th>46</th>\n",
       "      <td>0.929388</td>\n",
       "      <td>0.706122</td>\n",
       "      <td>1.316185</td>\n",
       "      <td>0.265729</td>\n",
       "      <td>0.265074</td>\n",
       "    </tr>\n",
       "    <tr>\n",
       "      <th>47</th>\n",
       "      <td>0.949592</td>\n",
       "      <td>0.504082</td>\n",
       "      <td>1.883806</td>\n",
       "      <td>0.300075</td>\n",
       "      <td>0.298996</td>\n",
       "    </tr>\n",
       "    <tr>\n",
       "      <th>48</th>\n",
       "      <td>0.969796</td>\n",
       "      <td>0.302041</td>\n",
       "      <td>3.210811</td>\n",
       "      <td>0.353562</td>\n",
       "      <td>0.350350</td>\n",
       "    </tr>\n",
       "    <tr>\n",
       "      <th>49</th>\n",
       "      <td>0.990000</td>\n",
       "      <td>0.100000</td>\n",
       "      <td>9.900000</td>\n",
       "      <td>0.488028</td>\n",
       "      <td>0.475789</td>\n",
       "    </tr>\n",
       "  </tbody>\n",
       "</table>\n",
       "</div>"
      ],
      "text/plain": [
       "           X        -rA     Vcstr  Vpfr(trapz)  Vpfr(simps)\n",
       "0   0.000000  10.000000  0.000000     0.000000     0.000000\n",
       "1   0.020204   9.797959  0.002062     0.002041     0.002041\n",
       "2   0.040408   9.595918  0.004211     0.004125     0.004125\n",
       "3   0.060612   9.393878  0.006452     0.006253     0.006253\n",
       "4   0.080816   9.191837  0.008792     0.008428     0.008427\n",
       "5   0.101020   8.989796  0.011237     0.010650     0.010650\n",
       "6   0.121224   8.787755  0.013795     0.012924     0.012923\n",
       "7   0.141429   8.585714  0.016473     0.015250     0.015249\n",
       "8   0.161633   8.383673  0.019279     0.017631     0.017630\n",
       "9   0.181837   8.181633  0.022225     0.020071     0.020069\n",
       "10  0.202041   7.979592  0.025320     0.022572     0.022570\n",
       "11  0.222245   7.777551  0.028575     0.025137     0.025134\n",
       "12  0.242449   7.575510  0.032004     0.027769     0.027766\n",
       "13  0.262653   7.373469  0.035621     0.030473     0.030470\n",
       "14  0.282857   7.171429  0.039442     0.033251     0.033248\n",
       "15  0.303061   6.969388  0.043485     0.036109     0.036106\n",
       "16  0.323265   6.767347  0.047768     0.039052     0.039048\n",
       "17  0.343469   6.565306  0.052316     0.042083     0.042079\n",
       "18  0.363673   6.363265  0.057152     0.045209     0.045204\n",
       "19  0.383878   6.161224  0.062305     0.048437     0.048431\n",
       "20  0.404082   5.959184  0.067808     0.051771     0.051765\n",
       "21  0.424286   5.757143  0.073697     0.055221     0.055214\n",
       "22  0.444490   5.555102  0.080015     0.058794     0.058787\n",
       "23  0.464694   5.353061  0.086809     0.062500     0.062492\n",
       "24  0.484898   5.151020  0.094136     0.066348     0.066339\n",
       "25  0.505102   4.948980  0.102062     0.070351     0.070340\n",
       "26  0.525306   4.746939  0.110662     0.074520     0.074509\n",
       "27  0.545510   4.544898  0.120027     0.078871     0.078858\n",
       "28  0.565714   4.342857  0.130263     0.083420     0.083405\n",
       "29  0.585918   4.140816  0.141498     0.088186     0.088169\n",
       "30  0.606122   3.938776  0.153886     0.093190     0.093172\n",
       "31  0.626327   3.736735  0.167613     0.098458     0.098437\n",
       "32  0.646531   3.534694  0.182910     0.104020     0.103996\n",
       "33  0.666735   3.332653  0.200061     0.109909     0.109882\n",
       "34  0.686939   3.130612  0.219426     0.116167     0.116136\n",
       "35  0.707143   2.928571  0.241463     0.122843     0.122808\n",
       "36  0.727347   2.726531  0.266766     0.129998     0.129956\n",
       "37  0.747551   2.524490  0.296120     0.137705     0.137655\n",
       "38  0.767755   2.322449  0.330580     0.146056     0.145996\n",
       "39  0.787959   2.120408  0.371607     0.155170     0.155099\n",
       "40  0.808163   1.918367  0.421277     0.165200     0.165111\n",
       "41  0.828367   1.716327  0.482640     0.176352     0.176244\n",
       "42  0.848571   1.514286  0.560377     0.188909     0.188765\n",
       "43  0.868776   1.312245  0.662053     0.203278     0.203094\n",
       "44  0.888980   1.110204  0.800735     0.220076     0.219808\n",
       "45  0.909184   0.908163  1.001124     0.240299     0.239926\n",
       "46  0.929388   0.706122  1.316185     0.265729     0.265074\n",
       "47  0.949592   0.504082  1.883806     0.300075     0.298996\n",
       "48  0.969796   0.302041  3.210811     0.353562     0.350350\n",
       "49  0.990000   0.100000  9.900000     0.488028     0.475789"
      ]
     },
     "metadata": {},
     "output_type": "display_data"
    },
    {
     "data": {
      "text/plain": [
       "numpy.ndarray"
      ]
     },
     "execution_count": 9,
     "metadata": {},
     "output_type": "execute_result"
    }
   ],
   "source": [
    "# Estimación volúmenes CSTR\n",
    "df[\"Vcstr\"] = df[\"X\"] * df[\"F/-rA\"] #m3\n",
    "\n",
    "# Estimacion de volúmenes PFR\n",
    "df[\"Vpfr(trapz)\"] = 0.0\n",
    "df[\"Vpfr(simps)\"] = 0.0\n",
    "for idx, row in df.iterrows():\n",
    "    if idx > 0:\n",
    "        x = df.loc[:idx, 'X'] # X\n",
    "        y = df.loc[:idx, 'F/-rA'] # (F/-rA)\n",
    "        df.at[idx, 'Vpfr(trapz)'] = trapezoid(y, x)\n",
    "        df.at[idx, 'Vpfr(simps)'] = simpson(y, x)\n",
    "\n",
    "display(df[[\"X\", \"-rA\", \"Vcstr\", \"Vpfr(trapz)\", \"Vpfr(simps)\"]])\n",
    "\n",
    "x = df[\"X\"]\n",
    "y = df[\"F/-rA\"]\n",
    "VpfrT = cumulative_trapezoid(y, x)\n",
    "type(VpfrT)\n"
   ]
  },
  {
   "cell_type": "markdown",
   "metadata": {},
   "source": [
    "#### Polars"
   ]
  },
  {
   "cell_type": "code",
   "execution_count": 10,
   "metadata": {},
   "outputs": [
    {
     "data": {
      "text/html": [
       "<div><style>\n",
       ".dataframe > thead > tr,\n",
       ".dataframe > tbody > tr {\n",
       "  text-align: right;\n",
       "  white-space: pre-wrap;\n",
       "}\n",
       "</style>\n",
       "<small>shape: (50, 4)</small><table border=\"1\" class=\"dataframe\"><thead><tr><th>X</th><th>-rA</th><th>1/-rA</th><th>F/-rA</th></tr><tr><td>f64</td><td>f64</td><td>f64</td><td>f64</td></tr></thead><tbody><tr><td>0.0</td><td>10.0</td><td>0.1</td><td>0.1</td></tr><tr><td>0.020204</td><td>9.797959</td><td>0.102062</td><td>0.102062</td></tr><tr><td>0.040408</td><td>9.595918</td><td>0.104211</td><td>0.104211</td></tr><tr><td>0.060612</td><td>9.393878</td><td>0.106452</td><td>0.106452</td></tr><tr><td>0.080816</td><td>9.191837</td><td>0.108792</td><td>0.108792</td></tr><tr><td>&hellip;</td><td>&hellip;</td><td>&hellip;</td><td>&hellip;</td></tr><tr><td>0.909184</td><td>0.908163</td><td>1.101124</td><td>1.101124</td></tr><tr><td>0.929388</td><td>0.706122</td><td>1.416185</td><td>1.416185</td></tr><tr><td>0.949592</td><td>0.504082</td><td>1.983806</td><td>1.983806</td></tr><tr><td>0.969796</td><td>0.302041</td><td>3.310811</td><td>3.310811</td></tr><tr><td>0.99</td><td>0.1</td><td>10.0</td><td>10.0</td></tr></tbody></table></div>"
      ],
      "text/plain": [
       "shape: (50, 4)\n",
       "┌──────────┬──────────┬──────────┬──────────┐\n",
       "│ X        ┆ -rA      ┆ 1/-rA    ┆ F/-rA    │\n",
       "│ ---      ┆ ---      ┆ ---      ┆ ---      │\n",
       "│ f64      ┆ f64      ┆ f64      ┆ f64      │\n",
       "╞══════════╪══════════╪══════════╪══════════╡\n",
       "│ 0.0      ┆ 10.0     ┆ 0.1      ┆ 0.1      │\n",
       "│ 0.020204 ┆ 9.797959 ┆ 0.102062 ┆ 0.102062 │\n",
       "│ 0.040408 ┆ 9.595918 ┆ 0.104211 ┆ 0.104211 │\n",
       "│ 0.060612 ┆ 9.393878 ┆ 0.106452 ┆ 0.106452 │\n",
       "│ 0.080816 ┆ 9.191837 ┆ 0.108792 ┆ 0.108792 │\n",
       "│ …        ┆ …        ┆ …        ┆ …        │\n",
       "│ 0.909184 ┆ 0.908163 ┆ 1.101124 ┆ 1.101124 │\n",
       "│ 0.929388 ┆ 0.706122 ┆ 1.416185 ┆ 1.416185 │\n",
       "│ 0.949592 ┆ 0.504082 ┆ 1.983806 ┆ 1.983806 │\n",
       "│ 0.969796 ┆ 0.302041 ┆ 3.310811 ┆ 3.310811 │\n",
       "│ 0.99     ┆ 0.1      ┆ 10.0     ┆ 10.0     │\n",
       "└──────────┴──────────┴──────────┴──────────┘"
      ]
     },
     "execution_count": 10,
     "metadata": {},
     "output_type": "execute_result"
    }
   ],
   "source": [
    "# Entrada\n",
    "FA0 = 1 # [mol.s-1]\n",
    "k = 10\n",
    "c0 = 1\n",
    "X = np.linspace(0, 0.99, 50)\n",
    "\n",
    "rA = rA_O1(k, c0, X)\n",
    "\n",
    "# Creación de DataFrame con datos de interés\n",
    "df = pl.DataFrame({\"X\": X, '-rA': -rA})\n",
    "df = df.with_columns(\n",
    "    (1/pl.col(\"-rA\")).alias(\"1/-rA\"),\n",
    ").with_columns(\n",
    "    (FA0 * pl.col(\"1/-rA\")).alias(\"F/-rA\")\n",
    ")\n",
    "df"
   ]
  },
  {
   "cell_type": "code",
   "execution_count": 11,
   "metadata": {},
   "outputs": [
    {
     "data": {
      "image/png": "[encoded data removed]",
      "text/plain": [
       "<Figure size 640x480 with 1 Axes>"
      ]
     },
     "metadata": {},
     "output_type": "display_data"
    }
   ],
   "source": [
    "fig, ax = plt.subplots()\n",
    "x = df[\"X\"].to_numpy()\n",
    "y = df[\"F/-rA\"].to_numpy()\n",
    "ax.plot(x, y, ls='-', marker='o', label='datos procesados') # datos procesados\n",
    "ax.fill_between(x, y[-1]*np.ones_like(x), label='Levenspiel CSTR', color='lightgray', alpha=0.5) # Levenspiel para CSTR\n",
    "ax.fill_between(x, y, label='Levenspiel PFR', color='darkgray', alpha=0.5) # Levenspiel para PFR\n",
    "\n",
    "ax.set(xlim=(0, 1), xlabel=r'Conversion, $X$ [-]', ylabel=r'$(F_{A_0}/-r_{A})$  [$m^3$]')\n",
    "ax.legend()\n",
    "ax.grid(ls=\"--\")\n",
    "fig.tight_layout()\n",
    "plt.show()"
   ]
  },
  {
   "cell_type": "code",
   "execution_count": 12,
   "metadata": {},
   "outputs": [
    {
     "ename": "AttributeError",
     "evalue": "'Expr' object has no attribute 'to_series'",
     "output_type": "error",
     "traceback": [
      "\u001b[0;31m---------------------------------------------------------------------------\u001b[0m",
      "\u001b[0;31mAttributeError\u001b[0m                            Traceback (most recent call last)",
      "Cell \u001b[0;32mIn[12], line 11\u001b[0m\n\u001b[1;32m      1\u001b[0m \u001b[38;5;66;03m# Estimación volúmenes CSTR\u001b[39;00m\n\u001b[1;32m      2\u001b[0m df \u001b[38;5;241m=\u001b[39m df\u001b[38;5;241m.\u001b[39mwith_columns(\n\u001b[1;32m      3\u001b[0m     (pl\u001b[38;5;241m.\u001b[39mcol(\u001b[38;5;124m\"\u001b[39m\u001b[38;5;124mX\u001b[39m\u001b[38;5;124m\"\u001b[39m) \u001b[38;5;241m*\u001b[39m pl\u001b[38;5;241m.\u001b[39mcol(\u001b[38;5;124m\"\u001b[39m\u001b[38;5;124mF/-rA\u001b[39m\u001b[38;5;124m\"\u001b[39m))\u001b[38;5;241m.\u001b[39malias(\u001b[38;5;124m\"\u001b[39m\u001b[38;5;124mVcstr\u001b[39m\u001b[38;5;124m\"\u001b[39m), \u001b[38;5;66;03m# [m3]\u001b[39;00m\n\u001b[1;32m      4\u001b[0m     (pl\u001b[38;5;241m.\u001b[39mzeros(pl\u001b[38;5;241m.\u001b[39mcol(\u001b[38;5;124m\"\u001b[39m\u001b[38;5;124mX\u001b[39m\u001b[38;5;124m\"\u001b[39m)\u001b[38;5;241m.\u001b[39mlen()))\u001b[38;5;241m.\u001b[39malias(\u001b[38;5;124m\"\u001b[39m\u001b[38;5;124mVpfr(trapz)\u001b[39m\u001b[38;5;124m\"\u001b[39m),\n\u001b[1;32m      5\u001b[0m     (pl\u001b[38;5;241m.\u001b[39mzeros(pl\u001b[38;5;241m.\u001b[39mcol(\u001b[38;5;124m\"\u001b[39m\u001b[38;5;124mX\u001b[39m\u001b[38;5;124m\"\u001b[39m)\u001b[38;5;241m.\u001b[39mlen()))\u001b[38;5;241m.\u001b[39malias(\u001b[38;5;124m\"\u001b[39m\u001b[38;5;124mVpfr(simps)\u001b[39m\u001b[38;5;124m\"\u001b[39m)\n\u001b[1;32m      6\u001b[0m )\n\u001b[1;32m      8\u001b[0m VpfrT \u001b[38;5;241m=\u001b[39m df\u001b[38;5;241m.\u001b[39mselect(\n\u001b[1;32m      9\u001b[0m     \u001b[43mpl\u001b[49m\u001b[38;5;241;43m.\u001b[39;49m\u001b[43mstruct\u001b[49m\u001b[43m(\u001b[49m\u001b[43m[\u001b[49m\u001b[38;5;124;43m\"\u001b[39;49m\u001b[38;5;124;43mX\u001b[39;49m\u001b[38;5;124;43m\"\u001b[39;49m\u001b[43m,\u001b[49m\u001b[43m \u001b[49m\u001b[38;5;124;43m\"\u001b[39;49m\u001b[38;5;124;43mF/-rA\u001b[39;49m\u001b[38;5;124;43m\"\u001b[39;49m\u001b[43m]\u001b[49m\u001b[43m)\u001b[49m\u001b[38;5;241;43m.\u001b[39;49m\u001b[43mmap_batches\u001b[49m\u001b[43m(\u001b[49m\n\u001b[1;32m     10\u001b[0m \u001b[43m        \u001b[49m\u001b[38;5;28;43;01mlambda\u001b[39;49;00m\u001b[43m \u001b[49m\u001b[43mx\u001b[49m\u001b[43m:\u001b[49m\u001b[43m \u001b[49m\u001b[43mcumulative_trapezoid\u001b[49m\u001b[43m(\u001b[49m\u001b[43mx\u001b[49m\u001b[38;5;241;43m.\u001b[39;49m\u001b[43mstruct\u001b[49m\u001b[38;5;241;43m.\u001b[39;49m\u001b[43mfield\u001b[49m\u001b[43m(\u001b[49m\u001b[38;5;124;43m\"\u001b[39;49m\u001b[38;5;124;43mF/-rA\u001b[39;49m\u001b[38;5;124;43m\"\u001b[39;49m\u001b[43m)\u001b[49m\u001b[43m,\u001b[49m\u001b[43m \u001b[49m\u001b[43mx\u001b[49m\u001b[38;5;241;43m.\u001b[39;49m\u001b[43mstruct\u001b[49m\u001b[38;5;241;43m.\u001b[39;49m\u001b[43mfield\u001b[49m\u001b[43m(\u001b[49m\u001b[38;5;124;43m\"\u001b[39;49m\u001b[38;5;124;43mX\u001b[39;49m\u001b[38;5;124;43m\"\u001b[39;49m\u001b[43m)\u001b[49m\u001b[43m)\u001b[49m\n\u001b[0;32m---> 11\u001b[0m \u001b[43m    \u001b[49m\u001b[43m)\u001b[49m\u001b[38;5;241;43m.\u001b[39;49m\u001b[43mto_series\u001b[49m()\n\u001b[1;32m     12\u001b[0m )\u001b[38;5;241m.\u001b[39mto_series()\n\u001b[1;32m     13\u001b[0m VpfrT \u001b[38;5;241m=\u001b[39m pl\u001b[38;5;241m.\u001b[39mconcat([pl\u001b[38;5;241m.\u001b[39mSeries([\u001b[38;5;241m0.0\u001b[39m]), VpfrT])\n\u001b[1;32m     15\u001b[0m VpfrS \u001b[38;5;241m=\u001b[39m df\u001b[38;5;241m.\u001b[39mselect(\n\u001b[1;32m     16\u001b[0m     pl\u001b[38;5;241m.\u001b[39mstruct([\u001b[38;5;124m\"\u001b[39m\u001b[38;5;124mX\u001b[39m\u001b[38;5;124m\"\u001b[39m, \u001b[38;5;124m\"\u001b[39m\u001b[38;5;124mF/-rA\u001b[39m\u001b[38;5;124m\"\u001b[39m])\u001b[38;5;241m.\u001b[39mmap_batches(\n\u001b[1;32m     17\u001b[0m         \u001b[38;5;28;01mlambda\u001b[39;00m x: cumulative_simpson(x\u001b[38;5;241m.\u001b[39mstruct\u001b[38;5;241m.\u001b[39mfield(\u001b[38;5;124m\"\u001b[39m\u001b[38;5;124mF/-rA\u001b[39m\u001b[38;5;124m\"\u001b[39m), x\u001b[38;5;241m=\u001b[39mx\u001b[38;5;241m.\u001b[39mstruct\u001b[38;5;241m.\u001b[39mfield(\u001b[38;5;124m\"\u001b[39m\u001b[38;5;124mX\u001b[39m\u001b[38;5;124m\"\u001b[39m))\n\u001b[1;32m     18\u001b[0m     ),\n\u001b[1;32m     19\u001b[0m )\u001b[38;5;241m.\u001b[39mto_series()\n",
      "\u001b[0;31mAttributeError\u001b[0m: 'Expr' object has no attribute 'to_series'"
     ]
    }
   ],
   "source": [
    "# Estimación volúmenes CSTR\n",
    "df = df.with_columns(\n",
    "    (pl.col(\"X\") * pl.col(\"F/-rA\")).alias(\"Vcstr\"), # [m3]\n",
    "    (pl.zeros(pl.col(\"X\").len())).alias(\"Vpfr(trapz)\"),\n",
    "    (pl.zeros(pl.col(\"X\").len())).alias(\"Vpfr(simps)\")\n",
    ")\n",
    "\n",
    "VpfrT = df.select(\n",
    "    pl.struct([\"X\", \"F/-rA\"]).map_batches(\n",
    "        lambda x: cumulative_trapezoid(x.struct.field(\"F/-rA\"), x.struct.field(\"X\"))\n",
    "    ).to_series()\n",
    ").to_series()\n",
    "VpfrT = pl.concat([pl.Series([0.0]), VpfrT])\n",
    "\n",
    "VpfrS = df.select(\n",
    "    pl.struct([\"X\", \"F/-rA\"]).map_batches(\n",
    "        lambda x: cumulative_simpson(x.struct.field(\"F/-rA\"), x=x.struct.field(\"X\"))\n",
    "    ),\n",
    ").to_series()\n",
    "VpfrS = pl.concat([pl.Series[0.0], VpfrS])\n"
   ]
  },
  {
   "cell_type": "code",
   "execution_count": null,
   "metadata": {},
   "outputs": [
    {
     "data": {
      "text/html": [
       "<div><style>\n",
       ".dataframe > thead > tr,\n",
       ".dataframe > tbody > tr {\n",
       "  text-align: right;\n",
       "  white-space: pre-wrap;\n",
       "}\n",
       "</style>\n",
       "<small>shape: (50,)</small><table border=\"1\" class=\"dataframe\"><thead><tr><th>X</th></tr><tr><td>f64</td></tr></thead><tbody><tr><td>0.0</td></tr><tr><td>0.002062</td></tr><tr><td>0.004211</td></tr><tr><td>0.006452</td></tr><tr><td>0.008792</td></tr><tr><td>&hellip;</td></tr><tr><td>1.001124</td></tr><tr><td>1.316185</td></tr><tr><td>1.883806</td></tr><tr><td>3.210811</td></tr><tr><td>9.9</td></tr></tbody></table></div>"
      ],
      "text/plain": [
       "shape: (50,)\n",
       "Series: 'X' [f64]\n",
       "[\n",
       "\t0.0\n",
       "\t0.002062\n",
       "\t0.004211\n",
       "\t0.006452\n",
       "\t0.008792\n",
       "\t…\n",
       "\t1.001124\n",
       "\t1.316185\n",
       "\t1.883806\n",
       "\t3.210811\n",
       "\t9.9\n",
       "]"
      ]
     },
     "execution_count": 34,
     "metadata": {},
     "output_type": "execute_result"
    }
   ],
   "source": [
    "for idx, row in df.iterrows():\n",
    "    if idx > 0:\n",
    "        x = df.loc[:idx, 'X'] # X\n",
    "        y = df.loc[:idx, 'F/-rA'] # (F/-rA)\n",
    "        df.at[idx, 'Vpfr(trapz)'] = trapezoid(y, x)\n",
    "        df.at[idx, 'Vpfr(simps)'] = simpson(y, x)\n",
    "\n",
    "display(df[[\"X\", \"-rA\", \"Vcstr\", \"Vpfr(trapz)\", \"Vpfr(simps)\"]])"
   ]
  },
  {
   "cell_type": "markdown",
   "metadata": {},
   "source": [
    "# Referencias"
   ]
  },
  {
   "cell_type": "markdown",
   "metadata": {},
   "source": [
    "- ***[Fogler, 2016]***: Fogler, H. S. (2016) Elements of Chemical Reaction Engineering (5th ed.). Prentice Education Inc.\n",
    "\n",
    "- ***[Levenspiel, 1998]***: Levenspiel, O. (1998) Chemical Reaction Engineering (3rd ed.). John Wiley & Sons Inc. URL: https://www.wiley.com/en-no/Chemical+Reaction+Engineering%2C+3rd+Edition-p-9780471254249"
   ]
  },
  {
   "cell_type": "markdown",
   "metadata": {},
   "source": []
  }
 ],
 "metadata": {
  "kernelspec": {
   "display_name": "Python 3",
   "language": "python",
   "name": "python3"
  },
  "language_info": {
   "codemirror_mode": {
    "name": "ipython",
    "version": 3
   },
   "file_extension": ".py",
   "mimetype": "text/x-python",
   "name": "python",
   "nbconvert_exporter": "python",
   "pygments_lexer": "ipython3",
   "version": "3.10.12"
  }
 },
 "nbformat": 4,
 "nbformat_minor": 2
}
