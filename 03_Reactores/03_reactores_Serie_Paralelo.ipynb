{
 "cells": [
  {
   "cell_type": "code",
   "execution_count": 1,
   "metadata": {},
   "outputs": [],
   "source": [
    "import numpy as np\n",
    "import pandas as pd\n",
    "import matplotlib.pyplot as plt\n",
    "from scipy.integrate import trapezoid, simpson, cumulative_trapezoid"
   ]
  },
  {
   "cell_type": "markdown",
   "metadata": {},
   "source": [
    "# Cinética de Procesos (Sesión 03)"
   ]
  },
  {
   "cell_type": "markdown",
   "metadata": {},
   "source": [
    "<img src=\"figures/LogoCinvestav.png\" style=\"height:100px\" title=\"Cinvestav\">"
   ]
  },
  {
   "cell_type": "markdown",
   "metadata": {},
   "source": [
    "**CINVESTAV Unidad Saltillo**\n",
    "\n",
    "**Programa de Maestría en Ciencias en Ingeniería Metalúrgica**\n",
    "\n",
    "Dr. Edgar Ivan Castro Cedeño\n",
    "\n",
    "\n",
    "2025\n",
    "\n",
    "Contacto:\n",
    "[edgar.castro@cinvestav.mx](mailto:edgar.castro@cinvestav.mx)"
   ]
  },
  {
   "cell_type": "markdown",
   "metadata": {},
   "source": [
    "# 3. Arreglos de Reactores en Serie o en Paralelo"
   ]
  },
  {
   "cell_type": "markdown",
   "metadata": {},
   "source": [
    "**Consideraciones generales:**\n",
    "\n",
    "- Muchas veces, los procesos constan de varios reactores conectados en serie de tal forma que la salida de un reactor alimenta al siguiente reactor en la cadena.\n",
    "\n",
    "- La dependencia entre $r_{\\mathrm{A}}$ y $X$ puede expresarse de varias formas:\n",
    "    - Empírica a partir de experimentos.\n",
    "    - Mediante una función que relacione una ley de velocidad de reacción y la conversión."
   ]
  },
  {
   "cell_type": "markdown",
   "metadata": {},
   "source": [
    "## 3.1 Reactores CSTR"
   ]
  },
  {
   "cell_type": "markdown",
   "metadata": {},
   "source": [
    "### 3.1.1 CSTR en serie"
   ]
  },
  {
   "cell_type": "markdown",
   "metadata": {},
   "source": [
    "Los reactores CSTR se encuentran en un arreglo secuencial de tal forma que el flujo a la salida de un reactor se convierte en el flujo de entrada para el siguiente reactor. La conversión total del sistema es el efecto acumulado de la configuración de reactores conectados en serie."
   ]
  },
  {
   "cell_type": "markdown",
   "metadata": {},
   "source": [
    "<center>\n",
    "\n",
    "<img src=\"figures/images/CSTR-in-series-arrangement-1024x404.webp\" style=\"height:200px\" title=\"CSTR\">\n",
    "\n",
    "***Figura 01. Representación de reactores CSTR en serie.*** \n",
    "\n",
    "Tomado de: [chemengcalc](https://chemenggcalc.com/pfr-and-cstr-in-series-or-parallel/) \n",
    "\n",
    "</center>"
   ]
  },
  {
   "cell_type": "markdown",
   "metadata": {},
   "source": [
    "Para un sólo reactor CSTR, $i$, en el circuito en serie, la trayectoria de una reacción está dada por la ecuación algebraica:\n",
    "\n",
    "$$\\frac{V_{i}}{F_{\\mathrm{A}_0}} =  \\frac{\\Delta X}{-r_{\\mathrm{A}_i}} = \\frac{X_{i} - X_{i-1}}{-r_{\\mathrm{A}_i}}$$"
   ]
  },
  {
   "cell_type": "markdown",
   "metadata": {},
   "source": [
    "Para $N$ reactores CSTR en serie, considerando las conversiones fraccionales, $X_1, X_2,\\cdot,X_N$ del reactivo limitante $\\mathrm{A}$ al salir de los reactores $1, 2, \\cdot, N$, respectivamente, y la velocidad de reacción a la salida de cada reactor, $r_{\\mathrm{A}_i}$, la trayectoria está dada por:\n",
    "\n",
    "$$\\frac{V}{F_{\\mathrm{A}_0}} = \\sum_{i=1}^{n} \\frac{V_{i}}{F_{\\mathrm{A}_0}} = \\sum_{i=1}^{n} \\frac{\\Delta X_{i}}{-r_{\\mathrm{A}_i}}$$\n",
    "\n",
    "$$\\sum_{i=1}^{n} \\frac{\\Delta X_{i}}{-r_{\\mathrm{A}_i}} = \\sum_{i=1}^{n} \\frac{X_{i} - X_{i-1}}{-r_{\\mathrm{A}_i}}$$"
   ]
  },
  {
   "cell_type": "markdown",
   "metadata": {},
   "source": [
    "<div class=\"alert alert-info\">\n",
    "\n",
    "<center>\n",
    "\n",
    "**La conversión alcanzada en $N$ reactores PFR en serie con un volumen total $V$, es igual a la conversión alcanzada en un solo reactor PFR con volumen $V$.**\n",
    "\n",
    "**El tiempo espacial, $\\tau$ del conjunto de reactores en una conjunto de $N$ PFR en serie es igual al tiempo espacial de un PFR con el mismo volumen total:**\n",
    "\n",
    "$$\\tau = \\frac{\\sum V_{i}}{\\dot{Q}} = C_{\\mathrm{A}_0} \\sum_{i=1}^{n} \\frac{\\Delta X_{i}}{-r_{\\mathrm{A}_i}}$$\n",
    "\n",
    "</center>\n",
    "\n",
    "\n",
    "\n",
    "</div>"
   ]
  },
  {
   "cell_type": "markdown",
   "metadata": {},
   "source": [
    "### 3.1.2 CSTR en paralelo"
   ]
  },
  {
   "cell_type": "markdown",
   "metadata": {},
   "source": [
    "En una configuración CSTR en paralelo, un mismo flujo de entrada se reparte entre reactores concurrentes (simultaneos), con mezclado a la salida del sistema."
   ]
  },
  {
   "cell_type": "markdown",
   "metadata": {},
   "source": [
    "<center>\n",
    "\n",
    "<img src=\"figures/images/CSTR-in-parallel-arrangement-1024x555.webp\" style=\"height:250px\" title=\"CSTR\">\n",
    "\n",
    "***Figura 02. Representación de reactores CSTR en paralelo.*** \n",
    "\n",
    "Tomado de: [chemengcalc](https://chemenggcalc.com/pfr-and-cstr-in-series-or-parallel/) \n",
    "\n",
    "</center>"
   ]
  },
  {
   "cell_type": "markdown",
   "metadata": {},
   "source": [
    "Se deben hacer las siguientes consideraciones:\n",
    "\n",
    "- El flujo total a la entrada, que se reparte entre $N$ reactores en paralelo, está dado por:\n",
    "\n",
    "$$F_{\\mathrm{A}_0} = \\sum_{i=1}^{N} F_{\\mathrm{A}_{i}}^{\\circ}$$\n",
    "\n",
    "- El volumen total de los reactores en el arreglo paralelo está dado por:\n",
    "\n",
    "$$V = \\sum_{i=1}^{N} V_{i}$$"
   ]
  },
  {
   "cell_type": "markdown",
   "metadata": {},
   "source": [
    "Para cada reactor CSTR en el arreglo paralelo, la trayectoria de una reacción está dada por la ecuación diferencial:\n",
    "\n",
    "$$\\frac{V_{i}}{F_{\\mathrm{A}_i}^{\\circ}} =  \\frac{X_{i}}{-r_{\\mathrm{A}}}$$\n",
    "\n",
    "y el flujo molar a la salida está dado por:\n",
    "\n",
    "$$F_{\\mathrm{A}_i} = F_{\\mathrm{A}_i}^{\\circ} \\left(1-X_{i}\\right)$$"
   ]
  },
  {
   "cell_type": "markdown",
   "metadata": {},
   "source": [
    "Entonces, el flujo molar a la salida del arreglo de $N$ reactores en paralelo está dado por:\n",
    "\n",
    "$$F_{\\mathrm{A},\\mathrm{tot}} = \\sum_{i=1}^{n} F_{\\mathrm{A}_i} = \\sum_{i=1}^{n} F_{\\mathrm{A}_i}^{\\circ} \\left(1-X_{i}\\right)$$\n",
    "\n",
    "y la conversión total está dada por:\n",
    "\n",
    "$$X_{\\mathrm{tot}} = \\frac{F_{\\mathrm{A}_0} - F_{\\mathrm{A},\\mathrm{tot}}}{F_{\\mathrm{A}_0}}$$"
   ]
  },
  {
   "cell_type": "markdown",
   "metadata": {},
   "source": [
    "<div class=\"alert alert-info\">\n",
    "\n",
    "<center>\n",
    "\n",
    "**Para obtener un resultado óptimo en cualquier combinación CSTR en paralelo, la alimentación se debe distribuir de tal forma que a las entradas y salidas de los arreglos la composición sea homogénea.**\n",
    "\n",
    "**Esto implica que el tiempo espacial, $\\tau$ de los reactores debe ser el mismo para cada línea paralela en el arreglo.**\n",
    "\n",
    "$$\\tau_{i} = \\frac{V_{i}}{\\dot{Q}_{i}} = C_{\\mathrm{A}_i}^{\\circ} \\frac{X_{i}}{-r_{\\mathrm{A}}}$$\n",
    "\n",
    "</center>\n",
    "\n",
    "\n",
    "\n",
    "</div>"
   ]
  },
  {
   "cell_type": "markdown",
   "metadata": {},
   "source": [
    "## 3.2 Reactores PFR"
   ]
  },
  {
   "cell_type": "markdown",
   "metadata": {},
   "source": [
    "### 3.2.1 PFR en serie"
   ]
  },
  {
   "cell_type": "markdown",
   "metadata": {},
   "source": [
    "Los reactores PFR se encuentran en un arreglo secuencial de tal forma que el flujo a la salida de un reactor se convierte en el flujo de entrada para el siguiente reactor. La conversión total del sistema es el efecto acumulado de la configuración de reactores conectados en serie."
   ]
  },
  {
   "cell_type": "markdown",
   "metadata": {},
   "source": [
    "<center>\n",
    "\n",
    "<img src=\"figures/images/PFR-in-series-1024x326.webp\" style=\"height:200px\" title=\"PFR\">\n",
    "\n",
    "***Figura 03. Representación de reactores PFR en serie.*** \n",
    "\n",
    "Tomado de: [chemengcalc](https://chemenggcalc.com/pfr-and-cstr-in-series-or-parallel/) \n",
    "\n",
    "</center>"
   ]
  },
  {
   "cell_type": "markdown",
   "metadata": {},
   "source": [
    "Para un sólo reactor PFR, la trayectoria de una reacción está dada por la ecuación diferencial:\n",
    "\n",
    "$$\\frac{V}{F_{\\mathrm{A}_0}} =  \\int_{0}^{X} \\frac{dX}{-r_{\\mathrm{A}}}$$"
   ]
  },
  {
   "cell_type": "markdown",
   "metadata": {},
   "source": [
    "Para $N$ reactores PFR en serie, considerando las conversiones fraccionales, $X_1, X_2,\\cdot,X_N$ del reactivo limitante $\\mathrm{A}$ al salir de los reactores $1, 2, \\cdot, N$, respectivamente, la trayectoria está dada por:\n",
    "\n",
    "$$\\frac{V}{F_{\\mathrm{A}_0}} =  \\sum_{i=1}^{n} \\frac{V_{i}}{F_{\\mathrm{A}_0}} = \\sum_{i=1}^{n} \\int_{X_{i-1}}^{X_i} \\frac{dX}{-r_{\\mathrm{A}}}$$\n",
    "\n",
    "$$\\int_{0}^{X} \\frac{dX}{-r_{\\mathrm{A}}} = \\sum_{i=1}^{n} \\int_{X_{i-1}}^{X_i} \\frac{dX}{-r_{\\mathrm{A}}}$$"
   ]
  },
  {
   "cell_type": "markdown",
   "metadata": {},
   "source": [
    "<div class=\"alert alert-info\">\n",
    "\n",
    "<center>\n",
    "\n",
    "**La conversión alcanzada en $N$ reactores PFR en serie con un volumen total $V$, es igual a la conversión alcanzada en un solo reactor PFR con volumen $V$.**\n",
    "\n",
    "**El tiempo espacial, $\\tau$ del conjunto de reactores en una conjunto de $N$ PFR en serie es igual al tiempo espacial de un PFR con el mismo volumen total:**\n",
    "\n",
    "$$\\tau = \\frac{\\sum V_{i}}{\\dot{Q}} = C_{\\mathrm{A}_0} \\int_{0}^{X} \\frac{dX}{-r_{\\mathrm{A}}}$$\n",
    "\n",
    "</center>\n",
    "\n",
    "\n",
    "\n",
    "</div>"
   ]
  },
  {
   "cell_type": "markdown",
   "metadata": {},
   "source": [
    "### 3.2.2 PFR en paralelo"
   ]
  },
  {
   "cell_type": "markdown",
   "metadata": {},
   "source": [
    "En una configuración PFR en paralelo, un mismo flujo de entrada se reparte entre reactores concurrentes (simultaneos), con mezclado a la salida del sistema."
   ]
  },
  {
   "cell_type": "markdown",
   "metadata": {},
   "source": [
    "<center>\n",
    "\n",
    "<img src=\"figures/images/PFR-in-parallel-arrangement-1024x526.webp\" style=\"height:250px\" title=\"PFR\">\n",
    "\n",
    "***Figura 04. Representación de reactores PFR en Paralelo.*** \n",
    "\n",
    "Tomado de: [chemengcalc](https://chemenggcalc.com/pfr-and-cstr-in-series-or-parallel/) \n",
    "\n",
    "</center>"
   ]
  },
  {
   "cell_type": "markdown",
   "metadata": {},
   "source": [
    "Se deben hacer las siguientes consideraciones:\n",
    "\n",
    "- El flujo total a la entrada, que se reparte entre $N$ reactores en paralelo, está dado por:\n",
    "\n",
    "$$F_{\\mathrm{A}_0} = \\sum_{i=1}^{N} F_{\\mathrm{A}_{i}}^{\\circ}$$\n",
    "\n",
    "- El volumen total de los reactores en el arreglo paralelo está dado por:\n",
    "\n",
    "$$V = \\sum_{i=1}^{N} V_{i}$$"
   ]
  },
  {
   "cell_type": "markdown",
   "metadata": {},
   "source": [
    "Para cada reactor PFR en el arreglo paralelo, la trayectoria de una reacción está dada por la ecuación diferencial:\n",
    "\n",
    "$$\\frac{V_{i}}{F_{\\mathrm{A}_i}^{\\circ}} =  \\int_{0}^{X_{i}} \\frac{dX_{i}}{-r_{\\mathrm{A}}}$$\n",
    "\n",
    "y el flujo molar a la salida está dado por:\n",
    "\n",
    "$$F_{\\mathrm{A}_i} = F_{\\mathrm{A}_i}^{\\circ} \\left(1-X_{i}\\right)$$"
   ]
  },
  {
   "cell_type": "markdown",
   "metadata": {},
   "source": [
    "Entonces, el flujo molar a la salida del arreglo de $N$ reactores en paralelo está dado por:\n",
    "\n",
    "$$F_{\\mathrm{A},\\mathrm{tot}} = \\sum_{i=1}^{n} F_{\\mathrm{A}_i} = \\sum_{i=1}^{n} F_{\\mathrm{A}_i}^{\\circ} \\left(1-X_{i}\\right)$$\n",
    "\n",
    "y la conversión total está dada por:\n",
    "\n",
    "$$X_{\\mathrm{tot}} = \\frac{F_{\\mathrm{A}_0} - F_{\\mathrm{A},\\mathrm{tot}}}{F_{\\mathrm{A}_0}}$$"
   ]
  },
  {
   "cell_type": "markdown",
   "metadata": {},
   "source": [
    "<div class=\"alert alert-info\">\n",
    "\n",
    "<center>\n",
    "\n",
    "**Para obtener un resultado óptimo en cualquier combinación PFR en serie o paralelo, se puede tratar el sistema como un único PFR con volumen igual a la suma del volumen total de los reactores individuales, siempre y cuando la alimentación se distribuya de tal forma que a las entradas y salidas de los arreglos la composición sea homogénea.**\n",
    "\n",
    "**Esto implica que el tiempo espacial, $\\tau$ de los reactores debe ser el mismo para cada línea paralela en el arreglo.**\n",
    "\n",
    "$$\\tau_{i} = \\frac{V_{i}}{\\dot{Q}_{i}} = C_{\\mathrm{A}_0} \\int_{0}^{X} \\frac{dX}{-r_{\\mathrm{A}}}$$\n",
    "\n",
    "</center>\n",
    "\n",
    "\n",
    "\n",
    "</div>"
   ]
  },
  {
   "cell_type": "markdown",
   "metadata": {},
   "source": [
    "## 3.3 Arreglos diversos"
   ]
  },
  {
   "cell_type": "markdown",
   "metadata": {},
   "source": [
    "El dimensionamiento de arreglos diversos de reactores se puede efectuar de \"forma gráfica\" utilizando un diagrama de $1/-r_{\\mathrm{A}}$ vs conversión $X$, y un método de integración numérica pertinene (e.g., regla del Trapecio o regla de Simpson).\n",
    "\n",
    "Al igual que con los diagramas de Levenspiel, para reactores CSTR se estiman las áreas de rectángulos y para reactores PFR se estiman áreas bajo la curva. El significado de las distintas áreas es el cociente entre volumen individual de cada reactor y flujo molar a la entrada del sistema."
   ]
  },
  {
   "cell_type": "markdown",
   "metadata": {},
   "source": [
    "<center>\n",
    "\n",
    "<img src=\"figures/images/reactors_in_series.png\" style=\"width:600px\" title=\"Levenspiel plots\">\n",
    "\n",
    "***Figura 5: Gráfico de dimensionamiento de reactores en serie.***\n",
    "\n",
    "</center>"
   ]
  },
  {
   "cell_type": "markdown",
   "metadata": {},
   "source": [
    "# Referencias"
   ]
  },
  {
   "cell_type": "markdown",
   "metadata": {},
   "source": [
    "- ***[Fogler, 2016]***: Fogler, H. S. (2016) Elements of Chemical Reaction Engineering (5th ed.). Prentice Education Inc."
   ]
  },
  {
   "cell_type": "markdown",
   "metadata": {},
   "source": []
  }
 ],
 "metadata": {
  "kernelspec": {
   "display_name": "Python 3",
   "language": "python",
   "name": "python3"
  },
  "language_info": {
   "codemirror_mode": {
    "name": "ipython",
    "version": 3
   },
   "file_extension": ".py",
   "mimetype": "text/x-python",
   "name": "python",
   "nbconvert_exporter": "python",
   "pygments_lexer": "ipython3",
   "version": "3.10.12"
  }
 },
 "nbformat": 4,
 "nbformat_minor": 2
}
