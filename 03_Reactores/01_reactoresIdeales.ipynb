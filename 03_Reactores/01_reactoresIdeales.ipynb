{
 "cells": [
  {
   "cell_type": "code",
   "execution_count": 1,
   "metadata": {},
   "outputs": [],
   "source": [
    "import numpy as np\n",
    "import matplotlib.pyplot as plt\n",
    "from scipy.integrate import solve_ivp"
   ]
  },
  {
   "cell_type": "markdown",
   "metadata": {},
   "source": [
    "# Cinética de Procesos (Sesión 03)"
   ]
  },
  {
   "cell_type": "markdown",
   "metadata": {},
   "source": [
    "<img src=\"figures/LogoCinvestav.png\" style=\"height:100px\" title=\"Cinvestav\">"
   ]
  },
  {
   "cell_type": "markdown",
   "metadata": {},
   "source": [
    "**CINVESTAV Unidad Saltillo**\n",
    "\n",
    "**Programa de Maestría en Ciencias en Ingeniería Metalúrgica**\n",
    "\n",
    "Dr. Edgar Ivan Castro Cedeño\n",
    "\n",
    "\n",
    "2025\n",
    "\n",
    "Contacto:\n",
    "[edgar.castro@cinvestav.mx](mailto:edgar.castro@cinvestav.mx)"
   ]
  },
  {
   "cell_type": "markdown",
   "metadata": {},
   "source": [
    "# 1 Reactores ideales. Características fluidinámicas y comportamiento químico"
   ]
  },
  {
   "cell_type": "markdown",
   "metadata": {},
   "source": [
    "La ecuación de balance de moles de un sistema con el término de generación/consumo escrito en forma integral, constituye el punto de partida para la ecuación de diseño para varios tipos de reactores industriales."
   ]
  },
  {
   "cell_type": "markdown",
   "metadata": {},
   "source": [
    "$$\\underbrace{\\frac{dN_j}{dt}}_{\\mathrm{Acumulación}} = \\underbrace{F_{j_0}}_{\\mathrm{Entradas}} - \\underbrace{F_{j}}_{\\mathrm{Salidas}} + \\underbrace{G_j}_{\\mathrm{Generación/Consumo}}$$"
   ]
  },
  {
   "cell_type": "markdown",
   "metadata": {},
   "source": [
    "$$\\underbrace{\\frac{dN_j}{dt}}_{\\mathrm{Acumulación}} = \\underbrace{F_{j_0}}_{\\mathrm{Entradas}} - \\underbrace{F_{j}}_{\\mathrm{Salidas}} + \\underbrace{\\int_{V} r_j dV}_{\\mathrm{Generación/Consumo}}$$"
   ]
  },
  {
   "cell_type": "markdown",
   "metadata": {},
   "source": [
    "$$\\frac{dN_j}{dt} = F_{j_0} - F_{j} + \\int_{V} r_j dV$$"
   ]
  },
  {
   "cell_type": "markdown",
   "metadata": {},
   "source": [
    "<details>\n",
    "<summary><b>Nomenclatura</b></summary>\n",
    "\n",
    "<div class=\"alert alert-info\">\n",
    "\n",
    "- **$\\frac{dN_j}{dt}$**: Tasa  de acumulación de la especie $j$ en el sistema, $[\\mathrm{mol.s^{-1}}]$.\n",
    "\n",
    "- **$F_{j_0}$**: Tasa  de flujo de entrada de la especie $j$ hacia el sistema, $[\\mathrm{mol.s^{-1}}]$.\n",
    "\n",
    "- **$F_{j_0}$**: Tasa  de flujo de salida de la especie $j$ desde el sistema, $[\\mathrm{mol.s^{-1}}]$.\n",
    "\n",
    "- **$r_{j}$**: Tasa de reacción de la especie $j$ por unidad de volumen (función indirecta de la posición en el sistema), $[\\mathrm{mol.m^{-3}.s^{-1}}]$.\n",
    "\n",
    "- **$dV$**: diferencial de volumen, $[\\mathrm{m^{3}}]$.\n",
    "\n",
    "</div>\n",
    "\n",
    "</details>"
   ]
  },
  {
   "cell_type": "markdown",
   "metadata": {},
   "source": [
    "## 1.1 Reactores Discontinuos (BR)"
   ]
  },
  {
   "cell_type": "markdown",
   "metadata": {},
   "source": [
    "### 1.1.1 Descripción"
   ]
  },
  {
   "cell_type": "markdown",
   "metadata": {},
   "source": [
    "El reactor discontinuo por lotes típico **(Batch Reactor)**, esquematizado en la ***Figura 1***, está constituido por un recipiente de almacenamiento, con una zona de carga, un agitador y un sistema integral de calentamiento/enfriado. En este reactor, los reactivos se cargan todos a la vez, y se descargan una vez que la reacción ha finalizado."
   ]
  },
  {
   "cell_type": "markdown",
   "metadata": {},
   "source": [
    "<center>\n",
    "\n",
    "<img src=\"figures/images/Fed_batch_reactor_FSTR.svg\" style=\"width:200px\" title=\"Batch Reactor\">\n",
    "\n",
    "***Figura 01. Representación de un reactor discontinuo (Batch Reactor).*** \n",
    "\n",
    "Tomado de: [YassineMrabet](https://commons.wikimedia.org/wiki/Category:Batch_reactors#/media/File:Fed_batch_reactor_FSTR.svg) \n",
    "\n",
    "</center>"
   ]
  },
  {
   "cell_type": "markdown",
   "metadata": {},
   "source": [
    "**Utilización típica:**\n",
    "\n",
    "- Operaciones en pequeña escala.\n",
    "- Productos de alto valor agregado.\n",
    "- Operaciones dificiles a convertir a operaciones continuas.\n",
    "\n",
    "**Ventajas:**\n",
    "\n",
    "- Conversiones elevadas (si los reactivos se dejan en el reactor por largo tiempo).\n",
    "\n",
    "**Desventajas:**\n",
    "\n",
    "- Costo elevado por lote.\n",
    "- Variabilidad de productos de lote a lote.\n",
    "- Dificultades para operar a gran escala."
   ]
  },
  {
   "cell_type": "markdown",
   "metadata": {},
   "source": [
    "### 1.1.2 Ecuación de diseño"
   ]
  },
  {
   "cell_type": "markdown",
   "metadata": {},
   "source": [
    "Un reactor batch no tiene entradas ni salidas, por lo que la ecuación de diseño general se modifica y queda de la forma:"
   ]
  },
  {
   "cell_type": "markdown",
   "metadata": {},
   "source": [
    "$$\\frac{dN_j}{dt} = \\cancel{F_{j_0} - F_{j}} + \\int_{V} r_j dV$$\n",
    "\n",
    "$$\\frac{dN_j}{dt} =  \\int_{V} r_j dV$$"
   ]
  },
  {
   "cell_type": "markdown",
   "metadata": {},
   "source": [
    "<details>\n",
    "<summary><b>Nomenclatura</b></summary>\n",
    "\n",
    "<div class=\"alert alert-info\">\n",
    "\n",
    "- **$\\frac{dN_j}{dt}$**: Tasa  de acumulación de la especie $j$ en el sistema, $[\\mathrm{mol.s^{-1}}]$.\n",
    "\n",
    "- **$r_{j}$**: Tasa de reacción de la especie $j$ por unidad de volumen (función indirecta de la posición en el sistema), $[\\mathrm{mol.m^{-3}.s^{-1}}]$.\n",
    "\n",
    "- **$dV$**: diferencial de volumen, $[\\mathrm{m^{3}}]$.\n",
    "\n",
    "</div>\n",
    "\n",
    "</details>"
   ]
  },
  {
   "cell_type": "markdown",
   "metadata": {},
   "source": [
    "Si se considera un reactor perfectamente agitado, en el que no hay variación espacial de las variables del sistema (e.g., temperatura, concentración de especies químicas, etc.), la tasa de reacción sera homogénea en todo el volumen del sistema. Entonces, el término $r_j$ se puede sacar de la integral, y la ecuación de diseño toma la forma:\n",
    "\n",
    "$$\\frac{dN_j}{dt} =  r_j V$$"
   ]
  },
  {
   "cell_type": "markdown",
   "metadata": {},
   "source": [
    "Tomando en cuenta que $N_j = C_j V$, si se considera la hipótesis de volumen constante, la ecuación se puede simplificar a:\n",
    "\n",
    "$$\\frac{d C_j}{dt} = r_j$$"
   ]
  },
  {
   "cell_type": "markdown",
   "metadata": {},
   "source": [
    "<details>\n",
    "<summary><b>Nomenclatura</b></summary>\n",
    "\n",
    "<div class=\"alert alert-info\">\n",
    "\n",
    "- **$\\frac{dN_j}{dt}$**: Tasa  de acumulación de la especie $j$ en el sistema, $[\\mathrm{mol.s^{-1}}]$.\n",
    "\n",
    "- **$r_{j}$**: Tasa de reacción de la especie $j$ por unidad de volumen, $[\\mathrm{mol.m^{-3}.s^{-1}}]$.\n",
    "\n",
    "- **$V$**: volumen del reactor, $[\\mathrm{m^{3}}]$.\n",
    "\n",
    "</div>\n",
    "\n",
    "</details>"
   ]
  },
  {
   "cell_type": "markdown",
   "metadata": {},
   "source": [
    "<details>\n",
    "<summary><b>Ecuación integral</b></summary>\n",
    "\n",
    "<div class=\"alert alert-success\">\n",
    "\n",
    "La ecuación de diseño en su forma integral se obtiene al integrar la ecuación con límites apropiados:\n",
    "\n",
    "$$\\frac{dN_j}{dt} =  r_j V$$\n",
    "\n",
    "$$\\int_{0}^{t} dt = \\int_{N_{\\mathrm{j_0}}}^{N_{\\mathrm{j}}} \\frac{dN_{\\mathrm{j}}}{r_{\\mathrm{j}} V}$$\n",
    "\n",
    "La ecuación resultante, indica el tiempo necesario, $t$, para que el número de moles de la especie $\\mathrm{j}$ cambie de $N_{\\mathrm{j_0}}$ a $N_{\\mathrm{j}}$.\n",
    "\n",
    "$$t = \\int_{N_{\\mathrm{j_0}}}^{N_{\\mathrm{j}}} \\frac{dN_{\\mathrm{j}}}{r_{\\mathrm{j}} V}$$\n",
    "\n",
    "---\n",
    "Para el caso de volumen constante, se tiene:\n",
    "\n",
    "$$\\frac{d C_j}{dt} = r_j$$\n",
    "\n",
    "$$\\int_{0}^{t} dt = \\int_{C_{\\mathrm{j_0}}}^{C_{\\mathrm{j}}} \\frac{dC_{\\mathrm{j}}}{r_{\\mathrm{j}}}$$\n",
    "\n",
    "La ecuación resultante, indica el tiempo necesario, $t$, para que la concentración de la especie $\\mathrm{j}$ cambie de $C_{\\mathrm{j_0}}$ a $C_{\\mathrm{j}}$.\n",
    "\n",
    "$$t = \\int_{C_{\\mathrm{j_0}}}^{C_{\\mathrm{j}}} \\frac{dC_{\\mathrm{j}}}{r_{\\mathrm{j}}}$$\n",
    "\n",
    "\n",
    "</div>\n",
    "\n",
    "</details>"
   ]
  },
  {
   "cell_type": "markdown",
   "metadata": {},
   "source": [
    "### 1.1.3 Ecuación de diseño en términos de la conversión"
   ]
  },
  {
   "cell_type": "markdown",
   "metadata": {},
   "source": [
    "La ecuación de diseño, en términos del reactivo limitante se escribe:\n",
    "\n",
    "$$\\frac{dN_{\\mathrm{A}}}{dt} =  r_{\\mathrm{A}} V$$"
   ]
  },
  {
   "cell_type": "markdown",
   "metadata": {},
   "source": [
    "Para escribir la ecuación de diseño en términos de la conversión, primeramente se efectúa un balance molar de la especie $\\mathrm{A}$ al tiempo $t$, en función de la conversión:\n",
    "\n",
    "\n",
    "$$N_{\\mathrm{A}} = \\underbrace{N_{\\mathrm{A}_0}}_{\\mathrm{iniciales}} - \\underbrace{N_{\\mathrm{A}_0} X_{A}}_{\\mathrm{consumidos}} = N_{\\mathrm{A}_0} \\left(1 - X\\right)$$"
   ]
  },
  {
   "cell_type": "markdown",
   "metadata": {},
   "source": [
    "Diferenciando la expresión con respecto al tiempo se tiene:\n",
    "\n",
    "$$\\frac{dN_{\\mathrm{A}}}{dt} = -N_{\\mathrm{A}_0} \\frac{d X}{dt}$$"
   ]
  },
  {
   "cell_type": "markdown",
   "metadata": {},
   "source": [
    "Igualando la expresión de la ecuación de diseño y la expresión de conversión se tiene:\n",
    "\n",
    "$$N_{\\mathrm{A}_0} \\frac{d X}{dt} = -r_{\\mathrm{A}} V$$"
   ]
  },
  {
   "cell_type": "markdown",
   "metadata": {},
   "source": [
    "<details>\n",
    "<summary><b>Nomenclatura</b></summary>\n",
    "\n",
    "<div class=\"alert alert-info\">\n",
    "\n",
    "- **$N_{\\mathrm{A}_0}$**: Cantidad inicial del reactivo limitante $\\mathrm{A}$, en $[\\mathrm{mol}]$.\n",
    "\n",
    "- **$\\frac{dX}{dt}$**: tasa / velocidad de conversión del reactivo limitante $\\mathrm{A}$, $[\\,]$.\n",
    "\n",
    "- **$r_{\\mathrm{A}}$**: Tasa de reacción del reactivo limitante $\\mathrm{A}$ por unidad de volumen, $[\\mathrm{mol.m^{-3}.s^{-1}}]$.\n",
    "\n",
    "- **$V$**: volumen del reactor, $[\\mathrm{m^{3}}]$.\n",
    "\n",
    "</div>\n",
    "\n",
    "</details>"
   ]
  },
  {
   "cell_type": "markdown",
   "metadata": {},
   "source": [
    "<details>\n",
    "<summary><b>Ecuación integral</b></summary>\n",
    "\n",
    "<div class=\"alert alert-success\">\n",
    "\n",
    "La ecuación de diseño en su forma integral se obtiene al integrar la ecuación con los límites:\n",
    "\n",
    "\n",
    "$$\\int_{0}^{t} dt = N_{\\mathrm{A}_0} \\int_{0}^{X} \\frac{dX}{-r_{\\mathrm{A}} V}$$\n",
    "\n",
    "La ecuación resultante, indica el tiempo necesario, $t$, para lograr una conversión dada, $X$ en el reactor.\n",
    "\n",
    "$$t = N_{\\mathrm{A}_0} \\int_{0}^{X} \\frac{dX}{-r_{\\mathrm{A}} V}$$\n",
    "\n",
    "</div>\n",
    "\n",
    "</details>"
   ]
  },
  {
   "cell_type": "markdown",
   "metadata": {},
   "source": [
    "## 1.2 Reactor Agitado de Flujo Continuo (CSTR)"
   ]
  },
  {
   "cell_type": "markdown",
   "metadata": {},
   "source": [
    "### 1.2.1 Descripción"
   ]
  },
  {
   "cell_type": "markdown",
   "metadata": {},
   "source": [
    "El reactor agitado de flujo continuo **(Continuous Stirred Tank Reactor)**, esquematizado en la ***Figura 2***, está constituido por un recipiente de almacenamiento, con zonas de carga y descarga, un agitador y un sistema integral de calentamiento/enfriado. Cuando este reactor opera en régimen estacionario, los flujos de carga y descarga están equilibrados."
   ]
  },
  {
   "cell_type": "markdown",
   "metadata": {},
   "source": [
    "<center>\n",
    "\n",
    "<img src=\"figures/images/Continuous_bach_reactor_CSTR.svg\" style=\"width:250px\" title=\"Continuous Stirred Tank Reactor\">\n",
    "\n",
    "***Figura 02. Representación de un reactor agitado de flujo continuo (Continuous-Stirred Tank Reactor).*** \n",
    "\n",
    "Tomado de: [YassineMrabet](https://commons.wikimedia.org/wiki/File:Continuous_bach_reactor_CSTR.svg)\n",
    "\n",
    "</center>"
   ]
  },
  {
   "cell_type": "markdown",
   "metadata": {},
   "source": [
    "**Utilización típica:**\n",
    "\n",
    "- Operaciones en escala industrial.\n",
    "- Reacciones en fase líquida.\n",
    "\n",
    "**Ventajas:**\n",
    "\n",
    "- Operación continua.\n",
    "- Mezclado eficiente.\n",
    "- Temperatura y composición uniformes.\n",
    "- Buena escalabilidad.\n",
    "\n",
    "**Desventajas:**\n",
    "\n",
    "- Dificultades para operar procesos con cinética ralentizada."
   ]
  },
  {
   "cell_type": "markdown",
   "metadata": {},
   "source": [
    "### 1.2.2 Ecuación de Diseño"
   ]
  },
  {
   "cell_type": "markdown",
   "metadata": {},
   "source": [
    "Cuando el reactor opera en régimen estacionario, se desprecia el término transitorio en la ecuación de diseño general:\n",
    "\n",
    "$$\\cancel{\\frac{dN_j}{dt}} = F_{j_0} - F_{j} + \\int_{V} r_j dV$$\n",
    "\n",
    "$$F_{j_0} - F_{j} = -\\int_{V} r_j dV$$"
   ]
  },
  {
   "cell_type": "markdown",
   "metadata": {},
   "source": [
    "<details>\n",
    "<summary><b>Nomenclatura</b></summary>\n",
    "\n",
    "<div class=\"alert alert-info\">\n",
    "\n",
    "- **$\\frac{dN_j}{dt}$**: Tasa  de acumulación de la especie $j$ en el sistema, $[\\mathrm{mol.s^{-1}}]$.\n",
    "\n",
    "- **$F_{j_0}$**: Tasa  de flujo de entrada de la especie $j$ hacia el sistema, $[\\mathrm{mol.s^{-1}}]$.\n",
    "\n",
    "- **$F_{j_0}$**: Tasa  de flujo de salida de la especie $j$ desde el sistema, $[\\mathrm{mol.s^{-1}}]$.\n",
    "\n",
    "- **$r_{j}$**: Tasa de reacción de la especie $j$ por unidad de volumen (función indirecta de la posición en el sistema), $[\\mathrm{mol.m^{-3}.s^{-1}}]$.\n",
    "\n",
    "- **$dV$**: diferencial de volumen, $[\\mathrm{m^{3}}]$.\n",
    "\n",
    "</div>\n",
    "\n",
    "</details>"
   ]
  },
  {
   "cell_type": "markdown",
   "metadata": {},
   "source": [
    "Si se considera un reactor perfectamente agitado, en el que no hay variación espacial de las variables del sistema (e.g., temperatura, concentración de especies químicas, etc.), la tasa de reacción sera homogénea en todo el volumen del sistema. Entonces, el término $r_j$ se puede sacar de la integral, y la ecuación de diseño toma la forma:\n",
    "\n",
    "$$F_{j_0} - F_{j} = -r_j V$$"
   ]
  },
  {
   "cell_type": "markdown",
   "metadata": {},
   "source": [
    "Notese que la ecuación resultante es una ecuación algebráica que permite estimar el volumen de reactor necesario para convertir el flujo entrante de la especie $\\mathrm{j}$, $F_{\\mathrm{j_0}}$ al flujo molar a la salida $F_{\\mathrm{j}}$. \n",
    "\n",
    "$$V = \\frac{F_{j_0} - F_{j}}{-r_j}$$"
   ]
  },
  {
   "cell_type": "markdown",
   "metadata": {},
   "source": [
    "El flujo molar se puede expresar como: $F_{\\mathrm{j}} = {\\dot{Q}} \\cdot C_{\\mathrm{j}}$. Tomando esto en cuenta, la ecuación de diseño se puede escribir como:\n",
    "\n",
    "$$V = \\frac{\\dot{Q} (C_{\\mathrm{j_0}} - C_{\\mathrm{j}})}{-r_{\\mathrm{j}}}$$"
   ]
  },
  {
   "cell_type": "markdown",
   "metadata": {},
   "source": [
    "<details>\n",
    "<summary><b>Nomenclatura</b></summary>\n",
    "\n",
    "<div class=\"alert alert-info\">\n",
    "\n",
    "- **$V$**: Volumen del reactor CSTR, $[\\mathrm{m^{3}}]$.\n",
    "\n",
    "- **$\\dot{Q}$**: Flujo volumétrico, $[\\mathrm{m^3.s^{-1}}]$.\n",
    "\n",
    "- **$C_{\\mathrm{j_0}}$**: Concentración a la entrada de la especie $\\mathrm{j}$, $[\\mathrm{mol.m^{-3}}]$.\n",
    "\n",
    "- **$C_{\\mathrm{j}}$**: Concentración a la salida de la especie $j$, $[\\mathrm{mol.m^{-3}}]$.\n",
    "\n",
    "- **$r_{j}$**: Tasa de reacción de la especie $j$ por unidad de volumen, $[\\mathrm{mol.m^{-3}.s^{-1}}]$.\n",
    "\n",
    "</div>\n",
    "\n",
    "</details>"
   ]
  },
  {
   "cell_type": "markdown",
   "metadata": {},
   "source": [
    "### 1.2.3 Ecuación de diseño en términos de la conversión"
   ]
  },
  {
   "cell_type": "markdown",
   "metadata": {},
   "source": [
    "La ecuación de diseño, en términos del reactivo limitante se escribe:\n",
    "\n",
    "$$V = \\frac{F_{\\mathrm{A}_0} - F_{A}}{-r_{\\mathrm{A}}}$$"
   ]
  },
  {
   "cell_type": "markdown",
   "metadata": {},
   "source": [
    "Sobre esa misma ecuación, se reescribe $F_{\\mathrm{A}}$ en función de $F_{\\mathrm{A}_0}$ y la conversión $X$:\n",
    "\n",
    "$$V = \\frac{F_{\\mathrm{A}_0} - \\overbrace{\\left(F_{\\mathrm{A}_0} - F_{\\mathrm{A}_0} X\\right)}^{F_{\\mathrm{A}}}}{-r_{\\mathrm{A}}}$$\n",
    "\n"
   ]
  },
  {
   "cell_type": "markdown",
   "metadata": {},
   "source": [
    "Simplificando se tiene:\n",
    "\n",
    "$$V = \\frac{F_{\\mathrm{A}_0} X}{-r_{\\mathrm{A}}}$$\n",
    "\n",
    "o \n",
    "\n",
    "$$V = \\frac{\\dot{Q} C_{\\mathrm{A}_0} X}{-r_{\\mathrm{A}}}$$"
   ]
  },
  {
   "cell_type": "markdown",
   "metadata": {},
   "source": [
    "<details>\n",
    "<summary><b>Nomenclatura</b></summary>\n",
    "\n",
    "<div class=\"alert alert-info\">\n",
    "\n",
    "- **$V$**: Volumen del reactor CSTR, $[\\mathrm{m^{3}}]$.\n",
    "\n",
    "- **$F_{\\mathrm{A_0}}$**: Flujo molar del reactivo limitante a la entrada del reactor, $[\\mathrm{mol.s^{-1}}]$.\n",
    "\n",
    "- **$\\dot{Q}$**: Flujo volumétrico, $[\\mathrm{m^3.s^{-1}}]$.\n",
    "\n",
    "- **$C_{\\mathrm{A_0}}$**: Concentración a la entrada del reactivo limitante, $[\\mathrm{mol.m^{-3}}]$.\n",
    "\n",
    "- **$X$**: Conversión del reactivo limitante.\n",
    "\n",
    "- **$r_{\\mathrm{A}}$**: Tasa de reacción del reactivo limitante $\\mathrm{A}$ por unidad de volumen, $[\\mathrm{mol.m^{-3}.s^{-1}}]$.\n",
    "\n",
    "</div>\n",
    "\n",
    "</details>"
   ]
  },
  {
   "cell_type": "markdown",
   "metadata": {},
   "source": [
    "Dado que se utiliza la hipótesis del reactor perfectamente agitado, la composición a la salida debe ser la misma que la composición al interior del reactor. De tal forma que la tasa de reacción, $r_{\\mathrm{A}}$ se evalua a la salida del reactor."
   ]
  },
  {
   "cell_type": "markdown",
   "metadata": {},
   "source": [
    "## 1.3 Reactor de Flujo Pistón (PFR)"
   ]
  },
  {
   "cell_type": "markdown",
   "metadata": {},
   "source": [
    "### 1.3.1 Descripción"
   ]
  },
  {
   "cell_type": "markdown",
   "metadata": {},
   "source": [
    "El reactor tubular de flujo pistón **(Plug Flow Reactor)**, esquematizado en la ***Figura 3***, está constituido por una geometría tubular en la que los reactivos entran por un lado y a medida que se desplazan sobre el eje axial son consumidos y la conversión se incrementa al desplazarse sobre la longitud del reactor. La hipótesis de flujo pistón consiste en despreciar los gradientes de concentración, temperatura, etc. en la dirección radial."
   ]
  },
  {
   "cell_type": "markdown",
   "metadata": {},
   "source": [
    "<center>\n",
    "\n",
    "<img src=\"figures/images/ReactorPlugFlow.svg\" style=\"width:450px\" title=\"Plug Flow Reactor\">\n",
    "\n",
    "***Figura 03. Representación de un reactor de flujo pistón (Plug Flow Reactor).*** \n",
    "\n",
    "[Creative Commons](https://commons.wikimedia.org/wiki/Category:Plug_flow_reactors#/media/File:ReactorPlugFlow.svg)\n",
    "\n",
    "</center>"
   ]
  },
  {
   "cell_type": "markdown",
   "metadata": {},
   "source": [
    "**Utilización típica:**\n",
    "\n",
    "- Operaciones en escala industrial.\n",
    "\n",
    "**Ventajas:**\n",
    "\n",
    "- Operación continua.\n",
    "- Adecuados para operar procesos con cinética rápida.\n",
    "- Diseño compacto.\n",
    "- Poco mantenimiento (sin partes moviles).\n",
    "\n",
    "**Desventajas:**\n",
    "\n",
    "- Costo operativo mayor a los CSTR.\n",
    "- Control de temperaturas / estratificación térmica."
   ]
  },
  {
   "cell_type": "markdown",
   "metadata": {},
   "source": [
    "### 1.3.2 Ecuación de Diseño"
   ]
  },
  {
   "cell_type": "markdown",
   "metadata": {},
   "source": [
    "Cuando el reactor opera en régimen estacionario, se desprecia el término transitorio en la ecuación de diseño general:\n",
    "\n",
    "$$\\cancel{\\frac{dN_j}{dt}} = F_{j_0} - F_{j} + \\int_{V} r_j dV$$\n",
    "\n",
    "$$F_{j_0} - F_{j} = -\\int_{V} r_j dV$$"
   ]
  },
  {
   "cell_type": "markdown",
   "metadata": {},
   "source": [
    "<details>\n",
    "<summary><b>Nomenclatura</b></summary>\n",
    "\n",
    "<div class=\"alert alert-info\">\n",
    "\n",
    "- **$\\frac{dN_j}{dt}$**: Tasa  de acumulación de la especie $j$ en el sistema, $[\\mathrm{mol.s^{-1}}]$.\n",
    "\n",
    "- **$F_{j_0}$**: Tasa  de flujo de entrada de la especie $j$ hacia el sistema, $[\\mathrm{mol.s^{-1}}]$.\n",
    "\n",
    "- **$F_{j_0}$**: Tasa  de flujo de salida de la especie $j$ desde el sistema, $[\\mathrm{mol.s^{-1}}]$.\n",
    "\n",
    "- **$r_{j}$**: Tasa de reacción de la especie $j$ por unidad de volumen (función indirecta de la posición en el sistema), $[\\mathrm{mol.m^{-3}.s^{-1}}]$.\n",
    "\n",
    "- **$dV$**: diferencial de volumen, $[\\mathrm{m^{3}}]$.\n",
    "\n",
    "</div>\n",
    "\n",
    "</details>"
   ]
  },
  {
   "cell_type": "markdown",
   "metadata": {},
   "source": [
    "La ecuación del reactor PFR que se muestra debajo, se puede obtener por dos métodos distintos: **(1)** mediante diferenciación de la ecuación general en régimen estacionario con respecto al volumen, o **(2)** efectuado un balance de moles en un segmento diferencial a lo largo del volumen del reactor.\n",
    "\n",
    "$$\\frac{dF_{j}}{dV} = r_j$$"
   ]
  },
  {
   "cell_type": "markdown",
   "metadata": {},
   "source": [
    "<details>\n",
    "<summary><b>Nomenclatura</b></summary>\n",
    "\n",
    "<div class=\"alert alert-info\">\n",
    "\n",
    "- **$\\frac{dF_j}{dV}$**: Diferencial de flujo molar de la especie $\\mathrm{j}$ con respecto al volumen del reactor, $[\\mathrm{mol.m^{-3}.s^{-1}}]$.\n",
    "\n",
    "- **$r_{j}$**: Tasa de reacción de la especie $j$ por unidad de volumen (función indirecta de la posición en el sistema), $[\\mathrm{mol.m^{-3}.s^{-1}}]$.\n",
    "\n",
    "</div>\n",
    "\n",
    "</details>"
   ]
  },
  {
   "cell_type": "markdown",
   "metadata": {},
   "source": [
    "<details>\n",
    "<summary><b>Método 1: Diferenciación de la ecuación general de balance de moles respecto al volumen</b></summary>\n",
    "\n",
    "<div class=\"alert alert-info\">\n",
    "\n",
    "La ecuación  general de diseño de reactores en régimen estacionario es:\n",
    "\n",
    "$$F_{j_0} - F_{j} = -\\int_{V} r_j dV$$\n",
    "\n",
    "La diferenciación con respecto al volumen se escribe:\n",
    "\n",
    "$$\\frac{d}{dV}(F_{j_0}) - \\frac{d}{dV}(F_{j}) = -\\frac{d}{dV}\\left(\\int_{V} r_j dV \\right)$$\n",
    "\n",
    "Finalmente:\n",
    "\n",
    "$$\\frac{dF_{j}}{dV} = r_j$$\n",
    "\n",
    "</div>\n",
    "\n",
    "</details>"
   ]
  },
  {
   "cell_type": "markdown",
   "metadata": {},
   "source": [
    "\n",
    "<details>\n",
    "<summary><b>Método 2: Balance de moles en un segmento diferencial a lo largo del volumen del reactor</b></summary>\n",
    "\n",
    "<div class=\"alert alert-info\">\n",
    "\n",
    "Se considera un volumen diferencial, como se muestra en la ***Figura 3a***, suficientemente pequeño como para poder despreciar las variaciones espaciales en la tasa de reacción, $r$, dentro del volumen diferencial.\n",
    "\n",
    "<center>\n",
    "\n",
    "<img src=\"figures/images/Pipe-PFR.svg\" style=\"width:300px\" title=\"Plug Flow Reactor\">\n",
    "\n",
    "***Figura 03a. Representación de un reactor de flujo pistón (Plug Flow Reactor).*** \n",
    "\n",
    "[Creative Commons](https://commons.wikimedia.org/wiki/File:Pipe-PFR.svg)\n",
    "\n",
    "</center>\n",
    "\n",
    "El balance molar para el volumen diferencial se escribe:\n",
    "\n",
    "$$\\underbrace{0}_{\\mathrm{acumulación}} = \\underbrace{\\left.F_{\\mathrm{j]}}\\right|_{V}}_{\\mathrm{entradas}} - \\underbrace{\\left.F_{\\mathrm{j]}}\\right|_{V+\\Delta V}}_{\\mathrm{salidas}} + \\underbrace{r_{\\mathrm{j}} \\Delta V}_{\\mathrm{generación}} $$\n",
    "\n",
    "Reacomodando, dividiendo entre $\\Delta V$, y aplicando el límite cuando cuando el volumen diferencial tiende a cero, se tiene:\n",
    "\n",
    "$$\\lim_{\\Delta V \\rightarrow 0} \\left[\\frac{\\left.F_{\\mathrm{j]}}\\right|_{V+\\Delta V} - \\left.F_{\\mathrm{j]}}\\right|_{V}}{\\Delta V}\\right] = r_{\\mathrm{j}}$$\n",
    "\n",
    "$$\\frac{dF{\\mathrm{j}}}{dV} = r_{\\mathrm{j}}$$\n",
    "</div>\n",
    "\n",
    "</details>"
   ]
  },
  {
   "cell_type": "markdown",
   "metadata": {},
   "source": [
    "### 1.3.3 Ecuación de diseño en términos de la conversión"
   ]
  },
  {
   "cell_type": "markdown",
   "metadata": {},
   "source": [
    "La ecuación de diseño, en términos del reactivo limitante se escribe:\n",
    "\n",
    "$$\\frac{dF_{\\mathrm{A}}}{dV} =  r_{\\mathrm{A}}$$"
   ]
  },
  {
   "cell_type": "markdown",
   "metadata": {},
   "source": [
    "Recordando que el flujo molar se puede escribir en términos del flujo molar de entrada $F_{\\mathrm{A}_0}$ y la conversión $X$\n",
    "\n",
    "$$F_{\\mathrm{A}} = F_{\\mathrm{A}_0}- F_{\\mathrm{A}_0} X$$\n",
    "\n",
    "$$dF_{\\mathrm{A}} = - F_{\\mathrm{A}_0} dX$$"
   ]
  },
  {
   "cell_type": "markdown",
   "metadata": {},
   "source": [
    "Y sustituyendo el diferencial en la ecuación de diseño, se tiene:\n",
    "\n",
    "$$F_{\\mathrm{A}_0} \\frac{dX}{dV} = - r_{\\mathrm{A}}$$"
   ]
  },
  {
   "cell_type": "markdown",
   "metadata": {},
   "source": [
    "<details>\n",
    "<summary><b>Nomenclatura</b></summary>\n",
    "\n",
    "<div class=\"alert alert-info\">\n",
    "\n",
    "- **$F_{\\mathrm{A}_0}$**: Flujo molar inicial del reactivo limitante $\\mathrm{A}$, en $[\\mathrm{mol.s^{-1}}]$.\n",
    "\n",
    "- **$\\frac{dX}{dV}$**: derivada de conversión con respecto al volúmen, $[\\mathrm{m^{-3}}]$.\n",
    "\n",
    "- **$r_{\\mathrm{A}}$**: Tasa de reacción del reactivo limitante $\\mathrm{A}$ por unidad de volumen, $[\\mathrm{mol.m^{-3}.s^{-1}}]$.\n",
    "\n",
    "</div>\n",
    "\n",
    "</details>"
   ]
  },
  {
   "cell_type": "markdown",
   "metadata": {},
   "source": [
    "<details>\n",
    "<summary><b>Ecuación integral</b></summary>\n",
    "\n",
    "<div class=\"alert alert-success\">\n",
    "\n",
    "La ecuación de diseño en su forma integral se obtiene al integrar la ecuación con los límites:\n",
    "\n",
    "\n",
    "$$\\int_{0}^{V} dV = F_{\\mathrm{A}_0} \\int_{0}^{X} \\frac{dX}{-r_{\\mathrm{A}}}$$\n",
    "\n",
    "La ecuación resultante, indica el volumen de reactor necesario, $V$, para lograr una conversión dada, $X$.\n",
    "\n",
    "$$V = F_{\\mathrm{A}_0} \\int_{0}^{X} \\frac{dX}{-r_{\\mathrm{A}}}$$\n",
    "\n",
    "</div>\n",
    "\n",
    "</details>"
   ]
  },
  {
   "cell_type": "markdown",
   "metadata": {},
   "source": [
    "## 1.4 Reactor de Lecho Empacado (PBR)"
   ]
  },
  {
   "cell_type": "markdown",
   "metadata": {},
   "source": [
    "### 1.4.1 Descripción"
   ]
  },
  {
   "cell_type": "markdown",
   "metadata": {},
   "source": [
    "El reactor de lecho empacado (Packed Bed Reactor), esquematizdo en la ***Figura 4***, es un reactor tubular relleno de partículas de catalizador. En los reactores PBR el peso del catalizador, $W$ es la variable de interés en lugar del volumen, $V$."
   ]
  },
  {
   "cell_type": "markdown",
   "metadata": {},
   "source": [
    "<center>\n",
    "\n",
    "<img src=\"figures/images/ReactorPackedBed.svg\" style=\"width:400px\" title=\"Packed Bed Reactor\">\n",
    "\n",
    "***Figura 04. Representación de un reactor de lecho empacado (Packed Bed Reactor).*** \n",
    "\n",
    "</center>"
   ]
  },
  {
   "cell_type": "markdown",
   "metadata": {},
   "source": [
    "### 1.4.2 Ecuación de diseño"
   ]
  },
  {
   "cell_type": "markdown",
   "metadata": {},
   "source": [
    "En un rector de lecho empacado, la reacción ocurre en la superficie de un catalizador. Entonces la tasa de reacción se debe basar en la masa del catalizador, $W$, en lugar del volumen del reactor $V$.\n"
   ]
  },
  {
   "cell_type": "markdown",
   "metadata": {},
   "source": [
    "$$\\frac{dN_j}{dt} = F_{j_0} - F_{j} + \\int_{W} r^{\\prime}_j dW$$"
   ]
  },
  {
   "cell_type": "markdown",
   "metadata": {},
   "source": [
    "<details>\n",
    "<summary><b>Nomenclatura</b></summary>\n",
    "\n",
    "<div class=\"alert alert-info\">\n",
    "\n",
    "- **$\\frac{dN_j}{dt}$**: Tasa  de acumulación de la especie $j$ en el sistema, $[\\mathrm{mol.s^{-1}}]$.\n",
    "\n",
    "- **$F_{j_0}$**: Tasa  de flujo de entrada de la especie $j$ hacia el sistema, $[\\mathrm{mol.s^{-1}}]$.\n",
    "\n",
    "- **$F_{j_0}$**: Tasa  de flujo de salida de la especie $j$ desde el sistema, $[\\mathrm{mol.s^{-1}}]$.\n",
    "\n",
    "- **$r^{\\prime}_{j}$**: Tasa de reacción de la especie $j$ por unidad de masa del catalizador (función indirecta de la posición en el sistema), $[\\mathrm{mol.kg^{-1}.s^{-1}}]$.\n",
    "\n",
    "- **$dW$**: diferencial de masa de catalizador, $[\\mathrm{kg}]$.\n",
    "\n",
    "</div>\n",
    "\n",
    "</details>"
   ]
  },
  {
   "cell_type": "markdown",
   "metadata": {},
   "source": [
    "La derivación de la ecuación para un reactor de lecho empacado se lleva a cabo de forma análoga a la derivación para el reactor en flujo pistón:\n",
    "\n",
    "$$\\cancel{\\frac{dN_j}{dt}} = F_{j_0} - F_{j} + \\int_{W} r^{\\prime}_j dW$$\n",
    "\n",
    "$$F_{j_0} - F_{j} = - \\int_{W} r^{\\prime}_j dW$$\n"
   ]
  },
  {
   "cell_type": "markdown",
   "metadata": {},
   "source": [
    "La ecuación del reactor PBR que se muestra debajo, se puede obtener por dos métodos distintos: **(1)** mediante diferenciación de la ecuación general en régimen estacionario con respecto a la masa, o **(2)** efectuado un balance de moles en un segmento diferencial de masa de catalizador en el reactor.\n",
    "\n",
    "$$\\frac{dF_{j}}{dW} = r^{\\prime}_j$$"
   ]
  },
  {
   "cell_type": "markdown",
   "metadata": {},
   "source": [
    "<details>\n",
    "<summary><b>Nomenclatura</b></summary>\n",
    "\n",
    "<div class=\"alert alert-info\">\n",
    "\n",
    "- **$\\frac{dF_j}{dV}$**: Diferencial de flujo molar de la especie $\\mathrm{j}$ con respecto a la masa de catalizador, $[\\mathrm{mol.kg^{-1}.s^{-1}}]$.\n",
    "\n",
    "- **$r^{\\prime}_{j}$**: Tasa de reacción de la especie $j$ por unidad de masa de catalizador, $[\\mathrm{mol.kg^{-1}.s^{-1}}]$.\n",
    "\n",
    "</div>\n",
    "\n",
    "</details>"
   ]
  },
  {
   "cell_type": "markdown",
   "metadata": {},
   "source": [
    "<details>\n",
    "<summary><b>Método 1: Diferenciación de la ecuación general de balance de moles respecto a la masa de catalizador</b></summary>\n",
    "\n",
    "<div class=\"alert alert-info\">\n",
    "\n",
    "La ecuación  general de diseño de reactores en régimen estacionario es:\n",
    "\n",
    "$$F_{j_0} - F_{j} = - \\int_{W} r^{\\prime}_j dW$$\n",
    "\n",
    "La diferenciación con respecto a la masa de catalizador se escribe:\n",
    "\n",
    "$$\\frac{d}{dW}(F_{j_0}) - \\frac{d}{dW}(F_{j}) = -\\frac{d}{dW}\\left(\\int_{W} r^{\\prime}_j dW \\right)$$\n",
    "\n",
    "Finalmente:\n",
    "\n",
    "$$\\frac{dF_{j}}{dW} = r^{\\prime}_j$$\n",
    "\n",
    "</div>\n",
    "\n",
    "</details>"
   ]
  },
  {
   "cell_type": "markdown",
   "metadata": {},
   "source": [
    "\n",
    "<details>\n",
    "<summary><b>Método 2: Balance de moles en un segmento diferencial a lo largo del volumen del reactor</b></summary>\n",
    "\n",
    "<div class=\"alert alert-info\">\n",
    "\n",
    "Se considera una masa de catalizador diferencial, suficientemente pequeño como para poder despreciar las variaciones espaciales en la tasa de reacción, $r^{\\prime}$.\n",
    "\n",
    "\n",
    "El balance molar para el elemento diferencial de masa de catalizador se escribe:\n",
    "\n",
    "$$\\underbrace{0}_{\\mathrm{acumulación}} = \\underbrace{\\left.F_{\\mathrm{j]}}\\right|_{W}}_{\\mathrm{entradas}} - \\underbrace{\\left.F_{\\mathrm{j]}}\\right|_{W+\\Delta W}}_{\\mathrm{salidas}} + \\underbrace{r_{\\mathrm{j}}^{\\prime} \\Delta W}_{\\mathrm{generación}} $$\n",
    "\n",
    "Reacomodando, dividiendo entre $\\Delta W$, y aplicando el límite cuando cuando la masa diferencial de catalizador tiende a cero, se tiene:\n",
    "\n",
    "$$\\lim_{\\Delta W \\rightarrow 0} \\left[\\frac{\\left.F_{\\mathrm{j]}}\\right|_{W+\\Delta W} - \\left.F_{\\mathrm{j]}}\\right|_{W}}{\\Delta W}\\right] = r_{\\mathrm{j}}^{\\prime}$$\n",
    "\n",
    "$$\\frac{dF{\\mathrm{j}}}{dW} = r_{\\mathrm{j}}^{\\prime}$$\n",
    "</div>\n",
    "\n",
    "</details>"
   ]
  },
  {
   "cell_type": "markdown",
   "metadata": {},
   "source": [
    "### 1.4.3 Ecuación de diseño en términos de la conversión"
   ]
  },
  {
   "cell_type": "markdown",
   "metadata": {},
   "source": [
    "La ecuación de diseño, en términos del reactivo limitante se escribe:\n",
    "\n",
    "$$\\frac{dF_{\\mathrm{A}}}{dW} =  r_{\\mathrm{A}}^{\\prime}$$"
   ]
  },
  {
   "cell_type": "markdown",
   "metadata": {},
   "source": [
    "Recordando que el flujo molar se puede escribir en términos del flujo molar de entrada $F_{\\mathrm{A}_0}$ y la conversión $X$\n",
    "\n",
    "$$F_{\\mathrm{A}} = F_{\\mathrm{A}_0}- F_{\\mathrm{A}_0} X$$\n",
    "\n",
    "$$dF_{\\mathrm{A}} = - F_{\\mathrm{A}_0} dX$$"
   ]
  },
  {
   "cell_type": "markdown",
   "metadata": {},
   "source": [
    "Y sustituyendo el diferencial en la ecuación de diseño, se tiene:\n",
    "\n",
    "$$F_{\\mathrm{A}_0} \\frac{dX}{dW} = - r_{\\mathrm{A}}^{\\prime}$$"
   ]
  },
  {
   "cell_type": "markdown",
   "metadata": {},
   "source": [
    "<details>\n",
    "<summary><b>Nomenclatura</b></summary>\n",
    "\n",
    "<div class=\"alert alert-info\">\n",
    "\n",
    "- **$F_{\\mathrm{A}_0}$**: Flujo molar inicial del reactivo limitante $\\mathrm{A}$, en $[\\mathrm{mol.s^{-1}}]$.\n",
    "\n",
    "- **$\\frac{dX}{dW}$**: derivada de conversión con respecto a la masa de catalizador, $[\\mathrm{kg^{-1}}]$.\n",
    "\n",
    "- **$r_{\\mathrm{A}}^{\\prime}$**: Tasa de reacción del reactivo limitante $\\mathrm{A}$ por unidad de masa de catalizador, $[\\mathrm{mol.kg^{-1}.s^{-1}}]$.\n",
    "\n",
    "</div>\n",
    "\n",
    "</details>"
   ]
  },
  {
   "cell_type": "markdown",
   "metadata": {},
   "source": [
    "<details>\n",
    "<summary><b>Ecuación integral</b></summary>\n",
    "\n",
    "<div class=\"alert alert-success\">\n",
    "\n",
    "La ecuación de diseño en su forma integral se obtiene al integrar la ecuación con los límites:\n",
    "\n",
    "\n",
    "$$\\int_{0}^{W} dW = F_{\\mathrm{A}_0} \\int_{0}^{X} \\frac{dX}{-r_{\\mathrm{A}}^{\\prime}}$$\n",
    "\n",
    "La ecuación resultante, la masa de catalizador necesario, $W$, para lograr una conversión dada, $X$.\n",
    "\n",
    "$$W = F_{\\mathrm{A}_0} \\int_{0}^{X} \\frac{dX}{-r_{\\mathrm{A}}^{\\prime}}$$\n",
    "\n",
    "</div>\n",
    "\n",
    "</details>"
   ]
  },
  {
   "cell_type": "markdown",
   "metadata": {},
   "source": []
  }
 ],
 "metadata": {
  "kernelspec": {
   "display_name": "Python 3",
   "language": "python",
   "name": "python3"
  },
  "language_info": {
   "codemirror_mode": {
    "name": "ipython",
    "version": 3
   },
   "file_extension": ".py",
   "mimetype": "text/x-python",
   "name": "python",
   "nbconvert_exporter": "python",
   "pygments_lexer": "ipython3",
   "version": "3.10.12"
  }
 },
 "nbformat": 4,
 "nbformat_minor": 2
}
